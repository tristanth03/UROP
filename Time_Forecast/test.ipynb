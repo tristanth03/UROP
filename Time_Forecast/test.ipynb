{
 "cells": [
  {
   "cell_type": "code",
   "execution_count": 22,
   "metadata": {},
   "outputs": [
    {
     "data": {
      "text/plain": [
       "1-element Vector{Tuple{Matrix{Float64}, Vector{Int64}}}:\n",
       " ([0.125 0.25 … 0.875 1.0], [10, 21, 30, 30, 29, 40, 33, 45])"
      ]
     },
     "metadata": {},
     "output_type": "display_data"
    }
   ],
   "source": [
    "using Flux\n",
    "using Statistics\n",
    "using Random\n",
    "using Zygote\n",
    "include(\"DenseNTK.jl\")\n",
    "include(\"FastNTKMethods.jl\")\n",
    "# Your data\n",
    "y = [10, 21, 30, 30, 29, 40, 33, 45]\n",
    "\n",
    "\n",
    "\n",
    "\n",
    "\n",
    "x = hcat(range(1/8,stop=1,step=1/8)...)\n",
    "\n",
    "\n",
    "data = [(x,y)]\n",
    "\n",
    "\n",
    "\n"
   ]
  },
  {
   "cell_type": "code",
   "execution_count": 28,
   "metadata": {},
   "outputs": [
    {
     "ename": "DimensionMismatch",
     "evalue": "DimensionMismatch: loss function expects size(ŷ) = (8,) to match size(y) = (1, 8)",
     "output_type": "error",
     "traceback": [
      "DimensionMismatch: loss function expects size(ŷ) = (8,) to match size(y) = (1, 8)\n",
      "\n",
      "Stacktrace:\n",
      " [1] _check_sizes(ŷ::Vector{Int64}, y::Matrix{Float64})\n",
      "   @ Flux.Losses C:\\Users\\trist\\.julia\\packages\\Flux\\jgpVj\\src\\losses\\utils.jl:31\n",
      " [2] mse(ŷ::Vector{Int64}, y::Matrix{Float64}; agg::typeof(mean))\n",
      "   @ Flux.Losses C:\\Users\\trist\\.julia\\packages\\Flux\\jgpVj\\src\\losses\\functions.jl:46\n",
      " [3] mse(ŷ::Vector{Int64}, y::Matrix{Float64})\n",
      "   @ Flux.Losses C:\\Users\\trist\\.julia\\packages\\Flux\\jgpVj\\src\\losses\\functions.jl:45\n",
      " [4] Loss(model::Chain{Tuple{DenseNTK, DenseNTK}}, x::Matrix{Float64}, y::Vector{Int64})\n",
      "   @ Main c:\\Programming\\Github\\UROP\\Time_Forecast\\test.ipynb:5\n",
      " [5] top-level scope\n",
      "   @ c:\\Programming\\Github\\UROP\\Time_Forecast\\test.ipynb:10"
     ]
    }
   ],
   "source": [
    "model = Chain(DenseNTK(1=>10,relu),DenseNTK(10=>1))|>f64\n",
    "\n",
    "K = kernel(model,x,false,3)\n",
    "eig = eigen(K).values\n",
    "Loss(model,x,y) = Flux.mse(y,model(x))\n",
    "# for epoch = 1:10000\n",
    "#     Flux.train!(Loss,model,data,Descent(1/eig[end]))\n",
    "# end\n",
    "\n",
    "Loss(model,x,y)\n"
   ]
  },
  {
   "cell_type": "code",
   "execution_count": 8,
   "metadata": {},
   "outputs": [
    {
     "name": "stdout",
     "output_type": "stream",
     "text": [
      "Forecasted Value: 33.17176157831794\n"
     ]
    },
    {
     "name": "stderr",
     "output_type": "stream",
     "text": [
      "┌ Warning: Layer with Float32 parameters got Float64 input.\n",
      "│   The input will be converted, but any earlier layers may be very slow.\n",
      "│   layer = Dense(3 => 10, relu)\n",
      "│   summary(x) = 3-element Vector{Float64}\n",
      "└ @ Flux C:\\Users\\trist\\.julia\\packages\\Flux\\jgpVj\\src\\layers\\stateless.jl:60\n"
     ]
    }
   ],
   "source": [
    "new_sequence = normalized_data[end-sequence_length+1:end]\n",
    "\n",
    "# Make the prediction\n",
    "prediction = model(new_sequence)\n",
    "forecasted_value = prediction[1] * std(data) + mean(data)  # De-normalize the prediction\n",
    "\n",
    "println(\"Forecasted Value: $forecasted_value\")"
   ]
  },
  {
   "cell_type": "code",
   "execution_count": 9,
   "metadata": {},
   "outputs": [
    {
     "name": "stdout",
     "output_type": "stream",
     "text": [
      "Maximum Forecasted Value: 33.26842236406576\n",
      "Minimum Forecasted Value: 33.066566838108685\n",
      "Standard Deviation of Forecasted Values: 0.045574032068410396\n"
     ]
    }
   ],
   "source": [
    "# Generate multiple predictions for statistical analysis\n",
    "num_predictions = 100  # Number of predictions to generate\n",
    "predictions = []\n",
    "\n",
    "for _ in 1:num_predictions\n",
    "    # You can add some randomness to the sequence to simulate different scenarios\n",
    "    perturbed_sequence = new_sequence .+ 0.01 .* randn(length(new_sequence))\n",
    "    pred = model(perturbed_sequence)\n",
    "    push!(predictions, pred[1] * std(data) + mean(data))  # De-normalize\n",
    "end\n",
    "\n",
    "max_prediction = maximum(predictions)\n",
    "min_prediction = minimum(predictions)\n",
    "std_prediction = std(predictions)\n",
    "\n",
    "println(\"Maximum Forecasted Value: $max_prediction\")\n",
    "println(\"Minimum Forecasted Value: $min_prediction\")\n",
    "println(\"Standard Deviation of Forecasted Values: $std_prediction\")\n"
   ]
  }
 ],
 "metadata": {
  "kernelspec": {
   "display_name": "Julia 1.9.4",
   "language": "julia",
   "name": "julia-1.9"
  },
  "language_info": {
   "file_extension": ".jl",
   "mimetype": "application/julia",
   "name": "julia",
   "version": "1.9.4"
  }
 },
 "nbformat": 4,
 "nbformat_minor": 2
}
