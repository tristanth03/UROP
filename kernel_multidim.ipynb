{
 "cells": [
  {
   "cell_type": "markdown",
   "metadata": {},
   "source": [
    "Útskýringar eru í Kernel bible 2 ef þig þyrstir í aukaefni\n",
    "\n",
    "<br>\n",
    "Hér kemur bara eitthvað random dæmi, á að virkar fyrir\n",
    "\n",
    "$$f_{\\theta}: \\mathbb{R}^{n} \\rightarrow \\mathbb{R}^{m}$$"
   ]
  },
  {
   "cell_type": "code",
   "execution_count": 2,
   "metadata": {},
   "outputs": [],
   "source": [
    "include(\"NN.jl\")\n",
    "\n",
    "model = Chain(Dense(784 => 2, sigmoid), Dense(2 => 10)) # W_2[1x2](W_1[2x1]x[1]+b_1[2x1])+b_2[1]\n",
    "\n",
    "x1 = load_MNIST()[1][:,1];\n",
    "x2 = load_MNIST()[1][:,2];"
   ]
  },
  {
   "cell_type": "code",
   "execution_count": 3,
   "metadata": {},
   "outputs": [
    {
     "data": {
      "text/plain": [
       "kernel (generic function with 2 methods)"
      ]
     },
     "metadata": {},
     "output_type": "display_data"
    }
   ],
   "source": [
    "function Df(model, x)\n",
    "    # x: single datapoint\n",
    "    m = length(model(x))\n",
    "    k = sum(length, Flux.params(model)) # Total amount of params\n",
    "\n",
    "    # Þetta anonymous function reiknar gradient fyrir hvert function í outputinu frá 1:m\n",
    "    jac = (fi) -> Flux.jacobian(() -> model(x)[fi],Flux.params(model)) # anonymous function\n",
    "\n",
    "    # Skilgreini tómt Jacobian fylki\n",
    "    Jacob = zeros(k,m)\n",
    "\n",
    "    for func_i = 1:m\n",
    "        current_col = []\n",
    "        for param_i = 1:length(Flux.params(model))\n",
    "            push!(current_col, jac(func_i)[Flux.params(model)[param_i]]) # Fyrir hvern parametra W1, B1, W2...\n",
    "        end\n",
    "        current_col = collect(Iterators.flatten(current_col)) # Flatten, flet allt\n",
    "        # --- Spurning hvort hægt sé að gera þetta skilvirkara?\n",
    "        # --- Held samt að Iterators pakkinn eigi að vera nokkuð skilvirkur\n",
    "\n",
    "        Jacob[:, func_i] .= current_col # geri current_col að næsta dálka vigri jacobian\n",
    "    end\n",
    "\n",
    "    return Jacob # Þetta er Df fylkið í bilblíunni\n",
    "end\n",
    "\n",
    "function kernel(model, x)\n",
    "    # x: dataset\n",
    "    N = length(x)\n",
    "    m = length(model(x[1]))  # Number of functions in the model output\n",
    "    K = zeros(N*m, N*m)\n",
    "\n",
    "    for i = 1:N\n",
    "        for j = 1:N\n",
    "            block = Df(model, x[i])' * Df(model, x[j])\n",
    "            K[(i-1)*m+1:i*m, (j-1)*m+1:j*m] .= block\n",
    "        end\n",
    "    end\n",
    "\n",
    "    return K\n",
    "end"
   ]
  },
  {
   "cell_type": "code",
   "execution_count": 4,
   "metadata": {},
   "outputs": [
    {
     "name": "stdout",
     "output_type": "stream",
     "text": [
      "Kernel completed\n"
     ]
    }
   ],
   "source": [
    "x = [x1,x2]\n",
    "\n",
    "K = kernel(model,x);\n",
    "println(\"Kernel completed\")"
   ]
  },
  {
   "cell_type": "code",
   "execution_count": 5,
   "metadata": {},
   "outputs": [
    {
     "name": "stdout",
     "output_type": "stream",
     "text": [
      "K is symmetric"
     ]
    },
    {
     "name": "stdout",
     "output_type": "stream",
     "text": [
      "\n"
     ]
    },
    {
     "data": {
      "text/plain": [
       "Int64[]"
      ]
     },
     "metadata": {},
     "output_type": "display_data"
    }
   ],
   "source": [
    "using LinearAlgebra\n",
    "\n",
    "# Check if K is ok\n",
    "if K == K'\n",
    "    println( \"K is symmetric\")\n",
    "end\n",
    "\n",
    "val = eigen(K).values\n",
    "negVal = findall(x-> x < 0, val)"
   ]
  },
  {
   "cell_type": "code",
   "execution_count": 29,
   "metadata": {},
   "outputs": [
    {
     "data": {
      "text/plain": [
       "4×4 Matrix{Float64}:\n",
       " 51.0  40.0   67.0   48.0\n",
       " 40.0  51.0   48.0   67.0\n",
       " 67.0  48.0  107.0   72.0\n",
       " 48.0  67.0   72.0  107.0"
      ]
     },
     "metadata": {},
     "output_type": "display_data"
    },
    {
     "data": {
      "text/plain": [
       "4×4 Matrix{Float64}:\n",
       " 22.0  16.0  36.0  24.0\n",
       " 16.0  22.0  24.0  36.0\n",
       " 36.0  24.0  74.0  48.0\n",
       " 24.0  36.0  48.0  74.0"
      ]
     },
     "metadata": {},
     "output_type": "display_data"
    },
    {
     "data": {
      "text/plain": [
       "4-element Vector{Float64}:\n",
       "   0.5277949457557569\n",
       "  11.86998741167935\n",
       "  45.47220505424414\n",
       " 258.1300125883204"
      ]
     },
     "metadata": {},
     "output_type": "display_data"
    },
    {
     "data": {
      "text/plain": [
       "4-element Vector{Float64}:\n",
       "   0.3795006481866981\n",
       "   6.76066630559778\n",
       "  31.620499351813233\n",
       " 153.23933369440206"
      ]
     },
     "metadata": {},
     "output_type": "display_data"
    }
   ],
   "source": [
    "\n",
    "using Flux\n",
    "model = Chain(Dense(2=>),Dense(2=>2))|>f64\n",
    "\n",
    "Flux.params(model)[1] .= ones(Float64,2,2)\n",
    "Flux.params(model)[2] .= Float64.([1;0])\n",
    "Flux.params(model)[3] .= ones(Float64,2,2)*2\n",
    "Flux.params(model)[4] .= Float64.([0;1])\n",
    "\n",
    "W1 = Flux.params(model)[1]\n",
    "B1 = Flux.params(model)[2]\n",
    "W2 = Flux.params(model)[3]\n",
    "B2 = Flux.params(model)[4]\n",
    "\n",
    "\n",
    "\n",
    "# for i in 1:4 \n",
    "#     display(Flux.params(model)[i])\n",
    "# end\n",
    "\n",
    "t1 = Float64.([1;0])\n",
    "t2 = Float64.([2;1])\n",
    "\n",
    "\n",
    "\n",
    "function df_1(W1,B1,W2,B2,t)\n",
    "    df_dθ1 = Float64.([W2[1,1]*t[1]; W2[2,1]*t[1]])\n",
    "    return df_dθ1\n",
    "end\n",
    "function df_2(W1,B1,W2,B2,t)\n",
    "    df_dθ2 = Float64.([W2[1,2]*t[1]; W2[2,2]*t[1]])\n",
    "    return df_dθ2\n",
    "end\n",
    "function df_3(W1,B1,W2,B2,t)\n",
    "    df_dθ3 = Float64.([W2[1,1]*t[2]; W2[2,1]*t[2]])\n",
    "    return df_dθ3\n",
    "end\n",
    "function df_4(W1,B1,W2,B2,t)\n",
    "    df_dθ4 = Float64.([W2[1,2]*t[2]; W2[2,2]*t[2]])\n",
    "    return df_dθ4\n",
    "end\n",
    "function df_5(W1,B1,W2,B2,t)\n",
    "    df_dθ5 = Float64.([2*W2[1,1];2*W2[2,1]])\n",
    "    return df_dθ5\n",
    "end\n",
    "function df_6(W1,B1,W2,B2,t)\n",
    "    df_dθ6 = Float64.([2*W2[1,2];2*W2[2,2]])\n",
    "    return df_dθ6\n",
    "end\n",
    "function df_7(W1,B1,W2,B2,t)\n",
    "    df_dθ7 = Float64.([W1[1,1]*t[1]+2*B1[1]+W1[1,2]*t[2];0])\n",
    "    return df_dθ7\n",
    "end\n",
    "function df_8(W1,B1,W2,B2,t)\n",
    "    df_dθ8 = Float64.([0;W1[1,1]*t[1]+2*B1[1]+W1[1,2]*t[2]])\n",
    "    return df_dθ8\n",
    "end\n",
    "function df_9(W1,B1,W2,B2,t)\n",
    "    df_dθ9 = Float64.([W1[2,1]*t[1]+2*B1[2]+W1[2,2]*t[2];0])\n",
    "    return df_dθ9\n",
    "end\n",
    "function df_10(W1,B1,W2,B2,t)\n",
    "    df_dθ10 = Float64.([0;W1[2,1]*t[1]+2*B1[2]+W1[2,2]*t[2]])\n",
    "    return df_dθ10\n",
    "end\n",
    "function df_11(W1,B1,W2,B2,t)\n",
    "    df_dθ11 = Float64.([1;0])\n",
    "    return df_dθ11\n",
    "end\n",
    "function df_12(W1,B1,W2,B2,t)\n",
    "    df_dθ12 = Float64.([0;1])\n",
    "    return df_dθ12\n",
    "end\n",
    "\n",
    "# Collect all the derivative functions in an array for easier iteration\n",
    "dfs = [df_1, df_2, df_3, df_4, df_5, df_6, df_7, df_8, df_9, df_10, df_11, df_12]\n",
    "\n",
    "# Initialize a structure to hold the results\n",
    "results_t1 = zeros(Float64, 12, 2)\n",
    "results_t2 = zeros(Float64, 12, 2)\n",
    "\n",
    "# Compute derivatives for t1 and t2\n",
    "for (i, df) in enumerate(dfs)\n",
    "    results_t1[i, :] = df(W1, B1, W2, B2, t1)\n",
    "    results_t2[i, :] = df(W1, B1, W2, B2, t2)\n",
    "end\n",
    "\n",
    "# block 11\n",
    "K11 = results_t1'*results_t1\n",
    "\n",
    "# block 12\n",
    "K12 = results_t1'*results_t2\n",
    "\n",
    "# block 21\n",
    "K21 = results_t2'*results_t1\n",
    "\n",
    "# block 22\n",
    "K22 = results_t2'*results_t2\n",
    "\n",
    "K = [K11 K12;K21 K22]\n",
    "\n",
    "λ = eigen(K).values\n",
    "\n",
    "myK = kernel(model, [t1,t2])\n",
    "display(K)\n",
    "display(myK)\n",
    "display(λ)\n",
    "display(eigen(myK).values)"
   ]
  },
  {
   "cell_type": "code",
   "execution_count": 85,
   "metadata": {},
   "outputs": [
    {
     "data": {
      "text/plain": [
       "2-element Vector{Float64}:\n",
       " 6.0\n",
       " 7.0"
      ]
     },
     "metadata": {},
     "output_type": "display_data"
    }
   ],
   "source": []
  }
 ],
 "metadata": {
  "kernelspec": {
   "display_name": "Julia 1.9.4",
   "language": "julia",
   "name": "julia-1.9"
  },
  "language_info": {
   "file_extension": ".jl",
   "mimetype": "application/julia",
   "name": "julia",
   "version": "1.9.4"
  }
 },
 "nbformat": 4,
 "nbformat_minor": 2
}
