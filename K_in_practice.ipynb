{
 "cells": [
  {
   "cell_type": "code",
   "execution_count": 104,
   "metadata": {},
   "outputs": [],
   "source": [
    "include(\"NTKernel.jl\");"
   ]
  },
  {
   "cell_type": "code",
   "execution_count": 105,
   "metadata": {},
   "outputs": [],
   "source": [
    "# PSUDEO data\n",
    "g = x -> cos(2x)+sin(x/2)           # anonymous function g(x)\n",
    "\n",
    "X = range(1, stop=12, length=100)\n",
    "X = Matrix(reshape(X, 1, :))        # reshape, each column vector is read as data point\n",
    "\n",
    "Y = map(g,X);                       # Map with g(x)"
   ]
  },
  {
   "cell_type": "code",
   "execution_count": 106,
   "metadata": {},
   "outputs": [],
   "source": [
    "# nodes on hidden layer\n",
    "Nh = 100\n",
    "InputDim = 1\n",
    "activation = sigmoid\n",
    "\n",
    "model = Chain(Dense(InputDim=>Nh,activation),Dense(Nh=>InputDim))|>f64\n",
    "\n",
    "K = kernel(model, X)\n",
    "normalized_K = K / sqrt(Nh) # Normalize the kernel matrix\n",
    "\n",
    "λ_values = eigen(normalized_K).values;"
   ]
  },
  {
   "cell_type": "code",
   "execution_count": 107,
   "metadata": {},
   "outputs": [],
   "source": [
    "Ý = map_model(model,X); # Evaluates all X points, and takes dims into account 😍"
   ]
  },
  {
   "cell_type": "code",
   "execution_count": 108,
   "metadata": {},
   "outputs": [
    {
     "data": {
      "text/plain": [
       "graph1 (generic function with 2 methods)"
      ]
     },
     "metadata": {},
     "output_type": "display_data"
    }
   ],
   "source": [
    "using Plots\n",
    "\n",
    "# The subplot simplified\n",
    "function graph(model, x, y, λ, snaps=Nothing, logplot=false) # specify if logplotted eigenvalues\n",
    "    ý = map_model(model, x)\n",
    "\n",
    "    # Create subplots\n",
    "    plot1 = scatter(x[:], y[:], label=\"Real data\", xlabel=\"X\", ylabel=\"Y\", yaxis=:identity)\n",
    "    scatter!(x[:], ý[:], label=\"Estimated data\")\n",
    "    \n",
    "\n",
    "    # Add snapshots to the first subplot if provided\n",
    "    if isa(snaps, Vector{Any})\n",
    "        for i in 1:length(snaps)\n",
    "            scatter!(x[:], snaps[i][:])\n",
    "        end\n",
    "    end\n",
    "\n",
    "    # Conditional y-axis scaling based on logplot\n",
    "    plot2 = scatter(1:length(λ), λ, label=\"Eigenvalue\", xlabel=\"Id. Eigenvalue\", ylabel=\"Eigenvalue\", yaxis=logplot ? :log10 : :identity)\n",
    "\n",
    "    ## Combine subplots into a single plot\n",
    "    plot(plot1, plot2)\n",
    "end\n",
    "\n",
    "# The subplot simplified\n",
    "function graph1(model, x, y, λ, logplot=false) # specify if logplotted eigenvalues\n",
    "    ý = map_model(model, x)\n",
    "\n",
    "    # Create subplots\n",
    "    plot1 = plot(x[:], y[:], label=\"Real data\", xlabel=\"X\", ylabel=\"Y\", yaxis=:identity)\n",
    "    plot!(x[:], ý[:], label=\"Estimated data\")\n",
    "\n",
    "    # Conditional y-axis scaling based on logplot\n",
    "    plot2 = scatter(1:length(λ), λ, label=\"Eigenvalue\", xlabel=\"Id. Eigenvalue\", ylabel=\"Eigenvalue\", yaxis=logplot ? :log10 : :identity)\n",
    "\n",
    "    # Combine subplots into a single plot\n",
    "    plot(plot1, plot2)\n",
    "end "
   ]
  },
  {
   "cell_type": "code",
   "execution_count": 110,
   "metadata": {},
   "outputs": [
    {
     "ename": "MethodError",
     "evalue": "MethodError: objects of type Plots.Plot{Plots.GRBackend} are not callable",
     "output_type": "error",
     "traceback": [
      "MethodError: objects of type Plots.Plot{Plots.GRBackend} are not callable\n",
      "\n",
      "Stacktrace:\n",
      " [1] graph1(model::Chain{Tuple{Dense{typeof(σ), Matrix{Float64}, Vector{Float64}}, Dense{typeof(identity), Matrix{Float64}, Vector{Float64}}}}, x::Matrix{Float64}, y::Matrix{Float64}, λ::Vector{Float64}, logplot::Bool)\n",
      "   @ Main c:\\Github\\UROP\\K_in_practice.ipynb:31\n",
      " [2] top-level scope\n",
      "   @ c:\\Github\\UROP\\K_in_practice.ipynb:1"
     ]
    }
   ],
   "source": [
    "graph1(model,X,Y,λ_values,false)\n"
   ]
  },
  {
   "cell_type": "markdown",
   "metadata": {},
   "source": [
    "<h3>Beware!!!</h3> \n",
    "\n",
    "After the yaxis is changed, you shouldn't change it back. Then the plot function seems to stop working. <br>\n",
    "This might be a bug with the Plog package?"
   ]
  },
  {
   "cell_type": "markdown",
   "metadata": {},
   "source": [
    "<h1> Now, lets start tinkering with the models </h1>"
   ]
  },
  {
   "cell_type": "code",
   "execution_count": 35,
   "metadata": {},
   "outputs": [],
   "source": [
    "# nodes on hidden layer\n",
    "\n",
    "function create_model(Ni, Nh, No, N, activation)\n",
    "    layers = [] # Initialize an empty array without specifying the type of elements\n",
    "    push!(layers, Dense(Ni, N, activation)) # First hidden layer with N nodes and specified activation\n",
    "    for _ in 2:Nh\n",
    "        push!(layers, Dense(N, N, activation)) # Additional Nh-1 hidden layers\n",
    "    end\n",
    "    push!(layers, Dense(N, No)) # Output layer without specifying an activation function (defaults to identity)\n",
    "    model = Chain(layers...)|>f64 # Create the model from the layers\n",
    "    return model\n",
    "end\n",
    "\n",
    "\n",
    "Nh_list = [300] \n",
    "H_Layers = [2]\n",
    "models = []\n",
    "activation = sigmoid\n",
    "\n",
    "InputDim = 1\n",
    "\n",
    "models = []\n",
    "for Nh in 1:length(Nh_list)\n",
    "    for Layer in 1:length(H_Layers)\n",
    "        push!(models, create_model(InputDim,H_Layers[Layer],InputDim,Nh_list[Nh],activation))\n",
    "    end\n",
    "end\n",
    "\n",
    "Kernels = []\n",
    "for model in models\n",
    "    push!(Kernels, kernel(model, X))\n",
    "end\n",
    "\n",
    "Kernels_Norms = []\n",
    "# Iterate over each kernel and normalize according to your pattern\n",
    "for i in 1:length(Kernels)\n",
    "    # Use mod1 to cycle through Nh_list based on i\n",
    "    # This approach correctly associates each kernel with its Nh value according to your pattern\n",
    "    Nh_index = mod1(i, length(Nh_list))\n",
    "    Nh = Nh_list[Nh_index]\n",
    "    normalized_K = Kernels[i] / sqrt(Nh)\n",
    "    push!(Kernels_Norms, normalized_K)\n",
    "end\n",
    "λ_values = []\n",
    "for K in Kernels_Norms\n",
    "    push!(λ_values, eigen(K).values) # Compute eigenvalues for each kernel and store\n",
    "end\n",
    "\n",
    "\n",
    "# loss(a, b) = Flux.Losses.mse(models[1](a), b)\n",
    "#Flux.train!(loss, Flux.params(models[1]), [(X,Y)], Descent(0.01))"
   ]
  },
  {
   "cell_type": "code",
   "execution_count": 22,
   "metadata": {},
   "outputs": [],
   "source": [
    "# for i in 1:length(models)\n",
    "#     display(models[i])\n",
    "# end\n",
    "\n",
    "\n",
    "\n",
    "loss(model, x, y) = Flux.Losses.mse(model(x),y)\n",
    "\n",
    "opt = Descent(1/findmax(λ_values[1])[1])\n",
    "data = [(X, Y)]\n",
    "Nepoch=200_000\n",
    "for epoch=1:Nepoch\n",
    "    Flux.train!(loss, models[1], data, opt)\n",
    "end\n",
    "\n"
   ]
  },
  {
   "cell_type": "code",
   "execution_count": 34,
   "metadata": {},
   "outputs": [
    {
     "data": {
      "text/plain": [
       "\"c:\\\\Github\\\\UROP\\\\100Nh_4Lh.png\""
      ]
     },
     "metadata": {},
     "output_type": "display_data"
    }
   ],
   "source": [
    "graph(models[1], X, Y, λ_values[1])\n",
    "# 30s\n",
    "savefig(\"100Nh_4Lh.png\")"
   ]
  },
  {
   "cell_type": "code",
   "execution_count": 36,
   "metadata": {},
   "outputs": [
    {
     "data": {
      "text/plain": [
       "Chain(\n",
       "  Dense(1 => 300, σ),                   \u001b[90m# 600 parameters\u001b[39m\n",
       "  Dense(300 => 300, σ),                 \u001b[90m# 90_300 parameters\u001b[39m\n",
       "  Dense(300 => 1),                      \u001b[90m# 301 parameters\u001b[39m\n",
       ") \u001b[90m                  # Total: 6 arrays, \u001b[39m91_201 parameters, 712.883 KiB."
      ]
     },
     "metadata": {},
     "output_type": "display_data"
    },
    {
     "data": {
      "text/plain": [
       "516.4249232568217"
      ]
     },
     "metadata": {},
     "output_type": "display_data"
    }
   ],
   "source": [
    "display(models[1])\n",
    "display(findmax(λ_values[1])[1])"
   ]
  }
 ],
 "metadata": {
  "kernelspec": {
   "display_name": "Julia 1.9.4",
   "language": "julia",
   "name": "julia-1.9"
  },
  "language_info": {
   "file_extension": ".jl",
   "mimetype": "application/julia",
   "name": "julia",
   "version": "1.9.4"
  }
 },
 "nbformat": 4,
 "nbformat_minor": 2
}
