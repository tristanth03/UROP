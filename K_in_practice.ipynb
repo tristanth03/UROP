{
 "cells": [
  {
   "cell_type": "code",
   "execution_count": 1,
   "metadata": {},
   "outputs": [],
   "source": [
    "include(\"NTKernel.jl\");"
   ]
  },
  {
   "cell_type": "code",
   "execution_count": 2,
   "metadata": {},
   "outputs": [],
   "source": [
    "# PSUDEO data\n",
    "g = x -> cos(2x)+sin(x/2)           # anonymous function g(x)\n",
    "\n",
    "X = range(1, stop=4, length=100)\n",
    "X = Matrix(reshape(X, 1, :))        # reshape, each column vector is read as data point\n",
    "\n",
    "Y = map(g,X);                       # Map with g(x)"
   ]
  },
  {
   "cell_type": "code",
   "execution_count": 3,
   "metadata": {},
   "outputs": [],
   "source": [
    "# nodes on hidden layer\n",
    "Nh = 100\n",
    "InputDim = 1\n",
    "activation = sigmoid\n",
    "\n",
    "model = Chain(Dense(InputDim=>Nh,activation),Dense(Nh=>InputDim))|>f64\n",
    "\n",
    "K = kernel(model, X)\n",
    "normalized_K = K / sqrt(Nh) # Normalize the kernel matrix\n",
    "\n",
    "λ_values = eigen(normalized_K).values;"
   ]
  },
  {
   "cell_type": "code",
   "execution_count": 26,
   "metadata": {},
   "outputs": [
    {
     "name": "stdout",
     "output_type": "stream",
     "text": []
    }
   ],
   "source": [
    "Ý = map_model(model,X) # Evaluates all X points, and takes dims into account 😍"
   ]
  },
  {
   "cell_type": "code",
   "execution_count": 12,
   "metadata": {},
   "outputs": [
    {
     "name": "stdout",
     "output_type": "stream",
     "text": []
    },
    {
     "name": "stderr",
     "output_type": "stream",
     "text": [
      "┌ Warning: No strict ticks found\n",
      "└ @ PlotUtils C:\\Users\\axelb\\.julia\\packages\\PlotUtils\\jEGKP\\src\\ticks.jl:191\n",
      "┌ Warning: No strict ticks found\n",
      "└ @ PlotUtils C:\\Users\\axelb\\.julia\\packages\\PlotUtils\\jEGKP\\src\\ticks.jl:191\n",
      "┌ Warning: No strict ticks found\n",
      "└ @ PlotUtils C:\\Users\\axelb\\.julia\\packages\\PlotUtils\\jEGKP\\src\\ticks.jl:191\n"
     ]
    }
   ],
   "source": [
    "using Plots\n",
    "\n",
    "# The subplot simplified\n",
    "function graph(model, x, y, λ, logplot=false) # specify if logplotted eigenvalues\n",
    "    ý = map_model(model, x)\n",
    "\n",
    "    # Create subplots\n",
    "    plot1 = plot(x[:], y[:], label=\"Real data\", xlabel=\"X\", ylabel=\"Y\", yaxis=:identity)\n",
    "    plot!(x[:], ý[:], label=\"Estimated data\")\n",
    "\n",
    "    # Conditional y-axis scaling based on logplot\n",
    "    plot2 = scatter(1:length(λ), λ, label=\"Eigenvalue\", xlabel=\"Id. Eigenvalue\", ylabel=\"Eigenvalue\", yaxis=logplot ? :log10 : :identity)\n",
    "\n",
    "    # Combine subplots into a single plot\n",
    "    plot(plot1, plot2)\n",
    "end \n",
    "\n",
    "graph(model,X,Y,λ_values)    # Could be graph(model,X,Y,λ_values, true) for logplot"
   ]
  },
  {
   "cell_type": "markdown",
   "metadata": {},
   "source": [
    "<h3>Beware!!!</h3> After the yaxis is changed, you shouldn't change it back. Then the plot function seems to stop working. <br>This might be a bug with the Plog package?"
   ]
  },
  {
   "cell_type": "markdown",
   "metadata": {},
   "source": [
    "<h1> Now, lets start tinkering with the models </h1>"
   ]
  },
  {
   "cell_type": "code",
   "execution_count": 12,
   "metadata": {},
   "outputs": [
    {
     "data": {
      "text/plain": [
       "loss (generic function with 1 method)"
      ]
     },
     "metadata": {},
     "output_type": "display_data"
    }
   ],
   "source": [
    "# nodes on hidden layer\n",
    "\n",
    "function create_model(Ni, Nh, No, N, activation)\n",
    "    layers = [] # Initialize an empty array without specifying the type of elements\n",
    "    push!(layers, Dense(Ni, N, activation)) # First hidden layer with N nodes and specified activation\n",
    "    for _ in 2:Nh\n",
    "        push!(layers, Dense(N, N, activation)) # Additional Nh-1 hidden layers\n",
    "    end\n",
    "    push!(layers, Dense(N, No)) # Output layer without specifying an activation function (defaults to identity)\n",
    "    model = Chain(layers...)|>f64 # Create the model from the layers\n",
    "    return model\n",
    "end\n",
    "\n",
    "\n",
    "Nh_list = [1, 2, 3] \n",
    "H_Layers = [1, 2, 3]\n",
    "models = []\n",
    "activation = sigmoid\n",
    "\n",
    "InputDim = 1\n",
    "\n",
    "models = []\n",
    "for Nh in 1:length(Nh_list)\n",
    "    for Layer in 1:length(H_Layers)\n",
    "        push!(models, create_model(InputDim,H_Layers[Layer],InputDim,Nh_list[Nh],activation))\n",
    "    end\n",
    "end\n",
    "\n",
    "Kernels = []\n",
    "for model in models\n",
    "    push!(Kernels, kernel(model, X))\n",
    "end\n",
    "\n",
    "Kernels_Norms = []\n",
    "# Iterate over each kernel and normalize according to your pattern\n",
    "for i in 1:length(Kernels)\n",
    "    # Use mod1 to cycle through Nh_list based on i\n",
    "    # This approach correctly associates each kernel with its Nh value according to your pattern\n",
    "    Nh_index = mod1(i, length(Nh_list))\n",
    "    Nh = Nh_list[Nh_index]\n",
    "    normalized_K = Kernels[i] / sqrt(Nh)\n",
    "    push!(Kernels_Norms, normalized_K)\n",
    "end\n",
    "λ_values = []\n",
    "for K in Kernels_Norms\n",
    "    push!(λ_values, eigen(K).values) # Compute eigenvalues for each kernel and store\n",
    "end\n",
    "\n",
    "\n",
    "# loss(a, b) = Flux.Losses.mse(models[1](a), b)\n",
    "#Flux.train!(loss, Flux.params(models[1]), [(X,Y)], Descent(0.01))"
   ]
  },
  {
   "cell_type": "code",
   "execution_count": 14,
   "metadata": {},
   "outputs": [
    {
     "data": {
      "text/plain": [
       "Chain(\n",
       "  Dense(1 => 1, σ),                     \u001b[90m# 2 parameters\u001b[39m\n",
       "  Dense(1 => 1),                        \u001b[90m# 2 parameters\u001b[39m\n",
       ") \u001b[90m                  # Total: 4 arrays, \u001b[39m4 parameters, 288 bytes."
      ]
     },
     "metadata": {},
     "output_type": "display_data"
    },
    {
     "data": {
      "text/plain": [
       "Chain(\n",
       "  Dense(1 => 1, σ),                     \u001b[90m# 2 parameters\u001b[39m\n",
       "  Dense(1 => 1, σ),                     \u001b[90m# 2 parameters\u001b[39m\n",
       "  Dense(1 => 1),                        \u001b[90m# 2 parameters\u001b[39m\n",
       ") \u001b[90m                  # Total: 6 arrays, \u001b[39m6 parameters, 432 bytes."
      ]
     },
     "metadata": {},
     "output_type": "display_data"
    },
    {
     "data": {
      "text/plain": [
       "Chain(\n",
       "  Dense(1 => 1, σ),                     \u001b[90m# 2 parameters\u001b[39m\n",
       "  Dense(1 => 1, σ),                     \u001b[90m# 2 parameters\u001b[39m\n",
       "  Dense(1 => 1, σ),                     \u001b[90m# 2 parameters\u001b[39m\n",
       "  Dense(1 => 1),                        \u001b[90m# 2 parameters\u001b[39m\n",
       ") \u001b[90m                  # Total: 8 arrays, \u001b[39m8 parameters, 576 bytes."
      ]
     },
     "metadata": {},
     "output_type": "display_data"
    },
    {
     "data": {
      "text/plain": [
       "Chain(\n",
       "  Dense(1 => 2, σ),                     \u001b[90m# 4 parameters\u001b[39m\n",
       "  Dense(2 => 1),                        \u001b[90m# 3 parameters\u001b[39m\n",
       ") \u001b[90m                  # Total: 4 arrays, \u001b[39m7 parameters, 312 bytes."
      ]
     },
     "metadata": {},
     "output_type": "display_data"
    },
    {
     "data": {
      "text/plain": [
       "Chain(\n",
       "  Dense(1 => 2, σ),                     \u001b[90m# 4 parameters\u001b[39m\n",
       "  Dense(2 => 2, σ),                     \u001b[90m# 6 parameters\u001b[39m\n",
       "  Dense(2 => 1),                        \u001b[90m# 3 parameters\u001b[39m\n",
       ") \u001b[90m                  # Total: 6 arrays, \u001b[39m13 parameters, 488 bytes."
      ]
     },
     "metadata": {},
     "output_type": "display_data"
    },
    {
     "data": {
      "text/plain": [
       "Chain(\n",
       "  Dense(1 => 2, σ),                     \u001b[90m# 4 parameters\u001b[39m\n",
       "  Dense(2 => 2, σ),                     \u001b[90m# 6 parameters\u001b[39m\n",
       "  Dense(2 => 2, σ),                     \u001b[90m# 6 parameters\u001b[39m\n",
       "  Dense(2 => 1),                        \u001b[90m# 3 parameters\u001b[39m\n",
       ") \u001b[90m                  # Total: 8 arrays, \u001b[39m19 parameters, 664 bytes."
      ]
     },
     "metadata": {},
     "output_type": "display_data"
    },
    {
     "data": {
      "text/plain": [
       "Chain(\n",
       "  Dense(1 => 3, σ),                     \u001b[90m# 6 parameters\u001b[39m\n",
       "  Dense(3 => 1),                        \u001b[90m# 4 parameters\u001b[39m\n",
       ") \u001b[90m                  # Total: 4 arrays, \u001b[39m10 parameters, 336 bytes."
      ]
     },
     "metadata": {},
     "output_type": "display_data"
    },
    {
     "data": {
      "text/plain": [
       "Chain(\n",
       "  Dense(1 => 3, σ),                     \u001b[90m# 6 parameters\u001b[39m\n",
       "  Dense(3 => 3, σ),                     \u001b[90m# 12 parameters\u001b[39m\n",
       "  Dense(3 => 1),                        \u001b[90m# 4 parameters\u001b[39m\n",
       ") \u001b[90m                  # Total: 6 arrays, \u001b[39m22 parameters, 560 bytes."
      ]
     },
     "metadata": {},
     "output_type": "display_data"
    },
    {
     "data": {
      "text/plain": [
       "Chain(\n",
       "  Dense(1 => 3, σ),                     \u001b[90m# 6 parameters\u001b[39m\n",
       "  Dense(3 => 3, σ),                     \u001b[90m# 12 parameters\u001b[39m\n",
       "  Dense(3 => 3, σ),                     \u001b[90m# 12 parameters\u001b[39m\n",
       "  Dense(3 => 1),                        \u001b[90m# 4 parameters\u001b[39m\n",
       ") \u001b[90m                  # Total: 8 arrays, \u001b[39m34 parameters, 784 bytes."
      ]
     },
     "metadata": {},
     "output_type": "display_data"
    }
   ],
   "source": [
    "for i in 1:length(models)\n",
    "    display(models[i])\n",
    "end"
   ]
  }
 ],
 "metadata": {
  "kernelspec": {
   "display_name": "Julia 1.9.4",
   "language": "julia",
   "name": "julia-1.9"
  },
  "language_info": {
   "file_extension": ".jl",
   "mimetype": "application/julia",
   "name": "julia",
   "version": "1.9.4"
  }
 },
 "nbformat": 4,
 "nbformat_minor": 2
}
