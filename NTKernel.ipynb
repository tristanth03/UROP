{
 "cells": [
  {
   "cell_type": "code",
   "execution_count": 134,
   "metadata": {},
   "outputs": [
    {
     "data": {
      "text/plain": [
       "kernel (generic function with 2 methods)"
      ]
     },
     "metadata": {},
     "output_type": "display_data"
    }
   ],
   "source": [
    "using LinearAlgebra\n",
    "using Flux\n",
    "\n",
    "function Df(model, x)\n",
    "    # x: single datapoint\n",
    "    m = length(model(x))\n",
    "    k = sum(length, Flux.params(model)) # Total amount of params\n",
    "\n",
    "    # Þetta anonymous function reiknar gradient fyrir hvert function í outputinu frá 1:m\n",
    "    jac = (fi) -> Flux.jacobian(() -> model(x)[fi],Flux.params(model)) # anonymous function\n",
    "\n",
    "    # Skilgreini tómt Jacobian fylki\n",
    "    Jacob = zeros(k,m)\n",
    "\n",
    "    for func_i = 1:m\n",
    "        current_col = []\n",
    "        for param_i = 1:length(Flux.params(model))\n",
    "            push!(current_col, jac(func_i)[Flux.params(model)[param_i]]) # Fyrir hvern parametra W1, B1, W2...\n",
    "        end\n",
    "        current_col = collect(Iterators.flatten(current_col)) # Flatten, flet allt\n",
    "        # --- Spurning hvort hægt sé að gera þetta skilvirkara?\n",
    "        # --- Held samt að Iterators pakkinn eigi að vera nokkuð skilvirkur\n",
    "\n",
    "        Jacob[:, func_i] .= current_col # geri current_col að næsta dálka vigri jacobian\n",
    "    end\n",
    "\n",
    "    return Jacob # Þetta er Df fylkið í bilblíunni\n",
    "end\n",
    "\n",
    "function check_dim(x)\n",
    "    \"\"\"This function checks the appropriate  dimensions of input data\"\"\"\n",
    "    if isa(x, Matrix)\n",
    "        return size(x, 2)  # Returns the number of columns (width) of the matrix\n",
    "    elseif isa(x, Vector)\n",
    "        return 1  # Return 1 if it's a column vector\n",
    "    else\n",
    "        type = typeof(x)\n",
    "        error(\"Input data type: $type is neither a matrix or column vector\")\n",
    "    end\n",
    "end\n",
    "\n",
    "function kernel(model, x)\n",
    "    N = check_dim(x)\n",
    "    m = length(model(x[:,1]))  # Number of functions in the model output\n",
    "    K = zeros(N*m, N*m)\n",
    "    \n",
    "    for i = 1:N\n",
    "        for j = 1:N\n",
    "            block = Df(model, x[:,i])' * Df(model, x[:,j])\n",
    "            K[(i-1)*m+1:i*m, (j-1)*m+1:j*m] .= block\n",
    "        end\n",
    "    end\n",
    "\n",
    "    return K\n",
    "end"
   ]
  },
  {
   "cell_type": "code",
   "execution_count": 138,
   "metadata": {},
   "outputs": [
    {
     "data": {
      "text/plain": [
       "100×100 Matrix{Float64}:\n",
       "  1.14519       0.0195826     0.000760703  …   0.00312982   -0.0138963\n",
       "  0.0195826     1.11551      -0.00626638      -0.000412202  -0.00277955\n",
       "  0.000760703  -0.00626638    0.926612         0.00205764   -0.000799076\n",
       " -0.0155363     0.0114518     0.0101496       -0.00354303    0.00590882\n",
       " -0.025051      0.0165554    -0.00323857       0.0173471    -0.0185313\n",
       " -0.0208373     8.9945e-5    -0.0091585    …  -0.0061082     0.00567906\n",
       " -0.0029141    -0.0219589    -0.0100809       -0.00102331    0.00147196\n",
       "  0.0186376     0.0389004    -0.0014876       -0.0208961    -0.0201299\n",
       "  0.00531407    0.00359078   -0.00272739       1.10417      -0.0118959\n",
       " -0.0208827    -0.00796372   -0.00247641      -0.011918      0.957066\n",
       "  ⋮                                        ⋱                \n",
       "  0.0110082     1.10174      -0.0029721        0.00288373   -0.00598799\n",
       "  0.00167476   -0.00298263    0.918235        -0.00107317   -0.00129064\n",
       " -0.0132107     0.00996397    0.00627876      -0.00274342    0.00503619\n",
       " -0.0219392     0.0161153     0.000530609      0.0187476    -0.0213589\n",
       " -0.0176506    -7.14627e-5   -0.0104007    …  -0.00851289    0.00668362\n",
       " -0.00129979   -0.0191592    -0.00860847      -0.000242482   0.00263766\n",
       "  0.0129654     0.0326236    -0.00493499      -0.0258038    -0.0239354\n",
       "  0.00312982   -0.000412202   0.00205764       1.14178      -0.0158966\n",
       " -0.0138963    -0.00277955   -0.000799076     -0.0158966     0.980705"
      ]
     },
     "metadata": {},
     "output_type": "display_data"
    }
   ],
   "source": [
    "include(\"NN.jl\")\n",
    "\n",
    "X,Y, x_test, y_test = load_MNIST();\n",
    "\n",
    "model = Chain(\n",
    "    Dense(28*28, 60, sigmoid), # Input Layer -> Hidden Layer 1\n",
    "    Dense(60, 60, sigmoid),     # Hidden Layer 1 -> Hidden Layer 2\n",
    "    Dense(60, 10, sigmoid)      # Hidden Layer 2 -> Output Layer\n",
    ")\n",
    "\n",
    "\n",
    "K = kernel(model, X[:,1:10])\n",
    "\n",
    "findall(a -> a<0, eigen.values(K))"
   ]
  }
 ],
 "metadata": {
  "kernelspec": {
   "display_name": "Julia 1.9.4",
   "language": "julia",
   "name": "julia-1.9"
  },
  "language_info": {
   "file_extension": ".jl",
   "mimetype": "application/julia",
   "name": "julia",
   "version": "1.9.4"
  }
 },
 "nbformat": 4,
 "nbformat_minor": 2
}
