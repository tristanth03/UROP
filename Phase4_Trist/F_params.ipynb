{
 "cells": [
  {
   "cell_type": "code",
   "execution_count": 1,
   "metadata": {},
   "outputs": [],
   "source": [
    "using Flux,LinearAlgebra,CairoMakie,Random,ProgressMeter,JLD2\n",
    "include(\"FastNTK.jl\")\n",
    "include(\"DenseNTK.jl\")"
   ]
  },
  {
   "cell_type": "code",
   "execution_count": 2,
   "metadata": {},
   "outputs": [
    {
     "data": {
      "text/plain": [
       "Chain(\n",
       "  DenseNTK([-0.6457306742668152; -1.4632513523101807; … ; -1.0900237560272217; 1.0501086711883545;;], [1.0774400234222412, 0.8950340151786804, -0.9902045726776123, -2.4819962978363037, 1.1927791833877563, 1.2454367876052856, -0.36321690678596497, 0.702370285987854, 1.1471552848815918, -0.4126145541667938  …  -0.5143148303031921, 1.5513807535171509, -1.2263103723526, -0.25751209259033203, 1.201093316078186, 0.5665941834449768, 1.8706109523773193, -1.1733003854751587, 1.4468801021575928, 0.6397419571876526], NNlib.relu),  \u001b[90m# 20_000 parameters\u001b[39m\n",
       "  DenseNTK([-0.6020590662956238 0.8664823174476624 … -0.776823878288269 -0.5718218684196472], [1.171499490737915], identity),  \u001b[90m# 10_001 parameters\u001b[39m\n",
       ") \u001b[90m                  # Total: 4 arrays, \u001b[39m30_001 parameters, 234.680 KiB."
      ]
     },
     "metadata": {},
     "output_type": "display_data"
    }
   ],
   "source": [
    "Random.seed!(123)\n",
    "\n",
    "actv_f = relu\n",
    "N1 = 10_000\n",
    "\n",
    "model = Chain(DenseNTK(1=>N1,actv_f),DenseNTK(N1=>1))|>f64\n",
    "\n",
    "\n",
    "save_object(\"params1.jld2\",Flux.params(model))\n",
    "\n",
    "model"
   ]
  },
  {
   "cell_type": "code",
   "execution_count": 3,
   "metadata": {},
   "outputs": [
    {
     "data": {
      "text/plain": [
       "Params([[-0.6457306742668152; -1.4632513523101807; … ; -1.0900237560272217; 1.0501086711883545;;], [1.0774400234222412, 0.8950340151786804, -0.9902045726776123, -2.4819962978363037, 1.1927791833877563, 1.2454367876052856, -0.36321690678596497, 0.702370285987854, 1.1471552848815918, -0.4126145541667938  …  -0.5143148303031921, 1.5513807535171509, -1.2263103723526, -0.25751209259033203, 1.201093316078186, 0.5665941834449768, 1.8706109523773193, -1.1733003854751587, 1.4468801021575928, 0.6397419571876526], [-0.6020590662956238 0.8664823174476624 … -0.776823878288269 -0.5718218684196472], [1.171499490737915]])"
      ]
     },
     "metadata": {},
     "output_type": "display_data"
    }
   ],
   "source": [
    "θ_0 = load_object(\"params1.jld2\")"
   ]
  },
  {
   "cell_type": "code",
   "execution_count": 4,
   "metadata": {},
   "outputs": [
    {
     "data": {
      "text/plain": [
       "3.58414258936859"
      ]
     },
     "metadata": {},
     "output_type": "display_data"
    },
    {
     "data": {
      "text/plain": [
       "Params([[-0.6457306742668152; -1.4632513523101807; … ; -1.0900237560272217; 1.0501086711883545;;], [1.0774400234222412, 0.8950340151786804, -0.9902045726776123, -2.4819962978363037, 1.1927791833877563, 1.2454367876052856, -0.36321690678596497, 0.702370285987854, 1.1471552848815918, -0.4126145541667938  …  -0.5143148303031921, 1.5513807535171509, -1.2263103723526, -0.25751209259033203, 1.201093316078186, 0.5665941834449768, 1.8706109523773193, -1.1733003854751587, 1.4468801021575928, 0.6397419571876526], [-0.6020590662956238 0.8664823174476624 … -0.776823878288269 -0.5718218684196472], [1.171499490737915]])"
      ]
     },
     "metadata": {},
     "output_type": "display_data"
    }
   ],
   "source": [
    "xR = range(-1,stop=1,step=0.1)\n",
    "x = hcat(xR...)\n",
    "\n",
    "x_train = x\n",
    "f = x->sin(5*x)+cos(5*x)\n",
    "y_train = map(f,x_train)\n",
    "y_hat = model(x_train)\n",
    "y_train_hat = model(x_train)\n",
    "Loss(model,x,y) = Flux.mse(y,model(x))\n",
    "loss = Loss(model,x_train,y_train)\n",
    "train_data = [(x_train,y_train)]\n",
    "display(loss)\n",
    "K = faster_kernel(model,x)\n",
    "λ = eigen(K).values;\n",
    "\n",
    "\n",
    "y_hat1 = model(x_train)\n",
    "Flux.params(model)"
   ]
  }
 ],
 "metadata": {
  "kernelspec": {
   "display_name": "Julia 1.9.4",
   "language": "julia",
   "name": "julia-1.9"
  },
  "language_info": {
   "file_extension": ".jl",
   "mimetype": "application/julia",
   "name": "julia",
   "version": "1.9.4"
  }
 },
 "nbformat": 4,
 "nbformat_minor": 2
}
