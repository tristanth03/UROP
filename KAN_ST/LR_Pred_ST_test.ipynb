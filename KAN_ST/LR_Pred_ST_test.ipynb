{
 "cells": [
  {
   "cell_type": "code",
   "execution_count": 25,
   "metadata": {},
   "outputs": [
    {
     "data": {
      "text/plain": [
       "TaskLocalRNG()"
      ]
     },
     "metadata": {},
     "output_type": "display_data"
    }
   ],
   "source": [
    "include(\"LR_Pred_ST.jl\")\n",
    "Random.seed!(124)"
   ]
  },
  {
   "cell_type": "code",
   "execution_count": 26,
   "metadata": {},
   "outputs": [
    {
     "name": "stdout",
     "output_type": "stream",
     "text": [
      "Approximately 15 sec delay do to kernel calculations\n"
     ]
    },
    {
     "ename": "UndefVarError",
     "evalue": "UndefVarError: `iterations` not defined",
     "output_type": "error",
     "traceback": [
      "UndefVarError: `iterations` not defined\n",
      "\n",
      "Stacktrace:\n",
      " [1] LR_updt(h::Float64, x0::Float64, xn::Float64, N1::Int64, detail::Int64)\n",
      "   @ Main c:\\Programming\\Github\\UROP\\KAN_ST\\LR_Pred_ST.jl:93\n",
      " [2] top-level scope\n",
      "   @ c:\\Programming\\Github\\UROP\\KAN_ST\\LR_Pred_ST_test.ipynb:10"
     ]
    }
   ],
   "source": [
    "h = 0.2; x0 = -1.0; xn = 1.0; activation = relu; dim = 1; N1 = 10_000\n",
    "# We create some data (normalized)\n",
    "x = hcat(range(x0,stop=xn,step=h)...)\n",
    "f = x->sin(5*x)+cos(5*x)\n",
    "\n",
    "model = Chain(DenseNTK(dim=>N1,activation),DenseNTK(N1=>dim))|>f64\n",
    "detail = 3\n",
    "Iterations = 100000\n",
    "println(\"Approximately 15 sec delay do to kernel calculations\")\n",
    "LR_opt2 = 1/LR_updt(h,x0,xn,N1,detail)\n",
    "\n",
    "Loss(model,x,y) = Flux.mse(y,model(x))"
   ]
  },
  {
   "cell_type": "code",
   "execution_count": 27,
   "metadata": {},
   "outputs": [
    {
     "name": "stderr",
     "output_type": "stream",
     "text": [
      "\u001b[32mProgress:  22%|█████████                                |  ETA: 0:01:55\u001b[39m\u001b[K\u001b[39m\u001b[K\u001b[K\u001b[K\u001b[K"
     ]
    }
   ],
   "source": [
    "\n",
    "L = []\n",
    "y = map(f,x)\n",
    "data = [(x,y)]\n",
    "@showprogress for epoch = 1:Iterations\n",
    "\n",
    "    Flux.train!(Loss,model,data,Descent(LR_opt2))\n",
    "    push!(L,Loss(model,x,y))\n",
    "\n",
    "end "
   ]
  },
  {
   "cell_type": "code",
   "execution_count": null,
   "metadata": {},
   "outputs": [],
   "source": [
    "L"
   ]
  }
 ],
 "metadata": {
  "kernelspec": {
   "display_name": "Julia 1.9.4",
   "language": "julia",
   "name": "julia-1.9"
  },
  "language_info": {
   "file_extension": ".jl",
   "mimetype": "application/julia",
   "name": "julia",
   "version": "1.9.4"
  }
 },
 "nbformat": 4,
 "nbformat_minor": 2
}
