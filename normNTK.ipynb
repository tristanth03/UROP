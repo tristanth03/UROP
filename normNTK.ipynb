{
 "cells": [
  {
   "cell_type": "code",
   "execution_count": 217,
   "metadata": {},
   "outputs": [],
   "source": [
    "include(\"normNTK.jl\")\n",
    "using Plots\n"
   ]
  },
  {
   "cell_type": "code",
   "execution_count": 218,
   "metadata": {},
   "outputs": [
    {
     "data": {
      "text/plain": [
       "Chain(\n",
       "  Dense(1 => 10000, relu),              \u001b[90m# 20_000 parameters\u001b[39m\n",
       "  Dense(10000 => 1),                    \u001b[90m# 10_001 parameters\u001b[39m\n",
       ") \u001b[90m                  # Total: 4 arrays, \u001b[39m30_001 parameters, 234.633 KiB."
      ]
     },
     "metadata": {},
     "output_type": "display_data"
    }
   ],
   "source": [
    "N1 = 10_000\n",
    "model = Chain(Dense(1,N1,relu),Dense(N1,1))|>f64"
   ]
  },
  {
   "cell_type": "code",
   "execution_count": 212,
   "metadata": {},
   "outputs": [
    {
     "data": {
      "text/plain": [
       "1×21 Matrix{Float64}:\n",
       " 0.00873256  0.0078593  0.00698605  …  -0.0129161  -0.0145306  -0.0161451"
      ]
     },
     "metadata": {},
     "output_type": "display_data"
    }
   ],
   "source": [
    "Nx=21\n",
    "xa=-1.0\n",
    "xb=1.0\n",
    "xVec=collect(range(-1.0,stop=1.0,length=Nx));\n",
    "xVec = hcat(xVec...)\n",
    "yVec=sin.(2*pi*xVec) .+ 0.1*randn(size(xVec));\n",
    "yVec = hcat(yVec...)\n",
    "model(xVec)"
   ]
  },
  {
   "cell_type": "code",
   "execution_count": 213,
   "metadata": {},
   "outputs": [
    {
     "data": {
      "text/plain": [
       "1×21 Matrix{Float64}:\n",
       " 0.00873256  0.0078593  0.00698605  …  -0.0129161  -0.0145306  -0.0161451"
      ]
     },
     "metadata": {},
     "output_type": "display_data"
    }
   ],
   "source": [
    "yHat=model(xVec)\n",
    "# display(xVec)"
   ]
  },
  {
   "cell_type": "code",
   "execution_count": 216,
   "metadata": {},
   "outputs": [
    {
     "data": {
      "text/plain": [
       "Scatter{Tuple{Vector{Point{2, Float32}}}}"
      ]
     },
     "metadata": {},
     "output_type": "display_data"
    }
   ],
   "source": [
    "scatter(xVec[:],yVec[:])\n",
    "plot!(xVec[:],yVec[:])"
   ]
  }
 ],
 "metadata": {
  "kernelspec": {
   "display_name": "Julia 1.9.4",
   "language": "julia",
   "name": "julia-1.9"
  },
  "language_info": {
   "file_extension": ".jl",
   "mimetype": "application/julia",
   "name": "julia",
   "version": "1.9.4"
  }
 },
 "nbformat": 4,
 "nbformat_minor": 2
}
