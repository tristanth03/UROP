{
 "cells": [
  {
   "cell_type": "code",
   "execution_count": 2,
   "metadata": {},
   "outputs": [
    {
     "data": {
      "text/plain": [
       "1×100 Matrix{Float64}:\n",
       " 0.0632787  -0.0789055  -0.192898  …  -0.390548  -0.118139  0.144764"
      ]
     },
     "metadata": {},
     "output_type": "display_data"
    }
   ],
   "source": [
    "# PSUDEO data\n",
    "g = x -> cos(2x)+sin(x/2)  # λ function\n",
    "\n",
    "X = range(1, stop=12, length=100)\n",
    "X = Matrix(reshape(X, 1, :))\n",
    "\n",
    "Y = map(g,X)"
   ]
  },
  {
   "cell_type": "code",
   "execution_count": 3,
   "metadata": {},
   "outputs": [
    {
     "data": {
      "text/plain": [
       "kernel (generic function with 1 method)"
      ]
     },
     "metadata": {},
     "output_type": "display_data"
    }
   ],
   "source": [
    "include(\"NTKernel.jl\")"
   ]
  },
  {
   "cell_type": "code",
   "execution_count": 7,
   "metadata": {},
   "outputs": [
    {
     "data": {
      "text/plain": [
       "1-element Vector{Any}:\n",
       " [-1.9539925233402755e-14, -1.8651746902253153e-14, -1.7763568394002505e-14, -1.3322676295501878e-14, -1.2434497875801753e-14, -1.1546319456101628e-14, -9.026052250943193e-15, -7.993605777301127e-15, -5.3547522210055705e-15, -5.329070518200751e-15  …  2.220446049250313e-14, 3.375077994860476e-14, 8.794579905448698e-14, 3.4492882658708833e-12, 2.904978880495183e-9, 3.929013231248316e-7, 3.261445494006039e-5, 0.033584158890642174, 9.189934502022489, 515.0940183261462]"
      ]
     },
     "metadata": {},
     "output_type": "display_data"
    }
   ],
   "source": [
    "# nodes on hidden layer\n",
    "Nh_list = [300] \n",
    "models = []\n",
    "activation = sigmoid\n",
    "\n",
    "InputDim = 1\n",
    "\n",
    "for Nh in 1:length(Nh_list)\n",
    "    push!(models,Chain(Dense(InputDim=>Nh_list[Nh],activation),Dense(Nh_list[Nh]=>InputDim))|>f64)\n",
    "end\n",
    "\n",
    "Kernels = []\n",
    "for model in models\n",
    "    push!(Kernels, kernel(model, X))\n",
    "end\n",
    "\n",
    "Kernels_Norms = []\n",
    "for (i, K) in enumerate(Kernels)\n",
    "    Nh = Nh_list[i] # Get the corresponding Nh for this kernel\n",
    "    normalized_K = K / sqrt(Nh) # Normalize the kernel matrix\n",
    "    push!(Kernels_Norms, normalized_K) # Store the normalized kernel\n",
    "end\n",
    "\n",
    "loss(a, b) = Flux.Losses.mse(models[1](a), b)\n",
    "epoch = 1\n",
    "for i = 1:epoch\n",
    "    Flux.train!(loss, Flux.params(models[1]), [(X,Y)], Descent(0.01))\n",
    "end\n",
    "\n",
    "λ_values = []\n",
    "for K in Kernels_Norms\n",
    "    push!(λ_values, eigen(K).values) # Compute eigenvalues for each kernel and store\n",
    "end\n",
    "\n",
    "λ_values"
   ]
  },
  {
   "cell_type": "code",
   "execution_count": 41,
   "metadata": {},
   "outputs": [
    {
     "data": {
      "text/plain": [
       "true"
      ]
     },
     "metadata": {},
     "output_type": "display_data"
    }
   ],
   "source": [
    "using Plots\n",
    "\n",
    "B = map_model(models[1],X)\n",
    "\n",
    "Ŷ = []\n",
    "for i in 1:length(X)\n",
    "    push!(Ŷ, models[1](X[:, i])[1])  # Assuming models[1] outputs a 1-element array\n",
    "end\n",
    "\n",
    "scatter(X[:], Y[:], label=\"Real Data\", xlabel=\"x\", ylabel=\"cos(2x)+sin(x/2)\")\n",
    "scatter!(X[:], Ŷ[:], label=\"Predicted Data\")\n",
    "\n",
    "B==Ŷ"
   ]
  },
  {
   "cell_type": "code",
   "execution_count": 18,
   "metadata": {},
   "outputs": [
    {
     "data": {
      "text/plain": [
       "Chain(\n",
       "  Dense(1 => 300, σ),                   \u001b[90m# 600 parameters\u001b[39m\n",
       "  Dense(300 => 1),                      \u001b[90m# 301 parameters\u001b[39m\n",
       ") \u001b[90m                  # Total: 4 arrays, \u001b[39m901 parameters, 7.289 KiB."
      ]
     },
     "metadata": {},
     "output_type": "display_data"
    }
   ],
   "source": [
    "display(models[1])"
   ]
  }
 ],
 "metadata": {
  "kernelspec": {
   "display_name": "Julia 1.9.4",
   "language": "julia",
   "name": "julia-1.9"
  },
  "language_info": {
   "file_extension": ".jl",
   "mimetype": "application/julia",
   "name": "julia",
   "version": "1.9.4"
  }
 },
 "nbformat": 4,
 "nbformat_minor": 2
}
