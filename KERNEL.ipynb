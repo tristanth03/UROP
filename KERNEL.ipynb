{
 "cells": [
  {
   "cell_type": "code",
   "execution_count": 1,
   "metadata": {},
   "outputs": [
    {
     "data": {
      "text/plain": [
       "kernel (generic function with 1 method)"
      ]
     },
     "metadata": {},
     "output_type": "display_data"
    }
   ],
   "source": [
    "include(\"NTKernel.jl\")"
   ]
  },
  {
   "cell_type": "code",
   "execution_count": 1,
   "metadata": {},
   "outputs": [
    {
     "data": {
      "text/plain": [
       "1×100 Matrix{Float64}:\n",
       " 0.0632787  -0.0789055  -0.192898  …  -0.390548  -0.118139  0.144764"
      ]
     },
     "metadata": {},
     "output_type": "display_data"
    }
   ],
   "source": [
    "# PSUDEO data\n",
    "g = x -> cos(2x)+sin(x/2)  # λ function\n",
    "\n",
    "X = range(1, stop=12, length=100)\n",
    "X = Matrix(reshape(X, 1, :))\n",
    "\n",
    "Y = map(g,X)"
   ]
  },
  {
   "cell_type": "code",
   "execution_count": 30,
   "metadata": {},
   "outputs": [
    {
     "data": {
      "text/plain": [
       "1-element Vector{Any}:\n",
       " [-7.175648685628797e-14, -2.5757174171303632e-14, -2.353672812205332e-14, -1.5987211554602254e-14, -1.4210854715202004e-14, -7.993605777301127e-15, -3.946591350488445e-15, -3.898185820173079e-15, -3.552713678800501e-15, -3.552713678800501e-15  …  1.3322676295501878e-14, 4.3520742565306136e-14, 5.293081658439716e-14, 3.2179953460635924e-12, 2.5678080395837354e-9, 4.3056373272110614e-7, 3.341073164880052e-5, 0.036786492125568164, 9.952570791136427, 478.5798694070651]"
      ]
     },
     "metadata": {},
     "output_type": "display_data"
    }
   ],
   "source": [
    "# nodes on hidden layer\n",
    "Nh_list = [300] \n",
    "models = []\n",
    "activation = sigmoid\n",
    "\n",
    "InputDim = 1\n",
    "\n",
    "for Nh in 1:length(Nh_list)\n",
    "    push!(models,Chain(Dense(InputDim=>Nh_list[Nh],activation),Dense(Nh_list[Nh]=>InputDim))|>f64)\n",
    "end\n",
    "\n",
    "Kernels = []\n",
    "for model in models\n",
    "    push!(Kernels, kernel(model, X))\n",
    "end\n",
    "\n",
    "Kernels_Norms = []\n",
    "\n",
    "loss(a, b) = Flux.Losses.mse(models[1](a), b)\n",
    "epoch = 1\n",
    "\n",
    "for i = 1:epoch\n",
    "    Flux.train!(loss, Flux.params(models[1]), [(X,Y)], Descent(0.01))\n",
    "end\n",
    "\n",
    "for (i, K) in enumerate(Kernels)\n",
    "    Nh = Nh_list[i] # Get the corresponding Nh for this kernel\n",
    "    normalized_K = K / sqrt(Nh) # Normalize the kernel matrix\n",
    "    push!(Kernels_Norms, normalized_K) # Store the normalized kernel\n",
    "end\n",
    "\n",
    "λ_values = []\n",
    "for K in Kernels_Norms\n",
    "    push!(λ_values, eigen(K).values) # Compute eigenvalues for each kernel and store\n",
    "end\n",
    "\n",
    "\n",
    "λ_values"
   ]
  },
  {
   "cell_type": "code",
   "execution_count": 2,
   "metadata": {},
   "outputs": [
    {
     "ename": "UndefVarError",
     "evalue": "UndefVarError: `models` not defined",
     "output_type": "error",
     "traceback": [
      "UndefVarError: `models` not defined\n",
      "\n",
      "Stacktrace:\n",
      " [1] top-level scope\n",
      "   @ c:\\Github\\UROP\\KERNEL.ipynb:5"
     ]
    }
   ],
   "source": [
    "using Plots\n",
    "\n",
    "Ŷ = []\n",
    "for i in 1:length(X)\n",
    "    push!(Ŷ, models[1](X[:, i])[1])  # Assuming models[1] outputs a 1-element array\n",
    "end\n",
    "\n",
    "scatter(X[:], Y[:], label=\"Real Data\")\n",
    "scatter!(X[:], Ŷ[:], label=\"Predicted Data\")\n"
   ]
  }
 ],
 "metadata": {
  "kernelspec": {
   "display_name": "Julia 1.9.4",
   "language": "julia",
   "name": "julia-1.9"
  },
  "language_info": {
   "file_extension": ".jl",
   "mimetype": "application/julia",
   "name": "julia",
   "version": "1.9.4"
  }
 },
 "nbformat": 4,
 "nbformat_minor": 2
}
