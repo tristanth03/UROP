{
 "cells": [
  {
   "cell_type": "markdown",
   "metadata": {},
   "source": [
    "Hér notum við bara tvo gagnapunkta x1 og x2.\n",
    "\n",
    "Erum að vinna í að yfirfæra í n datapunkta, þurfum að lagfæra hvernig á að fletja fyrir það."
   ]
  },
  {
   "cell_type": "code",
   "execution_count": 1,
   "metadata": {},
   "outputs": [
    {
     "data": {
      "text/plain": [
       "1-element Vector{Float64}:\n",
       " 2.0"
      ]
     },
     "metadata": {},
     "output_type": "display_data"
    }
   ],
   "source": [
    "# Þetta forrit er til að staðfesta K sem var reiknað á blaði\n",
    "using Flux\n",
    "using Zygote\n",
    "using MLDatasets\n",
    "using LinearAlgebra\n",
    "\n",
    "model = Chain(  Dense(1 => 2), Dense(2 => 1)) # W_2[1x2](W_1[2x1]x[1]+b_1[2x1])+b_2[1]\n",
    "\n",
    "x1 = [1.0]\n",
    "x2 = [2.0]"
   ]
  },
  {
   "cell_type": "code",
   "execution_count": 2,
   "metadata": {},
   "outputs": [
    {
     "data": {
      "text/plain": [
       "1-element Vector{Float32}:\n",
       " 0.0"
      ]
     },
     "metadata": {},
     "output_type": "display_data"
    }
   ],
   "source": [
    "# Skilgreini parametra\n",
    "W1 = Flux.params(model)[1]  # W_1\n",
    "b1 = Flux.params(model)[2]  # b_1\n",
    "W2 = Flux.params(model)[3]  # W_1\n",
    "b2 = Flux.params(model)[4]  # b_1\n",
    "\n",
    "# Breyti gildum í parametrum\n",
    "W1 .= ones(2,1)  #  Hér má setja eitthvað \"fixed\" fylki, breyti gildum í W1\n",
    "b1 .= [0;1]\n",
    "\n",
    "W2 .= [1 0]\n",
    "b2 .= 0"
   ]
  },
  {
   "cell_type": "code",
   "execution_count": 3,
   "metadata": {},
   "outputs": [
    {
     "data": {
      "text/plain": [
       "#11 (generic function with 1 method)"
      ]
     },
     "metadata": {},
     "output_type": "display_data"
    }
   ],
   "source": [
    "# reikna gradient fyrir gefin datapunkt x\n",
    "gs = x -> Flux.gradient(() -> model(x)[1],Flux.params(model)) # anonymous function"
   ]
  },
  {
   "cell_type": "code",
   "execution_count": 4,
   "metadata": {},
   "outputs": [
    {
     "name": "stderr",
     "output_type": "stream",
     "text": [
      "┌ Warning: Layer with Float32 parameters got Float64 input.\n",
      "│   The input will be converted, but any earlier layers may be very slow.\n",
      "│   layer = Dense(1 => 2)\n",
      "│   summary(x) = 1-element Vector{Float64}\n",
      "└ @ Flux C:\\Users\\Axel Bjarkar\\.julia\\packages\\Flux\\UsEXa\\src\\layers\\stateless.jl:60\n"
     ]
    }
   ],
   "source": [
    "grads_x1 = []\n",
    "grads_x2 = []\n",
    "\n",
    "# Ná í grads gildi\n",
    "for i = 1:length(Flux.params(model))\n",
    "    push!(grads_x1, gs(x1)[Flux.params(model)[i]][:])\n",
    "    push!(grads_x2, gs(x2)[Flux.params(model)[i]][:])\n",
    "end"
   ]
  },
  {
   "cell_type": "code",
   "execution_count": 11,
   "metadata": {},
   "outputs": [
    {
     "name": "stdout",
     "output_type": "stream",
     "text": [
      "K = Float32[8.0 12.0; 12.0 19.0]\n"
     ]
    },
    {
     "data": {
      "text/plain": [
       "2×2 Matrix{Float32}:\n",
       "  8.0  12.0\n",
       " 12.0  19.0"
      ]
     },
     "metadata": {},
     "output_type": "display_data"
    }
   ],
   "source": [
    "# fletja\n",
    "grads_x1 = reduce(vcat, grads_x1)\n",
    "grads_x2 = reduce(vcat, grads_x2)\n",
    "\n",
    "K1_1 = dot(grads_x1, grads_x1)\n",
    "K1_2 = dot(grads_x1, grads_x2)\n",
    "\n",
    "K2_1 = dot(grads_x2, grads_x1)\n",
    "K2_2 = dot(grads_x2, grads_x2)\n",
    "\n",
    "K = [K1_1 K1_2 ; K2_1 K2_2];\n",
    "@show K"
   ]
  },
  {
   "cell_type": "code",
   "execution_count": null,
   "metadata": {},
   "outputs": [],
   "source": [
    "if Symmetric(K) == K\n",
    "    println(\"K is symmetric\")\n",
    "end\n",
    "if length(findall(a -> a<0, eigen(K).values)) == 0\n",
    "    println(\"K has no negative eigenvalues\")\n",
    "end"
   ]
  }
 ],
 "metadata": {
  "kernelspec": {
   "display_name": "Julia 1.9.4",
   "language": "julia",
   "name": "julia-1.9"
  },
  "language_info": {
   "file_extension": ".jl",
   "mimetype": "application/julia",
   "name": "julia",
   "version": "1.9.4"
  }
 },
 "nbformat": 4,
 "nbformat_minor": 2
}
