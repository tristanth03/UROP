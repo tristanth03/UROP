{
 "cells": [
  {
   "cell_type": "markdown",
   "metadata": {},
   "source": [
    "Útskýringar eru í Kernel bible 2 ef þig þyrstir í aukaefni\n",
    "\n",
    "<br>\n",
    "Hér kemur bara eitthvað random dæmi, en á að virkar fyrir\n",
    "\n",
    "$$f_{\\theta}: \\mathbb{R}^{n} \\rightarrow \\mathbb{R}^{m}$$"
   ]
  },
  {
   "cell_type": "code",
   "execution_count": 5,
   "metadata": {},
   "outputs": [],
   "source": [
    "include(\"NN.jl\")\n",
    "\n",
    "model = Chain(Dense(784 => 2, sigmoid), Dense(2 => 10)) # W_2[1x2](W_1[2x1]x[1]+b_1[2x1])+b_2[1]\n",
    "\n",
    "x1 = load_MNIST()[1][:,1];\n",
    "x2 = load_MNIST()[1][:,2];"
   ]
  },
  {
   "cell_type": "code",
   "execution_count": 6,
   "metadata": {},
   "outputs": [
    {
     "data": {
      "text/plain": [
       "kernel (generic function with 2 methods)"
      ]
     },
     "metadata": {},
     "output_type": "display_data"
    }
   ],
   "source": [
    "function Df(model, x)\n",
    "    # x: single datapoint\n",
    "    m = length(model(x))\n",
    "    k = sum(length, Flux.params(model)) # Total amount of params\n",
    "\n",
    "    # Þetta anonymous function reiknar gradient fyrir hvert function í outputinu frá 1:m\n",
    "    jac = (fi) -> Flux.jacobian(() -> model(x)[fi],Flux.params(model)) # anonymous function\n",
    "\n",
    "    # Skilgreini tómt Jacobian fylki\n",
    "    Jacob = zeros(k,m)\n",
    "\n",
    "    for func_i = 1:m\n",
    "        current_col = []\n",
    "        for param_i = 1:length(Flux.params(model))\n",
    "            push!(current_col, jac(func_i)[Flux.params(model)[param_i]]) # Fyrir hvern parametra W1, B1, W2...\n",
    "        end\n",
    "        current_col = collect(Iterators.flatten(current_col)) # Flatten, flet allt\n",
    "        # --- Spurning hvort hægt sé að gera þetta skilvirkara?\n",
    "        # --- Held samt að Iterators pakkinn eigi að vera nokkuð skilvirkur\n",
    "\n",
    "        Jacob[:, func_i] .= current_col # geri current_col að næsta dálka vigri jacobian\n",
    "    end\n",
    "\n",
    "    return Jacob # Þetta er Df fylkið í bilblíunni\n",
    "end\n",
    "\n",
    "function kernel(model, x)\n",
    "    # x: dataset\n",
    "    N = length(x)\n",
    "    m = length(model(x[1]))  # Number of functions in the model output\n",
    "    K = zeros(N*m, N*m)\n",
    "\n",
    "    for i = 1:N\n",
    "        for j = 1:N\n",
    "            block = Df(model, x[i])' * Df(model, x[j])\n",
    "            K[(i-1)*m+1:i*m, (j-1)*m+1:j*m] .= block\n",
    "        end\n",
    "    end\n",
    "\n",
    "    return K\n",
    "end"
   ]
  },
  {
   "cell_type": "code",
   "execution_count": 8,
   "metadata": {},
   "outputs": [
    {
     "name": "stdout",
     "output_type": "stream",
     "text": [
      "Kernel completed\n"
     ]
    }
   ],
   "source": [
    "x = [x1,x2]\n",
    "\n",
    "K = kernel(model,x);\n",
    "println(\"Kernel completed\")"
   ]
  },
  {
   "cell_type": "code",
   "execution_count": 9,
   "metadata": {},
   "outputs": [
    {
     "name": "stdout",
     "output_type": "stream",
     "text": [
      "K is symmetric\n"
     ]
    },
    {
     "data": {
      "text/plain": [
       "Int64[]"
      ]
     },
     "metadata": {},
     "output_type": "display_data"
    }
   ],
   "source": [
    "using LinearAlgebra\n",
    "\n",
    "# Check if K is ok\n",
    "if K == K'\n",
    "    println( \"K is symmetric\")\n",
    "end\n",
    "\n",
    "val = eigen(K).values\n",
    "negVal = findall(x-> x < 0, val)"
   ]
  },
  {
   "cell_type": "markdown",
   "metadata": {},
   "source": [
    "Hér fyrir neðan er test, þar sem K er þekkt og var reiknað í Kernel bible 1\n",
    "\n",
    "$$K = \\begin{bmatrix}\n",
    "    8 & 12 \\\\ 12 & 19\n",
    "\\end{bmatrix}$$"
   ]
  },
  {
   "cell_type": "code",
   "execution_count": 10,
   "metadata": {},
   "outputs": [
    {
     "name": "stderr",
     "output_type": "stream",
     "text": [
      "┌ Warning: Layer with Float32 parameters got Float64 input.\n",
      "│   The input will be converted, but any earlier layers may be very slow.\n",
      "│   layer = Dense(1 => 2)\n",
      "│   summary(x) = 1-element Vector{Float64}\n",
      "└ @ Flux C:\\Users\\axelb\\.julia\\packages\\Flux\\UsEXa\\src\\layers\\stateless.jl:60\n"
     ]
    },
    {
     "data": {
      "text/plain": [
       "2×2 Matrix{Float64}:\n",
       "  8.0  12.0\n",
       " 12.0  19.0"
      ]
     },
     "metadata": {},
     "output_type": "display_data"
    }
   ],
   "source": [
    "# TESTING\n",
    "\n",
    "using Flux\n",
    "\n",
    "model = Chain(Dense(1 => 2), Dense(2 => 1)) # W_2[1x2](W_1[2x1]x[1]+b_1[2x1])+b_2[1]\n",
    "\n",
    "x1 = [1.0]\n",
    "x2 = [2.0]\n",
    "\n",
    "# Skilgreini parametra\n",
    "W1 = Flux.params(model)[1]  # W_1\n",
    "b1 = Flux.params(model)[2]  # b_1\n",
    "W2 = Flux.params(model)[3]  # W_1\n",
    "b2 = Flux.params(model)[4]  # b_1\n",
    "\n",
    "# Breyti gildum í parametrum\n",
    "W1 .= ones(2,1)  #  Hér má setja eitthvað \"fixed\" fylki, breyti gildum í W1\n",
    "b1 .= [0;1]\n",
    "\n",
    "W2 .= [1 0]\n",
    "b2 .= 0\n",
    "\n",
    "K = kernel(model, [x1,x2])\n"
   ]
  }
 ],
 "metadata": {
  "kernelspec": {
   "display_name": "Julia 1.9.4",
   "language": "julia",
   "name": "julia-1.9"
  },
  "language_info": {
   "file_extension": ".jl",
   "mimetype": "application/julia",
   "name": "julia",
   "version": "1.9.4"
  }
 },
 "nbformat": 4,
 "nbformat_minor": 2
}
