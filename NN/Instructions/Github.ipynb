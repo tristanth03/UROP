{
 "cells": [
  {
   "cell_type": "markdown",
   "metadata": {},
   "source": [
    "$\\Huge{\\text{This Notebook covers the following}}$\n",
    "\n",
    "All commands should be written in the command prompt\n",
    "\n",
    "$\\Large{\\text{How to setup github}}$\n",
    "\n",
    "git config --global user.name \"Your Name\"\n",
    "\n",
    "git config --global user.email \"your.email@example.com\"\n",
    "\n",
    "git clone https://github.com/tristanth03/UROP\n",
    "\n",
    "cd your-repository \n",
    "(if needed)\n",
    "\n",
    "\n",
    "$\\Large{\\text{How to upload changes}}$\n",
    "\n",
    "git add .\n",
    "\n",
    "git commit -m \"Your message\" \n",
    "\n",
    "git push origin main\n",
    "\n",
    "$\\Large{\\text{How to retrieve changes}}$\n",
    "\n",
    "git pull origin main\n",
    "\n",
    "$\\Large{\\text{How to delete git connection}}$\n",
    "\n",
    "\n",
    "\n"
   ]
  }
 ],
 "metadata": {
  "language_info": {
   "name": "python"
  }
 },
 "nbformat": 4,
 "nbformat_minor": 2
}
