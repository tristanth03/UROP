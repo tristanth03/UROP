{
 "cells": [
  {
   "cell_type": "code",
   "execution_count": 211,
   "metadata": {},
   "outputs": [
    {
     "data": {
      "text/plain": [
       "2-element Vector{Float32}:\n",
       "  0.37950087\n",
       " 31.620499"
      ]
     },
     "metadata": {},
     "output_type": "display_data"
    }
   ],
   "source": [
    "using Flux, LinearAlgebra\n",
    "\n",
    "x1 = [1; 2]\n",
    "x2 = [3; 4]\n",
    "\n",
    "X = hcat(x1,x2)\n",
    "\n",
    "model = Chain(\n",
    "    Dense(2 => 1)\n",
    ")\n",
    "\n",
    "gs_x1 = Flux.gradient(() -> model(x1)[1],Flux.params(model))\n",
    "\n",
    "g_1 = gs_x1[Flux.params(model)[1]] # W1 x1\n",
    "g_2 = gs_x1[Flux.params(model)[2]] # B1 x1\n",
    "\n",
    "gs_x2 = Flux.gradient(() -> model(x2)[1],Flux.params(model))\n",
    "\n",
    "g_3 = gs_x2[Flux.params(model)[1]] # W1 x2\n",
    "g_4 = gs_x2[Flux.params(model)[2]] # B1 x2\n",
    "\n",
    "K_11 = dot(g_1,g_1)+dot(g_2,g_2) # This is the whole some over the dot-product\n",
    "K_12 = dot(g_1,g_3)+dot(g_2,g_4)\n",
    "K_21 = dot(g_3,g_1)+dot(g_2,g_2)\n",
    "K_22 = dot(g_3,g_3)+dot(g_4,g_4)\n",
    "\n",
    "K_1 = hcat(K_11,K_12)\n",
    "K_2 = hcat(K_21,K_22)\n",
    "\n",
    "K = vcat(K_1,K_2)\n",
    "\n",
    "eig_info = eigen(K)\n",
    "eig_vals = eig_info.values\n"
   ]
  }
 ],
 "metadata": {
  "kernelspec": {
   "display_name": "Julia 1.9.4",
   "language": "julia",
   "name": "julia-1.9"
  },
  "language_info": {
   "file_extension": ".jl",
   "mimetype": "application/julia",
   "name": "julia",
   "version": "1.9.4"
  }
 },
 "nbformat": 4,
 "nbformat_minor": 2
}
