{
 "cells": [
  {
   "cell_type": "markdown",
   "metadata": {},
   "source": [
    "Here we will take a look how to eigenvalues of the Kernel change with different architectures of the NN, while keeping the same amount of total amount of parameters roughly the same"
   ]
  },
  {
   "cell_type": "code",
   "execution_count": 11,
   "metadata": {},
   "outputs": [
    {
     "data": {
      "text/plain": [
       "Nθ (generic function with 1 method)"
      ]
     },
     "metadata": {},
     "output_type": "display_data"
    }
   ],
   "source": [
    "# Files and setup\n",
    "using Flux, LinearAlgebra, Random, CairoMakie\n",
    "include(\"DenseNTK.jl\")\n",
    "include(\"normNTK.jl\")\n",
    "\n",
    "Nθ(model) = sum(length, Flux.params(model)) # Calculate notal amount of params"
   ]
  },
  {
   "cell_type": "code",
   "execution_count": 26,
   "metadata": {},
   "outputs": [],
   "source": [
    "# Fake data\n",
    "Nx=21\n",
    "a=-1.0; b=1.0\n",
    "\n",
    "xVec=collect(range(a,stop=b,length=Nx));\n",
    "yVec=sin.(2*pi*xVec) .+ 0.1*randn(size(xVec)); "
   ]
  },
  {
   "cell_type": "code",
   "execution_count": 41,
   "metadata": {},
   "outputs": [
    {
     "data": {
      "text/plain": [
       "1-element Vector{Chain{Tuple{DenseNTK, DenseNTK}}}:\n",
       " Chain(DenseNTK(Float32[-0.4463974; 1.0069398; … ; -0.3751948; -0.59459734;;], Float32[-0.9650849, 0.51399904, -0.8138028, 0.5785401, 1.3175188, -0.78728575, 0.4276076, -1.0197312, 0.9096987, -0.49509415  …  -0.2547193, 1.5786246, -0.1896773, 0.775407, -1.3803774, -0.4391651, 0.42568558, 0.79081917, 1.245255, -0.08581785], identity), DenseNTK(Float32[-0.9393096 0.35742658 … -0.61033285 1.7735206], Float32[-1.1807678], identity))  \u001b[90m# 30_001 parameters\u001b[39m"
      ]
     },
     "metadata": {},
     "output_type": "display_data"
    }
   ],
   "source": [
    "Nh = 10000\n",
    "\n",
    "m_Lh_1 = Chain(DenseNTK(1,Nh), DenseNTK(Nh,1))\n",
    "\n",
    "models = [m_Lh_1]"
   ]
  },
  {
   "cell_type": "markdown",
   "metadata": {},
   "source": [
    "<h1>Eigenvalue review</h1>"
   ]
  },
  {
   "cell_type": "code",
   "execution_count": 44,
   "metadata": {},
   "outputs": [],
   "source": [
    "using ProgressMeter\n",
    "\n",
    "all_kernels = []\n",
    "\n",
    "\n",
    "eig1 = kernel(m_Lh_1, hcat(xVec...),true)"
   ]
  }
 ],
 "metadata": {
  "kernelspec": {
   "display_name": "Julia 1.9.4",
   "language": "julia",
   "name": "julia-1.9"
  },
  "language_info": {
   "file_extension": ".jl",
   "mimetype": "application/julia",
   "name": "julia",
   "version": "1.9.4"
  }
 },
 "nbformat": 4,
 "nbformat_minor": 2
}
