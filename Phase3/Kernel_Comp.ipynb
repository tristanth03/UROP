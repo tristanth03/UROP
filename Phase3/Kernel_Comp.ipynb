{
 "cells": [
  {
   "cell_type": "markdown",
   "metadata": {},
   "source": [
    "### Comparing kernel matrices with different approaches"
   ]
  },
  {
   "cell_type": "code",
   "execution_count": 8,
   "metadata": {},
   "outputs": [],
   "source": [
    "using Flux,LinearAlgebra,CairoMakie"
   ]
  },
  {
   "cell_type": "code",
   "execution_count": 9,
   "metadata": {},
   "outputs": [
    {
     "data": {
      "text/plain": [
       "kernel (generic function with 1 method)"
      ]
     },
     "metadata": {},
     "output_type": "display_data"
    }
   ],
   "source": [
    "include(\"DenseNTK.jl\")\n",
    "include(\"normNTK.jl\")"
   ]
  },
  {
   "cell_type": "markdown",
   "metadata": {},
   "source": [
    "We start by making a model using DenseNTK that works like Dense in Flux but is more general in a sense of calculating the kernel\n"
   ]
  },
  {
   "cell_type": "code",
   "execution_count": 10,
   "metadata": {},
   "outputs": [
    {
     "data": {
      "text/plain": [
       "1×40 Matrix{Float64}:\n",
       " -1.0  -0.948718  -0.897436  -0.846154  …  0.846154  0.897436  0.948718  1.0"
      ]
     },
     "metadata": {},
     "output_type": "display_data"
    }
   ],
   "source": [
    "Nh = 100\n",
    "model = Chain(DenseNTK(1=>Nh,relu),DenseNTK(Nh=>1))|>f64\n",
    "θ = Flux.params(model)\n",
    "Nx = 40\n",
    "xa = -1.0\n",
    "xb = 1.0\n",
    "xR = range(xa,stop=xb,length=Nx) \n",
    "x = hcat(xR...)\n"
   ]
  },
  {
   "cell_type": "code",
   "execution_count": 11,
   "metadata": {},
   "outputs": [
    {
     "data": {
      "text/plain": [
       "40×40 Matrix{Float64}:\n",
       " 2.40503   2.34524   2.28544   2.2138    …  0.385253  0.358553  0.331853\n",
       " 2.34524   2.28853   2.23183   2.16349      0.407202  0.381817  0.356431\n",
       " 2.28544   2.23183   2.17822   2.11318      0.429151  0.40508   0.38101\n",
       " 2.2138    2.16349   2.11318   2.06286      0.451099  0.428344  0.405588\n",
       " 2.01178   1.96758   1.92338   1.87917      0.475249  0.45361   0.431972\n",
       " 1.95308   1.9116    1.87012   1.82864   …  0.498845  0.478578  0.45831\n",
       " 1.89848   1.85962   1.82077   1.78191      0.522442  0.503546  0.484649\n",
       " 1.83715   1.80104   1.76493   1.72882      0.555047  0.536866  0.518685\n",
       " 1.78286   1.74934   1.71583   1.68232      0.579969  0.563225  0.54648\n",
       " 1.72856   1.69765   1.66673   1.63581      0.604892  0.589584  0.574276\n",
       " ⋮                                       ⋱                      \n",
       " 0.569124  0.582636  0.596147  0.609659     1.51936   1.54625   1.57314\n",
       " 0.538102  0.55305   0.567998  0.582946     1.5602    1.58942   1.61864\n",
       " 0.507079  0.523464  0.539849  0.556234     1.68198   1.7154    1.74881\n",
       " 0.476057  0.493878  0.5117    0.529521     1.72617   1.76227   1.79838\n",
       " 0.445661  0.464882  0.484104  0.503326  …  1.77035   1.80915   1.84795\n",
       " 0.415367  0.436004  0.45664   0.477277     1.83786   1.87993   1.92201\n",
       " 0.385253  0.407202  0.429151  0.451099     1.88267   1.92748   1.97229\n",
       " 0.358553  0.381817  0.40508   0.428344     1.92748   1.97502   2.02257\n",
       " 0.331853  0.356431  0.38101   0.405588     1.97229   2.02257   2.07285"
      ]
     },
     "metadata": {},
     "output_type": "display_data"
    }
   ],
   "source": [
    "\n",
    "K_i = zeros(Float64,3*Nh+1,Nx)\n",
    "for i = 1:Nx\n",
    "    ∇_SIE = Flux.gradient(()-> model([x[i]])[1],θ)\n",
    "    K_i[1:Nh,i] = ∇_SIE[θ[1]][:]\n",
    "    K_i[Nh+1:2*Nh,i] = ∇_SIE[θ[2]][:]\n",
    "    K_i[2*Nh+1:3*Nh,i] = ∇_SIE[θ[3]][:]\n",
    "    K_i[3*Nh+1:3*Nh+1,i] = ∇_SIE[θ[4]][:] \n",
    "end\n",
    "\n",
    "Kernel_SIE = K_i[1:3*Nh,:]'*K_i[1:3*Nh,:]\n",
    "# eigen(Kernel_SIE).values"
   ]
  },
  {
   "cell_type": "code",
   "execution_count": 12,
   "metadata": {},
   "outputs": [
    {
     "data": {
      "text/plain": [
       "40×40 Matrix{Float64}:\n",
       " 2.40503   2.34524   2.28544   2.2138    …  0.385253  0.358553  0.331853\n",
       " 2.34524   2.28853   2.23183   2.16349      0.407202  0.381817  0.356431\n",
       " 2.28544   2.23183   2.17822   2.11318      0.429151  0.40508   0.38101\n",
       " 2.2138    2.16349   2.11318   2.06286      0.451099  0.428344  0.405588\n",
       " 2.01178   1.96758   1.92338   1.87917      0.475249  0.45361   0.431972\n",
       " 1.95308   1.9116    1.87012   1.82864   …  0.498845  0.478578  0.45831\n",
       " 1.89848   1.85962   1.82077   1.78191      0.522442  0.503546  0.484649\n",
       " 1.83715   1.80104   1.76493   1.72882      0.555047  0.536866  0.518685\n",
       " 1.78286   1.74934   1.71583   1.68232      0.579969  0.563225  0.54648\n",
       " 1.72856   1.69765   1.66673   1.63581      0.604892  0.589584  0.574276\n",
       " ⋮                                       ⋱                      \n",
       " 0.569124  0.582636  0.596147  0.609659     1.51936   1.54625   1.57314\n",
       " 0.538102  0.55305   0.567998  0.582946     1.5602    1.58942   1.61864\n",
       " 0.507079  0.523464  0.539849  0.556234     1.68198   1.7154    1.74881\n",
       " 0.476057  0.493878  0.5117    0.529521     1.72617   1.76227   1.79838\n",
       " 0.445661  0.464882  0.484104  0.503326  …  1.77035   1.80915   1.84795\n",
       " 0.415367  0.436004  0.45664   0.477277     1.83786   1.87993   1.92201\n",
       " 0.385253  0.407202  0.429151  0.451099     1.88267   1.92748   1.97229\n",
       " 0.358553  0.381817  0.40508   0.428344     1.92748   1.97502   2.02257\n",
       " 0.331853  0.356431  0.38101   0.405588     1.97229   2.02257   2.07285"
      ]
     },
     "metadata": {},
     "output_type": "display_data"
    }
   ],
   "source": [
    "K = kernel(model,x)\n",
    "\n",
    "\n"
   ]
  },
  {
   "cell_type": "code",
   "execution_count": null,
   "metadata": {},
   "outputs": [],
   "source": [
    "round.(K[:,:],digits=13)==round.(Kernel_SIE[:,:],digits=13)"
   ]
  },
  {
   "cell_type": "code",
   "execution_count": null,
   "metadata": {},
   "outputs": [],
   "source": [
    "eigen(Kernel_SIE).values\n",
    "λ = eigen(K).values\n",
    "λ = abs.(λ)\n",
    "λ = sort!(λ)\n",
    "\n",
    "\n",
    "\n",
    "for i = 1:Nx\n",
    "    if λ[i] == 0\n",
    "        λ[i] = 10^(-19)\n",
    "    end\n",
    "end\n",
    "\n",
    "λ"
   ]
  },
  {
   "cell_type": "code",
   "execution_count": null,
   "metadata": {},
   "outputs": [],
   "source": [
    "fig = Figure()\n",
    "ax1 = Axis(fig[1,1],yscale=log10)\n",
    "s1 = CairoMakie.scatter!(ax1,λ[:],color=:red)\n",
    "fig\n"
   ]
  },
  {
   "cell_type": "code",
   "execution_count": 6,
   "metadata": {},
   "outputs": [
    {
     "data": {
      "image/png": "[encoded data removed]"
     },
     "metadata": {},
     "output_type": "display_data"
    }
   ],
   "source": [
    "t = [0]\n",
    "fig = Figure()\n",
    "ax1 = Axis(fig[1,1])\n",
    "CairoMakie.scatter!(ax1,t,θ[1][1:4])\n",
    "fig\n",
    "\n"
   ]
  },
  {
   "cell_type": "code",
   "execution_count": null,
   "metadata": {},
   "outputs": [],
   "source": [
    "x_train = x\n",
    "f = x->sin(5*x)+cos(5*x)\n",
    "y_train = map(f,x_train)\n",
    "\n",
    "\n",
    "fig = Figure()\n",
    "ax1 = Axis(fig[1,1])\n",
    "CairoMakie.scatter!(ax1,x_train[:],y_train[:])\n",
    "fig\n"
   ]
  },
  {
   "cell_type": "code",
   "execution_count": 7,
   "metadata": {},
   "outputs": [],
   "source": []
  }
 ],
 "metadata": {
  "kernelspec": {
   "display_name": "Julia 1.9.4",
   "language": "julia",
   "name": "julia-1.9"
  },
  "language_info": {
   "file_extension": ".jl",
   "mimetype": "application/julia",
   "name": "julia",
   "version": "1.9.4"
  }
 },
 "nbformat": 4,
 "nbformat_minor": 2
}
