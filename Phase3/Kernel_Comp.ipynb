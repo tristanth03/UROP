{
 "cells": [
  {
   "cell_type": "markdown",
   "metadata": {},
   "source": [
    "### Comparing kernel matrices with different approaches"
   ]
  },
  {
   "cell_type": "code",
   "execution_count": 1,
   "metadata": {},
   "outputs": [],
   "source": [
    "using Flux,LinearAlgebra,CairoMakie"
   ]
  },
  {
   "cell_type": "code",
   "execution_count": 16,
   "metadata": {},
   "outputs": [
    {
     "data": {
      "text/plain": [
       "kernel (generic function with 1 method)"
      ]
     },
     "metadata": {},
     "output_type": "display_data"
    }
   ],
   "source": [
    "include(\"DenseNTK.jl\")\n",
    "include(\"normNTK.jl\")"
   ]
  },
  {
   "cell_type": "markdown",
   "metadata": {},
   "source": [
    "We start by making a model using DenseNTK that works like Dense in Flux but is more general in a sense of calculating the kernel\n"
   ]
  },
  {
   "cell_type": "code",
   "execution_count": 17,
   "metadata": {},
   "outputs": [
    {
     "data": {
      "text/plain": [
       "1×21 Matrix{Float64}:\n",
       " -1.0  -0.9  -0.8  -0.7  -0.6  -0.5  …  0.4  0.5  0.6  0.7  0.8  0.9  1.0"
      ]
     },
     "metadata": {},
     "output_type": "display_data"
    }
   ],
   "source": [
    "Nh = 100_000\n",
    "model = Chain(DenseNTK(1=>Nh,tanh),DenseNTK(Nh=>1))|>f64\n",
    "θ = Flux.params(model)\n",
    "Nx = 21\n",
    "xa = -1.0\n",
    "xb = 1.0\n",
    "xR = range(xa,stop=xb,length=Nx) \n",
    "x = hcat(xR...)\n"
   ]
  },
  {
   "cell_type": "code",
   "execution_count": 18,
   "metadata": {},
   "outputs": [
    {
     "data": {
      "text/plain": [
       "21×21 Matrix{Float64}:\n",
       "  1.31778     1.28648     1.24904    …  -0.254241   -0.328738   -0.396332\n",
       "  1.28648     1.26136     1.23053       -0.191065   -0.263319   -0.328738\n",
       "  1.24904     1.23053     1.20689       -0.121153   -0.191065   -0.254241\n",
       "  1.20434     1.19286     1.17695       -0.0439198  -0.111384   -0.172249\n",
       "  1.15113     1.14703     1.13935        0.0411034  -0.0237888  -0.0822643\n",
       "  1.08812     1.09164     1.09258    …   0.134139    0.0719842   0.0160084\n",
       "  1.01407     1.02529     1.03506        0.234975    0.1758      0.122495\n",
       "  0.928078    0.946858    0.965415       0.342699    0.286877    0.236522\n",
       "  0.829931    0.85588     0.882872       0.455407    0.403501    0.356529\n",
       "  0.720614    0.753085    0.787816       0.569996    0.522795    0.479828\n",
       "  ⋮                                  ⋱                           ⋮\n",
       "  0.356529    0.403501    0.455407       0.882872    0.85588     0.829931\n",
       "  0.236522    0.286877    0.342699       0.965415    0.946858    0.928078\n",
       "  0.122495    0.1758      0.234975       1.03506     1.02529     1.01407\n",
       "  0.0160084   0.0719842   0.134139   …   1.09258     1.09164     1.08812\n",
       " -0.0822643  -0.0237888   0.0411034      1.13935     1.14703     1.15113\n",
       " -0.172249   -0.111384   -0.0439198      1.17695     1.19286     1.20434\n",
       " -0.254241   -0.191065   -0.121153       1.20689     1.23053     1.24904\n",
       " -0.328738   -0.263319   -0.191065       1.23053     1.26136     1.28648\n",
       " -0.396332   -0.328738   -0.254241   …   1.24904     1.28648     1.31778"
      ]
     },
     "metadata": {},
     "output_type": "display_data"
    }
   ],
   "source": [
    "\n",
    "K_i = zeros(Float64,3*Nh+1,Nx)\n",
    "for i = 1:Nx\n",
    "    ∇_SIE = Flux.gradient(()-> model([x[i]])[1],θ)\n",
    "    K_i[1:Nh,i] = ∇_SIE[θ[1]][:]\n",
    "    K_i[Nh+1:2*Nh,i] = ∇_SIE[θ[2]][:]\n",
    "    K_i[2*Nh+1:3*Nh,i] = ∇_SIE[θ[3]][:]\n",
    "    K_i[3*Nh+1:3*Nh+1,i] = ∇_SIE[θ[4]][:] \n",
    "end\n",
    "\n",
    "Kernel_SIE = K_i[1:3*Nh,:]'*K_i[1:3*Nh,:]\n",
    "# eigen(Kernel_SIE).values"
   ]
  },
  {
   "cell_type": "code",
   "execution_count": 19,
   "metadata": {},
   "outputs": [
    {
     "data": {
      "text/plain": [
       "21×21 Matrix{Float64}:\n",
       "  1.31778     1.28648     1.24904    …  -0.254241   -0.328738   -0.396332\n",
       "  1.28648     1.26136     1.23053       -0.191065   -0.263319   -0.328738\n",
       "  1.24904     1.23053     1.20689       -0.121153   -0.191065   -0.254241\n",
       "  1.20434     1.19286     1.17695       -0.0439198  -0.111384   -0.172249\n",
       "  1.15113     1.14703     1.13935        0.0411034  -0.0237888  -0.0822643\n",
       "  1.08812     1.09164     1.09258    …   0.134139    0.0719842   0.0160084\n",
       "  1.01407     1.02529     1.03506        0.234975    0.1758      0.122495\n",
       "  0.928078    0.946858    0.965415       0.342699    0.286877    0.236522\n",
       "  0.829931    0.85588     0.882872       0.455407    0.403501    0.356529\n",
       "  0.720614    0.753085    0.787816       0.569996    0.522795    0.479828\n",
       "  ⋮                                  ⋱                           ⋮\n",
       "  0.356529    0.403501    0.455407       0.882872    0.85588     0.829931\n",
       "  0.236522    0.286877    0.342699       0.965415    0.946858    0.928078\n",
       "  0.122495    0.1758      0.234975       1.03506     1.02529     1.01407\n",
       "  0.0160084   0.0719842   0.134139   …   1.09258     1.09164     1.08812\n",
       " -0.0822643  -0.0237888   0.0411034      1.13935     1.14703     1.15113\n",
       " -0.172249   -0.111384   -0.0439198      1.17695     1.19286     1.20434\n",
       " -0.254241   -0.191065   -0.121153       1.20689     1.23053     1.24904\n",
       " -0.328738   -0.263319   -0.191065       1.23053     1.26136     1.28648\n",
       " -0.396332   -0.328738   -0.254241   …   1.24904     1.28648     1.31778"
      ]
     },
     "metadata": {},
     "output_type": "display_data"
    }
   ],
   "source": [
    "K = kernel(model,x)\n",
    "# round.(K[:,:],digits=13)==round.(Kernel_SIE[:,:],digits=13)\n",
    "\n"
   ]
  },
  {
   "cell_type": "code",
   "execution_count": 24,
   "metadata": {},
   "outputs": [
    {
     "data": {
      "text/plain": [
       "21-element Vector{Float64}:\n",
       "  5.175604272701515e-16\n",
       "  6.484742651941025e-16\n",
       "  7.36829962326064e-14\n",
       "  2.2306540355486444e-13\n",
       "  3.296207572712412e-12\n",
       "  1.2604049983123277e-11\n",
       "  1.2399689247478252e-10\n",
       "  4.970631423631829e-10\n",
       "  4.411356107667226e-9\n",
       "  1.8167305863891508e-8\n",
       "  ⋮\n",
       "  5.200757370384124e-6\n",
       "  3.592398810475665e-5\n",
       "  0.0002200356002425372\n",
       "  0.0016066144796224458\n",
       "  0.00882438435769005\n",
       "  0.08066577108622834\n",
       "  0.3592886645227367\n",
       "  8.229030212011496\n",
       " 14.655461425843749"
      ]
     },
     "metadata": {},
     "output_type": "display_data"
    }
   ],
   "source": [
    "eigen(Kernel_SIE).values\n",
    "λ = eigen(K).values\n",
    "λ = abs.(λ)\n",
    "λ = sort!(λ)"
   ]
  },
  {
   "cell_type": "code",
   "execution_count": 36,
   "metadata": {},
   "outputs": [
    {
     "ename": "MethodError",
     "evalue": "MethodError: no method matching defaultlimits(::Symbol)\n\nClosest candidates are:\n  defaultlimits(!Matched::Tuple{Real, Real}, !Matched::Any)\n   @ Makie C:\\Users\\trist\\.julia\\packages\\Makie\\RgxaV\\src\\makielayout\\blocks\\axis.jl:1429\n  defaultlimits(!Matched::NTuple{4, Real}, !Matched::Any, !Matched::Any)\n   @ Makie C:\\Users\\trist\\.julia\\packages\\Makie\\RgxaV\\src\\makielayout\\blocks\\axis.jl:1416\n  defaultlimits(!Matched::Tuple{Real, Nothing}, !Matched::Any)\n   @ Makie C:\\Users\\trist\\.julia\\packages\\Makie\\RgxaV\\src\\makielayout\\blocks\\axis.jl:1430\n  ...\n",
     "output_type": "error",
     "traceback": [
      "MethodError: no method matching defaultlimits(::Symbol)\n",
      "\n",
      "Closest candidates are:\n",
      "  defaultlimits(!Matched::Tuple{Real, Real}, !Matched::Any)\n",
      "   @ Makie C:\\Users\\trist\\.julia\\packages\\Makie\\RgxaV\\src\\makielayout\\blocks\\axis.jl:1429\n",
      "  defaultlimits(!Matched::NTuple{4, Real}, !Matched::Any, !Matched::Any)\n",
      "   @ Makie C:\\Users\\trist\\.julia\\packages\\Makie\\RgxaV\\src\\makielayout\\blocks\\axis.jl:1416\n",
      "  defaultlimits(!Matched::Tuple{Real, Nothing}, !Matched::Any)\n",
      "   @ Makie C:\\Users\\trist\\.julia\\packages\\Makie\\RgxaV\\src\\makielayout\\blocks\\axis.jl:1430\n",
      "  ...\n",
      "\n",
      "\n",
      "Stacktrace:\n",
      " [1] defaultlimits(limits::Nothing, scale::Symbol)\n",
      "   @ Makie C:\\Users\\trist\\.julia\\packages\\Makie\\RgxaV\\src\\makielayout\\blocks\\axis.jl:1428\n",
      " [2] defaultlimits(userlimits::Tuple{Nothing, Nothing}, xscale::Function, yscale::Symbol)\n",
      "   @ Makie C:\\Users\\trist\\.julia\\packages\\Makie\\RgxaV\\src\\makielayout\\blocks\\axis.jl:1424\n",
      " [3] initialize_block!(ax::Axis; palette::Nothing)\n",
      "   @ Makie C:\\Users\\trist\\.julia\\packages\\Makie\\RgxaV\\src\\makielayout\\blocks\\axis.jl:174\n",
      " [4] initialize_block!\n",
      "   @ C:\\Users\\trist\\.julia\\packages\\Makie\\RgxaV\\src\\makielayout\\blocks\\axis.jl:160 [inlined]\n",
      " [5] _block(::Type{Axis}, ::Figure; bbox::Nothing, kwargs::Base.Pairs{Symbol, Symbol, Tuple{Symbol}, NamedTuple{(:yscale,), Tuple{Symbol}}})\n",
      "   @ Makie C:\\Users\\trist\\.julia\\packages\\Makie\\RgxaV\\src\\makielayout\\blocks.jl:374\n",
      " [6] _block(::Type{Axis}, ::GridPosition; kwargs::Base.Pairs{Symbol, Symbol, Tuple{Symbol}, NamedTuple{(:yscale,), Tuple{Symbol}}})\n",
      "   @ Makie C:\\Users\\trist\\.julia\\packages\\Makie\\RgxaV\\src\\makielayout\\blocks.jl:268\n",
      " [7] _block\n",
      "   @ C:\\Users\\trist\\.julia\\packages\\Makie\\RgxaV\\src\\makielayout\\blocks.jl:261 [inlined]\n",
      " [8] #_#1262\n",
      "   @ C:\\Users\\trist\\.julia\\packages\\Makie\\RgxaV\\src\\makielayout\\blocks.jl:253 [inlined]\n",
      " [9] top-level scope\n",
      "   @ c:\\Programming\\Github\\UROP\\Phase3\\Kernel_Comp.ipynb:2"
     ]
    }
   ],
   "source": [
    "fig = Figure()\n",
    "ax1 = Axis(fig[1,1],yscale=:log10)\n",
    "CairoMakie.scatter!(ax1,λ)\n",
    "fig"
   ]
  }
 ],
 "metadata": {
  "kernelspec": {
   "display_name": "Julia 1.9.4",
   "language": "julia",
   "name": "julia-1.9"
  },
  "language_info": {
   "file_extension": ".jl",
   "mimetype": "application/julia",
   "name": "julia",
   "version": "1.9.4"
  }
 },
 "nbformat": 4,
 "nbformat_minor": 2
}
