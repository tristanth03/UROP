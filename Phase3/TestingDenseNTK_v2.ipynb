{
 "cells": [
  {
   "cell_type": "code",
   "execution_count": 1,
   "id": "2d71e46c-e797-4174-8e7b-6937573a1262",
   "metadata": {},
   "outputs": [],
   "source": [
    "using Flux\n",
    "using Plots\n",
    "using ProgressMeter\n",
    "using LinearAlgebra\n",
    "\n",
    "include(\"DenseNTK.jl\")"
   ]
  },
  {
   "cell_type": "code",
   "execution_count": 29,
   "id": "4d9be23e-3a1d-4092-9e5d-8f481a8616bb",
   "metadata": {},
   "outputs": [
    {
     "data": {
      "text/plain": [
       "DenseNTK(Float32[-0.30197406; -1.2219666; 0.6810273;;], Float32[0.0, 0.0, 0.0], NNlib.σ)"
      ]
     },
     "execution_count": 29,
     "metadata": {},
     "output_type": "execute_result"
    }
   ],
   "source": [
    "#\n",
    "#  Create models with NTK intitialization\n",
    "#\n",
    "m1_NTK=DenseNTK(1,3,sigmoid)"
   ]
  },
  {
   "cell_type": "code",
   "execution_count": 3,
   "id": "cb26d148-4559-406a-873c-6916e333cb1a",
   "metadata": {},
   "outputs": [
    {
     "data": {
      "text/plain": [
       "DenseNTK(Float32[-1.8273023; 3.0744374; -0.0016785379;;], Float32[0.0, 0.0, 0.0], NNlib.σ)"
      ]
     },
     "execution_count": 3,
     "metadata": {},
     "output_type": "execute_result"
    }
   ],
   "source": [
    "m2_NTK=DenseNTK(1 =>3 ,sigmoid)"
   ]
  },
  {
   "cell_type": "code",
   "execution_count": 4,
   "id": "7dd61c9e-b953-4123-b59f-f9b61e3df578",
   "metadata": {},
   "outputs": [
    {
     "data": {
      "text/plain": [
       "Chain(\n",
       "  DenseNTK([1.0; 1.0; 1.0;;], [0.0, 0.0, 0.0], NNlib.σ),  \u001b[90m# 6 parameters\u001b[39m\n",
       "  DenseNTK([1.0 1.0 1.0], [0.0], identity),  \u001b[90m# 4 parameters\u001b[39m\n",
       ") \u001b[90m                  # Total: 4 arrays, \u001b[39m10 parameters, 384 bytes."
      ]
     },
     "execution_count": 4,
     "metadata": {},
     "output_type": "execute_result"
    }
   ],
   "source": [
    "#\n",
    "#  DenseNTK fits into the Chain function \n",
    "#\n",
    "model1_NTK=Chain(DenseNTK(1 => 3, sigmoid,init=ones),DenseNTK( 3 => 1, init=ones))"
   ]
  },
  {
   "cell_type": "code",
   "execution_count": null,
   "id": "36c3c6b7-fda6-47a4-9a6e-a35719f77113",
   "metadata": {},
   "outputs": [],
   "source": []
  },
  {
   "cell_type": "code",
   "execution_count": 5,
   "id": "58e474bc-be34-4437-9528-96f6da5f8212",
   "metadata": {},
   "outputs": [
    {
     "data": {
      "text/plain": [
       "([1.0; 1.0; 1.0;;], [0.0, 0.0, 0.0], [1.0 1.0 1.0], [0.0])"
      ]
     },
     "execution_count": 5,
     "metadata": {},
     "output_type": "execute_result"
    }
   ],
   "source": [
    "#\n",
    "#  Model parametes can be extracted as usually\n",
    "#\n",
    "ps1_NKT=Flux.params(model1_NTK)\n",
    "\n",
    "ps1_NKT[1],ps1_NKT[2],ps1_NKT[3],ps1_NKT[4]"
   ]
  },
  {
   "cell_type": "code",
   "execution_count": 6,
   "id": "c445012e-37ed-4ab3-9ae3-8887faec6ab8",
   "metadata": {},
   "outputs": [
    {
     "data": {
      "text/plain": [
       "1-element Vector{Float64}:\n",
       " 0.9092906262733799"
      ]
     },
     "execution_count": 6,
     "metadata": {},
     "output_type": "execute_result"
    }
   ],
   "source": [
    "#\n",
    "#  The model takes in Vectors\n",
    "#\n",
    "model1_NTK([0.1f0])  # 1 element vector"
   ]
  },
  {
   "cell_type": "code",
   "execution_count": 7,
   "id": "07d30efe-699b-4191-91d2-148687bc8223",
   "metadata": {},
   "outputs": [
    {
     "data": {
      "text/plain": [
       "([0.2689414213699951, 0.2689414213699951, 0.2689414213699951], [-0.761594155955765, -0.761594155955765, -0.761594155955765], [0.0, 0.0, 0.0])"
      ]
     },
     "execution_count": 7,
     "metadata": {},
     "output_type": "execute_result"
    }
   ],
   "source": [
    "#\n",
    "#  Testing the activation function\n",
    "#\n",
    "ms_NTK=DenseNTK(1 => 3, sigmoid, init=ones) # sigmoid\n",
    "mt_NTK=DenseNTK(1 => 3, tanh, init=ones)    # tanh\n",
    "mr_NTK=DenseNTK(1 => 3, relu, init=ones)    # relu\n",
    "xin=[-1.0f0]  # 1 element vector\n",
    "ms_NTK(xin),mt_NTK(xin),mr_NTK(xin) "
   ]
  },
  {
   "cell_type": "code",
   "execution_count": 30,
   "id": "f0d5eb46-b5b0-4255-ab40-436c8b177a82",
   "metadata": {},
   "outputs": [
    {
     "data": {
      "text/plain": [
       "Dense(3 => 1)       \u001b[90m# 4 parameters\u001b[39m"
      ]
     },
     "execution_count": 30,
     "metadata": {},
     "output_type": "execute_result"
    }
   ],
   "source": [
    "#\n",
    "#  Testing the normalization\n",
    "#\n",
    "xin=rand(Float32,3)\n",
    "#\n",
    "m5=Dense(3,1,init=ones)"
   ]
  },
  {
   "cell_type": "code",
   "execution_count": 9,
   "id": "843e3033-9fa4-4599-a7f5-2c07dc644f30",
   "metadata": {},
   "outputs": [
    {
     "data": {
      "text/plain": [
       "(Params([[1.0 1.0 1.0], [0.0]]), [0.5780493021011353])"
      ]
     },
     "execution_count": 9,
     "metadata": {},
     "output_type": "execute_result"
    }
   ],
   "source": [
    "Flux.params(m5),m5(xin)  # Print out weight,bias  AND value: m5(xin) "
   ]
  },
  {
   "cell_type": "code",
   "execution_count": 10,
   "id": "33048591-f950-479a-966a-65931d57fe1e",
   "metadata": {},
   "outputs": [
    {
     "data": {
      "text/plain": [
       "DenseNTK([1.0 1.0 1.0], [0.0], identity)"
      ]
     },
     "execution_count": 10,
     "metadata": {},
     "output_type": "execute_result"
    }
   ],
   "source": [
    "m5_NTK=DenseNTK(3,1,init=ones)"
   ]
  },
  {
   "cell_type": "code",
   "execution_count": 11,
   "id": "fc6b62c7-0c71-4506-ad98-d0155c29a23d",
   "metadata": {},
   "outputs": [
    {
     "data": {
      "text/plain": [
       "(Params([[1.0 1.0 1.0], [0.0]]), [0.3337369201729658])"
      ]
     },
     "execution_count": 11,
     "metadata": {},
     "output_type": "execute_result"
    }
   ],
   "source": [
    "Flux.params(m5_NTK),m5_NTK(xin)  # "
   ]
  },
  {
   "cell_type": "code",
   "execution_count": 12,
   "id": "620e2cc2-104f-4b89-b88e-044bcca5b7b9",
   "metadata": {},
   "outputs": [
    {
     "data": {
      "text/plain": [
       "1-element Vector{Float64}:\n",
       " 0.33373692017296575"
      ]
     },
     "execution_count": 12,
     "metadata": {},
     "output_type": "execute_result"
    }
   ],
   "source": [
    "m5(xin)/sqrt(size(m5_NTK.weight)[2])  # Correct!"
   ]
  },
  {
   "cell_type": "code",
   "execution_count": 15,
   "id": "267cdec0-a44a-41aa-b2c7-046c950ff6ca",
   "metadata": {},
   "outputs": [
    {
     "data": {
      "text/plain": [
       "Grads(...)"
      ]
     },
     "execution_count": 15,
     "metadata": {},
     "output_type": "execute_result"
    }
   ],
   "source": [
    "#\n",
    "#  Check gradients\n",
    "#\n",
    "gs=Flux.gradient(() -> model1_NTK([1.0f0])[1],ps1_NKT)"
   ]
  },
  {
   "cell_type": "code",
   "execution_count": 16,
   "id": "74ee9624-80ee-46a9-aa61-4800da19c006",
   "metadata": {},
   "outputs": [
    {
     "data": {
      "text/plain": [
       "([0.11351395258286229; 0.11351395258286229; 0.11351395258286229;;], [0.11351395258286229, 0.11351395258286229, 0.11351395258286229], [0.42207686716541853 0.42207686716541853 0.42207686716541853], [1.0])"
      ]
     },
     "execution_count": 16,
     "metadata": {},
     "output_type": "execute_result"
    }
   ],
   "source": [
    "gs[ps1_NKT[1]], gs[ps1_NKT[2]],gs[ps1_NKT[3]],gs[ps1_NKT[4]]"
   ]
  },
  {
   "cell_type": "code",
   "execution_count": 17,
   "id": "0b5e1309-47f2-4abc-af70-381a532f3215",
   "metadata": {},
   "outputs": [
    {
     "data": {
      "text/plain": [
       "3×1 Matrix{Float64}:\n",
       " 0.11351395258286229\n",
       " 0.11351395258286229\n",
       " 0.11351395258286229"
      ]
     },
     "execution_count": 17,
     "metadata": {},
     "output_type": "execute_result"
    }
   ],
   "source": [
    "#\n",
    "#  Check gradients\n",
    "#\n",
    "gs[ps1_NKT[1]]"
   ]
  },
  {
   "cell_type": "code",
   "execution_count": 18,
   "id": "a48e3979-200d-444a-a602-c788d31f2b2e",
   "metadata": {},
   "outputs": [
    {
     "data": {
      "text/plain": [
       "1×3 Matrix{Float64}:\n",
       " 0.422077  0.422077  0.422077"
      ]
     },
     "execution_count": 18,
     "metadata": {},
     "output_type": "execute_result"
    }
   ],
   "source": [
    "gs[ps1_NKT[3]]"
   ]
  },
  {
   "cell_type": "code",
   "execution_count": 19,
   "id": "7d936576-de90-4412-b440-d582c1c6ed72",
   "metadata": {},
   "outputs": [
    {
     "data": {
      "text/plain": [
       "loss (generic function with 1 method)"
      ]
     },
     "execution_count": 19,
     "metadata": {},
     "output_type": "execute_result"
    }
   ],
   "source": [
    "#\n",
    "# Testing the training\n",
    "#\n",
    "loss(x,y)=Flux.mse(x,y)\n"
   ]
  },
  {
   "cell_type": "code",
   "execution_count": 47,
   "id": "946d2aa2-9660-4188-b242-e146e505e896",
   "metadata": {},
   "outputs": [
    {
     "data": {
      "text/plain": [
       "10000"
      ]
     },
     "execution_count": 47,
     "metadata": {},
     "output_type": "execute_result"
    }
   ],
   "source": [
    "#\n",
    "#  Calculating the gradient by hand with 2x2 parameter objects\n",
    "#\n",
    "\n",
    "\n",
    "#\n",
    "#  Trivial data points\n",
    "#\n",
    "Nx=21\n",
    "xa=-1.0\n",
    "xb=1.0\n",
    "\n",
    "xVec=collect(range(-1.0,stop=1.0,length=Nx));\n",
    "yVec=sin.(2*pi*xVec) .+ 0.1*randn(size(xVec));\n",
    "\n",
    "data = [(reshape(xVec,1,Nx) , reshape(yVec,1,Nx) )]\n",
    "\n",
    "#\n",
    "#  Dense model with one hidden layer\n",
    "#\n",
    "Nh=10_000"
   ]
  },
  {
   "cell_type": "code",
   "execution_count": 48,
   "id": "5a8a1432-cc88-4892-a720-f1cc809e9b95",
   "metadata": {},
   "outputs": [
    {
     "data": {
      "text/plain": [
       "Chain(\n",
       "  DenseNTK(Float32[0.75204; -0.98224837; … ; 0.42262533; 1.4807498;;], Float32[0.0, 0.0, 0.0, 0.0, 0.0, 0.0, 0.0, 0.0, 0.0, 0.0  …  0.0, 0.0, 0.0, 0.0, 0.0, 0.0, 0.0, 0.0, 0.0, 0.0], NNlib.σ),  \u001b[90m# 20_000 parameters\u001b[39m\n",
       "  DenseNTK(Float32[-0.91228735 -0.011520412 … 1.7230709 -0.38027528], Float32[0.0], identity),  \u001b[90m# 10_001 parameters\u001b[39m\n",
       ") \u001b[90m                  # Total: 4 arrays, \u001b[39m30_001 parameters, 117.488 KiB."
      ]
     },
     "execution_count": 48,
     "metadata": {},
     "output_type": "execute_result"
    }
   ],
   "source": [
    "#\n",
    "#  Dense model with one hidden layer NTK version\n",
    "#\n",
    "\n",
    "modelNTK = Chain(DenseNTK(1 => Nh,sigmoid),DenseNTK(Nh => 1))"
   ]
  },
  {
   "cell_type": "code",
   "execution_count": 49,
   "id": "91da4fe6-a290-4d3b-b24e-5e3cb8254cb2",
   "metadata": {},
   "outputs": [
    {
     "data": {
      "text/plain": [
       "Grads(...)"
      ]
     },
     "execution_count": 49,
     "metadata": {},
     "output_type": "execute_result"
    }
   ],
   "source": [
    "xin=1.0\n",
    "gsmNTK = Flux.gradient(() -> modelNTK([ 1.0])[1],Flux.params(modelNTK))\n",
    "gsmNTKm = Flux.gradient(() -> modelNTK([-1.0])[1],Flux.params(modelNTK))"
   ]
  },
  {
   "cell_type": "code",
   "execution_count": 50,
   "id": "5c728deb-f68e-47f3-bb08-f1e09fe33c27",
   "metadata": {},
   "outputs": [
    {
     "data": {
      "text/plain": [
       "1×10000 Matrix{Float32}:\n",
       " -0.912287  -0.0115204  -0.580311  0.287017  …  -0.466472  1.72307  -0.380275"
      ]
     },
     "execution_count": 50,
     "metadata": {},
     "output_type": "execute_result"
    }
   ],
   "source": [
    "Flux.params(modelNTK)[3]"
   ]
  },
  {
   "cell_type": "code",
   "execution_count": 51,
   "id": "4f227686-65eb-44a8-8218-a94c0ddc17e0",
   "metadata": {},
   "outputs": [
    {
     "data": {
      "text/plain": [
       "1×10000 Matrix{Float64}:\n",
       " 0.00679623  0.00272446  0.0083878  …  0.00500812  0.00604111  0.00814686"
      ]
     },
     "execution_count": 51,
     "metadata": {},
     "output_type": "execute_result"
    }
   ],
   "source": [
    "gsmNTK[Flux.params(modelNTK)[3]] "
   ]
  },
  {
   "cell_type": "code",
   "execution_count": 52,
   "id": "4fa96bfa-395e-4f4b-aa7b-2a0d96b2fcdc",
   "metadata": {},
   "outputs": [
    {
     "data": {
      "text/plain": [
       "1×1 Matrix{Float64}:\n",
       " 0.20631748497514404"
      ]
     },
     "execution_count": 52,
     "metadata": {},
     "output_type": "execute_result"
    }
   ],
   "source": [
    "gsmNTKm[Flux.params(modelNTK)[3]] *gsmNTK[Flux.params(modelNTK)[3]]'"
   ]
  },
  {
   "cell_type": "code",
   "execution_count": 53,
   "id": "b8132062-5449-4cb8-9101-cbd16ceaf4cf",
   "metadata": {},
   "outputs": [
    {
     "data": {
      "text/plain": [
       "0.20631748497514404"
      ]
     },
     "execution_count": 53,
     "metadata": {},
     "output_type": "execute_result"
    }
   ],
   "source": [
    "(sigmoid.(Flux.params(modelNTK)[1]*[1.0] .+ Flux.params(modelNTK)[2])/sqrt(Nh))'*(sigmoid.(Flux.params(modelNTK)[1]*[-1.0] .+ Flux.params(modelNTK)[2])/sqrt(Nh))"
   ]
  },
  {
   "cell_type": "code",
   "execution_count": 54,
   "id": "76946b35-e244-456f-b392-725b72967a3d",
   "metadata": {},
   "outputs": [
    {
     "data": {
      "text/plain": [
       "4-element Vector{Float32}:\n",
       " -0.001986374\n",
       " -2.283566f-5\n",
       " -0.0007847449\n",
       "  0.0006912686"
      ]
     },
     "execution_count": 54,
     "metadata": {},
     "output_type": "execute_result"
    }
   ],
   "source": [
    "gsmNTK[Flux.params(modelNTK)[2]][1:4]  # Why are there few significant digits??"
   ]
  },
  {
   "cell_type": "code",
   "execution_count": 55,
   "id": "349e7eed-c28e-4a4a-b99b-ac5cb4eee5e4",
   "metadata": {},
   "outputs": [
    {
     "data": {
      "text/plain": [
       "-0.001986373983780991"
      ]
     },
     "execution_count": 55,
     "metadata": {},
     "output_type": "execute_result"
    }
   ],
   "source": [
    "(Flux.params(modelNTK)[3][1,1]/sqrt(Nh))*sigmoid(Flux.params(modelNTK)[1][1,1]*xin+Flux.params(modelNTK)[2][1])*(1-sigmoid(Flux.params(modelNTK)[1][1,1]*xin+Flux.params(modelNTK)[2][1]))"
   ]
  },
  {
   "cell_type": "code",
   "execution_count": 56,
   "id": "ef16528c-cf89-40ef-9bb5-62c9c7e9f280",
   "metadata": {},
   "outputs": [],
   "source": [
    "DmNTK=zeros(Float32,3*Nh+1,Nx);\n",
    "for nx=1:Nx\n",
    "    gsmNTK = Flux.gradient(() -> modelNTK([xVec[nx]])[1],Flux.params(modelNTK))\n",
    "    DmNTK[1:Nh,nx]=gsmNTK[Flux.params(modelNTK)[1]][:]\n",
    "    DmNTK[Nh+1:2*Nh,nx]=gsmNTK[Flux.params(modelNTK)[2]][:]\n",
    "    DmNTK[2*Nh+1:3*Nh,nx]=gsmNTK[Flux.params(modelNTK)[3]][:]\n",
    "    DmNTK[3*Nh+1:3*Nh+1,nx]=gsmNTK[Flux.params(modelNTK)[4]][:]\n",
    "end"
   ]
  },
  {
   "cell_type": "code",
   "execution_count": 57,
   "id": "ca6b5324-3fb7-4d41-acc9-5c50078fc12c",
   "metadata": {},
   "outputs": [
    {
     "data": {
      "text/plain": [
       "21×21 Matrix{Float32}:\n",
       " 0.379751  0.374181  0.368088  0.361443  …  0.222166  0.214011  0.206317\n",
       " 0.374181  0.36925   0.363824  0.357875     0.22911   0.22148   0.214283\n",
       " 0.368088  0.363824  0.359101  0.353889     0.236465  0.229392  0.222719\n",
       " 0.361443  0.357875  0.353889  0.349453     0.244222  0.237739  0.23162\n",
       " 0.354228  0.351382  0.348163  0.344539     0.252359  0.246501  0.240966\n",
       " 0.346437  0.344334  0.341909  0.339129  …  0.26084   0.255642  0.250719\n",
       " 0.33808   0.336736  0.335125  0.333216     0.269609  0.265105  0.260824\n",
       " 0.329189  0.328612  0.32783   0.326811     0.278594  0.274815  0.271205\n",
       " 0.319816  0.320012  0.320065  0.319944     0.2877    0.284679  0.281766\n",
       " 0.310042  0.311005  0.311892  0.312672     0.296822  0.294586  0.292394\n",
       " 0.299967  0.301689  0.303399  0.305072  …  0.305844  0.304415  0.302965\n",
       " 0.289709  0.292173  0.294691  0.297239     0.314651  0.314045  0.313353\n",
       " 0.279395  0.28258   0.285882  0.28928      0.323137  0.323365  0.323441\n",
       " 0.269146  0.273028  0.277088  0.281305     0.331214  0.332277  0.333126\n",
       " 0.259075  0.263628  0.268413  0.273416     0.338819  0.340711  0.342328\n",
       " 0.249277  0.254472  0.259951  0.265701  …  0.34591   0.348616  0.350991\n",
       " 0.239826  0.245634  0.251773  0.258231     0.352467  0.355967  0.359085\n",
       " 0.230778  0.237168  0.243932  0.25106      0.35849   0.362757  0.366596\n",
       " 0.222166  0.22911   0.236465  0.244222     0.363991  0.368995  0.373531\n",
       " 0.214011  0.22148   0.229392  0.237739     0.368995  0.374702  0.379906\n",
       " 0.206317  0.214283  0.222719  0.23162   …  0.373531  0.379906  0.385747"
      ]
     },
     "execution_count": 57,
     "metadata": {},
     "output_type": "execute_result"
    }
   ],
   "source": [
    "Knm=DmNTK[1:3*Nh,:]' * DmNTK[1:3*Nh,:]"
   ]
  },
  {
   "cell_type": "code",
   "execution_count": 59,
   "id": "cdc067c4-0753-4257-a50e-a50ca84da2ac",
   "metadata": {},
   "outputs": [
    {
     "data": {
      "text/plain": [
       "0.9996642f0"
      ]
     },
     "execution_count": 59,
     "metadata": {},
     "output_type": "execute_result"
    }
   ],
   "source": [
    "sum(Flux.params(modelNTK)[3].^2)/10000"
   ]
  },
  {
   "cell_type": "code",
   "execution_count": 270,
   "id": "f52a0c4c-7476-4ac8-ae48-eb02072f27c7",
   "metadata": {},
   "outputs": [],
   "source": [
    "using LinearAlgebra"
   ]
  },
  {
   "cell_type": "code",
   "execution_count": 271,
   "id": "57a6e2b2-ffe3-4fb9-9a5c-4ba13871b272",
   "metadata": {},
   "outputs": [
    {
     "data": {
      "text/plain": [
       "21-element Vector{ComplexF32}:\n",
       "    -1.35797f-7 + 0.0f0im\n",
       "   -6.633742f-8 - 2.5932787f-8im\n",
       "   -6.633742f-8 + 2.5932787f-8im\n",
       "  -5.5005046f-8 + 0.0f0im\n",
       "    -3.25749f-8 - 7.1831415f-8im\n",
       "    -3.25749f-8 + 7.1831415f-8im\n",
       "   2.1736302f-8 - 1.3908611f-8im\n",
       "   2.1736302f-8 + 1.3908611f-8im\n",
       "   4.1725617f-8 + 0.0f0im\n",
       "     7.46362f-8 - 2.784759f-8im\n",
       "     7.46362f-8 + 2.784759f-8im\n",
       "   9.9386924f-8 + 0.0f0im\n",
       "   1.2734331f-7 + 0.0f0im\n",
       "   1.5853493f-7 + 0.0f0im\n",
       "   4.1537743f-7 + 0.0f0im\n",
       "    9.134751f-6 + 0.0f0im\n",
       "   4.9549915f-5 + 0.0f0im\n",
       " 0.0016404038f0 + 0.0f0im\n",
       "    0.0084685f0 + 0.0f0im\n",
       "     0.712762f0 + 0.0f0im\n",
       "     6.295699f0 + 0.0f0im"
      ]
     },
     "execution_count": 271,
     "metadata": {},
     "output_type": "execute_result"
    }
   ],
   "source": [
    "eigen(Knm).values"
   ]
  },
  {
   "cell_type": "code",
   "execution_count": 272,
   "id": "e180fd82-8415-43e8-9162-978e4ab8c301",
   "metadata": {},
   "outputs": [
    {
     "data": {
      "text/plain": [
       "3.8287167063273593"
      ]
     },
     "execution_count": 272,
     "metadata": {},
     "output_type": "execute_result"
    }
   ],
   "source": [
    "loss(model(reshape(xVec,1,21)),reshape(yVec,1,21))"
   ]
  },
  {
   "cell_type": "code",
   "execution_count": 274,
   "id": "dfaf3f73-6f0d-4ff2-a9ae-fbb5e394a985",
   "metadata": {},
   "outputs": [
    {
     "name": "stderr",
     "output_type": "stream",
     "text": [
      "\u001b[32mComputing... 100%|███████████████████████████████████████| Time: 0:00:41\u001b[39m\n"
     ]
    }
   ],
   "source": [
    "using ProgressMeter\n",
    "\n",
    "opt_state = Flux.setup(Descent(0.3), modelNTK)\n",
    "\n",
    "@showprogress  desc=\"Computing...\" for epoch in 1:1e5#8e4\n",
    "  Flux.train!(modelNTK, data, opt_state) do m, x, y\n",
    "    loss(m(x), y)\n",
    "  end\n",
    "end"
   ]
  },
  {
   "cell_type": "code",
   "execution_count": 273,
   "id": "dce4d1dd-117d-4e46-9d0f-20921ae6a68b",
   "metadata": {},
   "outputs": [
    {
     "data": {
      "text/plain": [
       "0.5322715141106388"
      ]
     },
     "execution_count": 273,
     "metadata": {},
     "output_type": "execute_result"
    }
   ],
   "source": [
    "loss(modelNTK(reshape(xVec,1,21)),reshape(yVec,1,21))"
   ]
  },
  {
   "cell_type": "code",
   "execution_count": 255,
   "id": "a57eee08-d3d1-4e50-89f0-a03ee3fb2b48",
   "metadata": {},
   "outputs": [
    {
     "data": {
      "image/png": "[encoded data removed]",
      "image/svg+xml": [
       "<?xml version=\"1.0\" encoding=\"utf-8\"?>\n",
       "<svg xmlns=\"http://www.w3.org/2000/svg\" xmlns:xlink=\"http://www.w3.org/1999/xlink\" width=\"600\" height=\"400\" viewBox=\"0 0 2400 1600\">\n",
       "<defs>\n",
       "  <clipPath id=\"clip320\">\n",
       "    <rect x=\"0\" y=\"0\" width=\"2400\" height=\"1600\"/>\n",
       "  </clipPath>\n",
       "</defs>\n",
       "<path clip-path=\"url(#clip320)\" d=\"M0 1600 L2400 1600 L2400 0 L0 0  Z\" fill=\"#ffffff\" fill-rule=\"evenodd\" fill-opacity=\"1\"/>\n",
       "<defs>\n",
       "  <clipPath id=\"clip321\">\n",
       "    <rect x=\"480\" y=\"0\" width=\"1681\" height=\"1600\"/>\n",
       "  </clipPath>\n",
       "</defs>\n",
       "<path clip-path=\"url(#clip320)\" d=\"M193.936 1486.45 L2352.76 1486.45 L2352.76 47.2441 L193.936 47.2441  Z\" fill=\"#ffffff\" fill-rule=\"evenodd\" fill-opacity=\"1\"/>\n",
       "<defs>\n",
       "  <clipPath id=\"clip322\">\n",
       "    <rect x=\"193\" y=\"47\" width=\"2160\" height=\"1440\"/>\n",
       "  </clipPath>\n",
       "</defs>\n",
       "<polyline clip-path=\"url(#clip322)\" style=\"stroke:#000000; stroke-linecap:round; stroke-linejoin:round; stroke-width:2; stroke-opacity:0.1; fill:none\" points=\"255.035,1486.45 255.035,47.2441 \"/>\n",
       "<polyline clip-path=\"url(#clip322)\" style=\"stroke:#000000; stroke-linecap:round; stroke-linejoin:round; stroke-width:2; stroke-opacity:0.1; fill:none\" points=\"764.19,1486.45 764.19,47.2441 \"/>\n",
       "<polyline clip-path=\"url(#clip322)\" style=\"stroke:#000000; stroke-linecap:round; stroke-linejoin:round; stroke-width:2; stroke-opacity:0.1; fill:none\" points=\"1273.35,1486.45 1273.35,47.2441 \"/>\n",
       "<polyline clip-path=\"url(#clip322)\" style=\"stroke:#000000; stroke-linecap:round; stroke-linejoin:round; stroke-width:2; stroke-opacity:0.1; fill:none\" points=\"1782.5,1486.45 1782.5,47.2441 \"/>\n",
       "<polyline clip-path=\"url(#clip322)\" style=\"stroke:#000000; stroke-linecap:round; stroke-linejoin:round; stroke-width:2; stroke-opacity:0.1; fill:none\" points=\"2291.66,1486.45 2291.66,47.2441 \"/>\n",
       "<polyline clip-path=\"url(#clip320)\" style=\"stroke:#000000; stroke-linecap:round; stroke-linejoin:round; stroke-width:4; stroke-opacity:1; fill:none\" points=\"193.936,1486.45 2352.76,1486.45 \"/>\n",
       "<polyline clip-path=\"url(#clip320)\" style=\"stroke:#000000; stroke-linecap:round; stroke-linejoin:round; stroke-width:4; stroke-opacity:1; fill:none\" points=\"255.035,1486.45 255.035,1467.55 \"/>\n",
       "<polyline clip-path=\"url(#clip320)\" style=\"stroke:#000000; stroke-linecap:round; stroke-linejoin:round; stroke-width:4; stroke-opacity:1; fill:none\" points=\"764.19,1486.45 764.19,1467.55 \"/>\n",
       "<polyline clip-path=\"url(#clip320)\" style=\"stroke:#000000; stroke-linecap:round; stroke-linejoin:round; stroke-width:4; stroke-opacity:1; fill:none\" points=\"1273.35,1486.45 1273.35,1467.55 \"/>\n",
       "<polyline clip-path=\"url(#clip320)\" style=\"stroke:#000000; stroke-linecap:round; stroke-linejoin:round; stroke-width:4; stroke-opacity:1; fill:none\" points=\"1782.5,1486.45 1782.5,1467.55 \"/>\n",
       "<polyline clip-path=\"url(#clip320)\" style=\"stroke:#000000; stroke-linecap:round; stroke-linejoin:round; stroke-width:4; stroke-opacity:1; fill:none\" points=\"2291.66,1486.45 2291.66,1467.55 \"/>\n",
       "<path clip-path=\"url(#clip320)\" d=\"M201.563 1532.02 L231.239 1532.02 L231.239 1535.95 L201.563 1535.95 L201.563 1532.02 Z\" fill=\"#000000\" fill-rule=\"nonzero\" fill-opacity=\"1\" /><path clip-path=\"url(#clip320)\" d=\"M242.141 1544.91 L249.78 1544.91 L249.78 1518.55 L241.47 1520.21 L241.47 1515.95 L249.734 1514.29 L254.41 1514.29 L254.41 1544.91 L262.049 1544.91 L262.049 1548.85 L242.141 1548.85 L242.141 1544.91 Z\" fill=\"#000000\" fill-rule=\"nonzero\" fill-opacity=\"1\" /><path clip-path=\"url(#clip320)\" d=\"M271.493 1542.97 L276.377 1542.97 L276.377 1548.85 L271.493 1548.85 L271.493 1542.97 Z\" fill=\"#000000\" fill-rule=\"nonzero\" fill-opacity=\"1\" /><path clip-path=\"url(#clip320)\" d=\"M296.562 1517.37 Q292.951 1517.37 291.122 1520.93 Q289.317 1524.47 289.317 1531.6 Q289.317 1538.71 291.122 1542.27 Q292.951 1545.82 296.562 1545.82 Q300.196 1545.82 302.002 1542.27 Q303.831 1538.71 303.831 1531.6 Q303.831 1524.47 302.002 1520.93 Q300.196 1517.37 296.562 1517.37 M296.562 1513.66 Q302.372 1513.66 305.428 1518.27 Q308.507 1522.85 308.507 1531.6 Q308.507 1540.33 305.428 1544.94 Q302.372 1549.52 296.562 1549.52 Q290.752 1549.52 287.673 1544.94 Q284.618 1540.33 284.618 1531.6 Q284.618 1522.85 287.673 1518.27 Q290.752 1513.66 296.562 1513.66 Z\" fill=\"#000000\" fill-rule=\"nonzero\" fill-opacity=\"1\" /><path clip-path=\"url(#clip320)\" d=\"M711.216 1532.02 L740.892 1532.02 L740.892 1535.95 L711.216 1535.95 L711.216 1532.02 Z\" fill=\"#000000\" fill-rule=\"nonzero\" fill-opacity=\"1\" /><path clip-path=\"url(#clip320)\" d=\"M760.984 1517.37 Q757.373 1517.37 755.545 1520.93 Q753.739 1524.47 753.739 1531.6 Q753.739 1538.71 755.545 1542.27 Q757.373 1545.82 760.984 1545.82 Q764.619 1545.82 766.424 1542.27 Q768.253 1538.71 768.253 1531.6 Q768.253 1524.47 766.424 1520.93 Q764.619 1517.37 760.984 1517.37 M760.984 1513.66 Q766.794 1513.66 769.85 1518.27 Q772.929 1522.85 772.929 1531.6 Q772.929 1540.33 769.85 1544.94 Q766.794 1549.52 760.984 1549.52 Q755.174 1549.52 752.095 1544.94 Q749.04 1540.33 749.04 1531.6 Q749.04 1522.85 752.095 1518.27 Q755.174 1513.66 760.984 1513.66 Z\" fill=\"#000000\" fill-rule=\"nonzero\" fill-opacity=\"1\" /><path clip-path=\"url(#clip320)\" d=\"M781.146 1542.97 L786.03 1542.97 L786.03 1548.85 L781.146 1548.85 L781.146 1542.97 Z\" fill=\"#000000\" fill-rule=\"nonzero\" fill-opacity=\"1\" /><path clip-path=\"url(#clip320)\" d=\"M796.262 1514.29 L814.618 1514.29 L814.618 1518.22 L800.544 1518.22 L800.544 1526.7 Q801.563 1526.35 802.581 1526.19 Q803.6 1526 804.618 1526 Q810.405 1526 813.785 1529.17 Q817.165 1532.34 817.165 1537.76 Q817.165 1543.34 813.692 1546.44 Q810.22 1549.52 803.901 1549.52 Q801.725 1549.52 799.456 1549.15 Q797.211 1548.78 794.804 1548.04 L794.804 1543.34 Q796.887 1544.47 799.109 1545.03 Q801.331 1545.58 803.808 1545.58 Q807.813 1545.58 810.151 1543.48 Q812.489 1541.37 812.489 1537.76 Q812.489 1534.15 810.151 1532.04 Q807.813 1529.94 803.808 1529.94 Q801.933 1529.94 800.058 1530.35 Q798.206 1530.77 796.262 1531.65 L796.262 1514.29 Z\" fill=\"#000000\" fill-rule=\"nonzero\" fill-opacity=\"1\" /><path clip-path=\"url(#clip320)\" d=\"M1250.73 1517.37 Q1247.12 1517.37 1245.29 1520.93 Q1243.49 1524.47 1243.49 1531.6 Q1243.49 1538.71 1245.29 1542.27 Q1247.12 1545.82 1250.73 1545.82 Q1254.36 1545.82 1256.17 1542.27 Q1258 1538.71 1258 1531.6 Q1258 1524.47 1256.17 1520.93 Q1254.36 1517.37 1250.73 1517.37 M1250.73 1513.66 Q1256.54 1513.66 1259.6 1518.27 Q1262.67 1522.85 1262.67 1531.6 Q1262.67 1540.33 1259.6 1544.94 Q1256.54 1549.52 1250.73 1549.52 Q1244.92 1549.52 1241.84 1544.94 Q1238.79 1540.33 1238.79 1531.6 Q1238.79 1522.85 1241.84 1518.27 Q1244.92 1513.66 1250.73 1513.66 Z\" fill=\"#000000\" fill-rule=\"nonzero\" fill-opacity=\"1\" /><path clip-path=\"url(#clip320)\" d=\"M1270.89 1542.97 L1275.78 1542.97 L1275.78 1548.85 L1270.89 1548.85 L1270.89 1542.97 Z\" fill=\"#000000\" fill-rule=\"nonzero\" fill-opacity=\"1\" /><path clip-path=\"url(#clip320)\" d=\"M1295.96 1517.37 Q1292.35 1517.37 1290.52 1520.93 Q1288.72 1524.47 1288.72 1531.6 Q1288.72 1538.71 1290.52 1542.27 Q1292.35 1545.82 1295.96 1545.82 Q1299.6 1545.82 1301.4 1542.27 Q1303.23 1538.71 1303.23 1531.6 Q1303.23 1524.47 1301.4 1520.93 Q1299.6 1517.37 1295.96 1517.37 M1295.96 1513.66 Q1301.77 1513.66 1304.83 1518.27 Q1307.91 1522.85 1307.91 1531.6 Q1307.91 1540.33 1304.83 1544.94 Q1301.77 1549.52 1295.96 1549.52 Q1290.15 1549.52 1287.07 1544.94 Q1284.02 1540.33 1284.02 1531.6 Q1284.02 1522.85 1287.07 1518.27 Q1290.15 1513.66 1295.96 1513.66 Z\" fill=\"#000000\" fill-rule=\"nonzero\" fill-opacity=\"1\" /><path clip-path=\"url(#clip320)\" d=\"M1760.38 1517.37 Q1756.77 1517.37 1754.94 1520.93 Q1753.14 1524.47 1753.14 1531.6 Q1753.14 1538.71 1754.94 1542.27 Q1756.77 1545.82 1760.38 1545.82 Q1764.02 1545.82 1765.82 1542.27 Q1767.65 1538.71 1767.65 1531.6 Q1767.65 1524.47 1765.82 1520.93 Q1764.02 1517.37 1760.38 1517.37 M1760.38 1513.66 Q1766.19 1513.66 1769.25 1518.27 Q1772.33 1522.85 1772.33 1531.6 Q1772.33 1540.33 1769.25 1544.94 Q1766.19 1549.52 1760.38 1549.52 Q1754.57 1549.52 1751.49 1544.94 Q1748.44 1540.33 1748.44 1531.6 Q1748.44 1522.85 1751.49 1518.27 Q1754.57 1513.66 1760.38 1513.66 Z\" fill=\"#000000\" fill-rule=\"nonzero\" fill-opacity=\"1\" /><path clip-path=\"url(#clip320)\" d=\"M1780.55 1542.97 L1785.43 1542.97 L1785.43 1548.85 L1780.55 1548.85 L1780.55 1542.97 Z\" fill=\"#000000\" fill-rule=\"nonzero\" fill-opacity=\"1\" /><path clip-path=\"url(#clip320)\" d=\"M1795.66 1514.29 L1814.02 1514.29 L1814.02 1518.22 L1799.94 1518.22 L1799.94 1526.7 Q1800.96 1526.35 1801.98 1526.19 Q1803 1526 1804.02 1526 Q1809.8 1526 1813.18 1529.17 Q1816.56 1532.34 1816.56 1537.76 Q1816.56 1543.34 1813.09 1546.44 Q1809.62 1549.52 1803.3 1549.52 Q1801.12 1549.52 1798.86 1549.15 Q1796.61 1548.78 1794.2 1548.04 L1794.2 1543.34 Q1796.29 1544.47 1798.51 1545.03 Q1800.73 1545.58 1803.21 1545.58 Q1807.21 1545.58 1809.55 1543.48 Q1811.89 1541.37 1811.89 1537.76 Q1811.89 1534.15 1809.55 1532.04 Q1807.21 1529.94 1803.21 1529.94 Q1801.33 1529.94 1799.46 1530.35 Q1797.61 1530.77 1795.66 1531.65 L1795.66 1514.29 Z\" fill=\"#000000\" fill-rule=\"nonzero\" fill-opacity=\"1\" /><path clip-path=\"url(#clip320)\" d=\"M2258.81 1544.91 L2266.45 1544.91 L2266.45 1518.55 L2258.14 1520.21 L2258.14 1515.95 L2266.4 1514.29 L2271.08 1514.29 L2271.08 1544.91 L2278.72 1544.91 L2278.72 1548.85 L2258.81 1548.85 L2258.81 1544.91 Z\" fill=\"#000000\" fill-rule=\"nonzero\" fill-opacity=\"1\" /><path clip-path=\"url(#clip320)\" d=\"M2288.16 1542.97 L2293.05 1542.97 L2293.05 1548.85 L2288.16 1548.85 L2288.16 1542.97 Z\" fill=\"#000000\" fill-rule=\"nonzero\" fill-opacity=\"1\" /><path clip-path=\"url(#clip320)\" d=\"M2313.23 1517.37 Q2309.62 1517.37 2307.79 1520.93 Q2305.99 1524.47 2305.99 1531.6 Q2305.99 1538.71 2307.79 1542.27 Q2309.62 1545.82 2313.23 1545.82 Q2316.87 1545.82 2318.67 1542.27 Q2320.5 1538.71 2320.5 1531.6 Q2320.5 1524.47 2318.67 1520.93 Q2316.87 1517.37 2313.23 1517.37 M2313.23 1513.66 Q2319.04 1513.66 2322.1 1518.27 Q2325.18 1522.85 2325.18 1531.6 Q2325.18 1540.33 2322.1 1544.94 Q2319.04 1549.52 2313.23 1549.52 Q2307.42 1549.52 2304.34 1544.94 Q2301.29 1540.33 2301.29 1531.6 Q2301.29 1522.85 2304.34 1518.27 Q2307.42 1513.66 2313.23 1513.66 Z\" fill=\"#000000\" fill-rule=\"nonzero\" fill-opacity=\"1\" /><polyline clip-path=\"url(#clip322)\" style=\"stroke:#000000; stroke-linecap:round; stroke-linejoin:round; stroke-width:2; stroke-opacity:0.1; fill:none\" points=\"193.936,1403.21 2352.76,1403.21 \"/>\n",
       "<polyline clip-path=\"url(#clip322)\" style=\"stroke:#000000; stroke-linecap:round; stroke-linejoin:round; stroke-width:2; stroke-opacity:0.1; fill:none\" points=\"193.936,1077.14 2352.76,1077.14 \"/>\n",
       "<polyline clip-path=\"url(#clip322)\" style=\"stroke:#000000; stroke-linecap:round; stroke-linejoin:round; stroke-width:2; stroke-opacity:0.1; fill:none\" points=\"193.936,751.06 2352.76,751.06 \"/>\n",
       "<polyline clip-path=\"url(#clip322)\" style=\"stroke:#000000; stroke-linecap:round; stroke-linejoin:round; stroke-width:2; stroke-opacity:0.1; fill:none\" points=\"193.936,424.984 2352.76,424.984 \"/>\n",
       "<polyline clip-path=\"url(#clip322)\" style=\"stroke:#000000; stroke-linecap:round; stroke-linejoin:round; stroke-width:2; stroke-opacity:0.1; fill:none\" points=\"193.936,98.9069 2352.76,98.9069 \"/>\n",
       "<polyline clip-path=\"url(#clip320)\" style=\"stroke:#000000; stroke-linecap:round; stroke-linejoin:round; stroke-width:4; stroke-opacity:1; fill:none\" points=\"193.936,1486.45 193.936,47.2441 \"/>\n",
       "<polyline clip-path=\"url(#clip320)\" style=\"stroke:#000000; stroke-linecap:round; stroke-linejoin:round; stroke-width:4; stroke-opacity:1; fill:none\" points=\"193.936,1403.21 212.834,1403.21 \"/>\n",
       "<polyline clip-path=\"url(#clip320)\" style=\"stroke:#000000; stroke-linecap:round; stroke-linejoin:round; stroke-width:4; stroke-opacity:1; fill:none\" points=\"193.936,1077.14 212.834,1077.14 \"/>\n",
       "<polyline clip-path=\"url(#clip320)\" style=\"stroke:#000000; stroke-linecap:round; stroke-linejoin:round; stroke-width:4; stroke-opacity:1; fill:none\" points=\"193.936,751.06 212.834,751.06 \"/>\n",
       "<polyline clip-path=\"url(#clip320)\" style=\"stroke:#000000; stroke-linecap:round; stroke-linejoin:round; stroke-width:4; stroke-opacity:1; fill:none\" points=\"193.936,424.984 212.834,424.984 \"/>\n",
       "<polyline clip-path=\"url(#clip320)\" style=\"stroke:#000000; stroke-linecap:round; stroke-linejoin:round; stroke-width:4; stroke-opacity:1; fill:none\" points=\"193.936,98.9069 212.834,98.9069 \"/>\n",
       "<path clip-path=\"url(#clip320)\" d=\"M50.9921 1403.67 L80.6679 1403.67 L80.6679 1407.6 L50.9921 1407.6 L50.9921 1403.67 Z\" fill=\"#000000\" fill-rule=\"nonzero\" fill-opacity=\"1\" /><path clip-path=\"url(#clip320)\" d=\"M91.5706 1416.56 L99.2095 1416.56 L99.2095 1390.19 L90.8993 1391.86 L90.8993 1387.6 L99.1632 1385.93 L103.839 1385.93 L103.839 1416.56 L111.478 1416.56 L111.478 1420.49 L91.5706 1420.49 L91.5706 1416.56 Z\" fill=\"#000000\" fill-rule=\"nonzero\" fill-opacity=\"1\" /><path clip-path=\"url(#clip320)\" d=\"M120.922 1414.61 L125.807 1414.61 L125.807 1420.49 L120.922 1420.49 L120.922 1414.61 Z\" fill=\"#000000\" fill-rule=\"nonzero\" fill-opacity=\"1\" /><path clip-path=\"url(#clip320)\" d=\"M145.992 1389.01 Q142.381 1389.01 140.552 1392.58 Q138.746 1396.12 138.746 1403.25 Q138.746 1410.36 140.552 1413.92 Q142.381 1417.46 145.992 1417.46 Q149.626 1417.46 151.431 1413.92 Q153.26 1410.36 153.26 1403.25 Q153.26 1396.12 151.431 1392.58 Q149.626 1389.01 145.992 1389.01 M145.992 1385.31 Q151.802 1385.31 154.857 1389.92 Q157.936 1394.5 157.936 1403.25 Q157.936 1411.98 154.857 1416.58 Q151.802 1421.17 145.992 1421.17 Q140.181 1421.17 137.103 1416.58 Q134.047 1411.98 134.047 1403.25 Q134.047 1394.5 137.103 1389.92 Q140.181 1385.31 145.992 1385.31 Z\" fill=\"#000000\" fill-rule=\"nonzero\" fill-opacity=\"1\" /><path clip-path=\"url(#clip320)\" d=\"M51.9875 1077.59 L81.6633 1077.59 L81.6633 1081.52 L51.9875 1081.52 L51.9875 1077.59 Z\" fill=\"#000000\" fill-rule=\"nonzero\" fill-opacity=\"1\" /><path clip-path=\"url(#clip320)\" d=\"M101.756 1062.94 Q98.1447 1062.94 96.316 1066.5 Q94.5104 1070.04 94.5104 1077.17 Q94.5104 1084.28 96.316 1087.84 Q98.1447 1091.38 101.756 1091.38 Q105.39 1091.38 107.196 1087.84 Q109.024 1084.28 109.024 1077.17 Q109.024 1070.04 107.196 1066.5 Q105.39 1062.94 101.756 1062.94 M101.756 1059.23 Q107.566 1059.23 110.621 1063.84 Q113.7 1068.42 113.7 1077.17 Q113.7 1085.9 110.621 1090.51 Q107.566 1095.09 101.756 1095.09 Q95.9456 1095.09 92.8669 1090.51 Q89.8114 1085.9 89.8114 1077.17 Q89.8114 1068.42 92.8669 1063.84 Q95.9456 1059.23 101.756 1059.23 Z\" fill=\"#000000\" fill-rule=\"nonzero\" fill-opacity=\"1\" /><path clip-path=\"url(#clip320)\" d=\"M121.918 1088.54 L126.802 1088.54 L126.802 1094.42 L121.918 1094.42 L121.918 1088.54 Z\" fill=\"#000000\" fill-rule=\"nonzero\" fill-opacity=\"1\" /><path clip-path=\"url(#clip320)\" d=\"M137.033 1059.86 L155.39 1059.86 L155.39 1063.79 L141.316 1063.79 L141.316 1072.26 Q142.334 1071.92 143.353 1071.76 Q144.371 1071.57 145.39 1071.57 Q151.177 1071.57 154.556 1074.74 Q157.936 1077.91 157.936 1083.33 Q157.936 1088.91 154.464 1092.01 Q150.992 1095.09 144.672 1095.09 Q142.496 1095.09 140.228 1094.72 Q137.982 1094.35 135.575 1093.61 L135.575 1088.91 Q137.658 1090.04 139.881 1090.6 Q142.103 1091.15 144.58 1091.15 Q148.584 1091.15 150.922 1089.05 Q153.26 1086.94 153.26 1083.33 Q153.26 1079.72 150.922 1077.61 Q148.584 1075.51 144.58 1075.51 Q142.705 1075.51 140.83 1075.92 Q138.978 1076.34 137.033 1077.22 L137.033 1059.86 Z\" fill=\"#000000\" fill-rule=\"nonzero\" fill-opacity=\"1\" /><path clip-path=\"url(#clip320)\" d=\"M100.76 736.859 Q97.1493 736.859 95.3206 740.424 Q93.515 743.965 93.515 751.095 Q93.515 758.202 95.3206 761.766 Q97.1493 765.308 100.76 765.308 Q104.395 765.308 106.2 761.766 Q108.029 758.202 108.029 751.095 Q108.029 743.965 106.2 740.424 Q104.395 736.859 100.76 736.859 M100.76 733.155 Q106.571 733.155 109.626 737.762 Q112.705 742.345 112.705 751.095 Q112.705 759.822 109.626 764.428 Q106.571 769.012 100.76 769.012 Q94.9502 769.012 91.8715 764.428 Q88.816 759.822 88.816 751.095 Q88.816 742.345 91.8715 737.762 Q94.9502 733.155 100.76 733.155 Z\" fill=\"#000000\" fill-rule=\"nonzero\" fill-opacity=\"1\" /><path clip-path=\"url(#clip320)\" d=\"M120.922 762.461 L125.807 762.461 L125.807 768.34 L120.922 768.34 L120.922 762.461 Z\" fill=\"#000000\" fill-rule=\"nonzero\" fill-opacity=\"1\" /><path clip-path=\"url(#clip320)\" d=\"M145.992 736.859 Q142.381 736.859 140.552 740.424 Q138.746 743.965 138.746 751.095 Q138.746 758.202 140.552 761.766 Q142.381 765.308 145.992 765.308 Q149.626 765.308 151.431 761.766 Q153.26 758.202 153.26 751.095 Q153.26 743.965 151.431 740.424 Q149.626 736.859 145.992 736.859 M145.992 733.155 Q151.802 733.155 154.857 737.762 Q157.936 742.345 157.936 751.095 Q157.936 759.822 154.857 764.428 Q151.802 769.012 145.992 769.012 Q140.181 769.012 137.103 764.428 Q134.047 759.822 134.047 751.095 Q134.047 742.345 137.103 737.762 Q140.181 733.155 145.992 733.155 Z\" fill=\"#000000\" fill-rule=\"nonzero\" fill-opacity=\"1\" /><path clip-path=\"url(#clip320)\" d=\"M101.756 410.782 Q98.1447 410.782 96.316 414.347 Q94.5104 417.889 94.5104 425.018 Q94.5104 432.125 96.316 435.69 Q98.1447 439.231 101.756 439.231 Q105.39 439.231 107.196 435.69 Q109.024 432.125 109.024 425.018 Q109.024 417.889 107.196 414.347 Q105.39 410.782 101.756 410.782 M101.756 407.079 Q107.566 407.079 110.621 411.685 Q113.7 416.268 113.7 425.018 Q113.7 433.745 110.621 438.352 Q107.566 442.935 101.756 442.935 Q95.9456 442.935 92.8669 438.352 Q89.8114 433.745 89.8114 425.018 Q89.8114 416.268 92.8669 411.685 Q95.9456 407.079 101.756 407.079 Z\" fill=\"#000000\" fill-rule=\"nonzero\" fill-opacity=\"1\" /><path clip-path=\"url(#clip320)\" d=\"M121.918 436.384 L126.802 436.384 L126.802 442.264 L121.918 442.264 L121.918 436.384 Z\" fill=\"#000000\" fill-rule=\"nonzero\" fill-opacity=\"1\" /><path clip-path=\"url(#clip320)\" d=\"M137.033 407.704 L155.39 407.704 L155.39 411.639 L141.316 411.639 L141.316 420.111 Q142.334 419.764 143.353 419.602 Q144.371 419.417 145.39 419.417 Q151.177 419.417 154.556 422.588 Q157.936 425.759 157.936 431.176 Q157.936 436.754 154.464 439.856 Q150.992 442.935 144.672 442.935 Q142.496 442.935 140.228 442.565 Q137.982 442.194 135.575 441.453 L135.575 436.754 Q137.658 437.889 139.881 438.444 Q142.103 439 144.58 439 Q148.584 439 150.922 436.893 Q153.26 434.787 153.26 431.176 Q153.26 427.565 150.922 425.458 Q148.584 423.352 144.58 423.352 Q142.705 423.352 140.83 423.768 Q138.978 424.185 137.033 425.065 L137.033 407.704 Z\" fill=\"#000000\" fill-rule=\"nonzero\" fill-opacity=\"1\" /><path clip-path=\"url(#clip320)\" d=\"M91.5706 112.252 L99.2095 112.252 L99.2095 85.8861 L90.8993 87.5527 L90.8993 83.2935 L99.1632 81.6269 L103.839 81.6269 L103.839 112.252 L111.478 112.252 L111.478 116.187 L91.5706 116.187 L91.5706 112.252 Z\" fill=\"#000000\" fill-rule=\"nonzero\" fill-opacity=\"1\" /><path clip-path=\"url(#clip320)\" d=\"M120.922 110.307 L125.807 110.307 L125.807 116.187 L120.922 116.187 L120.922 110.307 Z\" fill=\"#000000\" fill-rule=\"nonzero\" fill-opacity=\"1\" /><path clip-path=\"url(#clip320)\" d=\"M145.992 84.7055 Q142.381 84.7055 140.552 88.2703 Q138.746 91.812 138.746 98.9416 Q138.746 106.048 140.552 109.613 Q142.381 113.154 145.992 113.154 Q149.626 113.154 151.431 109.613 Q153.26 106.048 153.26 98.9416 Q153.26 91.812 151.431 88.2703 Q149.626 84.7055 145.992 84.7055 M145.992 81.0019 Q151.802 81.0019 154.857 85.6083 Q157.936 90.1916 157.936 98.9416 Q157.936 107.668 154.857 112.275 Q151.802 116.858 145.992 116.858 Q140.181 116.858 137.103 112.275 Q134.047 107.668 134.047 98.9416 Q134.047 90.1916 137.103 85.6083 Q140.181 81.0019 145.992 81.0019 Z\" fill=\"#000000\" fill-rule=\"nonzero\" fill-opacity=\"1\" /><circle clip-path=\"url(#clip322)\" cx=\"255.035\" cy=\"843.926\" r=\"14.4\" fill=\"#009af9\" fill-rule=\"evenodd\" fill-opacity=\"1\" stroke=\"#000000\" stroke-opacity=\"1\" stroke-width=\"3.2\"/>\n",
       "<circle clip-path=\"url(#clip322)\" cx=\"356.866\" cy=\"269.235\" r=\"14.4\" fill=\"#009af9\" fill-rule=\"evenodd\" fill-opacity=\"1\" stroke=\"#000000\" stroke-opacity=\"1\" stroke-width=\"3.2\"/>\n",
       "<circle clip-path=\"url(#clip322)\" cx=\"458.697\" cy=\"104.284\" r=\"14.4\" fill=\"#009af9\" fill-rule=\"evenodd\" fill-opacity=\"1\" stroke=\"#000000\" stroke-opacity=\"1\" stroke-width=\"3.2\"/>\n",
       "<circle clip-path=\"url(#clip322)\" cx=\"560.528\" cy=\"129.364\" r=\"14.4\" fill=\"#009af9\" fill-rule=\"evenodd\" fill-opacity=\"1\" stroke=\"#000000\" stroke-opacity=\"1\" stroke-width=\"3.2\"/>\n",
       "<circle clip-path=\"url(#clip322)\" cx=\"662.359\" cy=\"403.247\" r=\"14.4\" fill=\"#009af9\" fill-rule=\"evenodd\" fill-opacity=\"1\" stroke=\"#000000\" stroke-opacity=\"1\" stroke-width=\"3.2\"/>\n",
       "<circle clip-path=\"url(#clip322)\" cx=\"764.19\" cy=\"803.005\" r=\"14.4\" fill=\"#009af9\" fill-rule=\"evenodd\" fill-opacity=\"1\" stroke=\"#000000\" stroke-opacity=\"1\" stroke-width=\"3.2\"/>\n",
       "<circle clip-path=\"url(#clip322)\" cx=\"866.021\" cy=\"1207.64\" r=\"14.4\" fill=\"#009af9\" fill-rule=\"evenodd\" fill-opacity=\"1\" stroke=\"#000000\" stroke-opacity=\"1\" stroke-width=\"3.2\"/>\n",
       "<circle clip-path=\"url(#clip322)\" cx=\"967.853\" cy=\"1363.9\" r=\"14.4\" fill=\"#009af9\" fill-rule=\"evenodd\" fill-opacity=\"1\" stroke=\"#000000\" stroke-opacity=\"1\" stroke-width=\"3.2\"/>\n",
       "<circle clip-path=\"url(#clip322)\" cx=\"1069.68\" cy=\"1429.94\" r=\"14.4\" fill=\"#009af9\" fill-rule=\"evenodd\" fill-opacity=\"1\" stroke=\"#000000\" stroke-opacity=\"1\" stroke-width=\"3.2\"/>\n",
       "<circle clip-path=\"url(#clip322)\" cx=\"1171.51\" cy=\"1099.57\" r=\"14.4\" fill=\"#009af9\" fill-rule=\"evenodd\" fill-opacity=\"1\" stroke=\"#000000\" stroke-opacity=\"1\" stroke-width=\"3.2\"/>\n",
       "<circle clip-path=\"url(#clip322)\" cx=\"1273.35\" cy=\"849.512\" r=\"14.4\" fill=\"#009af9\" fill-rule=\"evenodd\" fill-opacity=\"1\" stroke=\"#000000\" stroke-opacity=\"1\" stroke-width=\"3.2\"/>\n",
       "<circle clip-path=\"url(#clip322)\" cx=\"1375.18\" cy=\"434.171\" r=\"14.4\" fill=\"#009af9\" fill-rule=\"evenodd\" fill-opacity=\"1\" stroke=\"#000000\" stroke-opacity=\"1\" stroke-width=\"3.2\"/>\n",
       "<circle clip-path=\"url(#clip322)\" cx=\"1477.01\" cy=\"193.278\" r=\"14.4\" fill=\"#009af9\" fill-rule=\"evenodd\" fill-opacity=\"1\" stroke=\"#000000\" stroke-opacity=\"1\" stroke-width=\"3.2\"/>\n",
       "<circle clip-path=\"url(#clip322)\" cx=\"1578.84\" cy=\"87.9763\" r=\"14.4\" fill=\"#009af9\" fill-rule=\"evenodd\" fill-opacity=\"1\" stroke=\"#000000\" stroke-opacity=\"1\" stroke-width=\"3.2\"/>\n",
       "<circle clip-path=\"url(#clip322)\" cx=\"1680.67\" cy=\"342.817\" r=\"14.4\" fill=\"#009af9\" fill-rule=\"evenodd\" fill-opacity=\"1\" stroke=\"#000000\" stroke-opacity=\"1\" stroke-width=\"3.2\"/>\n",
       "<circle clip-path=\"url(#clip322)\" cx=\"1782.5\" cy=\"674.758\" r=\"14.4\" fill=\"#009af9\" fill-rule=\"evenodd\" fill-opacity=\"1\" stroke=\"#000000\" stroke-opacity=\"1\" stroke-width=\"3.2\"/>\n",
       "<circle clip-path=\"url(#clip322)\" cx=\"1884.33\" cy=\"1125.09\" r=\"14.4\" fill=\"#009af9\" fill-rule=\"evenodd\" fill-opacity=\"1\" stroke=\"#000000\" stroke-opacity=\"1\" stroke-width=\"3.2\"/>\n",
       "<circle clip-path=\"url(#clip322)\" cx=\"1986.16\" cy=\"1445.72\" r=\"14.4\" fill=\"#009af9\" fill-rule=\"evenodd\" fill-opacity=\"1\" stroke=\"#000000\" stroke-opacity=\"1\" stroke-width=\"3.2\"/>\n",
       "<circle clip-path=\"url(#clip322)\" cx=\"2087.99\" cy=\"1326.21\" r=\"14.4\" fill=\"#009af9\" fill-rule=\"evenodd\" fill-opacity=\"1\" stroke=\"#000000\" stroke-opacity=\"1\" stroke-width=\"3.2\"/>\n",
       "<circle clip-path=\"url(#clip322)\" cx=\"2189.83\" cy=\"1165.73\" r=\"14.4\" fill=\"#009af9\" fill-rule=\"evenodd\" fill-opacity=\"1\" stroke=\"#000000\" stroke-opacity=\"1\" stroke-width=\"3.2\"/>\n",
       "<circle clip-path=\"url(#clip322)\" cx=\"2291.66\" cy=\"810.129\" r=\"14.4\" fill=\"#009af9\" fill-rule=\"evenodd\" fill-opacity=\"1\" stroke=\"#000000\" stroke-opacity=\"1\" stroke-width=\"3.2\"/>\n",
       "<polyline clip-path=\"url(#clip322)\" style=\"stroke:#e26f46; stroke-linecap:round; stroke-linejoin:round; stroke-width:4; stroke-opacity:1; fill:none\" points=\"255.035,202.183 356.866,354.221 458.697,500.886 560.528,637.8 662.359,759.408 764.19,858.84 866.021,927.941 967.853,957.903 1069.68,941.439 1171.51,878.025 1273.35,781.614 1375.18,682.116 1477.01,611.202 1578.84,586.014 1680.67,608.095 1782.5,670.908 1884.33,765.709 1986.16,884.163 2087.99,1019.16 2189.83,1164.93 2291.66,1316.89 \"/>\n",
       "<path clip-path=\"url(#clip320)\" d=\"M1926.05 250.738 L2280.8 250.738 L2280.8 95.2176 L1926.05 95.2176  Z\" fill=\"#ffffff\" fill-rule=\"evenodd\" fill-opacity=\"1\"/>\n",
       "<polyline clip-path=\"url(#clip320)\" style=\"stroke:#000000; stroke-linecap:round; stroke-linejoin:round; stroke-width:4; stroke-opacity:1; fill:none\" points=\"1926.05,250.738 2280.8,250.738 2280.8,95.2176 1926.05,95.2176 1926.05,250.738 \"/>\n",
       "<circle clip-path=\"url(#clip320)\" cx=\"2022\" cy=\"147.058\" r=\"20.48\" fill=\"#009af9\" fill-rule=\"evenodd\" fill-opacity=\"1\" stroke=\"#000000\" stroke-opacity=\"1\" stroke-width=\"4.55111\"/>\n",
       "<path clip-path=\"url(#clip320)\" d=\"M2136.86 142.347 L2136.86 128.319 L2141.11 128.319 L2141.11 164.338 L2136.86 164.338 L2136.86 160.449 Q2135.51 162.763 2133.45 163.898 Q2131.42 165.009 2128.55 165.009 Q2123.85 165.009 2120.88 161.259 Q2117.94 157.509 2117.94 151.398 Q2117.94 145.287 2120.88 141.537 Q2123.85 137.787 2128.55 137.787 Q2131.42 137.787 2133.45 138.921 Q2135.51 140.032 2136.86 142.347 M2122.34 151.398 Q2122.34 156.097 2124.26 158.782 Q2126.21 161.444 2129.59 161.444 Q2132.97 161.444 2134.91 158.782 Q2136.86 156.097 2136.86 151.398 Q2136.86 146.699 2134.91 144.037 Q2132.97 141.352 2129.59 141.352 Q2126.21 141.352 2124.26 144.037 Q2122.34 146.699 2122.34 151.398 Z\" fill=\"#000000\" fill-rule=\"nonzero\" fill-opacity=\"1\" /><path clip-path=\"url(#clip320)\" d=\"M2161.67 151.305 Q2156.51 151.305 2154.52 152.486 Q2152.53 153.666 2152.53 156.514 Q2152.53 158.782 2154.01 160.125 Q2155.51 161.444 2158.08 161.444 Q2161.62 161.444 2163.75 158.944 Q2165.91 156.421 2165.91 152.254 L2165.91 151.305 L2161.67 151.305 M2170.17 149.546 L2170.17 164.338 L2165.91 164.338 L2165.91 160.402 Q2164.45 162.763 2162.27 163.898 Q2160.1 165.009 2156.95 165.009 Q2152.97 165.009 2150.61 162.787 Q2148.27 160.541 2148.27 156.791 Q2148.27 152.416 2151.18 150.194 Q2154.12 147.972 2159.93 147.972 L2165.91 147.972 L2165.91 147.555 Q2165.91 144.615 2163.96 143.018 Q2162.04 141.398 2158.54 141.398 Q2156.32 141.398 2154.22 141.93 Q2152.11 142.463 2150.17 143.527 L2150.17 139.592 Q2152.5 138.69 2154.7 138.25 Q2156.9 137.787 2158.98 137.787 Q2164.61 137.787 2167.39 140.703 Q2170.17 143.62 2170.17 149.546 Z\" fill=\"#000000\" fill-rule=\"nonzero\" fill-opacity=\"1\" /><path clip-path=\"url(#clip320)\" d=\"M2183.15 131.051 L2183.15 138.412 L2191.92 138.412 L2191.92 141.722 L2183.15 141.722 L2183.15 155.796 Q2183.15 158.967 2184.01 159.87 Q2184.89 160.773 2187.55 160.773 L2191.92 160.773 L2191.92 164.338 L2187.55 164.338 Q2182.62 164.338 2180.74 162.509 Q2178.87 160.657 2178.87 155.796 L2178.87 141.722 L2175.74 141.722 L2175.74 138.412 L2178.87 138.412 L2178.87 131.051 L2183.15 131.051 Z\" fill=\"#000000\" fill-rule=\"nonzero\" fill-opacity=\"1\" /><path clip-path=\"url(#clip320)\" d=\"M2209.31 151.305 Q2204.15 151.305 2202.16 152.486 Q2200.17 153.666 2200.17 156.514 Q2200.17 158.782 2201.65 160.125 Q2203.15 161.444 2205.72 161.444 Q2209.26 161.444 2211.39 158.944 Q2213.54 156.421 2213.54 152.254 L2213.54 151.305 L2209.31 151.305 M2217.8 149.546 L2217.8 164.338 L2213.54 164.338 L2213.54 160.402 Q2212.09 162.763 2209.91 163.898 Q2207.73 165.009 2204.59 165.009 Q2200.6 165.009 2198.24 162.787 Q2195.91 160.541 2195.91 156.791 Q2195.91 152.416 2198.82 150.194 Q2201.76 147.972 2207.57 147.972 L2213.54 147.972 L2213.54 147.555 Q2213.54 144.615 2211.6 143.018 Q2209.68 141.398 2206.18 141.398 Q2203.96 141.398 2201.85 141.93 Q2199.75 142.463 2197.8 143.527 L2197.8 139.592 Q2200.14 138.69 2202.34 138.25 Q2204.54 137.787 2206.62 137.787 Q2212.25 137.787 2215.03 140.703 Q2217.8 143.62 2217.8 149.546 Z\" fill=\"#000000\" fill-rule=\"nonzero\" fill-opacity=\"1\" /><polyline clip-path=\"url(#clip320)\" style=\"stroke:#e26f46; stroke-linecap:round; stroke-linejoin:round; stroke-width:4; stroke-opacity:1; fill:none\" points=\"1950.04,198.898 2093.96,198.898 \"/>\n",
       "<path clip-path=\"url(#clip320)\" d=\"M2138.29 195.229 Q2139.89 192.358 2142.11 190.993 Q2144.33 189.627 2147.34 189.627 Q2151.39 189.627 2153.59 192.474 Q2155.79 195.298 2155.79 200.529 L2155.79 216.178 L2151.51 216.178 L2151.51 200.668 Q2151.51 196.942 2150.19 195.136 Q2148.87 193.33 2146.16 193.33 Q2142.85 193.33 2140.93 195.53 Q2139.01 197.729 2139.01 201.525 L2139.01 216.178 L2134.73 216.178 L2134.73 200.668 Q2134.73 196.918 2133.41 195.136 Q2132.09 193.33 2129.33 193.33 Q2126.07 193.33 2124.15 195.553 Q2122.23 197.752 2122.23 201.525 L2122.23 216.178 L2117.94 216.178 L2117.94 190.252 L2122.23 190.252 L2122.23 194.28 Q2123.68 191.895 2125.72 190.761 Q2127.76 189.627 2130.56 189.627 Q2133.38 189.627 2135.35 191.062 Q2137.34 192.497 2138.29 195.229 Z\" fill=\"#000000\" fill-rule=\"nonzero\" fill-opacity=\"1\" /><path clip-path=\"url(#clip320)\" d=\"M2174.33 193.238 Q2170.91 193.238 2168.92 195.923 Q2166.92 198.585 2166.92 203.238 Q2166.92 207.891 2168.89 210.576 Q2170.88 213.238 2174.33 213.238 Q2177.73 213.238 2179.73 210.553 Q2181.72 207.867 2181.72 203.238 Q2181.72 198.631 2179.73 195.946 Q2177.73 193.238 2174.33 193.238 M2174.33 189.627 Q2179.89 189.627 2183.06 193.238 Q2186.23 196.849 2186.23 203.238 Q2186.23 209.604 2183.06 213.238 Q2179.89 216.849 2174.33 216.849 Q2168.75 216.849 2165.58 213.238 Q2162.43 209.604 2162.43 203.238 Q2162.43 196.849 2165.58 193.238 Q2168.75 189.627 2174.33 189.627 Z\" fill=\"#000000\" fill-rule=\"nonzero\" fill-opacity=\"1\" /><path clip-path=\"url(#clip320)\" d=\"M2210.35 194.187 L2210.35 180.159 L2214.61 180.159 L2214.61 216.178 L2210.35 216.178 L2210.35 212.289 Q2209.01 214.603 2206.95 215.738 Q2204.91 216.849 2202.04 216.849 Q2197.34 216.849 2194.38 213.099 Q2191.44 209.349 2191.44 203.238 Q2191.44 197.127 2194.38 193.377 Q2197.34 189.627 2202.04 189.627 Q2204.91 189.627 2206.95 190.761 Q2209.01 191.872 2210.35 194.187 M2195.84 203.238 Q2195.84 207.937 2197.76 210.622 Q2199.7 213.284 2203.08 213.284 Q2206.46 213.284 2208.41 210.622 Q2210.35 207.937 2210.35 203.238 Q2210.35 198.539 2208.41 195.877 Q2206.46 193.192 2203.08 193.192 Q2199.7 193.192 2197.76 195.877 Q2195.84 198.539 2195.84 203.238 Z\" fill=\"#000000\" fill-rule=\"nonzero\" fill-opacity=\"1\" /><path clip-path=\"url(#clip320)\" d=\"M2245.56 202.15 L2245.56 204.233 L2225.98 204.233 Q2226.25 208.631 2228.61 210.946 Q2231 213.238 2235.23 213.238 Q2237.69 213.238 2239.98 212.636 Q2242.29 212.034 2244.56 210.83 L2244.56 214.858 Q2242.27 215.83 2239.86 216.34 Q2237.46 216.849 2234.98 216.849 Q2228.78 216.849 2225.14 213.238 Q2221.53 209.627 2221.53 203.469 Q2221.53 197.104 2224.96 193.377 Q2228.41 189.627 2234.24 189.627 Q2239.47 189.627 2242.5 193.006 Q2245.56 196.363 2245.56 202.15 M2241.3 200.9 Q2241.25 197.405 2239.33 195.321 Q2237.43 193.238 2234.29 193.238 Q2230.72 193.238 2228.57 195.252 Q2226.44 197.266 2226.11 200.923 L2241.3 200.9 Z\" fill=\"#000000\" fill-rule=\"nonzero\" fill-opacity=\"1\" /><path clip-path=\"url(#clip320)\" d=\"M2252.55 180.159 L2256.81 180.159 L2256.81 216.178 L2252.55 216.178 L2252.55 180.159 Z\" fill=\"#000000\" fill-rule=\"nonzero\" fill-opacity=\"1\" /></svg>\n"
      ],
      "text/html": [
       "<?xml version=\"1.0\" encoding=\"utf-8\"?>\n",
       "<svg xmlns=\"http://www.w3.org/2000/svg\" xmlns:xlink=\"http://www.w3.org/1999/xlink\" width=\"600\" height=\"400\" viewBox=\"0 0 2400 1600\">\n",
       "<defs>\n",
       "  <clipPath id=\"clip370\">\n",
       "    <rect x=\"0\" y=\"0\" width=\"2400\" height=\"1600\"/>\n",
       "  </clipPath>\n",
       "</defs>\n",
       "<path clip-path=\"url(#clip370)\" d=\"M0 1600 L2400 1600 L2400 0 L0 0  Z\" fill=\"#ffffff\" fill-rule=\"evenodd\" fill-opacity=\"1\"/>\n",
       "<defs>\n",
       "  <clipPath id=\"clip371\">\n",
       "    <rect x=\"480\" y=\"0\" width=\"1681\" height=\"1600\"/>\n",
       "  </clipPath>\n",
       "</defs>\n",
       "<path clip-path=\"url(#clip370)\" d=\"M193.936 1486.45 L2352.76 1486.45 L2352.76 47.2441 L193.936 47.2441  Z\" fill=\"#ffffff\" fill-rule=\"evenodd\" fill-opacity=\"1\"/>\n",
       "<defs>\n",
       "  <clipPath id=\"clip372\">\n",
       "    <rect x=\"193\" y=\"47\" width=\"2160\" height=\"1440\"/>\n",
       "  </clipPath>\n",
       "</defs>\n",
       "<polyline clip-path=\"url(#clip372)\" style=\"stroke:#000000; stroke-linecap:round; stroke-linejoin:round; stroke-width:2; stroke-opacity:0.1; fill:none\" points=\"255.035,1486.45 255.035,47.2441 \"/>\n",
       "<polyline clip-path=\"url(#clip372)\" style=\"stroke:#000000; stroke-linecap:round; stroke-linejoin:round; stroke-width:2; stroke-opacity:0.1; fill:none\" points=\"764.19,1486.45 764.19,47.2441 \"/>\n",
       "<polyline clip-path=\"url(#clip372)\" style=\"stroke:#000000; stroke-linecap:round; stroke-linejoin:round; stroke-width:2; stroke-opacity:0.1; fill:none\" points=\"1273.35,1486.45 1273.35,47.2441 \"/>\n",
       "<polyline clip-path=\"url(#clip372)\" style=\"stroke:#000000; stroke-linecap:round; stroke-linejoin:round; stroke-width:2; stroke-opacity:0.1; fill:none\" points=\"1782.5,1486.45 1782.5,47.2441 \"/>\n",
       "<polyline clip-path=\"url(#clip372)\" style=\"stroke:#000000; stroke-linecap:round; stroke-linejoin:round; stroke-width:2; stroke-opacity:0.1; fill:none\" points=\"2291.66,1486.45 2291.66,47.2441 \"/>\n",
       "<polyline clip-path=\"url(#clip370)\" style=\"stroke:#000000; stroke-linecap:round; stroke-linejoin:round; stroke-width:4; stroke-opacity:1; fill:none\" points=\"193.936,1486.45 2352.76,1486.45 \"/>\n",
       "<polyline clip-path=\"url(#clip370)\" style=\"stroke:#000000; stroke-linecap:round; stroke-linejoin:round; stroke-width:4; stroke-opacity:1; fill:none\" points=\"255.035,1486.45 255.035,1467.55 \"/>\n",
       "<polyline clip-path=\"url(#clip370)\" style=\"stroke:#000000; stroke-linecap:round; stroke-linejoin:round; stroke-width:4; stroke-opacity:1; fill:none\" points=\"764.19,1486.45 764.19,1467.55 \"/>\n",
       "<polyline clip-path=\"url(#clip370)\" style=\"stroke:#000000; stroke-linecap:round; stroke-linejoin:round; stroke-width:4; stroke-opacity:1; fill:none\" points=\"1273.35,1486.45 1273.35,1467.55 \"/>\n",
       "<polyline clip-path=\"url(#clip370)\" style=\"stroke:#000000; stroke-linecap:round; stroke-linejoin:round; stroke-width:4; stroke-opacity:1; fill:none\" points=\"1782.5,1486.45 1782.5,1467.55 \"/>\n",
       "<polyline clip-path=\"url(#clip370)\" style=\"stroke:#000000; stroke-linecap:round; stroke-linejoin:round; stroke-width:4; stroke-opacity:1; fill:none\" points=\"2291.66,1486.45 2291.66,1467.55 \"/>\n",
       "<path clip-path=\"url(#clip370)\" d=\"M201.563 1532.02 L231.239 1532.02 L231.239 1535.95 L201.563 1535.95 L201.563 1532.02 Z\" fill=\"#000000\" fill-rule=\"nonzero\" fill-opacity=\"1\" /><path clip-path=\"url(#clip370)\" d=\"M242.141 1544.91 L249.78 1544.91 L249.78 1518.55 L241.47 1520.21 L241.47 1515.95 L249.734 1514.29 L254.41 1514.29 L254.41 1544.91 L262.049 1544.91 L262.049 1548.85 L242.141 1548.85 L242.141 1544.91 Z\" fill=\"#000000\" fill-rule=\"nonzero\" fill-opacity=\"1\" /><path clip-path=\"url(#clip370)\" d=\"M271.493 1542.97 L276.377 1542.97 L276.377 1548.85 L271.493 1548.85 L271.493 1542.97 Z\" fill=\"#000000\" fill-rule=\"nonzero\" fill-opacity=\"1\" /><path clip-path=\"url(#clip370)\" d=\"M296.562 1517.37 Q292.951 1517.37 291.122 1520.93 Q289.317 1524.47 289.317 1531.6 Q289.317 1538.71 291.122 1542.27 Q292.951 1545.82 296.562 1545.82 Q300.196 1545.82 302.002 1542.27 Q303.831 1538.71 303.831 1531.6 Q303.831 1524.47 302.002 1520.93 Q300.196 1517.37 296.562 1517.37 M296.562 1513.66 Q302.372 1513.66 305.428 1518.27 Q308.507 1522.85 308.507 1531.6 Q308.507 1540.33 305.428 1544.94 Q302.372 1549.52 296.562 1549.52 Q290.752 1549.52 287.673 1544.94 Q284.618 1540.33 284.618 1531.6 Q284.618 1522.85 287.673 1518.27 Q290.752 1513.66 296.562 1513.66 Z\" fill=\"#000000\" fill-rule=\"nonzero\" fill-opacity=\"1\" /><path clip-path=\"url(#clip370)\" d=\"M711.216 1532.02 L740.892 1532.02 L740.892 1535.95 L711.216 1535.95 L711.216 1532.02 Z\" fill=\"#000000\" fill-rule=\"nonzero\" fill-opacity=\"1\" /><path clip-path=\"url(#clip370)\" d=\"M760.984 1517.37 Q757.373 1517.37 755.545 1520.93 Q753.739 1524.47 753.739 1531.6 Q753.739 1538.71 755.545 1542.27 Q757.373 1545.82 760.984 1545.82 Q764.619 1545.82 766.424 1542.27 Q768.253 1538.71 768.253 1531.6 Q768.253 1524.47 766.424 1520.93 Q764.619 1517.37 760.984 1517.37 M760.984 1513.66 Q766.794 1513.66 769.85 1518.27 Q772.929 1522.85 772.929 1531.6 Q772.929 1540.33 769.85 1544.94 Q766.794 1549.52 760.984 1549.52 Q755.174 1549.52 752.095 1544.94 Q749.04 1540.33 749.04 1531.6 Q749.04 1522.85 752.095 1518.27 Q755.174 1513.66 760.984 1513.66 Z\" fill=\"#000000\" fill-rule=\"nonzero\" fill-opacity=\"1\" /><path clip-path=\"url(#clip370)\" d=\"M781.146 1542.97 L786.03 1542.97 L786.03 1548.85 L781.146 1548.85 L781.146 1542.97 Z\" fill=\"#000000\" fill-rule=\"nonzero\" fill-opacity=\"1\" /><path clip-path=\"url(#clip370)\" d=\"M796.262 1514.29 L814.618 1514.29 L814.618 1518.22 L800.544 1518.22 L800.544 1526.7 Q801.563 1526.35 802.581 1526.19 Q803.6 1526 804.618 1526 Q810.405 1526 813.785 1529.17 Q817.165 1532.34 817.165 1537.76 Q817.165 1543.34 813.692 1546.44 Q810.22 1549.52 803.901 1549.52 Q801.725 1549.52 799.456 1549.15 Q797.211 1548.78 794.804 1548.04 L794.804 1543.34 Q796.887 1544.47 799.109 1545.03 Q801.331 1545.58 803.808 1545.58 Q807.813 1545.58 810.151 1543.48 Q812.489 1541.37 812.489 1537.76 Q812.489 1534.15 810.151 1532.04 Q807.813 1529.94 803.808 1529.94 Q801.933 1529.94 800.058 1530.35 Q798.206 1530.77 796.262 1531.65 L796.262 1514.29 Z\" fill=\"#000000\" fill-rule=\"nonzero\" fill-opacity=\"1\" /><path clip-path=\"url(#clip370)\" d=\"M1250.73 1517.37 Q1247.12 1517.37 1245.29 1520.93 Q1243.49 1524.47 1243.49 1531.6 Q1243.49 1538.71 1245.29 1542.27 Q1247.12 1545.82 1250.73 1545.82 Q1254.36 1545.82 1256.17 1542.27 Q1258 1538.71 1258 1531.6 Q1258 1524.47 1256.17 1520.93 Q1254.36 1517.37 1250.73 1517.37 M1250.73 1513.66 Q1256.54 1513.66 1259.6 1518.27 Q1262.67 1522.85 1262.67 1531.6 Q1262.67 1540.33 1259.6 1544.94 Q1256.54 1549.52 1250.73 1549.52 Q1244.92 1549.52 1241.84 1544.94 Q1238.79 1540.33 1238.79 1531.6 Q1238.79 1522.85 1241.84 1518.27 Q1244.92 1513.66 1250.73 1513.66 Z\" fill=\"#000000\" fill-rule=\"nonzero\" fill-opacity=\"1\" /><path clip-path=\"url(#clip370)\" d=\"M1270.89 1542.97 L1275.78 1542.97 L1275.78 1548.85 L1270.89 1548.85 L1270.89 1542.97 Z\" fill=\"#000000\" fill-rule=\"nonzero\" fill-opacity=\"1\" /><path clip-path=\"url(#clip370)\" d=\"M1295.96 1517.37 Q1292.35 1517.37 1290.52 1520.93 Q1288.72 1524.47 1288.72 1531.6 Q1288.72 1538.71 1290.52 1542.27 Q1292.35 1545.82 1295.96 1545.82 Q1299.6 1545.82 1301.4 1542.27 Q1303.23 1538.71 1303.23 1531.6 Q1303.23 1524.47 1301.4 1520.93 Q1299.6 1517.37 1295.96 1517.37 M1295.96 1513.66 Q1301.77 1513.66 1304.83 1518.27 Q1307.91 1522.85 1307.91 1531.6 Q1307.91 1540.33 1304.83 1544.94 Q1301.77 1549.52 1295.96 1549.52 Q1290.15 1549.52 1287.07 1544.94 Q1284.02 1540.33 1284.02 1531.6 Q1284.02 1522.85 1287.07 1518.27 Q1290.15 1513.66 1295.96 1513.66 Z\" fill=\"#000000\" fill-rule=\"nonzero\" fill-opacity=\"1\" /><path clip-path=\"url(#clip370)\" d=\"M1760.38 1517.37 Q1756.77 1517.37 1754.94 1520.93 Q1753.14 1524.47 1753.14 1531.6 Q1753.14 1538.71 1754.94 1542.27 Q1756.77 1545.82 1760.38 1545.82 Q1764.02 1545.82 1765.82 1542.27 Q1767.65 1538.71 1767.65 1531.6 Q1767.65 1524.47 1765.82 1520.93 Q1764.02 1517.37 1760.38 1517.37 M1760.38 1513.66 Q1766.19 1513.66 1769.25 1518.27 Q1772.33 1522.85 1772.33 1531.6 Q1772.33 1540.33 1769.25 1544.94 Q1766.19 1549.52 1760.38 1549.52 Q1754.57 1549.52 1751.49 1544.94 Q1748.44 1540.33 1748.44 1531.6 Q1748.44 1522.85 1751.49 1518.27 Q1754.57 1513.66 1760.38 1513.66 Z\" fill=\"#000000\" fill-rule=\"nonzero\" fill-opacity=\"1\" /><path clip-path=\"url(#clip370)\" d=\"M1780.55 1542.97 L1785.43 1542.97 L1785.43 1548.85 L1780.55 1548.85 L1780.55 1542.97 Z\" fill=\"#000000\" fill-rule=\"nonzero\" fill-opacity=\"1\" /><path clip-path=\"url(#clip370)\" d=\"M1795.66 1514.29 L1814.02 1514.29 L1814.02 1518.22 L1799.94 1518.22 L1799.94 1526.7 Q1800.96 1526.35 1801.98 1526.19 Q1803 1526 1804.02 1526 Q1809.8 1526 1813.18 1529.17 Q1816.56 1532.34 1816.56 1537.76 Q1816.56 1543.34 1813.09 1546.44 Q1809.62 1549.52 1803.3 1549.52 Q1801.12 1549.52 1798.86 1549.15 Q1796.61 1548.78 1794.2 1548.04 L1794.2 1543.34 Q1796.29 1544.47 1798.51 1545.03 Q1800.73 1545.58 1803.21 1545.58 Q1807.21 1545.58 1809.55 1543.48 Q1811.89 1541.37 1811.89 1537.76 Q1811.89 1534.15 1809.55 1532.04 Q1807.21 1529.94 1803.21 1529.94 Q1801.33 1529.94 1799.46 1530.35 Q1797.61 1530.77 1795.66 1531.65 L1795.66 1514.29 Z\" fill=\"#000000\" fill-rule=\"nonzero\" fill-opacity=\"1\" /><path clip-path=\"url(#clip370)\" d=\"M2258.81 1544.91 L2266.45 1544.91 L2266.45 1518.55 L2258.14 1520.21 L2258.14 1515.95 L2266.4 1514.29 L2271.08 1514.29 L2271.08 1544.91 L2278.72 1544.91 L2278.72 1548.85 L2258.81 1548.85 L2258.81 1544.91 Z\" fill=\"#000000\" fill-rule=\"nonzero\" fill-opacity=\"1\" /><path clip-path=\"url(#clip370)\" d=\"M2288.16 1542.97 L2293.05 1542.97 L2293.05 1548.85 L2288.16 1548.85 L2288.16 1542.97 Z\" fill=\"#000000\" fill-rule=\"nonzero\" fill-opacity=\"1\" /><path clip-path=\"url(#clip370)\" d=\"M2313.23 1517.37 Q2309.62 1517.37 2307.79 1520.93 Q2305.99 1524.47 2305.99 1531.6 Q2305.99 1538.71 2307.79 1542.27 Q2309.62 1545.82 2313.23 1545.82 Q2316.87 1545.82 2318.67 1542.27 Q2320.5 1538.71 2320.5 1531.6 Q2320.5 1524.47 2318.67 1520.93 Q2316.87 1517.37 2313.23 1517.37 M2313.23 1513.66 Q2319.04 1513.66 2322.1 1518.27 Q2325.18 1522.85 2325.18 1531.6 Q2325.18 1540.33 2322.1 1544.94 Q2319.04 1549.52 2313.23 1549.52 Q2307.42 1549.52 2304.34 1544.94 Q2301.29 1540.33 2301.29 1531.6 Q2301.29 1522.85 2304.34 1518.27 Q2307.42 1513.66 2313.23 1513.66 Z\" fill=\"#000000\" fill-rule=\"nonzero\" fill-opacity=\"1\" /><polyline clip-path=\"url(#clip372)\" style=\"stroke:#000000; stroke-linecap:round; stroke-linejoin:round; stroke-width:2; stroke-opacity:0.1; fill:none\" points=\"193.936,1403.21 2352.76,1403.21 \"/>\n",
       "<polyline clip-path=\"url(#clip372)\" style=\"stroke:#000000; stroke-linecap:round; stroke-linejoin:round; stroke-width:2; stroke-opacity:0.1; fill:none\" points=\"193.936,1077.14 2352.76,1077.14 \"/>\n",
       "<polyline clip-path=\"url(#clip372)\" style=\"stroke:#000000; stroke-linecap:round; stroke-linejoin:round; stroke-width:2; stroke-opacity:0.1; fill:none\" points=\"193.936,751.06 2352.76,751.06 \"/>\n",
       "<polyline clip-path=\"url(#clip372)\" style=\"stroke:#000000; stroke-linecap:round; stroke-linejoin:round; stroke-width:2; stroke-opacity:0.1; fill:none\" points=\"193.936,424.984 2352.76,424.984 \"/>\n",
       "<polyline clip-path=\"url(#clip372)\" style=\"stroke:#000000; stroke-linecap:round; stroke-linejoin:round; stroke-width:2; stroke-opacity:0.1; fill:none\" points=\"193.936,98.9069 2352.76,98.9069 \"/>\n",
       "<polyline clip-path=\"url(#clip370)\" style=\"stroke:#000000; stroke-linecap:round; stroke-linejoin:round; stroke-width:4; stroke-opacity:1; fill:none\" points=\"193.936,1486.45 193.936,47.2441 \"/>\n",
       "<polyline clip-path=\"url(#clip370)\" style=\"stroke:#000000; stroke-linecap:round; stroke-linejoin:round; stroke-width:4; stroke-opacity:1; fill:none\" points=\"193.936,1403.21 212.834,1403.21 \"/>\n",
       "<polyline clip-path=\"url(#clip370)\" style=\"stroke:#000000; stroke-linecap:round; stroke-linejoin:round; stroke-width:4; stroke-opacity:1; fill:none\" points=\"193.936,1077.14 212.834,1077.14 \"/>\n",
       "<polyline clip-path=\"url(#clip370)\" style=\"stroke:#000000; stroke-linecap:round; stroke-linejoin:round; stroke-width:4; stroke-opacity:1; fill:none\" points=\"193.936,751.06 212.834,751.06 \"/>\n",
       "<polyline clip-path=\"url(#clip370)\" style=\"stroke:#000000; stroke-linecap:round; stroke-linejoin:round; stroke-width:4; stroke-opacity:1; fill:none\" points=\"193.936,424.984 212.834,424.984 \"/>\n",
       "<polyline clip-path=\"url(#clip370)\" style=\"stroke:#000000; stroke-linecap:round; stroke-linejoin:round; stroke-width:4; stroke-opacity:1; fill:none\" points=\"193.936,98.9069 212.834,98.9069 \"/>\n",
       "<path clip-path=\"url(#clip370)\" d=\"M50.9921 1403.67 L80.6679 1403.67 L80.6679 1407.6 L50.9921 1407.6 L50.9921 1403.67 Z\" fill=\"#000000\" fill-rule=\"nonzero\" fill-opacity=\"1\" /><path clip-path=\"url(#clip370)\" d=\"M91.5706 1416.56 L99.2095 1416.56 L99.2095 1390.19 L90.8993 1391.86 L90.8993 1387.6 L99.1632 1385.93 L103.839 1385.93 L103.839 1416.56 L111.478 1416.56 L111.478 1420.49 L91.5706 1420.49 L91.5706 1416.56 Z\" fill=\"#000000\" fill-rule=\"nonzero\" fill-opacity=\"1\" /><path clip-path=\"url(#clip370)\" d=\"M120.922 1414.61 L125.807 1414.61 L125.807 1420.49 L120.922 1420.49 L120.922 1414.61 Z\" fill=\"#000000\" fill-rule=\"nonzero\" fill-opacity=\"1\" /><path clip-path=\"url(#clip370)\" d=\"M145.992 1389.01 Q142.381 1389.01 140.552 1392.58 Q138.746 1396.12 138.746 1403.25 Q138.746 1410.36 140.552 1413.92 Q142.381 1417.46 145.992 1417.46 Q149.626 1417.46 151.431 1413.92 Q153.26 1410.36 153.26 1403.25 Q153.26 1396.12 151.431 1392.58 Q149.626 1389.01 145.992 1389.01 M145.992 1385.31 Q151.802 1385.31 154.857 1389.92 Q157.936 1394.5 157.936 1403.25 Q157.936 1411.98 154.857 1416.58 Q151.802 1421.17 145.992 1421.17 Q140.181 1421.17 137.103 1416.58 Q134.047 1411.98 134.047 1403.25 Q134.047 1394.5 137.103 1389.92 Q140.181 1385.31 145.992 1385.31 Z\" fill=\"#000000\" fill-rule=\"nonzero\" fill-opacity=\"1\" /><path clip-path=\"url(#clip370)\" d=\"M51.9875 1077.59 L81.6633 1077.59 L81.6633 1081.52 L51.9875 1081.52 L51.9875 1077.59 Z\" fill=\"#000000\" fill-rule=\"nonzero\" fill-opacity=\"1\" /><path clip-path=\"url(#clip370)\" d=\"M101.756 1062.94 Q98.1447 1062.94 96.316 1066.5 Q94.5104 1070.04 94.5104 1077.17 Q94.5104 1084.28 96.316 1087.84 Q98.1447 1091.38 101.756 1091.38 Q105.39 1091.38 107.196 1087.84 Q109.024 1084.28 109.024 1077.17 Q109.024 1070.04 107.196 1066.5 Q105.39 1062.94 101.756 1062.94 M101.756 1059.23 Q107.566 1059.23 110.621 1063.84 Q113.7 1068.42 113.7 1077.17 Q113.7 1085.9 110.621 1090.51 Q107.566 1095.09 101.756 1095.09 Q95.9456 1095.09 92.8669 1090.51 Q89.8114 1085.9 89.8114 1077.17 Q89.8114 1068.42 92.8669 1063.84 Q95.9456 1059.23 101.756 1059.23 Z\" fill=\"#000000\" fill-rule=\"nonzero\" fill-opacity=\"1\" /><path clip-path=\"url(#clip370)\" d=\"M121.918 1088.54 L126.802 1088.54 L126.802 1094.42 L121.918 1094.42 L121.918 1088.54 Z\" fill=\"#000000\" fill-rule=\"nonzero\" fill-opacity=\"1\" /><path clip-path=\"url(#clip370)\" d=\"M137.033 1059.86 L155.39 1059.86 L155.39 1063.79 L141.316 1063.79 L141.316 1072.26 Q142.334 1071.92 143.353 1071.76 Q144.371 1071.57 145.39 1071.57 Q151.177 1071.57 154.556 1074.74 Q157.936 1077.91 157.936 1083.33 Q157.936 1088.91 154.464 1092.01 Q150.992 1095.09 144.672 1095.09 Q142.496 1095.09 140.228 1094.72 Q137.982 1094.35 135.575 1093.61 L135.575 1088.91 Q137.658 1090.04 139.881 1090.6 Q142.103 1091.15 144.58 1091.15 Q148.584 1091.15 150.922 1089.05 Q153.26 1086.94 153.26 1083.33 Q153.26 1079.72 150.922 1077.61 Q148.584 1075.51 144.58 1075.51 Q142.705 1075.51 140.83 1075.92 Q138.978 1076.34 137.033 1077.22 L137.033 1059.86 Z\" fill=\"#000000\" fill-rule=\"nonzero\" fill-opacity=\"1\" /><path clip-path=\"url(#clip370)\" d=\"M100.76 736.859 Q97.1493 736.859 95.3206 740.424 Q93.515 743.965 93.515 751.095 Q93.515 758.202 95.3206 761.766 Q97.1493 765.308 100.76 765.308 Q104.395 765.308 106.2 761.766 Q108.029 758.202 108.029 751.095 Q108.029 743.965 106.2 740.424 Q104.395 736.859 100.76 736.859 M100.76 733.155 Q106.571 733.155 109.626 737.762 Q112.705 742.345 112.705 751.095 Q112.705 759.822 109.626 764.428 Q106.571 769.012 100.76 769.012 Q94.9502 769.012 91.8715 764.428 Q88.816 759.822 88.816 751.095 Q88.816 742.345 91.8715 737.762 Q94.9502 733.155 100.76 733.155 Z\" fill=\"#000000\" fill-rule=\"nonzero\" fill-opacity=\"1\" /><path clip-path=\"url(#clip370)\" d=\"M120.922 762.461 L125.807 762.461 L125.807 768.34 L120.922 768.34 L120.922 762.461 Z\" fill=\"#000000\" fill-rule=\"nonzero\" fill-opacity=\"1\" /><path clip-path=\"url(#clip370)\" d=\"M145.992 736.859 Q142.381 736.859 140.552 740.424 Q138.746 743.965 138.746 751.095 Q138.746 758.202 140.552 761.766 Q142.381 765.308 145.992 765.308 Q149.626 765.308 151.431 761.766 Q153.26 758.202 153.26 751.095 Q153.26 743.965 151.431 740.424 Q149.626 736.859 145.992 736.859 M145.992 733.155 Q151.802 733.155 154.857 737.762 Q157.936 742.345 157.936 751.095 Q157.936 759.822 154.857 764.428 Q151.802 769.012 145.992 769.012 Q140.181 769.012 137.103 764.428 Q134.047 759.822 134.047 751.095 Q134.047 742.345 137.103 737.762 Q140.181 733.155 145.992 733.155 Z\" fill=\"#000000\" fill-rule=\"nonzero\" fill-opacity=\"1\" /><path clip-path=\"url(#clip370)\" d=\"M101.756 410.782 Q98.1447 410.782 96.316 414.347 Q94.5104 417.889 94.5104 425.018 Q94.5104 432.125 96.316 435.69 Q98.1447 439.231 101.756 439.231 Q105.39 439.231 107.196 435.69 Q109.024 432.125 109.024 425.018 Q109.024 417.889 107.196 414.347 Q105.39 410.782 101.756 410.782 M101.756 407.079 Q107.566 407.079 110.621 411.685 Q113.7 416.268 113.7 425.018 Q113.7 433.745 110.621 438.352 Q107.566 442.935 101.756 442.935 Q95.9456 442.935 92.8669 438.352 Q89.8114 433.745 89.8114 425.018 Q89.8114 416.268 92.8669 411.685 Q95.9456 407.079 101.756 407.079 Z\" fill=\"#000000\" fill-rule=\"nonzero\" fill-opacity=\"1\" /><path clip-path=\"url(#clip370)\" d=\"M121.918 436.384 L126.802 436.384 L126.802 442.264 L121.918 442.264 L121.918 436.384 Z\" fill=\"#000000\" fill-rule=\"nonzero\" fill-opacity=\"1\" /><path clip-path=\"url(#clip370)\" d=\"M137.033 407.704 L155.39 407.704 L155.39 411.639 L141.316 411.639 L141.316 420.111 Q142.334 419.764 143.353 419.602 Q144.371 419.417 145.39 419.417 Q151.177 419.417 154.556 422.588 Q157.936 425.759 157.936 431.176 Q157.936 436.754 154.464 439.856 Q150.992 442.935 144.672 442.935 Q142.496 442.935 140.228 442.565 Q137.982 442.194 135.575 441.453 L135.575 436.754 Q137.658 437.889 139.881 438.444 Q142.103 439 144.58 439 Q148.584 439 150.922 436.893 Q153.26 434.787 153.26 431.176 Q153.26 427.565 150.922 425.458 Q148.584 423.352 144.58 423.352 Q142.705 423.352 140.83 423.768 Q138.978 424.185 137.033 425.065 L137.033 407.704 Z\" fill=\"#000000\" fill-rule=\"nonzero\" fill-opacity=\"1\" /><path clip-path=\"url(#clip370)\" d=\"M91.5706 112.252 L99.2095 112.252 L99.2095 85.8861 L90.8993 87.5527 L90.8993 83.2935 L99.1632 81.6269 L103.839 81.6269 L103.839 112.252 L111.478 112.252 L111.478 116.187 L91.5706 116.187 L91.5706 112.252 Z\" fill=\"#000000\" fill-rule=\"nonzero\" fill-opacity=\"1\" /><path clip-path=\"url(#clip370)\" d=\"M120.922 110.307 L125.807 110.307 L125.807 116.187 L120.922 116.187 L120.922 110.307 Z\" fill=\"#000000\" fill-rule=\"nonzero\" fill-opacity=\"1\" /><path clip-path=\"url(#clip370)\" d=\"M145.992 84.7055 Q142.381 84.7055 140.552 88.2703 Q138.746 91.812 138.746 98.9416 Q138.746 106.048 140.552 109.613 Q142.381 113.154 145.992 113.154 Q149.626 113.154 151.431 109.613 Q153.26 106.048 153.26 98.9416 Q153.26 91.812 151.431 88.2703 Q149.626 84.7055 145.992 84.7055 M145.992 81.0019 Q151.802 81.0019 154.857 85.6083 Q157.936 90.1916 157.936 98.9416 Q157.936 107.668 154.857 112.275 Q151.802 116.858 145.992 116.858 Q140.181 116.858 137.103 112.275 Q134.047 107.668 134.047 98.9416 Q134.047 90.1916 137.103 85.6083 Q140.181 81.0019 145.992 81.0019 Z\" fill=\"#000000\" fill-rule=\"nonzero\" fill-opacity=\"1\" /><circle clip-path=\"url(#clip372)\" cx=\"255.035\" cy=\"843.926\" r=\"14.4\" fill=\"#009af9\" fill-rule=\"evenodd\" fill-opacity=\"1\" stroke=\"#000000\" stroke-opacity=\"1\" stroke-width=\"3.2\"/>\n",
       "<circle clip-path=\"url(#clip372)\" cx=\"356.866\" cy=\"269.235\" r=\"14.4\" fill=\"#009af9\" fill-rule=\"evenodd\" fill-opacity=\"1\" stroke=\"#000000\" stroke-opacity=\"1\" stroke-width=\"3.2\"/>\n",
       "<circle clip-path=\"url(#clip372)\" cx=\"458.697\" cy=\"104.284\" r=\"14.4\" fill=\"#009af9\" fill-rule=\"evenodd\" fill-opacity=\"1\" stroke=\"#000000\" stroke-opacity=\"1\" stroke-width=\"3.2\"/>\n",
       "<circle clip-path=\"url(#clip372)\" cx=\"560.528\" cy=\"129.364\" r=\"14.4\" fill=\"#009af9\" fill-rule=\"evenodd\" fill-opacity=\"1\" stroke=\"#000000\" stroke-opacity=\"1\" stroke-width=\"3.2\"/>\n",
       "<circle clip-path=\"url(#clip372)\" cx=\"662.359\" cy=\"403.247\" r=\"14.4\" fill=\"#009af9\" fill-rule=\"evenodd\" fill-opacity=\"1\" stroke=\"#000000\" stroke-opacity=\"1\" stroke-width=\"3.2\"/>\n",
       "<circle clip-path=\"url(#clip372)\" cx=\"764.19\" cy=\"803.005\" r=\"14.4\" fill=\"#009af9\" fill-rule=\"evenodd\" fill-opacity=\"1\" stroke=\"#000000\" stroke-opacity=\"1\" stroke-width=\"3.2\"/>\n",
       "<circle clip-path=\"url(#clip372)\" cx=\"866.021\" cy=\"1207.64\" r=\"14.4\" fill=\"#009af9\" fill-rule=\"evenodd\" fill-opacity=\"1\" stroke=\"#000000\" stroke-opacity=\"1\" stroke-width=\"3.2\"/>\n",
       "<circle clip-path=\"url(#clip372)\" cx=\"967.853\" cy=\"1363.9\" r=\"14.4\" fill=\"#009af9\" fill-rule=\"evenodd\" fill-opacity=\"1\" stroke=\"#000000\" stroke-opacity=\"1\" stroke-width=\"3.2\"/>\n",
       "<circle clip-path=\"url(#clip372)\" cx=\"1069.68\" cy=\"1429.94\" r=\"14.4\" fill=\"#009af9\" fill-rule=\"evenodd\" fill-opacity=\"1\" stroke=\"#000000\" stroke-opacity=\"1\" stroke-width=\"3.2\"/>\n",
       "<circle clip-path=\"url(#clip372)\" cx=\"1171.51\" cy=\"1099.57\" r=\"14.4\" fill=\"#009af9\" fill-rule=\"evenodd\" fill-opacity=\"1\" stroke=\"#000000\" stroke-opacity=\"1\" stroke-width=\"3.2\"/>\n",
       "<circle clip-path=\"url(#clip372)\" cx=\"1273.35\" cy=\"849.512\" r=\"14.4\" fill=\"#009af9\" fill-rule=\"evenodd\" fill-opacity=\"1\" stroke=\"#000000\" stroke-opacity=\"1\" stroke-width=\"3.2\"/>\n",
       "<circle clip-path=\"url(#clip372)\" cx=\"1375.18\" cy=\"434.171\" r=\"14.4\" fill=\"#009af9\" fill-rule=\"evenodd\" fill-opacity=\"1\" stroke=\"#000000\" stroke-opacity=\"1\" stroke-width=\"3.2\"/>\n",
       "<circle clip-path=\"url(#clip372)\" cx=\"1477.01\" cy=\"193.278\" r=\"14.4\" fill=\"#009af9\" fill-rule=\"evenodd\" fill-opacity=\"1\" stroke=\"#000000\" stroke-opacity=\"1\" stroke-width=\"3.2\"/>\n",
       "<circle clip-path=\"url(#clip372)\" cx=\"1578.84\" cy=\"87.9763\" r=\"14.4\" fill=\"#009af9\" fill-rule=\"evenodd\" fill-opacity=\"1\" stroke=\"#000000\" stroke-opacity=\"1\" stroke-width=\"3.2\"/>\n",
       "<circle clip-path=\"url(#clip372)\" cx=\"1680.67\" cy=\"342.817\" r=\"14.4\" fill=\"#009af9\" fill-rule=\"evenodd\" fill-opacity=\"1\" stroke=\"#000000\" stroke-opacity=\"1\" stroke-width=\"3.2\"/>\n",
       "<circle clip-path=\"url(#clip372)\" cx=\"1782.5\" cy=\"674.758\" r=\"14.4\" fill=\"#009af9\" fill-rule=\"evenodd\" fill-opacity=\"1\" stroke=\"#000000\" stroke-opacity=\"1\" stroke-width=\"3.2\"/>\n",
       "<circle clip-path=\"url(#clip372)\" cx=\"1884.33\" cy=\"1125.09\" r=\"14.4\" fill=\"#009af9\" fill-rule=\"evenodd\" fill-opacity=\"1\" stroke=\"#000000\" stroke-opacity=\"1\" stroke-width=\"3.2\"/>\n",
       "<circle clip-path=\"url(#clip372)\" cx=\"1986.16\" cy=\"1445.72\" r=\"14.4\" fill=\"#009af9\" fill-rule=\"evenodd\" fill-opacity=\"1\" stroke=\"#000000\" stroke-opacity=\"1\" stroke-width=\"3.2\"/>\n",
       "<circle clip-path=\"url(#clip372)\" cx=\"2087.99\" cy=\"1326.21\" r=\"14.4\" fill=\"#009af9\" fill-rule=\"evenodd\" fill-opacity=\"1\" stroke=\"#000000\" stroke-opacity=\"1\" stroke-width=\"3.2\"/>\n",
       "<circle clip-path=\"url(#clip372)\" cx=\"2189.83\" cy=\"1165.73\" r=\"14.4\" fill=\"#009af9\" fill-rule=\"evenodd\" fill-opacity=\"1\" stroke=\"#000000\" stroke-opacity=\"1\" stroke-width=\"3.2\"/>\n",
       "<circle clip-path=\"url(#clip372)\" cx=\"2291.66\" cy=\"810.129\" r=\"14.4\" fill=\"#009af9\" fill-rule=\"evenodd\" fill-opacity=\"1\" stroke=\"#000000\" stroke-opacity=\"1\" stroke-width=\"3.2\"/>\n",
       "<polyline clip-path=\"url(#clip372)\" style=\"stroke:#e26f46; stroke-linecap:round; stroke-linejoin:round; stroke-width:4; stroke-opacity:1; fill:none\" points=\"255.035,202.183 356.866,354.221 458.697,500.886 560.528,637.8 662.359,759.408 764.19,858.84 866.021,927.941 967.853,957.903 1069.68,941.439 1171.51,878.025 1273.35,781.614 1375.18,682.116 1477.01,611.202 1578.84,586.014 1680.67,608.095 1782.5,670.908 1884.33,765.709 1986.16,884.163 2087.99,1019.16 2189.83,1164.93 2291.66,1316.89 \"/>\n",
       "<path clip-path=\"url(#clip370)\" d=\"M1926.05 250.738 L2280.8 250.738 L2280.8 95.2176 L1926.05 95.2176  Z\" fill=\"#ffffff\" fill-rule=\"evenodd\" fill-opacity=\"1\"/>\n",
       "<polyline clip-path=\"url(#clip370)\" style=\"stroke:#000000; stroke-linecap:round; stroke-linejoin:round; stroke-width:4; stroke-opacity:1; fill:none\" points=\"1926.05,250.738 2280.8,250.738 2280.8,95.2176 1926.05,95.2176 1926.05,250.738 \"/>\n",
       "<circle clip-path=\"url(#clip370)\" cx=\"2022\" cy=\"147.058\" r=\"20.48\" fill=\"#009af9\" fill-rule=\"evenodd\" fill-opacity=\"1\" stroke=\"#000000\" stroke-opacity=\"1\" stroke-width=\"4.55111\"/>\n",
       "<path clip-path=\"url(#clip370)\" d=\"M2136.86 142.347 L2136.86 128.319 L2141.11 128.319 L2141.11 164.338 L2136.86 164.338 L2136.86 160.449 Q2135.51 162.763 2133.45 163.898 Q2131.42 165.009 2128.55 165.009 Q2123.85 165.009 2120.88 161.259 Q2117.94 157.509 2117.94 151.398 Q2117.94 145.287 2120.88 141.537 Q2123.85 137.787 2128.55 137.787 Q2131.42 137.787 2133.45 138.921 Q2135.51 140.032 2136.86 142.347 M2122.34 151.398 Q2122.34 156.097 2124.26 158.782 Q2126.21 161.444 2129.59 161.444 Q2132.97 161.444 2134.91 158.782 Q2136.86 156.097 2136.86 151.398 Q2136.86 146.699 2134.91 144.037 Q2132.97 141.352 2129.59 141.352 Q2126.21 141.352 2124.26 144.037 Q2122.34 146.699 2122.34 151.398 Z\" fill=\"#000000\" fill-rule=\"nonzero\" fill-opacity=\"1\" /><path clip-path=\"url(#clip370)\" d=\"M2161.67 151.305 Q2156.51 151.305 2154.52 152.486 Q2152.53 153.666 2152.53 156.514 Q2152.53 158.782 2154.01 160.125 Q2155.51 161.444 2158.08 161.444 Q2161.62 161.444 2163.75 158.944 Q2165.91 156.421 2165.91 152.254 L2165.91 151.305 L2161.67 151.305 M2170.17 149.546 L2170.17 164.338 L2165.91 164.338 L2165.91 160.402 Q2164.45 162.763 2162.27 163.898 Q2160.1 165.009 2156.95 165.009 Q2152.97 165.009 2150.61 162.787 Q2148.27 160.541 2148.27 156.791 Q2148.27 152.416 2151.18 150.194 Q2154.12 147.972 2159.93 147.972 L2165.91 147.972 L2165.91 147.555 Q2165.91 144.615 2163.96 143.018 Q2162.04 141.398 2158.54 141.398 Q2156.32 141.398 2154.22 141.93 Q2152.11 142.463 2150.17 143.527 L2150.17 139.592 Q2152.5 138.69 2154.7 138.25 Q2156.9 137.787 2158.98 137.787 Q2164.61 137.787 2167.39 140.703 Q2170.17 143.62 2170.17 149.546 Z\" fill=\"#000000\" fill-rule=\"nonzero\" fill-opacity=\"1\" /><path clip-path=\"url(#clip370)\" d=\"M2183.15 131.051 L2183.15 138.412 L2191.92 138.412 L2191.92 141.722 L2183.15 141.722 L2183.15 155.796 Q2183.15 158.967 2184.01 159.87 Q2184.89 160.773 2187.55 160.773 L2191.92 160.773 L2191.92 164.338 L2187.55 164.338 Q2182.62 164.338 2180.74 162.509 Q2178.87 160.657 2178.87 155.796 L2178.87 141.722 L2175.74 141.722 L2175.74 138.412 L2178.87 138.412 L2178.87 131.051 L2183.15 131.051 Z\" fill=\"#000000\" fill-rule=\"nonzero\" fill-opacity=\"1\" /><path clip-path=\"url(#clip370)\" d=\"M2209.31 151.305 Q2204.15 151.305 2202.16 152.486 Q2200.17 153.666 2200.17 156.514 Q2200.17 158.782 2201.65 160.125 Q2203.15 161.444 2205.72 161.444 Q2209.26 161.444 2211.39 158.944 Q2213.54 156.421 2213.54 152.254 L2213.54 151.305 L2209.31 151.305 M2217.8 149.546 L2217.8 164.338 L2213.54 164.338 L2213.54 160.402 Q2212.09 162.763 2209.91 163.898 Q2207.73 165.009 2204.59 165.009 Q2200.6 165.009 2198.24 162.787 Q2195.91 160.541 2195.91 156.791 Q2195.91 152.416 2198.82 150.194 Q2201.76 147.972 2207.57 147.972 L2213.54 147.972 L2213.54 147.555 Q2213.54 144.615 2211.6 143.018 Q2209.68 141.398 2206.18 141.398 Q2203.96 141.398 2201.85 141.93 Q2199.75 142.463 2197.8 143.527 L2197.8 139.592 Q2200.14 138.69 2202.34 138.25 Q2204.54 137.787 2206.62 137.787 Q2212.25 137.787 2215.03 140.703 Q2217.8 143.62 2217.8 149.546 Z\" fill=\"#000000\" fill-rule=\"nonzero\" fill-opacity=\"1\" /><polyline clip-path=\"url(#clip370)\" style=\"stroke:#e26f46; stroke-linecap:round; stroke-linejoin:round; stroke-width:4; stroke-opacity:1; fill:none\" points=\"1950.04,198.898 2093.96,198.898 \"/>\n",
       "<path clip-path=\"url(#clip370)\" d=\"M2138.29 195.229 Q2139.89 192.358 2142.11 190.993 Q2144.33 189.627 2147.34 189.627 Q2151.39 189.627 2153.59 192.474 Q2155.79 195.298 2155.79 200.529 L2155.79 216.178 L2151.51 216.178 L2151.51 200.668 Q2151.51 196.942 2150.19 195.136 Q2148.87 193.33 2146.16 193.33 Q2142.85 193.33 2140.93 195.53 Q2139.01 197.729 2139.01 201.525 L2139.01 216.178 L2134.73 216.178 L2134.73 200.668 Q2134.73 196.918 2133.41 195.136 Q2132.09 193.33 2129.33 193.33 Q2126.07 193.33 2124.15 195.553 Q2122.23 197.752 2122.23 201.525 L2122.23 216.178 L2117.94 216.178 L2117.94 190.252 L2122.23 190.252 L2122.23 194.28 Q2123.68 191.895 2125.72 190.761 Q2127.76 189.627 2130.56 189.627 Q2133.38 189.627 2135.35 191.062 Q2137.34 192.497 2138.29 195.229 Z\" fill=\"#000000\" fill-rule=\"nonzero\" fill-opacity=\"1\" /><path clip-path=\"url(#clip370)\" d=\"M2174.33 193.238 Q2170.91 193.238 2168.92 195.923 Q2166.92 198.585 2166.92 203.238 Q2166.92 207.891 2168.89 210.576 Q2170.88 213.238 2174.33 213.238 Q2177.73 213.238 2179.73 210.553 Q2181.72 207.867 2181.72 203.238 Q2181.72 198.631 2179.73 195.946 Q2177.73 193.238 2174.33 193.238 M2174.33 189.627 Q2179.89 189.627 2183.06 193.238 Q2186.23 196.849 2186.23 203.238 Q2186.23 209.604 2183.06 213.238 Q2179.89 216.849 2174.33 216.849 Q2168.75 216.849 2165.58 213.238 Q2162.43 209.604 2162.43 203.238 Q2162.43 196.849 2165.58 193.238 Q2168.75 189.627 2174.33 189.627 Z\" fill=\"#000000\" fill-rule=\"nonzero\" fill-opacity=\"1\" /><path clip-path=\"url(#clip370)\" d=\"M2210.35 194.187 L2210.35 180.159 L2214.61 180.159 L2214.61 216.178 L2210.35 216.178 L2210.35 212.289 Q2209.01 214.603 2206.95 215.738 Q2204.91 216.849 2202.04 216.849 Q2197.34 216.849 2194.38 213.099 Q2191.44 209.349 2191.44 203.238 Q2191.44 197.127 2194.38 193.377 Q2197.34 189.627 2202.04 189.627 Q2204.91 189.627 2206.95 190.761 Q2209.01 191.872 2210.35 194.187 M2195.84 203.238 Q2195.84 207.937 2197.76 210.622 Q2199.7 213.284 2203.08 213.284 Q2206.46 213.284 2208.41 210.622 Q2210.35 207.937 2210.35 203.238 Q2210.35 198.539 2208.41 195.877 Q2206.46 193.192 2203.08 193.192 Q2199.7 193.192 2197.76 195.877 Q2195.84 198.539 2195.84 203.238 Z\" fill=\"#000000\" fill-rule=\"nonzero\" fill-opacity=\"1\" /><path clip-path=\"url(#clip370)\" d=\"M2245.56 202.15 L2245.56 204.233 L2225.98 204.233 Q2226.25 208.631 2228.61 210.946 Q2231 213.238 2235.23 213.238 Q2237.69 213.238 2239.98 212.636 Q2242.29 212.034 2244.56 210.83 L2244.56 214.858 Q2242.27 215.83 2239.86 216.34 Q2237.46 216.849 2234.98 216.849 Q2228.78 216.849 2225.14 213.238 Q2221.53 209.627 2221.53 203.469 Q2221.53 197.104 2224.96 193.377 Q2228.41 189.627 2234.24 189.627 Q2239.47 189.627 2242.5 193.006 Q2245.56 196.363 2245.56 202.15 M2241.3 200.9 Q2241.25 197.405 2239.33 195.321 Q2237.43 193.238 2234.29 193.238 Q2230.72 193.238 2228.57 195.252 Q2226.44 197.266 2226.11 200.923 L2241.3 200.9 Z\" fill=\"#000000\" fill-rule=\"nonzero\" fill-opacity=\"1\" /><path clip-path=\"url(#clip370)\" d=\"M2252.55 180.159 L2256.81 180.159 L2256.81 216.178 L2252.55 216.178 L2252.55 180.159 Z\" fill=\"#000000\" fill-rule=\"nonzero\" fill-opacity=\"1\" /></svg>\n"
      ]
     },
     "execution_count": 255,
     "metadata": {},
     "output_type": "execute_result"
    }
   ],
   "source": [
    "using Plots\n",
    "yModel=zeros(Nx)\n",
    "for nx=1:Nx\n",
    "    yModel[nx]=modelNTK(xVec[nx:nx])[1]\n",
    "end\n",
    "scatter(xVec,yVec,label=\"data\")\n",
    "plot!(xVec,yModel,label=\"model\")"
   ]
  },
  {
   "cell_type": "code",
   "execution_count": 244,
   "id": "2b438d66-2e12-44bc-a512-7586380e536a",
   "metadata": {},
   "outputs": [
    {
     "data": {
      "text/plain": [
       "Dense(3 => 1, σ)    \u001b[90m# 4 parameters\u001b[39m"
      ]
     },
     "execution_count": 244,
     "metadata": {},
     "output_type": "execute_result"
    }
   ],
   "source": [
    "test=Dense(3 => 1 , sigmoid,init=ones)"
   ]
  },
  {
   "cell_type": "code",
   "execution_count": 245,
   "id": "da701ad2-10ea-4af3-a930-2967828ec75c",
   "metadata": {},
   "outputs": [
    {
     "data": {
      "text/plain": [
       "([1.0 1.0 1.0], [0.0])"
      ]
     },
     "execution_count": 245,
     "metadata": {},
     "output_type": "execute_result"
    }
   ],
   "source": [
    "test.weight,test.bias"
   ]
  },
  {
   "cell_type": "code",
   "execution_count": 246,
   "id": "14e14790-fa04-4f2b-b142-0a6b13169f07",
   "metadata": {},
   "outputs": [
    {
     "data": {
      "text/plain": [
       "1×3 Matrix{Float64}:\n",
       " 0.805722  0.935779  0.746723"
      ]
     },
     "execution_count": 246,
     "metadata": {},
     "output_type": "execute_result"
    }
   ],
   "source": [
    "xin=rand(3,3)\n",
    "test(xin)"
   ]
  },
  {
   "cell_type": "code",
   "execution_count": 247,
   "id": "f225dbe5-0d53-40a9-a7b9-6709f8dd5667",
   "metadata": {},
   "outputs": [
    {
     "data": {
      "text/plain": [
       "DenseNTK([1.0 1.0 1.0], [0.0], NNlib.σ)"
      ]
     },
     "execution_count": 247,
     "metadata": {},
     "output_type": "execute_result"
    }
   ],
   "source": [
    "testNTK=DenseNTK(3 => 1 , sigmoid,init=ones)"
   ]
  },
  {
   "cell_type": "code",
   "execution_count": 248,
   "id": "1e3f565b-dd64-4e65-a8ac-c5ec1ef05f8f",
   "metadata": {},
   "outputs": [
    {
     "data": {
      "text/plain": [
       "([1.0 1.0 1.0], [0.0])"
      ]
     },
     "execution_count": 248,
     "metadata": {},
     "output_type": "execute_result"
    }
   ],
   "source": [
    "testNTK.weight,testNTK.bias"
   ]
  },
  {
   "cell_type": "code",
   "execution_count": 249,
   "id": "8179117b-c4c4-41b3-9d70-6a60ea44cbd0",
   "metadata": {},
   "outputs": [
    {
     "data": {
      "text/plain": [
       "1×3 Matrix{Float64}:\n",
       " 0.694502  0.824444  0.651182"
      ]
     },
     "execution_count": 249,
     "metadata": {},
     "output_type": "execute_result"
    }
   ],
   "source": [
    "testNTK(xin)"
   ]
  },
  {
   "cell_type": "code",
   "execution_count": 250,
   "id": "78a829c2-17da-4903-89ec-84bda205854e",
   "metadata": {},
   "outputs": [
    {
     "data": {
      "text/plain": [
       "1-element Vector{Float64}:\n",
       " 0.6511815504617818"
      ]
     },
     "execution_count": 250,
     "metadata": {},
     "output_type": "execute_result"
    }
   ],
   "source": [
    "sigmoid.(testNTK.weight*xin[:,3]/sqrt(3) .+ testNTK.bias)"
   ]
  },
  {
   "cell_type": "code",
   "execution_count": 251,
   "id": "560c2a95-98f1-4bba-9248-2630ec18fbaa",
   "metadata": {},
   "outputs": [
    {
     "data": {
      "text/plain": [
       "3×1 Matrix{Float64}:\n",
       " 0.6229222342869773\n",
       " 0.27492226084966975\n",
       " 0.5276412036536281"
      ]
     },
     "execution_count": 251,
     "metadata": {},
     "output_type": "execute_result"
    }
   ],
   "source": [
    "A=rand(3,3)\n",
    "B=rand(3,3)\n",
    "c=rand(3,1)"
   ]
  },
  {
   "cell_type": "code",
   "execution_count": 252,
   "id": "ce271979-f622-4331-a11a-d57efbfe222b",
   "metadata": {},
   "outputs": [
    {
     "data": {
      "text/plain": [
       "3×3 Matrix{Float64}:\n",
       " 0.832343  0.664365  0.13403\n",
       " 1.32849   1.13683   0.221163\n",
       " 1.11499   1.14139   0.18569"
      ]
     },
     "execution_count": 252,
     "metadata": {},
     "output_type": "execute_result"
    }
   ],
   "source": [
    "A*B"
   ]
  },
  {
   "cell_type": "code",
   "execution_count": 253,
   "id": "60b868fe-87dd-4a8a-b1d3-d4b3674a1aee",
   "metadata": {},
   "outputs": [
    {
     "data": {
      "text/plain": [
       "3×3 Matrix{Float64}:\n",
       " 1.45527  1.28729  0.756952\n",
       " 1.60341  1.41176  0.496086\n",
       " 1.64263  1.66903  0.713332"
      ]
     },
     "execution_count": 253,
     "metadata": {},
     "output_type": "execute_result"
    }
   ],
   "source": [
    "A*B .+ c"
   ]
  },
  {
   "cell_type": "code",
   "execution_count": null,
   "id": "b331cc4d-f8c7-4d7e-aa0b-588e30591246",
   "metadata": {},
   "outputs": [],
   "source": []
  }
 ],
 "metadata": {
  "kernelspec": {
   "display_name": "Julia 1.9.2",
   "language": "julia",
   "name": "julia-1.9"
  },
  "language_info": {
   "file_extension": ".jl",
   "mimetype": "application/julia",
   "name": "julia",
   "version": "1.9.2"
  }
 },
 "nbformat": 4,
 "nbformat_minor": 5
}
