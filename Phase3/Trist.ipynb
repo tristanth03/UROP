{
 "cells": [
  {
   "cell_type": "markdown",
   "metadata": {},
   "source": [
    "### Authors: Axel & Tristan\n"
   ]
  },
  {
   "cell_type": "code",
   "execution_count": 346,
   "metadata": {},
   "outputs": [],
   "source": [
    "using Flux,CairoMakie,Zygote,LinearAlgebra,IterTools"
   ]
  },
  {
   "cell_type": "code",
   "execution_count": 347,
   "metadata": {},
   "outputs": [
    {
     "data": {
      "text/plain": [
       "norm_params (generic function with 1 method)"
      ]
     },
     "metadata": {},
     "output_type": "display_data"
    }
   ],
   "source": [
    "function node_count(model)\n",
    "    \"\"\"Function checks how many nodes are in each layer\n",
    "       Including  the input, ouput and hidden layers\"\"\"\n",
    "    param(x)  = Flux.params(model)[x]\n",
    "    n = []\n",
    "    for i = 1:length(Flux.params(model))\n",
    "        if i%2 != 0 # Check all weights in θ \n",
    "            ni = size(param(i))[2]\n",
    "            push!(n,ni)                 \n",
    "        end                             \n",
    "    end\n",
    "\n",
    "    \"\"\"We also have to check the output layer specifically.  \n",
    "       This is because there is not weight in θ associated with the output layer\"\"\"\n",
    "    push!(n, length(param(length(Flux.params(model)))))\n",
    "    return n\n",
    "end\n",
    "\n",
    "\n",
    "function norm_params(model)\n",
    "    θ(x)  = Flux.params(model)[x]\n",
    "    nNodes = node_count(model)\n",
    "\n",
    "    i = 1\n",
    "    for n = 1:length(nNodes)-1\n",
    "        ni = nNodes[n]\n",
    "\n",
    "        θ(i) .= θ(i) * 1/sqrt(ni)\n",
    "        i += 1\n",
    "        θ(i) .= θ(i) * 1/sqrt(ni)\n",
    "        i += 1\n",
    "\n",
    "    end\n",
    "end\n"
   ]
  },
  {
   "cell_type": "code",
   "execution_count": 294,
   "metadata": {},
   "outputs": [],
   "source": [
    "# x1 = [0.4]\n",
    "# x2 = [1.1]\n",
    "# n1 = 10\n",
    "\n",
    "\n",
    "# model = Chain(Dense(1,n1,sigmoid),Dense(n1,1))|>f64\n",
    "\n",
    "\n",
    "\n",
    "# norm_params(model)\n",
    "\n",
    "# ∇_x1 = gradient(()->model(x1)[1],Flux.params(model))\n",
    "# ∇_x2 = gradient(()->model(x2)[1],Flux.params(model))\n",
    "\n",
    "# n = 2\n",
    "# m = 2\n",
    "# K = zeros(m,n)\n",
    "# K[1,1] = dot(∇_x1,∇_x1)\n",
    "# K[2,2] = dot(∇_x2,∇_x2)\n",
    "# K[1,2] = dot(∇_x1,∇_x2)\n",
    "# K[2,1] = dot(∇_x2,∇_x1)\n",
    "\n",
    "# K\n",
    "\n",
    "# λ = eigen(K).values\n",
    "\n"
   ]
  },
  {
   "cell_type": "code",
   "execution_count": 348,
   "metadata": {},
   "outputs": [
    {
     "data": {
      "text/plain": [
       "21-element Vector{Float64}:\n",
       "     -0.1729997496898309\n",
       "     -0.1302309576020151\n",
       "     -0.0975426209876386\n",
       "     -0.06564196056219931\n",
       "     -0.05105226738243468\n",
       "     -0.03940309204531814\n",
       "     -0.022763451307821675\n",
       "     -0.019587488651794466\n",
       "     -0.018603394964443687\n",
       "      0.007448610282778517\n",
       "      ⋮\n",
       "      0.02997697841932176\n",
       "      0.04308533996532138\n",
       "      0.05529410075375754\n",
       "      0.06325114633996679\n",
       "      0.08825945976058758\n",
       "      0.13362789091176014\n",
       "      0.17090612536104266\n",
       "      0.9478494242062565\n",
       " 525021.0032635985"
      ]
     },
     "metadata": {},
     "output_type": "display_data"
    }
   ],
   "source": [
    "x1 = [0.4]\n",
    "x2 = [1.1]\n",
    "n1 = 100000\n",
    "\n",
    "\n",
    "model = Chain(Dense(1,n1,sigmoid),Dense(n1,1))\n",
    "norm_params(model)\n",
    "\n",
    "\n",
    "xR = range(-1,1,step=0.1)\n",
    "xn = hcat(xR...)\n",
    "∇_xn = []\n",
    "Q = length(model)\n",
    "N = length(xn)\n",
    "for xi = 1:N\n",
    "    ∇_i = gradient(()->model(xn[:,xi])[1],Flux.params(model))\n",
    "    push!(∇_xn, ∇_i)\n",
    "end\n",
    "\n",
    "Kernel = zeros(N,N)\n",
    "for m = 1:N\n",
    "    for n = 1:N\n",
    "    Kernel[m,n] = dot(∇_xn[m],∇_xn[n])\n",
    "    end\n",
    "end\n",
    "\n",
    "\n",
    "\n",
    "\n",
    "\n",
    "\n",
    "Kernel\n",
    "λ_t = eigen(Kernel).values\n"
   ]
  },
  {
   "cell_type": "code",
   "execution_count": 349,
   "metadata": {},
   "outputs": [
    {
     "data": {
      "text/plain": [
       "21-element Vector{Any}:\n",
       " Any[Float32[1.5325591f-7; -5.7432385f-6; … ; 5.8614514f-6; -1.7573741f-6;;], Float32[-1.5325591f-7, 5.7432385f-6, -4.017281f-6, -3.19669f-6, -1.8278462f-6, -7.2670396f-8, 4.9618607f-6, 4.0735144f-6, -2.3367445f-6, 5.20527f-6  …  -5.3804483f-6, 5.1123375f-6, 3.4617083f-6, 1.2558121f-6, 8.843795f-7, 3.5013995f-6, 2.6005297f-8, 3.8606213f-6, -5.8614514f-6, 1.7573741f-6], Float32[0.49907982 0.500844 … 0.5000564 0.50170505]]\n",
       " Any[Float32[1.3793041f-7; -5.168917f-6; … ; 5.275306f-6; -1.5816402f-6;;], Float32[-1.5325602f-7, 5.7432417f-6, -4.01729f-6, -3.1966904f-6, -1.8278462f-6, -7.2670495f-8, 4.9618607f-6, 4.073517f-6, -2.3367454f-6, 5.205275f-6  …  -5.3804497f-6, 5.1123384f-6, 3.4617112f-6, 1.2558152f-6, 8.8438f-7, 3.5014f-6, 2.6005347f-8, 3.860626f-6, -5.8614514f-6, 1.757378f-6], Float32[0.49917188 0.5007596 … 0.5000507 0.5015346]]\n",
       " Any[Float32[1.2260489f-7; -4.594596f-6; … ; 4.6891614f-6; -1.4059052f-6;;], Float32[-1.5325611f-7, 5.7432444f-6, -4.0172977f-6, -3.1966906f-6, -1.8278462f-6, -7.267057f-8, 4.9618607f-6, 4.07352f-6, -2.3367459f-6, 5.2052796f-6  …  -5.3804515f-6, 5.1123393f-6, 3.461714f-6, 1.2558179f-6, 8.843803f-7, 3.5014007f-6, 2.6005392f-8, 3.86063f-6, -5.8614514f-6, 1.7573815f-6], Float32[0.49926388 0.5006752 … 0.5000451 0.50136405]]\n",
       " Any[Float32[1.0727931f-7; -4.020273f-6; … ; 4.1030157f-6; -1.2301691f-6;;], Float32[-1.5325617f-7, 5.743247f-6, -4.0173045f-6, -3.196691f-6, -1.8278463f-6, -7.267064f-8, 4.9618607f-6, 4.073522f-6, -2.3367465f-6, 5.2052833f-6  …  -5.380452f-6, 5.1123397f-6, 3.4617162f-6, 1.2558203f-6, 8.843807f-7, 3.5014018f-6, 2.6005432f-8, 3.8606336f-6, -5.8614514f-6, 1.7573846f-6], Float32[0.49935588 0.5005908 … 0.50003946 0.5011936]]\n",
       " Any[Float32[9.195376f-8; -3.4459495f-6; … ; 3.516871f-6; -1.0544325f-6;;], Float32[-1.5325625f-7, 5.743249f-6, -4.017311f-6, -3.1966915f-6, -1.8278463f-6, -7.267071f-8, 4.961861f-6, 4.0735235f-6, -2.336747f-6, 5.2052865f-6  …  -5.380453f-6, 5.1123407f-6, 3.4617183f-6, 1.2558224f-6, 8.843809f-7, 3.5014023f-6, 2.6005466f-8, 3.8606363f-6, -5.8614514f-6, 1.7573873f-6], Float32[0.4994479 0.5005064 … 0.50003386 0.50102305]]\n",
       " Any[Float32[7.662815f-8; -2.8716254f-6; … ; 2.9307257f-6; -8.786947f-7;;], Float32[-1.532563f-7, 5.7432508f-6, -4.017316f-6, -3.1966918f-6, -1.8278463f-6, -7.267076f-8, 4.961861f-6, 4.0735254f-6, -2.3367475f-6, 5.2052897f-6  …  -5.380454f-6, 5.112341f-6, 3.46172f-6, 1.2558241f-6, 8.843812f-7, 3.5014027f-6, 2.6005495f-8, 3.860639f-6, -5.8614514f-6, 1.7573894f-6], Float32[0.49953994 0.500422 … 0.5000282 0.5008525]]\n",
       " Any[Float32[6.130254f-8; -2.2973009f-6; … ; 2.3445807f-6; -7.029565f-7;;], Float32[-1.5325635f-7, 5.743252f-6, -4.01732f-6, -3.196692f-6, -1.8278463f-6, -7.26708f-8, 4.961861f-6, 4.0735267f-6, -2.336748f-6, 5.205292f-6  …  -5.3804542f-6, 5.112341f-6, 3.4617215f-6, 1.2558256f-6, 8.8438145f-7, 3.5014032f-6, 2.6005518f-8, 3.8606413f-6, -5.8614514f-6, 1.7573913f-6], Float32[0.49963194 0.5003376 … 0.5000226 0.50068206]]\n",
       " Any[Float32[4.5976922f-8; -1.7229761f-6; … ; 1.7584355f-6; -5.272178f-7;;], Float32[-1.532564f-7, 5.7432535f-6, -4.0173236f-6, -3.1966922f-6, -1.8278463f-6, -7.2670844f-8, 4.961861f-6, 4.0735276f-6, -2.336748f-6, 5.2052933f-6  …  -5.380455f-6, 5.1123416f-6, 3.4617226f-6, 1.2558268f-6, 8.8438156f-7, 3.5014034f-6, 2.6005537f-8, 3.8606427f-6, -5.8614514f-6, 1.7573926f-6], Float32[0.49972397 0.5002532 … 0.5000169 0.5005115]]\n",
       " Any[Float32[3.0651286f-8; -1.1486508f-6; … ; 1.1722904f-6; -3.5147875f-7;;], Float32[-1.5325642f-7, 5.743254f-6, -4.0173254f-6, -3.1966922f-6, -1.8278463f-6, -7.2670865f-8, 4.9618607f-6, 4.0735285f-6, -2.3367481f-6, 5.205295f-6  …  -5.380455f-6, 5.112342f-6, 3.4617233f-6, 1.2558276f-6, 8.843817f-7, 3.5014036f-6, 2.600555f-8, 3.860644f-6, -5.8614514f-6, 1.7573938f-6], Float32[0.49981597 0.5001688 … 0.50001127 0.500341]]\n",
       " Any[Float32[1.5325643f-8; -5.743255f-7; … ; 5.861452f-7; -1.7573943f-7;;], Float32[-1.5325642f-7, 5.743255f-6, -4.017327f-6, -3.1966924f-6, -1.8278463f-6, -7.267088f-8, 4.9618607f-6, 4.0735285f-6, -2.3367481f-6, 5.2052956f-6  …  -5.3804556f-6, 5.1123416f-6, 3.4617237f-6, 1.2558281f-6, 8.8438173f-7, 3.5014039f-6, 2.6005557f-8, 3.8606445f-6, -5.8614514f-6, 1.7573943f-6], Float32[0.49990797 0.5000844 … 0.50000566 0.5001705]]\n",
       " ⋮\n",
       " Any[Float32[-3.0651286f-8; 1.1486508f-6; … ; -1.1722904f-6; 3.5147877f-7;;], Float32[-1.5325642f-7, 5.743254f-6, -4.0173254f-6, -3.1966922f-6, -1.8278463f-6, -7.2670865f-8, 4.961861f-6, 4.0735285f-6, -2.3367481f-6, 5.205295f-6  …  -5.380455f-6, 5.1123416f-6, 3.4617235f-6, 1.2558277f-6, 8.843817f-7, 3.5014036f-6, 2.600555f-8, 3.8606436f-6, -5.8614514f-6, 1.7573939f-6], Float32[0.50018406 0.4998312 … 0.4999887 0.49965897]]\n",
       " Any[Float32[-4.5976922f-8; 1.7229762f-6; … ; -1.7584355f-6; 5.2721776f-7;;], Float32[-1.532564f-7, 5.743254f-6, -4.017323f-6, -3.1966922f-6, -1.8278463f-6, -7.2670844f-8, 4.961861f-6, 4.0735276f-6, -2.3367481f-6, 5.2052937f-6  …  -5.380455f-6, 5.1123416f-6, 3.4617226f-6, 1.2558268f-6, 8.8438156f-7, 3.5014034f-6, 2.6005536f-8, 3.860643f-6, -5.8614514f-6, 1.7573925f-6], Float32[0.5002761 0.49974683 … 0.4999831 0.49948844]]\n",
       " Any[Float32[-6.130254f-8; 2.2973006f-6; … ; -2.3445805f-6; 7.029565f-7;;], Float32[-1.5325635f-7, 5.7432517f-6, -4.01732f-6, -3.196692f-6, -1.8278463f-6, -7.267081f-8, 4.961861f-6, 4.0735267f-6, -2.336748f-6, 5.205292f-6  …  -5.3804542f-6, 5.1123416f-6, 3.4617212f-6, 1.2558256f-6, 8.8438145f-7, 3.5014032f-6, 2.600552f-8, 3.860641f-6, -5.861451f-6, 1.7573913f-6], Float32[0.50036806 0.49966237 … 0.49997744 0.49931797]]\n",
       " Any[Float32[-7.6628154f-8; 2.8716254f-6; … ; -2.9307257f-6; 8.786948f-7;;], Float32[-1.5325631f-7, 5.7432508f-6, -4.017316f-6, -3.1966918f-6, -1.8278463f-6, -7.2670765f-8, 4.961861f-6, 4.0735254f-6, -2.3367475f-6, 5.2052897f-6  …  -5.380454f-6, 5.1123407f-6, 3.46172f-6, 1.2558243f-6, 8.843812f-7, 3.5014027f-6, 2.6005493f-8, 3.860639f-6, -5.8614514f-6, 1.7573896f-6], Float32[0.5004601 0.499578 … 0.4999718 0.49914744]]\n",
       " Any[Float32[-9.195376f-8; 3.4459495f-6; … ; -3.516871f-6; 1.0544325f-6;;], Float32[-1.5325625f-7, 5.743249f-6, -4.0173104f-6, -3.1966915f-6, -1.8278462f-6, -7.267071f-8, 4.961861f-6, 4.0735235f-6, -2.336747f-6, 5.205287f-6  …  -5.380453f-6, 5.1123407f-6, 3.4617183f-6, 1.2558223f-6, 8.8438094f-7, 3.5014023f-6, 2.6005466f-8, 3.8606363f-6, -5.8614514f-6, 1.7573873f-6], Float32[0.50055206 0.4994936 … 0.49996617 0.49897698]]\n",
       " Any[Float32[-1.0727933f-7; 4.020273f-6; … ; -4.1030157f-6; 1.2301691f-6;;], Float32[-1.5325618f-7, 5.743247f-6, -4.0173045f-6, -3.196691f-6, -1.8278462f-6, -7.2670645f-8, 4.961861f-6, 4.0735217f-6, -2.3367465f-6, 5.2052833f-6  …  -5.380452f-6, 5.1123397f-6, 3.4617162f-6, 1.2558203f-6, 8.843807f-7, 3.5014016f-6, 2.6005432f-8, 3.860633f-6, -5.861451f-6, 1.7573846f-6], Float32[0.5006441 0.4994092 … 0.4999605 0.49880648]]\n",
       " Any[Float32[-1.2260489f-7; 4.594596f-6; … ; -4.689161f-6; 1.4059052f-6;;], Float32[-1.5325611f-7, 5.7432444f-6, -4.0172977f-6, -3.1966906f-6, -1.8278462f-6, -7.267057f-8, 4.961861f-6, 4.0735194f-6, -2.336746f-6, 5.2052796f-6  …  -5.380451f-6, 5.1123393f-6, 3.461714f-6, 1.255818f-6, 8.843803f-7, 3.501401f-6, 2.600539f-8, 3.86063f-6, -5.861451f-6, 1.7573815f-6], Float32[0.5007361 0.4993248 … 0.4999549 0.49863595]]\n",
       " Any[Float32[-1.379304f-7; 5.168917f-6; … ; -5.275306f-6; 1.5816402f-6;;], Float32[-1.5325601f-7, 5.7432417f-6, -4.0172895f-6, -3.1966902f-6, -1.8278461f-6, -7.267049f-8, 4.9618607f-6, 4.073517f-6, -2.3367454f-6, 5.205275f-6  …  -5.3804497f-6, 5.1123384f-6, 3.461711f-6, 1.2558152f-6, 8.8438f-7, 3.5014f-6, 2.6005347f-8, 3.860626f-6, -5.8614514f-6, 1.757378f-6], Float32[0.50082815 0.4992404 … 0.49994925 0.49846542]]\n",
       " Any[Float32[-1.5325591f-7; 5.7432385f-6; … ; -5.8614514f-6; 1.757374f-6;;], Float32[-1.5325591f-7, 5.7432385f-6, -4.017281f-6, -3.1966897f-6, -1.8278462f-6, -7.2670396f-8, 4.9618607f-6, 4.0735144f-6, -2.3367445f-6, 5.20527f-6  …  -5.3804483f-6, 5.112338f-6, 3.4617085f-6, 1.2558121f-6, 8.843795f-7, 3.5013993f-6, 2.6005296f-8, 3.8606217f-6, -5.8614514f-6, 1.757374f-6], Float32[0.5009201 0.499156 … 0.4999436 0.49829492]]"
      ]
     },
     "metadata": {},
     "output_type": "display_data"
    }
   ],
   "source": [
    "\n",
    "\n",
    "# for ∇ in ∇_x1\n",
    "#     println(∇)\n",
    "# end\n",
    "\n",
    "# ∇_x1[Flux.params(model)[4]]\n",
    "\n",
    "\n",
    "P = length(Flux.params(model))\n",
    "Ng = length(∇_xn)\n",
    "∇_matrix = []\n",
    "for i = 1:Ng\n",
    "    ∇_col = []\n",
    "    for j = 1:P-1\n",
    "        param_grad = ∇_xn[i][Flux.params(model)[j]]\n",
    "        push!(∇_col,param_grad)\n",
    "    end\n",
    "    push!(∇_matrix,∇_col)\n",
    "end\n",
    "\n",
    "∇_matrix"
   ]
  },
  {
   "cell_type": "code",
   "execution_count": 355,
   "metadata": {},
   "outputs": [
    {
     "data": {
      "text/plain": [
       "300000-element Vector{Float64}:\n",
       "  1.5325591107284708e-7\n",
       " -5.743238489230862e-6\n",
       "  4.017280843982007e-6\n",
       "  3.196689931428409e-6\n",
       "  1.827846176638559e-6\n",
       "  7.267039592306901e-8\n",
       " -4.961860668117879e-6\n",
       " -4.073514446645277e-6\n",
       "  2.33674450100807e-6\n",
       " -5.20527009939542e-6\n",
       "  ⋮\n",
       "  0.49953946471214294\n",
       "  0.5010673403739929\n",
       "  0.5017957091331482\n",
       "  0.49919593334198\n",
       "  0.4994317591190338\n",
       "  0.5015895962715149\n",
       "  0.5012345314025879\n",
       "  0.5000563859939575\n",
       "  0.5017050504684448"
      ]
     },
     "metadata": {},
     "output_type": "display_data"
    }
   ],
   "source": [
    "# Function to flatten\n",
    "function flatten_gradients(grad_components)\n",
    "    flat_grad = Float64[]\n",
    "    for comp in grad_components\n",
    "        # Flatten\n",
    "        append!(flat_grad, comp[:])\n",
    "    end\n",
    "    return flat_grad\n",
    "end\n",
    "\n",
    "\n",
    "flat_grads = [flatten_gradients(∇) for ∇ in ∇_matrix]\n",
    "\n",
    "flat_grads[1]\n",
    "\n",
    "# Kernel = zeros(Float64, length(flat_grads), length(flat_grads))\n",
    "# for i in 1:length(flat_grads)\n",
    "#     for j in 1:length(flat_grads)\n",
    "#         Kernel[i, j] = flat_grads[i]'*flat_grads[j]\n",
    "#     end\n",
    "# end\n",
    "\n",
    "# Kernel\n",
    "\n",
    "# λ = eigen(Kernel).values\n"
   ]
  },
  {
   "cell_type": "code",
   "execution_count": 353,
   "metadata": {},
   "outputs": [
    {
     "data": {
      "text/plain": [
       "Df (generic function with 1 method)"
      ]
     },
     "metadata": {},
     "output_type": "display_data"
    }
   ],
   "source": [
    "function check_dim(x)\n",
    "    \"\"\"This function checks the appropriate  dimensions of input data\"\"\"\n",
    "    if isa(x, Matrix)\n",
    "        return size(x, 2)  # Returns the number of columns (width) of the matrix\n",
    "    elseif isa(x, Vector)\n",
    "        return 1  # Return 1 if it's a column vector\n",
    "    else\n",
    "        type = typeof(x)\n",
    "        error(\"Input data type: $type is neither a matrix or column vector\")\n",
    "    end\n",
    "end\n",
    "\n",
    "function jac(model, x, f,param)\n",
    "    \"\"\"Gets the jacobian of a specific parameter\"\"\"\n",
    "    jaco(f) = Flux.jacobian(() -> model(x)[f],Flux.params(model))\n",
    "    return jaco(f)[Flux.params(model)[param]]\n",
    "end\n",
    "\n",
    "function Df(model, x)\n",
    "    # x: single datapoint\n",
    "    m = length(model(x))\n",
    "\n",
    "    # Total amount of θ exluding final bias\n",
    "    total_amount_of_θ = sum(length, Flux.params(model))  - length(Flux.params(model)[length(Flux.params(model))])\n",
    "\n",
    "    # Skilgreini empty jacobian matrix\n",
    "    Jacob = zeros(total_amount_of_θ,m)\n",
    "\n",
    "    for func_i = 1:m\n",
    "        current_col = Vector{Float64}(undef, 0) # Preallocate memory\n",
    "        for param_i = 1:length(Flux.params(model)) - 1\n",
    "            jac_vec = jac(model, x, func_i, param_i)[:]\n",
    "            current_col = vcat(current_col, jac_vec) # Concatenate vectors\n",
    "        end\n",
    "        for k = 1:total_amount_of_θ \n",
    "            Jacob[k, func_i] = current_col[k]\n",
    "        end\n",
    "    end\n",
    "\n",
    "    return Jacob # Þetta er Df fylkið í bilblíunni\n",
    "end"
   ]
  },
  {
   "cell_type": "code",
   "execution_count": 356,
   "metadata": {},
   "outputs": [
    {
     "data": {
      "text/plain": [
       "true"
      ]
     },
     "metadata": {},
     "output_type": "display_data"
    }
   ],
   "source": [
    "J = Df(model,xn)\n",
    "\n",
    "J[:,1] == flat_grads[1]"
   ]
  }
 ],
 "metadata": {
  "kernelspec": {
   "display_name": "Julia 1.9.4",
   "language": "julia",
   "name": "julia-1.9"
  },
  "language_info": {
   "file_extension": ".jl",
   "mimetype": "application/julia",
   "name": "julia",
   "version": "1.9.4"
  }
 },
 "nbformat": 4,
 "nbformat_minor": 2
}
