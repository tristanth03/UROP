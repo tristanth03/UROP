{
 "cells": [
  {
   "cell_type": "code",
   "execution_count": null,
   "metadata": {},
   "outputs": [],
   "source": [
    "using Flux, LinearAlgebra, IterTools\n",
    "using ProgressMeter\n",
    "\n",
    "include(\"DenseNTK.jl\")"
   ]
  },
  {
   "cell_type": "code",
   "execution_count": null,
   "metadata": {},
   "outputs": [],
   "source": [
    "function check_dim(x)\n",
    "    \"\"\"This function checks the appropriate  dimensions of input data\"\"\"\n",
    "    if isa(x, Matrix)\n",
    "        return size(x, 2)  # Returns the number of columns (width) of the matrix\n",
    "    elseif isa(x, Vector)\n",
    "        return 1  # Return 1 if it's a column vector\n",
    "    else\n",
    "        type = typeof(x)\n",
    "        error(\"Input data type: $type is neither a matrix or column vector\")\n",
    "    end\n",
    "end"
   ]
  },
  {
   "cell_type": "code",
   "execution_count": null,
   "metadata": {},
   "outputs": [],
   "source": [
    "function jac(model, x, f,param)\n",
    "    \"\"\"Gets the jacobian of a specific parameter\"\"\"\n",
    "    jaco(f) = Flux.jacobian(() -> model(x)[f],Flux.params(model))\n",
    "    return jaco(f)[Flux.params(model)[param]]\n",
    "end\n"
   ]
  },
  {
   "cell_type": "code",
   "execution_count": null,
   "metadata": {},
   "outputs": [],
   "source": [
    "\n",
    "function Df(model, x)\n",
    "    # x: single datapoint\n",
    "    m = length(model(x))\n",
    "\n",
    "    # Total amount of θ exluding final bias\n",
    "    total_amount_of_θ = sum(length, Flux.params(model))  - length(Flux.params(model)[length(Flux.params(model))])\n",
    "\n",
    "    # Skilgreini empty jacobian matrix\n",
    "    Jacob = zeros(total_amount_of_θ,m)\n",
    "\n",
    "    for func_i = 1:m\n",
    "        current_col = Vector{Float64}(undef, 0) # Preallocate memory\n",
    "        for param_i = 1:length(Flux.params(model)) - 1 # -1 because we don't want to include the final bias\n",
    "            jac_vec = jac(model, x, func_i, param_i)[:]\n",
    "            current_col = vcat(current_col, jac_vec) # Concatenate vectors\n",
    "        end\n",
    "        \n",
    "        for k = 1:total_amount_of_θ \n",
    "            Jacob[k, func_i] = current_col[k]\n",
    "        end\n",
    "    end\n",
    "    \n",
    "    return Jacob # Þetta er Df fylkið í bilblíunni\n",
    "end\n"
   ]
  },
  {
   "cell_type": "code",
   "execution_count": null,
   "metadata": {},
   "outputs": [],
   "source": [
    "\n",
    "\n",
    "function kernel(model, x, show_progress=false)\n",
    "    N = check_dim(x)\n",
    "    m = length(model(x[:,1]))  # Number of functions in the model output\n",
    "    K = zeros(N*m, N*m)\n",
    "\n",
    "    if show_progress\n",
    "        p = Progress(N, 1, \"Computing kernel:\", 50)\n",
    "    end\n",
    "\n",
    "    for i = 1:N\n",
    "        for j = 1:N\n",
    "            block = Df(model, x[:,i])' * Df(model, x[:,j])\n",
    "            K[(i-1)*m+1:i*m, (j-1)*m+1:j*m] .= block\n",
    "        end\n",
    "        if show_progress\n",
    "            next!(p)  # Increment progress meter\n",
    "        end\n",
    "    end\n",
    "\n",
    "    if show_progress\n",
    "        finish!(p)  # Finish progress meter\n",
    "    end\n",
    "\n",
    "    return K\n",
    "end"
   ]
  },
  {
   "cell_type": "code",
   "execution_count": 143,
   "metadata": {},
   "outputs": [
    {
     "data": {
      "text/plain": [
       "Chain(\n",
       "  DenseNTK(Float32[-0.36745083; -0.28118017; … ; 0.38877422; -0.70553064;;], Float32[0.9655598, -0.6751468, -0.2864891, 0.22647955, 1.9972303, -0.65081954, 0.13882352, -0.6892691, -0.3263925, 0.68589026  …  1.0695404, -0.8641656, -0.9559, -0.12768815, -0.5637661, -1.5699892, -2.1146722, -0.17123432, -0.75673157, -0.9442188], NNlib.relu),  \u001b[90m# 200 parameters\u001b[39m\n",
       "  DenseNTK(Float32[0.8233794 0.11223748 … 0.05494005 -1.123476; 0.79262894 -0.2469375 … -0.660826 -0.51515085; … ; -0.85384595 -0.16199361 … -1.0499369 -0.72358584; -0.09184618 1.3262553 … -0.13930495 -0.78035176], Float32[1.6822311, -0.98510396, 1.7433788, 0.22409013, 0.1910342, 1.4367994, -0.49651182, -0.2842329, -0.70850766, 0.4881591  …  -0.7513562, -0.55978525, 0.89840716, -1.908574, 0.76917416, -0.17845866, 0.2186963, -1.9196416, 1.8684497, 0.7008971], NNlib.relu),  \u001b[90m# 10_100 parameters\u001b[39m\n",
       "  DenseNTK(Float32[-0.48429808 0.37855625 … -0.46772817 -1.8110397; 0.32301813 -0.6404664 … 2.3067555 0.7864435; … ; -0.26693052 -0.14457844 … 0.11747646 -1.6836785; -0.15034878 -1.5336055 … -1.4443723 0.17188558], Float32[0.14130871, 0.14288457, 1.2033594, -1.2230769, -0.08179498, 0.69818807, 0.64590925, -0.7165554, 0.77744186, -0.941707, 0.16784862, 0.62899333, -0.558994, -0.38092923, -0.61330104, -0.6230059, 1.7462506, -1.7830192, 0.32502946, 0.17834195], identity),  \u001b[90m# 2_020 parameters\u001b[39m\n",
       ") \u001b[90m                  # Total: 6 arrays, \u001b[39m12_320 parameters, 48.570 KiB."
      ]
     },
     "metadata": {},
     "output_type": "display_data"
    }
   ],
   "source": [
    "Nx=20\n",
    "a=-1.0; b=1.0\n",
    "\n",
    "xVec=collect(range(a,stop=b,length=Nx));\n",
    "yVec=sin.(2*pi*xVec) .+ 0.1*randn(size(xVec)); \n",
    "\n",
    "Nh2 = 100 # found via quadratic equation\n",
    "model = Chain(DenseNTK(1,Nh2,relu), DenseNTK(Nh2,Nh2,relu), DenseNTK(Nh2,20))"
   ]
  },
  {
   "cell_type": "code",
   "execution_count": null,
   "metadata": {},
   "outputs": [],
   "source": [
    "org_K = kernel(model, hcat(xVec...),true);"
   ]
  },
  {
   "cell_type": "code",
   "execution_count": null,
   "metadata": {},
   "outputs": [],
   "source": [
    "D = Flux.jacobian(() -> model(hcat(xVec...)),Flux.params(model))\n",
    "D = hcat([grad for grad in D]...)\n",
    "D = D[:,1:end-1]\n",
    "\n",
    "j = jac(model, hcat(xVec[1]), 2, 4)"
   ]
  },
  {
   "cell_type": "code",
   "execution_count": null,
   "metadata": {},
   "outputs": [],
   "source": [
    "x = hcat(xVec...)\n",
    "model(x)\n",
    "\n",
    "D = Flux.jacobian(() -> model(x),Flux.params(model))"
   ]
  },
  {
   "cell_type": "code",
   "execution_count": null,
   "metadata": {},
   "outputs": [],
   "source": [
    "function fast_K(model, x, show_progress = false)\n",
    "    N = check_dim(x)\n",
    "    m = length(model(x[:,1]))  # Number of functions in the model output\n",
    "    K = zeros(N*m, N*m)\n",
    "\n",
    "    D = Flux.jacobian(() -> model(x),Flux.params(model))\n",
    "    D = hcat([grad for grad in D]...)\n",
    "    D = D[:,1:end-1] # to skip the last bias\n",
    "    \n",
    "    k = size(D, 2) # number total parametes\n",
    "\n",
    "    if show_progress\n",
    "        p = Progress(N, 1, \"Computing kernel:\", 50)\n",
    "    end\n",
    "\n",
    "    for i = 1:N\n",
    "        for j = 1:N\n",
    "            block_i = (i - 1) * m + 1\n",
    "            block_j = (j - 1) * m + 1\n",
    "            block = D[block_i:block_i+m-1, :] * transpose(D[block_j:block_j+m-1, :])\n",
    "            K[block_i:block_i+m-1, block_j:block_j+m-1] = block\n",
    "        end\n",
    "        if show_progress\n",
    "            next!(p)  # Increment progress meter\n",
    "        end\n",
    "    end\n",
    "\n",
    "    if show_progress\n",
    "        finish!(p)  # Finish progress meter\n",
    "    end\n",
    "\n",
    "    return K\n",
    "end"
   ]
  },
  {
   "cell_type": "code",
   "execution_count": 148,
   "metadata": {},
   "outputs": [
    {
     "data": {
      "text/plain": [
       "fast_multidim_K (generic function with 2 methods)"
      ]
     },
     "metadata": {},
     "output_type": "display_data"
    }
   ],
   "source": [
    "\n",
    "function fast_multidim_K(model, x, show_progress=false)\n",
    "    N = check_dim(x)                    # Number of datapoints\n",
    "    m = length(model(x[:,1]))           # Number of functions in the model output\n",
    "\n",
    "    Θ = zeros(N*(m*m), N*(m*m))         # Kernel is depecicted in research papers and Wikipedia\n",
    "\n",
    "    D = Flux.jacobian(() -> model(x),Flux.params(model))\n",
    "    D = hcat([grad for grad in D]...)\n",
    "    D = D[:,1:end-1]                    # To skip the last bias\n",
    "\n",
    "    ∂(f,x) = D[(f-m)+(x*m),:]           # Used in nested for readabiity\n",
    "\n",
    "    if show_progress\n",
    "        progress_Θ = Progress(m, 1, \"Computing Θ:\", 50)\n",
    "    end\n",
    "\n",
    "    for k = 1:m\n",
    "        for l = 1:m\n",
    "            mini_kernel = zeros(N,N)\n",
    "            for i = 1:N\n",
    "                for j = 1:N\n",
    "                    mini_kernel[i,j] = dot(∂(k,i),∂(l,j))\n",
    "                end\n",
    "            end\n",
    "            # Add mini_kernel to the corresponding portion of Θ\n",
    "            Θ[(k-1)*N+1:k*N, (l-1)*N+1:l*N] .= mini_kernel\n",
    "        end\n",
    "        if show_progress\n",
    "            next!(progress_Θ)           # Increment progress meter Θ\n",
    "        end\n",
    "    end\n",
    "\n",
    "    return Θ\n",
    "end"
   ]
  },
  {
   "cell_type": "code",
   "execution_count": 145,
   "metadata": {},
   "outputs": [
    {
     "name": "stderr",
     "output_type": "stream",
     "text": [
      "\u001b[32mComputing Θ: 100%|██████████████████████████████████████████████████| Time: 0:02:30\u001b[39m\u001b[K\n"
     ]
    },
    {
     "data": {
      "text/plain": [
       "8000×8000 Matrix{Float64}:\n",
       " 3.62445  3.42374  3.32293  3.21078  …  0.0  0.0  0.0  0.0  0.0  0.0  0.0\n",
       " 3.42374  3.34587  3.25245  3.14608     0.0  0.0  0.0  0.0  0.0  0.0  0.0\n",
       " 3.32293  3.25245  3.17468  3.07815     0.0  0.0  0.0  0.0  0.0  0.0  0.0\n",
       " 3.21078  3.14608  3.07815  3.08306     0.0  0.0  0.0  0.0  0.0  0.0  0.0\n",
       " 3.07181  3.01924  2.96072  2.97493     0.0  0.0  0.0  0.0  0.0  0.0  0.0\n",
       " 2.97885  2.93286  2.8818   2.90205  …  0.0  0.0  0.0  0.0  0.0  0.0  0.0\n",
       " 2.86703  2.83036  2.78734  2.81355     0.0  0.0  0.0  0.0  0.0  0.0  0.0\n",
       " 2.62568  2.59626  2.55936  2.58943     0.0  0.0  0.0  0.0  0.0  0.0  0.0\n",
       " 2.56018  2.53549  2.5041   2.5369      0.0  0.0  0.0  0.0  0.0  0.0  0.0\n",
       " 2.50193  2.48092  2.45469  2.49069     0.0  0.0  0.0  0.0  0.0  0.0  0.0\n",
       " ⋮                                   ⋱            ⋮                   \n",
       " 0.0      0.0      0.0      0.0         0.0  0.0  0.0  0.0  0.0  0.0  0.0\n",
       " 0.0      0.0      0.0      0.0         0.0  0.0  0.0  0.0  0.0  0.0  0.0\n",
       " 0.0      0.0      0.0      0.0         0.0  0.0  0.0  0.0  0.0  0.0  0.0\n",
       " 0.0      0.0      0.0      0.0         0.0  0.0  0.0  0.0  0.0  0.0  0.0\n",
       " 0.0      0.0      0.0      0.0      …  0.0  0.0  0.0  0.0  0.0  0.0  0.0\n",
       " 0.0      0.0      0.0      0.0         0.0  0.0  0.0  0.0  0.0  0.0  0.0\n",
       " 0.0      0.0      0.0      0.0         0.0  0.0  0.0  0.0  0.0  0.0  0.0\n",
       " 0.0      0.0      0.0      0.0         0.0  0.0  0.0  0.0  0.0  0.0  0.0\n",
       " 0.0      0.0      0.0      0.0         0.0  0.0  0.0  0.0  0.0  0.0  0.0"
      ]
     },
     "metadata": {},
     "output_type": "display_data"
    }
   ],
   "source": [
    "BIG_K = fast_multidim_K(model,hcat(xVec...),true)"
   ]
  },
  {
   "cell_type": "code",
   "execution_count": 146,
   "metadata": {},
   "outputs": [
    {
     "data": {
      "text/plain": [
       "8000-element Vector{Float64}:\n",
       "  0.0\n",
       "  0.0\n",
       "  0.0\n",
       "  0.0\n",
       "  0.0\n",
       "  0.0\n",
       "  0.0\n",
       "  0.0\n",
       "  0.0\n",
       "  0.0\n",
       "  ⋮\n",
       " 44.35405435550982\n",
       " 45.649067733304776\n",
       " 47.04806805132091\n",
       " 49.45869665928705\n",
       " 50.610121204609186\n",
       " 54.72200771216017\n",
       " 56.55862287897324\n",
       " 58.68728418726743\n",
       " 66.4106631922362"
      ]
     },
     "metadata": {},
     "output_type": "display_data"
    }
   ],
   "source": [
    "eigen(BIG_K).values"
   ]
  },
  {
   "cell_type": "code",
   "execution_count": null,
   "metadata": {},
   "outputs": [],
   "source": [
    "fast_K(model, hcat(xVec...), true)"
   ]
  }
 ],
 "metadata": {
  "kernelspec": {
   "display_name": "Julia 1.9.4",
   "language": "julia",
   "name": "julia-1.9"
  },
  "language_info": {
   "file_extension": ".jl",
   "mimetype": "application/julia",
   "name": "julia",
   "version": "1.9.4"
  }
 },
 "nbformat": 4,
 "nbformat_minor": 2
}
