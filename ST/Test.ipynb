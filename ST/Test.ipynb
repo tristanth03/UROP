{
 "cells": [
  {
   "cell_type": "code",
   "execution_count": 27,
   "metadata": {},
   "outputs": [
    {
     "data": {
      "text/plain": [
       "kernel (generic function with 3 methods)"
      ]
     },
     "metadata": {},
     "output_type": "display_data"
    }
   ],
   "source": [
    "using JLD2, Flux, CairoMakie, JLD2, Random\n",
    "include(\"DenseNTk.jl\"); include(\"FastNTKMethods.jl\")\n"
   ]
  },
  {
   "cell_type": "code",
   "execution_count": 29,
   "metadata": {},
   "outputs": [
    {
     "data": {
      "text/plain": [
       "10×10 Matrix{Float64}:\n",
       " 2.01192   0.345179   2.03881    0.301484   …  0.448665  1.1513     0.953648\n",
       " 0.345179  1.66707    1.21193    1.35652       1.74642   1.43876    0.672351\n",
       " 2.03881   1.21193    4.91215    0.0785283     1.78312   2.93552   -0.135534\n",
       " 0.301484  1.35652    0.0785283  1.46423       1.25358   0.75094    1.09012\n",
       " 0.667712  0.93796   -0.15233    1.26211       0.772915  0.429737   1.3097\n",
       " 0.912913  0.899608   0.472083   1.0707     …  0.820265  0.701916   1.15881\n",
       " 0.887961  1.20385    1.37577    1.02053       1.27383   1.2792     0.804278\n",
       " 0.448665  1.74642    1.78312    1.25358       1.91221   1.74607    0.491012\n",
       " 1.1513    1.43876    2.93552    0.75094       1.74607   2.12766    0.302199\n",
       " 0.953648  0.672351  -0.135534   1.09012       0.491012  0.302199   1.40578"
      ]
     },
     "metadata": {},
     "output_type": "display_data"
    }
   ],
   "source": [
    "Random.seed!(123)\n",
    "\n",
    "x = zeros(2,10)\n",
    "x[1,:] = randn(10)\n",
    "x[2,:] = randn(10)\n",
    "f = x->exp.(sin.(x[1,:]*pi)+cos.(x[2,:]*pi))\n",
    "y = f(x)\n",
    "\n",
    "act = relu; N1=10_000; InDim = size(x)[1]; OutDim = 1\n",
    "model = Chain(DenseNTK(InDim=>N1,activation),DenseNTK(N1=>OutDim))|>f64\n",
    "params_0 = deepcopy(Flux.params(model))\n",
    "Loss(model,x,y) = Flux.mse(y,model(x))\n",
    "data = [(x,y)]\n",
    "\n",
    "K = kernel(model,x,false); eig = eigen(K).values; lr_opt1 = 1/eig[end]; lr_opt2 = 1/eig[end] * 10"
   ]
  },
  {
   "cell_type": "code",
   "execution_count": null,
   "metadata": {},
   "outputs": [],
   "source": [
    "L_opt1 = []\n",
    "@showprogress for epoch = 1:n_epoch\n",
    "    Flux.train!(Loss,model,data,Descent(lr_opt1))\n",
    "    push!(L_opt1,Loss(model),x,y)"
   ]
  }
 ],
 "metadata": {
  "kernelspec": {
   "display_name": "Julia 1.9.4",
   "language": "julia",
   "name": "julia-1.9"
  },
  "language_info": {
   "file_extension": ".jl",
   "mimetype": "application/julia",
   "name": "julia",
   "version": "1.9.4"
  }
 },
 "nbformat": 4,
 "nbformat_minor": 2
}
