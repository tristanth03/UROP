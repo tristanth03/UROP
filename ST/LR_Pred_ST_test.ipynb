{
 "cells": [
  {
   "cell_type": "code",
   "execution_count": 117,
   "metadata": {},
   "outputs": [],
   "source": [
    "\n",
    "using ProgressMeter\n"
   ]
  },
  {
   "cell_type": "code",
   "execution_count": 118,
   "metadata": {},
   "outputs": [
    {
     "name": "stdout",
     "output_type": "stream",
     "text": [
      "Approximately 13.2 sec delay do to kernel calculations"
     ]
    },
    {
     "name": "stderr",
     "output_type": "stream",
     "text": [
      "\u001b[32mProgress:  15%|███████                                  |  ETA: 0:00:01\u001b[39m\u001b[K"
     ]
    },
    {
     "name": "stdout",
     "output_type": "stream",
     "text": [
      "\n"
     ]
    },
    {
     "name": "stderr",
     "output_type": "stream",
     "text": [
      "\u001b[32mProgress: 100%|█████████████████████████████████████████| Time: 0:00:00\u001b[39m\u001b[K\n"
     ]
    },
    {
     "data": {
      "text/plain": [
       "(4.976113593635157, [1.962605605428523 1.7379616820107138 … 0.3969238563292167 0.32479015850406284; 1.7379616820107138 1.6093558587171668 … 0.46051460513293363 0.39736829694161213; … ; 0.3969238563292167 0.46051460513293363 … 1.6290532365444605 1.7602360493713836; 0.32479015850406284 0.39736829694161213 … 1.7602360493713836 1.9929575443757326], [0.015708408303290525, 0.017501314569513305, 0.019041288207687888, 0.02259800020596566, 0.028214695084646343, 0.03868730577591074, 0.06068680416428707, 0.11525399478779252, 0.429462213251862, 3.885235663527463, 10.60098742894941])"
      ]
     },
     "metadata": {},
     "output_type": "display_data"
    }
   ],
   "source": [
    "h = 0.2; x0 = -1.0; xn = 1.0; activation = relu; dim = 1; N1 = 10_000\n",
    "# We create some data (normalized)\n",
    "x = hcat(range(x0,stop=xn,step=h)...)\n",
    "f = x->exp(sin(x*pi))\n",
    "delay = length(x)*1.2\n",
    "y = map(f,x)\n",
    "\n",
    "model = Chain(DenseNTK(dim=>N1,activation),DenseNTK(N1=>dim))|>f64\n",
    "detail = 1\n",
    "iterations = 10000\n",
    "\n",
    "params_0 = deepcopy(Flux.params(model))\n",
    "println(\"Approximately $delay sec delay do to kernel calculations\")\n",
    "\n",
    "\n",
    "Loss(model,x,y) = Flux.mse(y,model(x))\n",
    "LR_opt2,K,eig = LR_updt(h,x0,xn,detail,iterations)\n",
    "\n"
   ]
  },
  {
   "cell_type": "code",
   "execution_count": 3,
   "metadata": {},
   "outputs": [
    {
     "name": "stderr",
     "output_type": "stream",
     "text": [
      "\u001b[32mProgress: 100%|█████████████████████████████████████████| Time: 0:03:14\u001b[39m\u001b[K\u001b[39m\u001b[K\u001b[K\u001b[K\u001b[K\u001b[K\u001b[K\u001b[K\u001b[K\u001b[K\u001b[K\n"
     ]
    }
   ],
   "source": [
    "\n",
    "L = []\n",
    "y = map(f,x)\n",
    "data = [(x,y)]\n",
    "@showprogress for epoch = 1:iterations\n",
    "\n",
    "    Flux.train!(Loss,model,data,Descent(LR_opt2))\n",
    "    push!(L,Loss(model,x,y))\n",
    "\n",
    "end "
   ]
  },
  {
   "cell_type": "code",
   "execution_count": 4,
   "metadata": {},
   "outputs": [
    {
     "data": {
      "text/plain": [
       "100000-element Vector{Any}:\n",
       " 0.5018901333648181\n",
       " 0.43824358181176826\n",
       " 0.4019024957743511\n",
       " 0.379514528628699\n",
       " 0.364807999814988\n",
       " 0.35440826250008156\n",
       " 0.3464587678537305\n",
       " 0.33993299591042075\n",
       " 0.3342470466359757\n",
       " 0.3290886342912216\n",
       " ⋮\n",
       " 5.968192169830961e-28\n",
       " 5.968192169830961e-28\n",
       " 5.968192169830961e-28\n",
       " 5.968192169830961e-28\n",
       " 5.968192169830961e-28\n",
       " 5.968360250989744e-28\n",
       " 5.984031017693601e-28\n",
       " 5.984031017693601e-28\n",
       " 6.033155537700546e-28"
      ]
     },
     "metadata": {},
     "output_type": "display_data"
    }
   ],
   "source": [
    "L"
   ]
  },
  {
   "cell_type": "code",
   "execution_count": 5,
   "metadata": {},
   "outputs": [],
   "source": []
  },
  {
   "cell_type": "code",
   "execution_count": 6,
   "metadata": {},
   "outputs": [],
   "source": [
    "using JLD2\n"
   ]
  },
  {
   "cell_type": "code",
   "execution_count": 7,
   "metadata": {},
   "outputs": [],
   "source": [
    "save_object(\"Params2.jld2\",Flux.params(model))"
   ]
  }
 ],
 "metadata": {
  "kernelspec": {
   "display_name": "Julia 1.9.4",
   "language": "julia",
   "name": "julia-1.9"
  },
  "language_info": {
   "file_extension": ".jl",
   "mimetype": "application/julia",
   "name": "julia",
   "version": "1.9.4"
  }
 },
 "nbformat": 4,
 "nbformat_minor": 2
}
