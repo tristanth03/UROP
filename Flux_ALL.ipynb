{
 "cells": [
  {
   "cell_type": "code",
   "execution_count": 1,
   "metadata": {},
   "outputs": [],
   "source": [
    "# Packages\n",
    "using Flux, CairoMakie"
   ]
  },
  {
   "cell_type": "code",
   "execution_count": 2,
   "metadata": {},
   "outputs": [
    {
     "data": {
      "text/plain": [
       "1×33 Matrix{Float64}:\n",
       " 1.0  1.30656  1.41421  1.30656  1.0  …  -1.55431e-15  0.541196  1.0"
      ]
     },
     "metadata": {},
     "output_type": "display_data"
    }
   ],
   "source": [
    "# Test data\n",
    "f = x-> cos(x)+sin(x)\n",
    "x_train_range = range(-2pi,stop=2pi,step=pi/8)\n",
    "x_test_range = range(0,stop=2pi,step=(pi/4))\n",
    "\n",
    "x_train = hcat(x_train_range...)\n",
    "x_test = hcat(x_test_range...)\n",
    "\n",
    "y_train = map(f,x_train)\n",
    "y_test = map(f,x_test)\n",
    "\n",
    "InputDim = size(x_train)[1]\n",
    "Nh = 60\n",
    "OutputDim = size(x_train)[1]\n",
    "Layers = 1\n",
    "activation = sigmoid\n",
    "\n",
    "display(y_train)"
   ]
  },
  {
   "cell_type": "code",
   "execution_count": 3,
   "metadata": {},
   "outputs": [
    {
     "data": {
      "text/plain": [
       "Chain(\n",
       "  Dense(1 => 60, σ),                    \u001b[90m# 120 parameters\u001b[39m\n",
       "  Dense(60 => 1),                       \u001b[90m# 61 parameters\u001b[39m\n",
       ") \u001b[90m                  # Total: 4 arrays, \u001b[39m181 parameters, 1.664 KiB."
      ]
     },
     "metadata": {},
     "output_type": "display_data"
    }
   ],
   "source": [
    "model = Chain(Dense(1,Nh,sigmoid),Dense(Nh,1))|>f64\n"
   ]
  },
  {
   "cell_type": "code",
   "execution_count": 4,
   "metadata": {},
   "outputs": [
    {
     "data": {
      "text/plain": [
       "1.8894614507635186"
      ]
     },
     "metadata": {},
     "output_type": "display_data"
    }
   ],
   "source": [
    "# Prediction and loss\n",
    "y_train_hat =  model(x_train)\n",
    "y_test_hat = model(x_test)\n",
    "\n",
    "Loss(model,x,y) = Flux.mse(y,model(x));\n",
    "loss = Loss(model,x_train,y_train)"
   ]
  },
  {
   "cell_type": "code",
   "execution_count": 5,
   "metadata": {},
   "outputs": [
    {
     "data": {
      "text/plain": [
       "kernel (generic function with 1 method)"
      ]
     },
     "metadata": {},
     "output_type": "display_data"
    }
   ],
   "source": [
    "include(\"normNTK.jl\")"
   ]
  },
  {
   "cell_type": "code",
   "execution_count": 6,
   "metadata": {},
   "outputs": [
    {
     "data": {
      "text/plain": [
       "60×1 Matrix{Float64}:\n",
       "  0.2063131481409073\n",
       " -0.18272905051708221\n",
       "  0.10938817262649536\n",
       " -0.17600181698799133\n",
       " -0.09328969568014145\n",
       "  0.09143746644258499\n",
       " -0.1269202083349228\n",
       " -0.027840018272399902\n",
       "  0.05913287773728371\n",
       "  0.10363483428955078\n",
       "  ⋮\n",
       "  0.2180255800485611\n",
       "  0.07881265878677368\n",
       " -0.20490403473377228\n",
       "  0.23591765761375427\n",
       "  0.17261265218257904\n",
       " -0.2956998944282532\n",
       " -0.15354862809181213\n",
       " -0.22186002135276794\n",
       "  0.24094000458717346"
      ]
     },
     "metadata": {},
     "output_type": "display_data"
    },
    {
     "data": {
      "text/plain": [
       "60-element Vector{Float64}:\n",
       " 0.0\n",
       " 0.0\n",
       " 0.0\n",
       " 0.0\n",
       " 0.0\n",
       " 0.0\n",
       " 0.0\n",
       " 0.0\n",
       " 0.0\n",
       " 0.0\n",
       " ⋮\n",
       " 0.0\n",
       " 0.0\n",
       " 0.0\n",
       " 0.0\n",
       " 0.0\n",
       " 0.0\n",
       " 0.0\n",
       " 0.0\n",
       " 0.0"
      ]
     },
     "metadata": {},
     "output_type": "display_data"
    },
    {
     "data": {
      "text/plain": [
       "1×60 Matrix{Float64}:\n",
       " -0.208386  -0.10712  -0.0742964  …  0.00439286  0.122419  -0.0628265"
      ]
     },
     "metadata": {},
     "output_type": "display_data"
    },
    {
     "data": {
      "text/plain": [
       "1-element Vector{Float64}:\n",
       " 0.0"
      ]
     },
     "metadata": {},
     "output_type": "display_data"
    }
   ],
   "source": [
    "for i in 1:length(Flux.params(model))\n",
    "    display(Flux.params(model)[i])\n",
    "end\n"
   ]
  },
  {
   "cell_type": "code",
   "execution_count": 168,
   "metadata": {},
   "outputs": [
    {
     "data": {
      "text/plain": [
       "60"
      ]
     },
     "metadata": {},
     "output_type": "display_data"
    },
    {
     "data": {
      "text/plain": [
       "60"
      ]
     },
     "metadata": {},
     "output_type": "display_data"
    },
    {
     "data": {
      "text/plain": [
       "60"
      ]
     },
     "metadata": {},
     "output_type": "display_data"
    },
    {
     "data": {
      "text/plain": [
       "1"
      ]
     },
     "metadata": {},
     "output_type": "display_data"
    }
   ],
   "source": [
    "# for i = 1:length(Flux.params(model))\n",
    "#     myParam = Flux.params(model)[i]\n",
    "    \n",
    "#     if isa(myParam, Vector)\n",
    "#         myParam .= 1/sqrt(length(myParam)) * myParam\n",
    "#         display(length(myParam))\n",
    "#     elseif isa(myParam, Matrix) && size(myParam)[2] == 1\n",
    "#         rows = size(myParam)[1]\n",
    "#         myParam .= 1/sqrt(rows) * myParam\n",
    "#         display(length(myParam))\n",
    "#     elseif isa(myParam, Matrix) && size(myParam)[1] == 1\n",
    "#         column = size(myParam)[2]\n",
    "#         myParam .= 1/sqrt(column) * myParam\n",
    "#         display(length(myParam))\n",
    "       \n",
    "#     end\n",
    "# end\n",
    "\n"
   ]
  },
  {
   "cell_type": "code",
   "execution_count": 7,
   "metadata": {},
   "outputs": [
    {
     "ename": "DimensionMismatch",
     "evalue": "DimensionMismatch: array could not be broadcast to match destination",
     "output_type": "error",
     "traceback": [
      "DimensionMismatch: array could not be broadcast to match destination\n",
      "\n",
      "Stacktrace:\n",
      " [1] check_broadcast_shape\n",
      "   @ .\\broadcast.jl:553 [inlined]\n",
      " [2] check_broadcast_axes\n",
      "   @ .\\broadcast.jl:556 [inlined]\n",
      " [3] instantiate\n",
      "   @ .\\broadcast.jl:297 [inlined]\n",
      " [4] materialize!\n",
      "   @ .\\broadcast.jl:884 [inlined]\n",
      " [5] materialize!(dest::SubArray{Float64, 1, Matrix{Float64}, Tuple{Base.Slice{Base.OneTo{Int64}}, Int64}, true}, bc::Base.Broadcast.Broadcasted{Base.Broadcast.DefaultArrayStyle{1}, Nothing, typeof(identity), Tuple{Vector{Float64}}})\n",
      "   @ Base.Broadcast .\\broadcast.jl:881\n",
      " [6] Df(model::Chain{Tuple{Dense{typeof(σ), Matrix{Float64}, Vector{Float64}}, Dense{typeof(identity), Matrix{Float64}, Vector{Float64}}}}, x::Vector{Float64})\n",
      "   @ Main c:\\Programming\\Github\\UROP\\normNTK.jl:112\n",
      " [7] kernel(model::Chain{Tuple{Dense{typeof(σ), Matrix{Float64}, Vector{Float64}}, Dense{typeof(identity), Matrix{Float64}, Vector{Float64}}}}, x::Matrix{Float64})\n",
      "   @ Main c:\\Programming\\Github\\UROP\\normNTK.jl:133\n",
      " [8] top-level scope\n",
      "   @ c:\\Programming\\Github\\UROP\\Flux_ALL.ipynb:1"
     ]
    }
   ],
   "source": [
    "K = kernel(model,x_train)\n",
    "λ = eigen(K).values"
   ]
  },
  {
   "cell_type": "code",
   "execution_count": 12,
   "metadata": {},
   "outputs": [
    {
     "ename": "UndefVarError",
     "evalue": "UndefVarError: `λ` not defined",
     "output_type": "error",
     "traceback": [
      "UndefVarError: `λ` not defined\n",
      "\n",
      "Stacktrace:\n",
      " [1] top-level scope\n",
      "   @ c:\\Programming\\Github\\UROP\\Flux_ALL.ipynb:3"
     ]
    }
   ],
   "source": [
    "# Training\n",
    "train_data = [(x_train,y_train)]\n",
    "opt = Descent(1/λ[end])\n",
    "\n",
    "\n",
    "Nepoch = 500\n",
    "Process_Loc = [100]\n",
    "Process = []\n",
    "for epoch=1:Nepoch\n",
    "    Flux.train!(Loss, model, train_data, opt)\n",
    "    if epoch in Process_Loc\n",
    "        push!(Process,model(x_train))\n",
    "    end\n",
    "end\n",
    "\n",
    "Process = hcat(Process)\n",
    "\n",
    "y_train_hat =  model(x_train)\n",
    "\n"
   ]
  },
  {
   "cell_type": "code",
   "execution_count": 39,
   "metadata": {},
   "outputs": [
    {
     "data": {
      "text/plain": [
       "1-element Vector{Float64}:\n",
       " 0.0600645996507981"
      ]
     },
     "metadata": {},
     "output_type": "display_data"
    }
   ],
   "source": [
    "model[2].bias"
   ]
  },
  {
   "cell_type": "code",
   "execution_count": 10,
   "metadata": {},
   "outputs": [
    {
     "data": {
      "text/plain": [
       "1.88946"
      ]
     },
     "metadata": {},
     "output_type": "display_data"
    }
   ],
   "source": [
    "# loss update \n",
    "loss_updt = round(Loss(model,x_train,y_train),digits=5)"
   ]
  },
  {
   "cell_type": "code",
   "execution_count": 13,
   "metadata": {},
   "outputs": [
    {
     "ename": "UndefVarError",
     "evalue": "UndefVarError: `Process` not defined",
     "output_type": "error",
     "traceback": [
      "UndefVarError: `Process` not defined\n",
      "\n",
      "Stacktrace:\n",
      " [1] top-level scope\n",
      "   @ c:\\Programming\\Github\\UROP\\Flux_ALL.ipynb:9"
     ]
    }
   ],
   "source": [
    "# Plotting\n",
    "\n",
    "fig = Figure(resolution = (1400, 600))\n",
    "ax1 = Axis(fig[1,1],title=\"Data & Estimation, Cos(x)+Sin(x)\")\n",
    "# ax2 = Axis(fig[1,2],title=\"Eigenvalues; Nodes = $Nh, Layers = $Layers\",yscale=log10)\n",
    "# s1 = lines!(ax1,x_train[:],y_train[:],label=\"Actual Data\")\n",
    "# s2 = scatter!(ax1,x_train[:],y_train_hat[:],label=\"Final Fit (Loss=$loss_updt, $Nepoch Epochs)\",color=:red)\n",
    "\n",
    "for P in 1:length(Process)\n",
    "    P_num = Process_Loc[P]\n",
    "    scatter!(ax1,x_train[:],Process[P][:],label=\"Fitted Data After $P_num Epochs\")\n",
    "end\n",
    "\n",
    "# scatter!(ax2,1:length(λ),λ[:])\n",
    "# Create a legend for ax1 with the specified scatter plots\n",
    "axislegend(ax1,position=:ct)\n",
    "fig"
   ]
  }
 ],
 "metadata": {
  "kernelspec": {
   "display_name": "Julia 1.9.4",
   "language": "julia",
   "name": "julia-1.9"
  },
  "language_info": {
   "file_extension": ".jl",
   "mimetype": "application/julia",
   "name": "julia",
   "version": "1.9.4"
  }
 },
 "nbformat": 4,
 "nbformat_minor": 2
}
