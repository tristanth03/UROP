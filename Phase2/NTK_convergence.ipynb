{
 "cells": [
  {
   "cell_type": "markdown",
   "metadata": {},
   "source": [
    "$$ \\#\\theta = \\sum^{l-1}_{l=0} (n_l +1)n_{l+1}$$"
   ]
  },
  {
   "cell_type": "code",
   "execution_count": null,
   "metadata": {},
   "outputs": [],
   "source": [
    "# AUTHOR: Axel Bjarkar Sigurjónsson\n",
    "# This is a modified \n",
    "using Flux, LinearAlgebra, IterTools"
   ]
  },
  {
   "cell_type": "code",
   "execution_count": null,
   "metadata": {},
   "outputs": [],
   "source": [
    "\n",
    "function check_dim(x)\n",
    "    \"\"\"This function checks the appropriate  dimensions of input data\"\"\"\n",
    "    if isa(x, Matrix)\n",
    "        return size(x, 2)  # Returns the number of columns (width) of the matrix\n",
    "    elseif isa(x, Vector)\n",
    "        return 1  # Return 1 if it's a column vector\n",
    "    else\n",
    "        type = typeof(x)\n",
    "        error(\"Input data type: $type is neither a matrix or column vector\")\n",
    "    end\n",
    "end\n"
   ]
  },
  {
   "cell_type": "code",
   "execution_count": null,
   "metadata": {},
   "outputs": [],
   "source": [
    "\n",
    "function node_count(model)\n",
    "    \"\"\"Function checks how many nodes are in each layer\n",
    "       Including  the input, ouput and hidden layers\"\"\"\n",
    "    param(x)  = Flux.params(model)[x]\n",
    "    n = []\n",
    "    for i = 1:length(Flux.params(model))\n",
    "        if i%2 != 0 # Check all weights in θ \n",
    "            ni = size(param(i))[2]\n",
    "            push!(n,ni)                 \n",
    "        end                             \n",
    "    end\n",
    "\n",
    "    \"\"\"We also have to check the output layer specifically.  \n",
    "       This is because there is not weight in θ associated with the output layer\"\"\"\n",
    "    push!(n, length(param(length(Flux.params(model)))))\n",
    "    return n\n",
    "end\n"
   ]
  },
  {
   "cell_type": "code",
   "execution_count": 101,
   "metadata": {},
   "outputs": [
    {
     "data": {
      "text/plain": [
       "Chain(\n",
       "  Dense(1 => 10),                       \u001b[90m# 20 parameters\u001b[39m\n",
       "  Dense(10 => 1),                       \u001b[90m# 11 parameters\u001b[39m\n",
       "  Dense(1 => 6),                        \u001b[90m# 12 parameters\u001b[39m\n",
       "  Dense(6 => 1),                        \u001b[90m# 7 parameters\u001b[39m\n",
       ") \u001b[90m                  # Total: 8 arrays, \u001b[39m50 parameters, 712 bytes."
      ]
     },
     "metadata": {},
     "output_type": "display_data"
    },
    {
     "data": {
      "text/plain": [
       "10×1 Matrix{Float32}:\n",
       " -0.31009614\n",
       "  0.29096594\n",
       "  0.53697085\n",
       " -0.48650137\n",
       " -0.41816324\n",
       " -0.67582506\n",
       "  0.5830284\n",
       " -0.69080883\n",
       " -0.22767554\n",
       "  0.4261204"
      ]
     },
     "metadata": {},
     "output_type": "display_data"
    },
    {
     "data": {
      "text/plain": [
       "10-element Vector{Float32}:\n",
       " 0.0\n",
       " 0.0\n",
       " 0.0\n",
       " 0.0\n",
       " 0.0\n",
       " 0.0\n",
       " 0.0\n",
       " 0.0\n",
       " 0.0\n",
       " 0.0"
      ]
     },
     "metadata": {},
     "output_type": "display_data"
    },
    {
     "data": {
      "text/plain": [
       "1×10 Matrix{Float32}:\n",
       " -0.697257  0.186764  0.0431383  -0.017348  …  -0.1415  0.53403  -0.470015"
      ]
     },
     "metadata": {},
     "output_type": "display_data"
    },
    {
     "data": {
      "text/plain": [
       "1-element Vector{Float32}:\n",
       " 0.0"
      ]
     },
     "metadata": {},
     "output_type": "display_data"
    },
    {
     "data": {
      "text/plain": [
       "6×1 Matrix{Float32}:\n",
       " -0.59647983\n",
       " -0.5012748\n",
       " -0.74013877\n",
       "  0.51998526\n",
       "  0.6316856\n",
       "  0.5442218"
      ]
     },
     "metadata": {},
     "output_type": "display_data"
    },
    {
     "data": {
      "text/plain": [
       "6-element Vector{Float32}:\n",
       " 0.0\n",
       " 0.0\n",
       " 0.0\n",
       " 0.0\n",
       " 0.0\n",
       " 0.0"
      ]
     },
     "metadata": {},
     "output_type": "display_data"
    },
    {
     "data": {
      "text/plain": [
       "1×6 Matrix{Float32}:\n",
       " -0.610163  0.418035  0.301192  -0.138591  0.66567  0.378746"
      ]
     },
     "metadata": {},
     "output_type": "display_data"
    },
    {
     "data": {
      "text/plain": [
       "1-element Vector{Float32}:\n",
       " 0.0"
      ]
     },
     "metadata": {},
     "output_type": "display_data"
    }
   ],
   "source": [
    "m = Chain(Dense(1=>10), Dense(10=>1), Dense(1=>6), Dense(6=>1))\n",
    "display(m)\n",
    "\n",
    "for i in Flux.params(m)\n",
    "    display(i)\n",
    "end"
   ]
  },
  {
   "cell_type": "markdown",
   "metadata": {},
   "source": [
    "<h1>Now we norm the weights</h1>"
   ]
  },
  {
   "cell_type": "code",
   "execution_count": 110,
   "metadata": {},
   "outputs": [
    {
     "data": {
      "text/plain": [
       "norm_weights (generic function with 1 method)"
      ]
     },
     "metadata": {},
     "output_type": "display_data"
    }
   ],
   "source": [
    "\n",
    "function norm_weights(model)\n",
    "    \"\"\"Normalizes the weights in θ\"\"\"\n",
    "    θ(x)  = Flux.params(model)[x]\n",
    "    nNodes = node_count(model)\n",
    "\n",
    "    i = 1\n",
    "    for n = 1:length(nNodes)-1\n",
    "        ni = nNodes[n]\n",
    "\n",
    "        display(ni)\n",
    "        display(θ(i))\n",
    "\n",
    "        θ(i) .= θ(i) * 1/sqrt(ni)\n",
    "\n",
    "        display(θ(i))\n",
    "\n",
    "        i += 2\n",
    "    end\n",
    "end\n"
   ]
  },
  {
   "cell_type": "code",
   "execution_count": 111,
   "metadata": {},
   "outputs": [
    {
     "data": {
      "text/plain": [
       "1"
      ]
     },
     "metadata": {},
     "output_type": "display_data"
    },
    {
     "data": {
      "text/plain": [
       "10×1 Matrix{Float32}:\n",
       " -0.31009614\n",
       "  0.29096594\n",
       "  0.53697085\n",
       " -0.48650137\n",
       " -0.41816324\n",
       " -0.67582506\n",
       "  0.5830284\n",
       " -0.69080883\n",
       " -0.22767554\n",
       "  0.4261204"
      ]
     },
     "metadata": {},
     "output_type": "display_data"
    },
    {
     "data": {
      "text/plain": [
       "10×1 Matrix{Float32}:\n",
       " -0.31009614\n",
       "  0.29096594\n",
       "  0.53697085\n",
       " -0.48650137\n",
       " -0.41816324\n",
       " -0.67582506\n",
       "  0.5830284\n",
       " -0.69080883\n",
       " -0.22767554\n",
       "  0.4261204"
      ]
     },
     "metadata": {},
     "output_type": "display_data"
    },
    {
     "data": {
      "text/plain": [
       "10"
      ]
     },
     "metadata": {},
     "output_type": "display_data"
    },
    {
     "data": {
      "text/plain": [
       "1×10 Matrix{Float32}:\n",
       " -0.0220492  0.00590598  0.00136415  …  -0.00447464  0.0168875  -0.0148632"
      ]
     },
     "metadata": {},
     "output_type": "display_data"
    },
    {
     "data": {
      "text/plain": [
       "1×10 Matrix{Float32}:\n",
       " -0.00697257  0.00186764  0.000431383  …  -0.001415  0.0053403  -0.00470015"
      ]
     },
     "metadata": {},
     "output_type": "display_data"
    },
    {
     "data": {
      "text/plain": [
       "1"
      ]
     },
     "metadata": {},
     "output_type": "display_data"
    },
    {
     "data": {
      "text/plain": [
       "6×1 Matrix{Float32}:\n",
       " -0.59647983\n",
       " -0.5012748\n",
       " -0.74013877\n",
       "  0.51998526\n",
       "  0.6316856\n",
       "  0.5442218"
      ]
     },
     "metadata": {},
     "output_type": "display_data"
    },
    {
     "data": {
      "text/plain": [
       "6×1 Matrix{Float32}:\n",
       " -0.59647983\n",
       " -0.5012748\n",
       " -0.74013877\n",
       "  0.51998526\n",
       "  0.6316856\n",
       "  0.5442218"
      ]
     },
     "metadata": {},
     "output_type": "display_data"
    },
    {
     "data": {
      "text/plain": [
       "6"
      ]
     },
     "metadata": {},
     "output_type": "display_data"
    },
    {
     "data": {
      "text/plain": [
       "1×6 Matrix{Float32}:\n",
       " -0.0415164  0.0284437  0.0204935  -0.00942989  0.0452931  0.0257704"
      ]
     },
     "metadata": {},
     "output_type": "display_data"
    },
    {
     "data": {
      "text/plain": [
       "1×6 Matrix{Float32}:\n",
       " -0.016949  0.0116121  0.00836644  -0.00384974  0.0184908  0.0105207"
      ]
     },
     "metadata": {},
     "output_type": "display_data"
    }
   ],
   "source": [
    "norm_weights(m)\n",
    "# for i in Flux.params(m)\n",
    "#     display(i)\n",
    "# end"
   ]
  },
  {
   "cell_type": "markdown",
   "metadata": {},
   "source": [
    "<h1>Now we do the kernels, which are supposed to be normalized</h1>"
   ]
  },
  {
   "cell_type": "code",
   "execution_count": 130,
   "metadata": {},
   "outputs": [
    {
     "data": {
      "text/plain": [
       "1×100 Matrix{Float32}:\n",
       " 0.506202  0.507597  0.4888  0.502825  …  0.495301  0.497027  0.469968"
      ]
     },
     "metadata": {},
     "output_type": "display_data"
    }
   ],
   "source": [
    "function jac(model, x, f,param)\n",
    "    \"\"\"Gets the jacobian of a specific parameter\"\"\"\n",
    "    jaco(f) = Flux.gradient(() -> model(x)[f],Flux.params(model))\n",
    "    return jaco(f)[Flux.params(model)[param]]\n",
    "end\n",
    "\n",
    "function Df(model, x)\n",
    "    # x: single datapoint\n",
    "    m = length(model(x))\n",
    "\n",
    "    # Total amount of θ exluding final bias\n",
    "    total_amount_of_θ = sum(length, Flux.params(model))  - length(Flux.params(model)[length(Flux.params(model))])\n",
    "\n",
    "    # Skilgreini empty jacobian matrix\n",
    "    Jacob = zeros(total_amount_of_θ,m)\n",
    "\n",
    "    for func_i = 1:m\n",
    "        current_col = Vector{Float64}(undef, 0) # Preallocate memory\n",
    "\n",
    "        for param_i = 1:length(Flux.params(model)) - 1\n",
    "            jac_vec = jac(model, x, func_i, param_i)[:]\n",
    "            current_col = vcat(current_col, jac_vec) # Concatenate vectors\n",
    "        end\n",
    "\n",
    "        for k = 1:total_amount_of_θ \n",
    "            Jacob[k, func_i] = current_col[k]\n",
    "        end\n",
    "    end\n",
    "    \n",
    "    return Jacob # Þetta er Df fylkið í bilblíunni\n",
    "end\n",
    "\n",
    "function kernel(model, x)\n",
    "    N = check_dim(x)\n",
    "    m = length(model(x[:,1]))  # Number of functions in the model output\n",
    "    K = zeros(N*m, N*m)\n",
    "    \n",
    "    for i = 1:N\n",
    "        for j = 1:N\n",
    "            block = Df(model, x[:,i])' * Df(model, x[:,j])\n",
    "            K[(i-1)*m+1:i*m, (j-1)*m+1:j*m] .= block\n",
    "        end\n",
    "    end\n",
    "\n",
    "    return K\n",
    "end\n",
    "\n",
    "jac(my_sigm, hcat(0.5),1,length(Flux.params(my_sigm))-1)[:]"
   ]
  },
  {
   "cell_type": "markdown",
   "metadata": {},
   "source": [
    "The models from \"activationFunctionTest.ipynb\""
   ]
  },
  {
   "cell_type": "code",
   "execution_count": 122,
   "metadata": {},
   "outputs": [
    {
     "data": {
      "text/plain": [
       "100×1 Matrix{Float32}:\n",
       "  0.049617905\n",
       "  0.060779575\n",
       " -0.08961165\n",
       "  0.022597395\n",
       "  0.028293798\n",
       " -0.045233548\n",
       "  0.10096506\n",
       "  0.0854967\n",
       "  0.05472716\n",
       " -0.1872795\n",
       "  ⋮\n",
       "  0.13397047\n",
       "  0.19957124\n",
       "  0.18591695\n",
       " -0.19495997\n",
       " -0.037545957\n",
       " -0.18100029\n",
       " -0.03759733\n",
       " -0.023785785\n",
       " -0.24054728"
      ]
     },
     "metadata": {},
     "output_type": "display_data"
    },
    {
     "data": {
      "text/plain": [
       "100-element Vector{Float32}:\n",
       " 0.0\n",
       " 0.0\n",
       " 0.0\n",
       " 0.0\n",
       " 0.0\n",
       " 0.0\n",
       " 0.0\n",
       " 0.0\n",
       " 0.0\n",
       " 0.0\n",
       " ⋮\n",
       " 0.0\n",
       " 0.0\n",
       " 0.0\n",
       " 0.0\n",
       " 0.0\n",
       " 0.0\n",
       " 0.0\n",
       " 0.0\n",
       " 0.0"
      ]
     },
     "metadata": {},
     "output_type": "display_data"
    },
    {
     "data": {
      "text/plain": [
       "1×100 Matrix{Float32}:\n",
       " 0.200566  -0.224587  0.164237  …  -0.0553575  0.222334  -0.232293"
      ]
     },
     "metadata": {},
     "output_type": "display_data"
    },
    {
     "data": {
      "text/plain": [
       "1-element Vector{Float32}:\n",
       " 0.0"
      ]
     },
     "metadata": {},
     "output_type": "display_data"
    }
   ],
   "source": [
    "Nx=21\n",
    "xa=-1.0\n",
    "xb=1.0\n",
    "\n",
    "xVec=collect(range(-1.0,stop=1.0,length=Nx));\n",
    "yVec=sin.(2*pi*xVec) .+ 0.1*randn(size(xVec));  # Einhver plat gögn\n",
    "\n",
    "using Random\n",
    "Random.seed!(123)\n",
    "\n",
    "n1=100\n",
    "W=randn(n1,1);  #Modelling N(0,1) distributed W^[1]\n",
    "b=randn(n1,1);  #Modelling N(0,1) distributed b^[0]\n",
    "W0=randn(1,n1); #Modelling N(0,1) distributed W^[0]\n",
    "\n",
    "my_sigm = Chain(Dense(1,n1,sigmoid), Dense(n1,1))\n",
    "\n",
    "for i in Flux.params(my_sigm)\n",
    "    display(i)\n",
    "end"
   ]
  },
  {
   "cell_type": "code",
   "execution_count": 119,
   "metadata": {},
   "outputs": [
    {
     "data": {
      "text/plain": [
       "1"
      ]
     },
     "metadata": {},
     "output_type": "display_data"
    },
    {
     "data": {
      "text/plain": [
       "100×1 Matrix{Float32}:\n",
       "  0.049617905\n",
       "  0.060779575\n",
       " -0.08961165\n",
       "  0.022597395\n",
       "  0.028293798\n",
       " -0.045233548\n",
       "  0.10096506\n",
       "  0.0854967\n",
       "  0.05472716\n",
       " -0.1872795\n",
       "  ⋮\n",
       "  0.13397047\n",
       "  0.19957124\n",
       "  0.18591695\n",
       " -0.19495997\n",
       " -0.037545957\n",
       " -0.18100029\n",
       " -0.03759733\n",
       " -0.023785785\n",
       " -0.24054728"
      ]
     },
     "metadata": {},
     "output_type": "display_data"
    },
    {
     "data": {
      "text/plain": [
       "100×1 Matrix{Float32}:\n",
       "  0.049617905\n",
       "  0.060779575\n",
       " -0.08961165\n",
       "  0.022597395\n",
       "  0.028293798\n",
       " -0.045233548\n",
       "  0.10096506\n",
       "  0.0854967\n",
       "  0.05472716\n",
       " -0.1872795\n",
       "  ⋮\n",
       "  0.13397047\n",
       "  0.19957124\n",
       "  0.18591695\n",
       " -0.19495997\n",
       " -0.037545957\n",
       " -0.18100029\n",
       " -0.03759733\n",
       " -0.023785785\n",
       " -0.24054728"
      ]
     },
     "metadata": {},
     "output_type": "display_data"
    },
    {
     "data": {
      "text/plain": [
       "100"
      ]
     },
     "metadata": {},
     "output_type": "display_data"
    },
    {
     "data": {
      "text/plain": [
       "1×100 Matrix{Float32}:\n",
       " 0.200566  -0.224587  0.164237  …  -0.0553575  0.222334  -0.232293"
      ]
     },
     "metadata": {},
     "output_type": "display_data"
    },
    {
     "data": {
      "text/plain": [
       "1×100 Matrix{Float32}:\n",
       " 0.0200566  -0.0224587  0.0164237  …  -0.00553575  0.0222334  -0.0232293"
      ]
     },
     "metadata": {},
     "output_type": "display_data"
    },
    {
     "data": {
      "text/plain": [
       "100×1 Matrix{Float32}:\n",
       "  0.049617905\n",
       "  0.060779575\n",
       " -0.08961165\n",
       "  0.022597395\n",
       "  0.028293798\n",
       " -0.045233548\n",
       "  0.10096506\n",
       "  0.0854967\n",
       "  0.05472716\n",
       " -0.1872795\n",
       "  ⋮\n",
       "  0.13397047\n",
       "  0.19957124\n",
       "  0.18591695\n",
       " -0.19495997\n",
       " -0.037545957\n",
       " -0.18100029\n",
       " -0.03759733\n",
       " -0.023785785\n",
       " -0.24054728"
      ]
     },
     "metadata": {},
     "output_type": "display_data"
    },
    {
     "data": {
      "text/plain": [
       "100-element Vector{Float32}:\n",
       " 0.0\n",
       " 0.0\n",
       " 0.0\n",
       " 0.0\n",
       " 0.0\n",
       " 0.0\n",
       " 0.0\n",
       " 0.0\n",
       " 0.0\n",
       " 0.0\n",
       " ⋮\n",
       " 0.0\n",
       " 0.0\n",
       " 0.0\n",
       " 0.0\n",
       " 0.0\n",
       " 0.0\n",
       " 0.0\n",
       " 0.0\n",
       " 0.0"
      ]
     },
     "metadata": {},
     "output_type": "display_data"
    },
    {
     "data": {
      "text/plain": [
       "1×100 Matrix{Float32}:\n",
       " 0.0200566  -0.0224587  0.0164237  …  -0.00553575  0.0222334  -0.0232293"
      ]
     },
     "metadata": {},
     "output_type": "display_data"
    },
    {
     "data": {
      "text/plain": [
       "1-element Vector{Float32}:\n",
       " 0.0"
      ]
     },
     "metadata": {},
     "output_type": "display_data"
    }
   ],
   "source": [
    "norm_weights(my_sigm)\n",
    "for i in Flux.params(my_sigm)\n",
    "    display(i)\n",
    "end"
   ]
  },
  {
   "cell_type": "code",
   "execution_count": 120,
   "metadata": {},
   "outputs": [
    {
     "data": {
      "text/plain": [
       "21×21 Matrix{Float64}:\n",
       " 24.9049  24.9043  24.9036  24.9029  …  24.892   24.8913  24.8906  24.8899\n",
       " 24.9043  24.9047  24.9051  24.9055     24.9102  24.9106  24.911   24.9114\n",
       " 24.9036  24.9051  24.9066  24.9081     24.9284  24.9299  24.9314  24.933\n",
       " 24.9029  24.9055  24.9081  24.9107     24.9466  24.9492  24.9518  24.9545\n",
       " 24.9021  24.9059  24.9096  24.9133     24.9648  24.9685  24.9722  24.976\n",
       " 24.9014  24.9062  24.9111  24.9159  …  24.983   24.9878  24.9927  24.9975\n",
       " 24.9006  24.9066  24.9125  24.9185     25.0012  25.0071  25.0131  25.0191\n",
       " 24.8998  24.9069  24.914   24.921      25.0194  25.0265  25.0335  25.0406\n",
       " 24.899   24.9072  24.9154  24.9236     25.0376  25.0458  25.054   25.0621\n",
       " 24.8982  24.9075  24.9168  24.9261     25.0558  25.0651  25.0744  25.0837\n",
       "  ⋮                                  ⋱                              ⋮\n",
       " 24.8958  24.9085  24.9211  24.9338     25.1104  25.123   25.1357  25.1483\n",
       " 24.8951  24.9088  24.9226  24.9363     25.1286  25.1424  25.1561  25.1699\n",
       " 24.8943  24.9091  24.924   24.9389     25.1468  25.1617  25.1765  25.1914\n",
       " 24.8935  24.9095  24.9255  24.9414  …  25.165   25.181   25.197   25.2129\n",
       " 24.8928  24.9098  24.9269  24.944      25.1832  25.2003  25.2174  25.2345\n",
       " 24.892   24.9102  24.9284  24.9466     25.2014  25.2196  25.2378  25.256\n",
       " 24.8913  24.9106  24.9299  24.9492     25.2196  25.2389  25.2582  25.2775\n",
       " 24.8906  24.911   24.9314  24.9518     25.2378  25.2582  25.2786  25.299\n",
       " 24.8899  24.9114  24.933   24.9545  …  25.256   25.2775  25.299   25.3205"
      ]
     },
     "metadata": {},
     "output_type": "display_data"
    }
   ],
   "source": [
    "K = kernel(my_sigm,hcat(xVec...))"
   ]
  },
  {
   "cell_type": "code",
   "execution_count": 97,
   "metadata": {},
   "outputs": [
    {
     "data": {
      "text/plain": [
       "21-element Vector{Float64}:\n",
       " 6.818029403723471e-17\n",
       " 1.0081027923495614e-16\n",
       " 1.0084268830678011e-16\n",
       " 1.1243091310290042e-16\n",
       " 1.302474807006361e-16\n",
       " 1.3277782132797353e-16\n",
       " 1.4570873489871668e-16\n",
       " 1.5388201549486105e-16\n",
       " 1.5882397298156224e-16\n",
       " 1.6820686644037814e-16\n",
       " ⋮\n",
       " 2.328579882968902e-16\n",
       " 2.5994814082090454e-16\n",
       " 3.048916354469903e-16\n",
       " 3.4002426841753824e-16\n",
       " 6.106226605463413e-16\n",
       " 1.3987419559560172e-11\n",
       " 1.13354315214589e-9\n",
       " 0.008459260446600269\n",
       " 5.250036075645336"
      ]
     },
     "metadata": {},
     "output_type": "display_data"
    }
   ],
   "source": [
    "eigen(K).values"
   ]
  },
  {
   "cell_type": "code",
   "execution_count": 102,
   "metadata": {},
   "outputs": [
    {
     "data": {
      "text/plain": [
       "49×1 Matrix{Float64}:\n",
       " -0.3388855755329132\n",
       "  0.09077209234237671\n",
       "  0.02096637524664402\n",
       " -0.00843160878866911\n",
       "  0.33954623341560364\n",
       "  0.017555786296725273\n",
       " -0.3388819992542267\n",
       " -0.06877296417951584\n",
       "  0.2595527172088623\n",
       " -0.22843971848487854\n",
       "  ⋮\n",
       " -0.13859057426452637\n",
       "  0.6656697392463684\n",
       "  0.3787462115287781\n",
       "  0.3847413659095764\n",
       "  0.3233322203159332\n",
       "  0.47740423679351807\n",
       " -0.3354008197784424\n",
       " -0.40744978189468384\n",
       " -0.35103389620780945"
      ]
     },
     "metadata": {},
     "output_type": "display_data"
    }
   ],
   "source": [
    "Df(m,hcat(1))"
   ]
  }
 ],
 "metadata": {
  "kernelspec": {
   "display_name": "Julia 1.9.4",
   "language": "julia",
   "name": "julia-1.9"
  },
  "language_info": {
   "file_extension": ".jl",
   "mimetype": "application/julia",
   "name": "julia",
   "version": "1.9.4"
  }
 },
 "nbformat": 4,
 "nbformat_minor": 2
}
