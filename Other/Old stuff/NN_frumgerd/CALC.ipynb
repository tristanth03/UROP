{
 "cells": [
  {
   "cell_type": "markdown",
   "metadata": {},
   "source": [
    "The cost function:\n",
    "\n",
    "$Cost\\Rightarrow C_o(...)=\\left(a^{(L)}-y\\right)^2 $\n",
    "\n",
    "$C_0$ : Represents the cost function for a particular output 0 (with ... parameters inside)\n",
    "\n",
    "$a^{(L)}$ : This term represents the activation of the last layer L of the neural network for a given input. In simpler terms, it's the output of the neural network for a specific input. The superscript (L) denotes that it's the activation from the last layer, which is the layer responsible for producing the final prediction of the network.\n",
    "\n",
    "$y$ :  This symbol stands for the actual target or true value that the model is trying to predict. In supervised learning, for each input, there's an associated true value y which the model aims to approximate through its predictions.\n",
    "\n",
    "$\\left(a^{(L)}-y\\right)^2$ : This expression is the squared difference between the predicted value $a^{(L)}$ and the actual value y. Squaring the difference serves two main purposes: it ensures that the result is non-negative (since any number squared is non-negative), and it emphasizes larger errors more than smaller ones (since the square of a larger number is much greater than the square of a smaller number).\n",
    "\n",
    "In summary, this cost function measures the squared error between the neural network's predictions and the actual values. It's often used in regression tasks where the goal is to predict continuous values. The training process of the neural network involves adjusting its weights and biases to minimize this cost function, thereby making the predictions as close as possible to the actual values.\n",
    "\n"
   ]
  },
  {
   "cell_type": "markdown",
   "metadata": {},
   "source": [
    "$z^{(L)} = w^{(L)}a^{(L-1)}+b^{(L)}$\n",
    "\n",
    "$a^{(L)}=\\sigma\\left(z^{(L)}\\right)$"
   ]
  },
  {
   "cell_type": "markdown",
   "metadata": {},
   "source": [
    "<p style=\"font-family: Arial;\">\n",
    "    <span style=\"display: inline-block; width: 100px; height: 2px; background-color: black; vertical-align: middle;\"></span>\n",
    "    <span style=\"vertical-align: middle;\">a<sup>(L-2)</sub></span>\n",
    "    <span style=\"display: inline-block; width: 100px; height: 2px; background-color: black; vertical-align: middle;\"></span>\n",
    "    <span style=\"display: inline-block; width: 100px; height: 2px; background-color: black; vertical-align: middle;\"></span>\n",
    "    <span style=\"vertical-align: middle;\">a<sup>(L-1)</sub></span>\n",
    "    <span style=\"display: inline-block; width: 100px; height: 2px; background-color: black; vertical-align: middle;\"></span>\n",
    "    <span style=\"display: inline-block; width: 100px; height: 2px; background-color: black; vertical-align: middle;\"></span>\n",
    "    <span style=\"vertical-align: middle;\">a<sup>(L)</sub></span>\n",
    "    <span style=\"display: inline-block; width: 100px; height: 2px; background-color: black; vertical-align: middle;\"></span>\n",
    "    \n",
    "</p>\n",
    "\n"
   ]
  },
  {
   "cell_type": "markdown",
   "metadata": {},
   "source": [
    "We want to find:\n",
    "\n",
    "$\\frac{\\partial C_0}{\\partial w^{(L)}}=\\frac{\\partial z^{(L)}}{\\partial w^{(L)}}\\frac{\\partial a^{(L)}}{\\partial z^{(L)}}\\frac{\\partial C_0}{\\partial a^{(L)}}$\n",
    "\n",
    "That is:\n",
    "\n",
    "$\\frac{\\partial z^{(L)}}{\\partial w^{(L)}} = a^{(L-1)}$\n",
    "\n",
    "$\\frac{\\partial a^{(L)}}{\\partial z^{(L)}} = \\sigma'(z^{(L)})$\n",
    "\n",
    "$\\frac{\\partial C_0}{\\partial a^{(L)}} = 2\\left(a^{(L)}-y\\right)$\n",
    "\n",
    "With \n",
    "\n",
    "$\\frac{\\partial C_0}{\\partial w^{(L)}}=\\frac{\\partial z^{(L)}}{\\partial w^{(L)}}\\frac{\\partial a^{(L)}}{\\partial z^{(L)}}\\frac{\\partial C_0}{\\partial a^{(L)}} =2 a^{(L-1)} \\sigma'\\left(z^{(L)}\\right)\\left(a^{(L)}-y\\right)$\n",
    "\n",
    "With that in mind we can write:\n",
    "\n",
    "$\\frac{\\partial C}{\\partial w^{(L)}} = \\frac{1}{n}\\sum^{n-1}_{k=0}\\frac{\\partial C_{k}}{\\partial w^{(L)}}$\n"
   ]
  },
  {
   "cell_type": "markdown",
   "metadata": {},
   "source": [
    "We want to find the gradient C, that is:\n",
    "\n",
    "$\\nabla \\mathbf{C} = \\begin{bmatrix}\\frac{\\partial C}{\\partial w^{(1)}}\\\\ \\\\ \\frac{\\partial C}{\\partial w^{(1)}} \\\\ \\\\ ...  \\\\ \\\\ \\frac{\\partial C}{\\partial w^{(L)}} \\\\ \\\\ \\frac{\\partial C}{\\partial w^{(L)}}\\end{bmatrix}$"
   ]
  },
  {
   "cell_type": "markdown",
   "metadata": {},
   "source": [
    "For the cost with respect to the bias, we simply write:\n",
    "\n",
    "$$\\frac{\\partial C_0}{\\partial b^{(L)}}=\\frac{\\partial z^{(L)}}{\\partial b^{(L)}}\\frac{\\partial a^{(L)}}{\\partial z^{(L)}}\\frac{\\partial C_0}{\\partial a^{(L)}} = 2  \\sigma'\\left(z^{(L)}\\right)\\left(a^{(L)}-y\\right)$$"
   ]
  },
  {
   "cell_type": "markdown",
   "metadata": {},
   "source": [
    "With back progigation we write:\n",
    "\n",
    "$\\frac{\\partial C_0}{\\partial a^{(L-1)}}=\\frac{\\partial z^{(L)}}{\\partial a^{(L-1)}}\\frac{\\partial a^{(L)}}{\\partial z^{(L)}}\\frac{\\partial C_0}{\\partial a^{(L)}} =2 w^{(L)}\\sigma'\\left(z^{(L)}\\right)\\left(a^{(L)}-y\\right)$\n",
    "\n",
    "and\n",
    "\n",
    "$C_0=\\sum^{n_L-1}_{j=0}\\left(a_j^{(L)}-y_j\\right)^2$\n",
    "\n",
    "and \n",
    "\n",
    "$z_j^{(L)}=w_{j,0}^{(L)}a_0^{(L-1)}+w_{j,i}^{(L)}a_1^{(L-1)}+w_{j,2}^{(L)}a_2^{(L-1)}+b_j^{(L)}$\n"
   ]
  },
  {
   "cell_type": "markdown",
   "metadata": {},
   "source": [
    "So for a:\n",
    "\n",
    "$a_j^{(L)}=\\sigma \\left(z_j^{(L)}\\right)$\n",
    "\n",
    "and the cost sensetivity\n",
    "\n",
    "$\\frac{\\partial C_0}{\\partial w^{(L)}_{j,k}}=\\frac{\\partial z^{(L)}_j}{\\partial w^{(L)}_{j,k}}\\frac{\\partial a^{(L)}_j}{\\partial z^{(L)}_j}\\frac{\\partial C_0}{\\partial a^{(L)}_j}$\n",
    "\n",
    "and only changed \"one\" term for the back probigation:\n",
    "\n",
    "$\\frac{\\partial C_0}{\\partial a^{(L-1)}_{k}}=\\sum_{j=0}^{n_L-1}\\frac{\\partial z^{(L)}_j}{\\partial a^{(L-1)}_{k}}\\frac{\\partial a^{(L)}_j}{\\partial z^{(L)}_j}\\frac{\\partial C_0}{\\partial a^{(L)}_j}$"
   ]
  }
 ],
 "metadata": {
  "language_info": {
   "name": "python"
  }
 },
 "nbformat": 4,
 "nbformat_minor": 2
}
