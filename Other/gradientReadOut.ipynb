{
 "cells": [
  {
   "cell_type": "code",
   "execution_count": 38,
   "id": "5db268f0-10e2-450a-aac7-ab8705dcc32f",
   "metadata": {},
   "outputs": [],
   "source": [
    "using Flux\n",
    "using Zygote\n",
    "using MLDatasets"
   ]
  },
  {
   "cell_type": "code",
   "execution_count": 39,
   "id": "58f8b461-928b-4210-aaab-1961952c872d",
   "metadata": {},
   "outputs": [
    {
     "data": {
      "text/plain": [
       "Chain(\n",
       "  Dense(10 => 5),                       \u001b[90m# 55 parameters\u001b[39m\n",
       "  Dense(5 => 1),                        \u001b[90m# 6 parameters\u001b[39m\n",
       ") \u001b[90m                  # Total: 4 arrays, \u001b[39m61 parameters, 500 bytes."
      ]
     },
     "metadata": {},
     "output_type": "display_data"
    }
   ],
   "source": [
    "model = Chain(  Dense(10 => 5), Dense(5 => 1)) # W_2[1x5](W_1[5x10]x[10,1]+b_1[5x1])+b_2[1]"
   ]
  },
  {
   "cell_type": "code",
   "execution_count": 40,
   "id": "35c2426e-a0c2-46e7-a9cd-6cc074d39e19",
   "metadata": {},
   "outputs": [
    {
     "data": {
      "text/plain": [
       "1-element Vector{Float32}:\n",
       " 1.8275605"
      ]
     },
     "metadata": {},
     "output_type": "display_data"
    }
   ],
   "source": [
    "x=rand(Float32,10)\n",
    "model(x)"
   ]
  },
  {
   "cell_type": "code",
   "execution_count": 41,
   "id": "febb5146-6e8c-45f7-9668-a4e013929b42",
   "metadata": {},
   "outputs": [
    {
     "data": {
      "text/plain": [
       "5×10 Matrix{Float32}:\n",
       "  0.631138   0.278       0.330984  …   0.490507  -0.241082    0.419408\n",
       "  0.544089  -0.457139   -0.392576      0.493048  -0.446369   -0.187228\n",
       " -0.477714  -0.198472    0.356262     -0.588864   0.0343405  -0.536417\n",
       " -0.421885  -0.0188545   0.297338      0.575183  -0.326372    0.0976249\n",
       " -0.243372  -0.445797   -0.187768      0.133541   0.0733215   0.408177"
      ]
     },
     "metadata": {},
     "output_type": "display_data"
    }
   ],
   "source": [
    "Flux.params(model)[1]  # W_1"
   ]
  },
  {
   "cell_type": "code",
   "execution_count": 42,
   "id": "2c102071-09c2-46c9-ba93-3026b877641b",
   "metadata": {},
   "outputs": [
    {
     "data": {
      "text/plain": [
       "5-element Vector{Float32}:\n",
       " 0.0\n",
       " 0.0\n",
       " 0.0\n",
       " 0.0\n",
       " 0.0"
      ]
     },
     "metadata": {},
     "output_type": "display_data"
    }
   ],
   "source": [
    "Flux.params(model)[2]  # b_1"
   ]
  },
  {
   "cell_type": "code",
   "execution_count": 43,
   "id": "3f6f1d5b-9b07-4d58-b1cb-4a732c8ad8ae",
   "metadata": {},
   "outputs": [
    {
     "data": {
      "text/plain": [
       "5×10 Matrix{Float32}:\n",
       " 0.131491   0.193941   0.00344391  …  0.248087   0.126984   0.28081\n",
       " 0.0727406  0.262259   0.050091       0.092808   0.202029   0.163245\n",
       " 0.184162   0.215694   0.0396623      0.14004    0.160312   0.261397\n",
       " 0.263808   0.0947783  0.163873       0.0758949  0.0614653  0.294787\n",
       " 0.253412   0.271185   0.225021       0.155437   0.313668   0.0835475"
      ]
     },
     "metadata": {},
     "output_type": "display_data"
    }
   ],
   "source": [
    "Flux.params(model)[1] .= rand(Float32,5,10)/sqrt(10)  #  Hér má setja eitthvað \"fixed\" fylki"
   ]
  },
  {
   "cell_type": "code",
   "execution_count": 44,
   "id": "026df7ab-8318-40de-af3e-250ffc39e02d",
   "metadata": {},
   "outputs": [
    {
     "data": {
      "text/plain": [
       "5×10 Matrix{Float32}:\n",
       " 0.131491   0.193941   0.00344391  …  0.248087   0.126984   0.28081\n",
       " 0.0727406  0.262259   0.050091       0.092808   0.202029   0.163245\n",
       " 0.184162   0.215694   0.0396623      0.14004    0.160312   0.261397\n",
       " 0.263808   0.0947783  0.163873       0.0758949  0.0614653  0.294787\n",
       " 0.253412   0.271185   0.225021       0.155437   0.313668   0.0835475"
      ]
     },
     "metadata": {},
     "output_type": "display_data"
    }
   ],
   "source": [
    "Flux.params(model)[1]"
   ]
  },
  {
   "cell_type": "code",
   "execution_count": 45,
   "id": "7bd37bc0-6fd8-4ef3-8806-a2d7bd7ac28a",
   "metadata": {},
   "outputs": [
    {
     "data": {
      "text/plain": [
       "5-element Vector{Float32}:\n",
       " 0.0\n",
       " 0.0\n",
       " 0.0\n",
       " 0.0\n",
       " 0.0"
      ]
     },
     "metadata": {},
     "output_type": "display_data"
    }
   ],
   "source": [
    "Flux.params(model)[2]"
   ]
  },
  {
   "cell_type": "code",
   "execution_count": 46,
   "id": "e2c44b3d-54c5-47e2-97c5-e2ab0a9710d3",
   "metadata": {},
   "outputs": [
    {
     "data": {
      "text/plain": [
       "1×5 Matrix{Float32}:\n",
       " 0.629977  0.996022  -0.291942  -0.932473  0.656486"
      ]
     },
     "metadata": {},
     "output_type": "display_data"
    }
   ],
   "source": [
    "Flux.params(model)[3] # W_2"
   ]
  },
  {
   "cell_type": "code",
   "execution_count": 47,
   "id": "3e1191e0-8c3e-466e-8735-959a48bd21ae",
   "metadata": {},
   "outputs": [
    {
     "data": {
      "text/plain": [
       "1-element Vector{Float32}:\n",
       " 0.0"
      ]
     },
     "metadata": {},
     "output_type": "display_data"
    }
   ],
   "source": [
    "Flux.params(model)[4] # b_2"
   ]
  },
  {
   "cell_type": "code",
   "execution_count": 50,
   "id": "8deec231-bb22-4567-a60b-0f67b70c98f8",
   "metadata": {},
   "outputs": [
    {
     "name": "stdout",
     "output_type": "stream",
     "text": [
      "(Flux.params(model))[2] = Float32[0.0, 0.0, 0.0, 0.0, 0.0]\n"
     ]
    },
    {
     "data": {
      "text/plain": [
       "5-element Vector{Float32}:\n",
       " 0.0\n",
       " 0.0\n",
       " 0.0\n",
       " 0.0\n",
       " 0.0"
      ]
     },
     "metadata": {},
     "output_type": "display_data"
    }
   ],
   "source": [
    "gs=Flux.gradient(() -> model(x)[1],Flux.params(model))\n",
    "@show Flux.params(model)[2]"
   ]
  },
  {
   "cell_type": "code",
   "execution_count": 93,
   "id": "ba628c56-e556-431f-a177-7629c44d22c8",
   "metadata": {},
   "outputs": [
    {
     "data": {
      "text/plain": [
       "5×10 Matrix{Float32}:\n",
       "  0.407289   0.546747   0.294136  …   0.567227   0.085365    0.163663\n",
       "  0.643944   0.864433   0.465043      0.896812   0.134966    0.258759\n",
       " -0.188745  -0.253372  -0.136308     -0.262863  -0.0395597  -0.0758442\n",
       " -0.602858  -0.809279  -0.435371     -0.839593  -0.126355   -0.242249\n",
       "  0.424428   0.569755   0.306513      0.591096   0.0889572   0.17055"
      ]
     },
     "metadata": {},
     "output_type": "display_data"
    }
   ],
   "source": [
    "gs[Flux.params(model)[1]]"
   ]
  },
  {
   "cell_type": "code",
   "execution_count": 79,
   "id": "f7410c4f-7147-4fb5-9a81-375424180dc0",
   "metadata": {},
   "outputs": [
    {
     "name": "stdout",
     "output_type": "stream",
     "text": [
      "IdDict{Any, Any}\n",
      "  ht: Array{Any}((32,))\n",
      "    1: #undef\n",
      "    2: #undef\n",
      "    3: #undef\n",
      "    4: #undef\n",
      "    5: #undef\n",
      "    ...\n",
      "    28: #undef\n",
      "    29: Array{Float32}((1, 5)) Float32[0.6299765 0.99602246 … -0.9324727 0.6564864]\n",
      "    30: Array{Float32}((1, 5)) Float32[0.94390774 0.6673289 … 0.6697605 1.0823848]\n",
      "    31: #undef\n",
      "    32: #undef\n",
      "  count: Int64 5\n",
      "  ndel: Int64 0\n"
     ]
    }
   ],
   "source": [
    "dump(gs.grads)"
   ]
  },
  {
   "cell_type": "code",
   "execution_count": 13,
   "id": "d77dafcf-543f-449a-8a66-c5b47849a361",
   "metadata": {},
   "outputs": [],
   "source": [
    "#\n",
    "#  Count total number of parameters in model\n",
    "#\n"
   ]
  },
  {
   "cell_type": "code",
   "execution_count": 23,
   "id": "280ce0bd-7626-4fb3-80d4-578d65ee0b83",
   "metadata": {},
   "outputs": [
    {
     "data": {
      "text/plain": [
       "Dense(2 => 1)       \u001b[90m# 3 parameters\u001b[39m"
      ]
     },
     "metadata": {},
     "output_type": "display_data"
    }
   ],
   "source": [
    "smodel = Dense(2 => 1)"
   ]
  },
  {
   "cell_type": "code",
   "execution_count": 24,
   "id": "38599418-4c40-4e3f-b618-731b155db9c4",
   "metadata": {},
   "outputs": [
    {
     "data": {
      "text/plain": [
       "1-element Vector{Float32}:\n",
       " -0.2939838"
      ]
     },
     "metadata": {},
     "output_type": "display_data"
    }
   ],
   "source": [
    "sx=rand(Float32,2)\n",
    "smodel(sx)"
   ]
  },
  {
   "cell_type": "code",
   "execution_count": 25,
   "id": "d7555305-eec6-484e-b943-bed8dddd183c",
   "metadata": {},
   "outputs": [
    {
     "data": {
      "text/plain": [
       "Params([Float32[0.11971458 -1.1643212], Float32[0.0]])"
      ]
     },
     "metadata": {},
     "output_type": "display_data"
    }
   ],
   "source": [
    "Flux.params(smodel)"
   ]
  },
  {
   "cell_type": "code",
   "execution_count": 26,
   "id": "8206f703-8e9f-46b1-ac70-48e0938b082c",
   "metadata": {},
   "outputs": [
    {
     "data": {
      "text/plain": [
       "1×2 Matrix{Float32}:\n",
       " 0.119715  -1.16432"
      ]
     },
     "metadata": {},
     "output_type": "display_data"
    }
   ],
   "source": [
    "Flux.params(smodel)[1]"
   ]
  },
  {
   "cell_type": "code",
   "execution_count": 28,
   "id": "7c955bcd-672b-4182-a55a-615886f1608e",
   "metadata": {},
   "outputs": [
    {
     "data": {
      "text/plain": [
       "1-element Vector{Float32}:\n",
       " 0.5"
      ]
     },
     "metadata": {},
     "output_type": "display_data"
    }
   ],
   "source": [
    "#\n",
    "#  Update values of W\n",
    "#\n",
    "Flux.params(smodel)[1] .= [1.0 1.0]\n",
    "Flux.params(smodel)[2] .= [0.5]"
   ]
  },
  {
   "cell_type": "code",
   "execution_count": 29,
   "id": "8b031b22-e7e2-4eb1-9f9b-33792898aa10",
   "metadata": {},
   "outputs": [
    {
     "data": {
      "text/plain": [
       "1×2 Matrix{Float32}:\n",
       " 1.0  1.0"
      ]
     },
     "metadata": {},
     "output_type": "display_data"
    }
   ],
   "source": [
    "Flux.params(smodel)[1]"
   ]
  },
  {
   "cell_type": "code",
   "execution_count": 30,
   "id": "4d460662-26de-4f14-999f-093cefcc00a8",
   "metadata": {},
   "outputs": [
    {
     "data": {
      "text/plain": [
       "1-element Vector{Float32}:\n",
       " 0.5"
      ]
     },
     "metadata": {},
     "output_type": "display_data"
    }
   ],
   "source": [
    "Flux.params(smodel)[2]"
   ]
  },
  {
   "cell_type": "code",
   "execution_count": 32,
   "id": "cd46e709-6253-46d0-ac2b-dad9ae261234",
   "metadata": {},
   "outputs": [
    {
     "data": {
      "text/plain": [
       "1-element Vector{Float32}:\n",
       " 1.483911"
      ]
     },
     "metadata": {},
     "output_type": "display_data"
    }
   ],
   "source": [
    "smodel(sx)"
   ]
  },
  {
   "cell_type": "code",
   "execution_count": null,
   "id": "b10c649f-fa4a-424a-b431-e6d004741333",
   "metadata": {},
   "outputs": [],
   "source": []
  }
 ],
 "metadata": {
  "kernelspec": {
   "display_name": "Julia 1.9.4",
   "language": "julia",
   "name": "julia-1.9"
  },
  "language_info": {
   "file_extension": ".jl",
   "mimetype": "application/julia",
   "name": "julia",
   "version": "1.9.4"
  }
 },
 "nbformat": 4,
 "nbformat_minor": 5
}
