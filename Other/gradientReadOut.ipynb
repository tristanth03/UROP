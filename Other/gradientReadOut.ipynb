{
 "cells": [
  {
   "cell_type": "code",
   "execution_count": 1,
   "id": "5db268f0-10e2-450a-aac7-ab8705dcc32f",
   "metadata": {},
   "outputs": [],
   "source": [
    "using Flux\n",
    "using Zygote\n",
    "using MLDatasets"
   ]
  },
  {
   "cell_type": "code",
   "execution_count": 44,
   "id": "58f8b461-928b-4210-aaab-1961952c872d",
   "metadata": {},
   "outputs": [
    {
     "data": {
      "text/plain": [
       "Chain(\n",
       "  Dense(10 => 5),                       \u001b[90m# 55 parameters\u001b[39m\n",
       "  Dense(5 => 1),                        \u001b[90m# 6 parameters\u001b[39m\n",
       ") \u001b[90m                  # Total: 4 arrays, \u001b[39m61 parameters, 500 bytes."
      ]
     },
     "execution_count": 44,
     "metadata": {},
     "output_type": "execute_result"
    }
   ],
   "source": [
    "model = Chain(  Dense(10 => 5), Dense(5 => 1)) # W_2[1x5](W_1[5x10]x[10,1]+b_1[5x1])+b_2[1]"
   ]
  },
  {
   "cell_type": "code",
   "execution_count": 45,
   "id": "35c2426e-a0c2-46e7-a9cd-6cc074d39e19",
   "metadata": {},
   "outputs": [
    {
     "data": {
      "text/plain": [
       "1-element Vector{Float32}:\n",
       " 0.31654668"
      ]
     },
     "execution_count": 45,
     "metadata": {},
     "output_type": "execute_result"
    }
   ],
   "source": [
    "x=rand(Float32,10)\n",
    "model(x)"
   ]
  },
  {
   "cell_type": "code",
   "execution_count": 46,
   "id": "febb5146-6e8c-45f7-9668-a4e013929b42",
   "metadata": {},
   "outputs": [
    {
     "data": {
      "text/plain": [
       "5×10 Matrix{Float32}:\n",
       " -0.107236   0.497295    0.590247   …   0.38445    -0.537995  0.526034\n",
       "  0.329023  -0.0258327   0.145884      -0.311126    0.616922  0.585316\n",
       "  0.551751  -0.0190973  -0.0724147     -0.559764    0.485105  0.0483761\n",
       " -0.33186    0.549082   -0.0412092     -0.20976    -0.438186  0.612503\n",
       " -0.396124  -0.580515    0.392514       0.0247466  -0.482991  0.143785"
      ]
     },
     "execution_count": 46,
     "metadata": {},
     "output_type": "execute_result"
    }
   ],
   "source": [
    "Flux.params(model)[1]  # W_1"
   ]
  },
  {
   "cell_type": "code",
   "execution_count": 47,
   "id": "2c102071-09c2-46c9-ba93-3026b877641b",
   "metadata": {},
   "outputs": [
    {
     "data": {
      "text/plain": [
       "5-element Vector{Float32}:\n",
       " 0.0\n",
       " 0.0\n",
       " 0.0\n",
       " 0.0\n",
       " 0.0"
      ]
     },
     "execution_count": 47,
     "metadata": {},
     "output_type": "execute_result"
    }
   ],
   "source": [
    "Flux.params(model)[2]  # b_1"
   ]
  },
  {
   "cell_type": "code",
   "execution_count": 1,
   "id": "3f6f1d5b-9b07-4d58-b1cb-4a732c8ad8ae",
   "metadata": {},
   "outputs": [],
   "source": [
    "Flux.params(model)[1] .= rand(Float32,5,10)/sqrt(10)  #  Hér má setja eitthvað \"fixed\" fylki"
   ]
  },
  {
   "cell_type": "code",
   "execution_count": 6,
   "id": "026df7ab-8318-40de-af3e-250ffc39e02d",
   "metadata": {},
   "outputs": [
    {
     "data": {
      "text/plain": [
       "5×10 Matrix{Float32}:\n",
       " 0.0887879  0.162199  0.0382225  0.254616   …  0.705029  0.198195  0.190912\n",
       " 0.992037   0.491468  0.470384   0.0349213     0.199005  0.139613  0.544282\n",
       " 0.105869   0.653008  0.363459   0.582017      0.710215  0.567551  0.356903\n",
       " 0.423147   0.862686  0.70739    0.317418      0.475951  0.656147  0.362008\n",
       " 0.606078   0.400435  0.15251    0.608882      0.537904  0.225738  0.437691"
      ]
     },
     "execution_count": 6,
     "metadata": {},
     "output_type": "execute_result"
    }
   ],
   "source": [
    "Flux.params(model)[1]"
   ]
  },
  {
   "cell_type": "code",
   "execution_count": 7,
   "id": "7bd37bc0-6fd8-4ef3-8806-a2d7bd7ac28a",
   "metadata": {},
   "outputs": [
    {
     "data": {
      "text/plain": [
       "5-element Vector{Float32}:\n",
       " 0.0\n",
       " 0.0\n",
       " 0.0\n",
       " 0.0\n",
       " 0.0"
      ]
     },
     "execution_count": 7,
     "metadata": {},
     "output_type": "execute_result"
    }
   ],
   "source": [
    "Flux.params(model)[2]"
   ]
  },
  {
   "cell_type": "code",
   "execution_count": 48,
   "id": "e2c44b3d-54c5-47e2-97c5-e2ab0a9710d3",
   "metadata": {},
   "outputs": [
    {
     "data": {
      "text/plain": [
       "1×5 Matrix{Float32}:\n",
       " -0.276149  0.328527  -0.171363  -0.135809  -0.576498"
      ]
     },
     "execution_count": 48,
     "metadata": {},
     "output_type": "execute_result"
    }
   ],
   "source": [
    "Flux.params(model)[3] # W_2"
   ]
  },
  {
   "cell_type": "code",
   "execution_count": 49,
   "id": "3e1191e0-8c3e-466e-8735-959a48bd21ae",
   "metadata": {},
   "outputs": [
    {
     "data": {
      "text/plain": [
       "1-element Vector{Float32}:\n",
       " 0.0"
      ]
     },
     "execution_count": 49,
     "metadata": {},
     "output_type": "execute_result"
    }
   ],
   "source": [
    "Flux.params(model)[4] # b_2"
   ]
  },
  {
   "cell_type": "code",
   "execution_count": 51,
   "id": "8deec231-bb22-4567-a60b-0f67b70c98f8",
   "metadata": {},
   "outputs": [
    {
     "data": {
      "text/plain": [
       "Grads(...)"
      ]
     },
     "execution_count": 51,
     "metadata": {},
     "output_type": "execute_result"
    }
   ],
   "source": [
    "gs=Flux.gradient(() -> model(x)[1],Flux.params(model))"
   ]
  },
  {
   "cell_type": "code",
   "execution_count": 52,
   "id": "ba628c56-e556-431f-a177-7629c44d22c8",
   "metadata": {},
   "outputs": [
    {
     "data": {
      "text/plain": [
       "5×10 Matrix{Float32}:\n",
       " -0.0689039  -0.15916    -0.126017   …  -0.189679   -0.118828   -0.108034\n",
       "  0.0819731   0.189348    0.149919       0.225656    0.141366    0.128526\n",
       " -0.0427581  -0.0987662  -0.0781994     -0.117705   -0.0737382  -0.0670404\n",
       " -0.0338868  -0.0782746  -0.0619749     -0.0932836  -0.0584393  -0.0531311\n",
       " -0.143846   -0.332268   -0.263077      -0.39598    -0.248069   -0.225537"
      ]
     },
     "execution_count": 52,
     "metadata": {},
     "output_type": "execute_result"
    }
   ],
   "source": [
    "gs[Flux.params(model)[1]]"
   ]
  },
  {
   "cell_type": "code",
   "execution_count": 12,
   "id": "f7410c4f-7147-4fb5-9a81-375424180dc0",
   "metadata": {},
   "outputs": [
    {
     "name": "stdout",
     "output_type": "stream",
     "text": [
      "IdDict{Any, Any}\n",
      "  ht: Array{Any}((32,))\n",
      "    1: #undef\n",
      "    2: #undef\n",
      "    3: GlobalRef\n",
      "      mod: Module Main\n",
      "      name: Symbol x\n",
      "      binding: Ptr{Nothing} @0x00007f63290e86d0\n",
      "    4: Array{Float32}((10,)) Float32[-0.42060143, -0.21935625, -0.46016055, 0.53029954, -0.07123953, 0.3700895, 0.054564446, 0.6981791, 0.0067538396, 0.0030714422]\n",
      "    5: #undef\n",
      "    ...\n",
      "    28: #undef\n",
      "    29: #undef\n",
      "    30: #undef\n",
      "    31: #undef\n",
      "    32: #undef\n",
      "  count: Int64 5\n",
      "  ndel: Int64 0\n"
     ]
    }
   ],
   "source": [
    "dump(gs.grads)"
   ]
  },
  {
   "cell_type": "code",
   "execution_count": 13,
   "id": "d77dafcf-543f-449a-8a66-c5b47849a361",
   "metadata": {},
   "outputs": [],
   "source": [
    "#\n",
    "#  Count total number of parameters in model\n",
    "#\n"
   ]
  },
  {
   "cell_type": "code",
   "execution_count": 35,
   "id": "280ce0bd-7626-4fb3-80d4-578d65ee0b83",
   "metadata": {},
   "outputs": [
    {
     "data": {
      "text/plain": [
       "Dense(2 => 1)       \u001b[90m# 3 parameters\u001b[39m"
      ]
     },
     "execution_count": 35,
     "metadata": {},
     "output_type": "execute_result"
    }
   ],
   "source": [
    "smodel = Dense(2 => 1)"
   ]
  },
  {
   "cell_type": "code",
   "execution_count": 36,
   "id": "38599418-4c40-4e3f-b618-731b155db9c4",
   "metadata": {},
   "outputs": [
    {
     "data": {
      "text/plain": [
       "1-element Vector{Float32}:\n",
       " -0.06669592"
      ]
     },
     "execution_count": 36,
     "metadata": {},
     "output_type": "execute_result"
    }
   ],
   "source": [
    "sx=rand(Float32,2)\n",
    "smodel(sx)"
   ]
  },
  {
   "cell_type": "code",
   "execution_count": 37,
   "id": "d7555305-eec6-484e-b943-bed8dddd183c",
   "metadata": {},
   "outputs": [
    {
     "data": {
      "text/plain": [
       "Params([Float32[0.2718234 -0.43205222], Float32[0.0]])"
      ]
     },
     "execution_count": 37,
     "metadata": {},
     "output_type": "execute_result"
    }
   ],
   "source": [
    "Flux.params(smodel)"
   ]
  },
  {
   "cell_type": "code",
   "execution_count": 38,
   "id": "8206f703-8e9f-46b1-ac70-48e0938b082c",
   "metadata": {},
   "outputs": [
    {
     "data": {
      "text/plain": [
       "1×2 Matrix{Float32}:\n",
       " 0.271823  -0.432052"
      ]
     },
     "execution_count": 38,
     "metadata": {},
     "output_type": "execute_result"
    }
   ],
   "source": [
    "Flux.params(smodel)[1]"
   ]
  },
  {
   "cell_type": "code",
   "execution_count": 42,
   "id": "7c955bcd-672b-4182-a55a-615886f1608e",
   "metadata": {},
   "outputs": [
    {
     "data": {
      "text/plain": [
       "1-element Vector{Float32}:\n",
       " 0.5"
      ]
     },
     "execution_count": 42,
     "metadata": {},
     "output_type": "execute_result"
    }
   ],
   "source": [
    "#\n",
    "#  Update values of W\n",
    "#\n",
    "Flux.params(smodel)[1] .= [1.0 1.0]\n",
    "Flux.params(smodel)[2] .= [0.5]"
   ]
  },
  {
   "cell_type": "code",
   "execution_count": 40,
   "id": "8b031b22-e7e2-4eb1-9f9b-33792898aa10",
   "metadata": {},
   "outputs": [
    {
     "data": {
      "text/plain": [
       "1×2 Matrix{Float32}:\n",
       " 1.0  1.0"
      ]
     },
     "execution_count": 40,
     "metadata": {},
     "output_type": "execute_result"
    }
   ],
   "source": [
    "Flux.params(smodel)[1]"
   ]
  },
  {
   "cell_type": "code",
   "execution_count": 43,
   "id": "4d460662-26de-4f14-999f-093cefcc00a8",
   "metadata": {},
   "outputs": [
    {
     "data": {
      "text/plain": [
       "1-element Vector{Float32}:\n",
       " 0.5"
      ]
     },
     "execution_count": 43,
     "metadata": {},
     "output_type": "execute_result"
    }
   ],
   "source": [
    "Flux.params(smodel)[2]"
   ]
  },
  {
   "cell_type": "code",
   "execution_count": 41,
   "id": "cd46e709-6253-46d0-ac2b-dad9ae261234",
   "metadata": {},
   "outputs": [
    {
     "data": {
      "text/plain": [
       "1-element Vector{Float32}:\n",
       " 0.32655805"
      ]
     },
     "execution_count": 41,
     "metadata": {},
     "output_type": "execute_result"
    }
   ],
   "source": [
    "smodel(sx)"
   ]
  },
  {
   "cell_type": "code",
   "execution_count": null,
   "id": "b10c649f-fa4a-424a-b431-e6d004741333",
   "metadata": {},
   "outputs": [],
   "source": []
  }
 ],
 "metadata": {
  "kernelspec": {
   "display_name": "Julia 1.9.4",
   "language": "julia",
   "name": "julia-1.9"
  },
  "language_info": {
   "file_extension": ".jl",
   "mimetype": "application/julia",
   "name": "julia",
   "version": "1.9.4"
  }
 },
 "nbformat": 4,
 "nbformat_minor": 5
}
