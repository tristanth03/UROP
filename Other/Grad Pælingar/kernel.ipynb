{
 "cells": [
  {
   "cell_type": "markdown",
   "metadata": {},
   "source": [
    "Hér prufum við 2 aðferðir við að reikna út K-fylkið\n",
    "\n",
    "<br><br>\n",
    "Fyrst er allt fyrirfram ákveðið - fáir parametrar\n",
    "<br>\n",
    "Seinna er fyrir mun flóknari módel"
   ]
  },
  {
   "cell_type": "code",
   "execution_count": 1,
   "metadata": {},
   "outputs": [],
   "source": [
    "# Uppsetning\n",
    "using Flux\n",
    "using Zygote\n",
    "using MLDatasets\n",
    "using LinearAlgebra"
   ]
  },
  {
   "cell_type": "code",
   "execution_count": 2,
   "metadata": {},
   "outputs": [
    {
     "data": {
      "text/plain": [
       "2×2 Matrix{Float32}:\n",
       " 14.2293  11.1088\n",
       " 11.1088   9.09461"
      ]
     },
     "metadata": {},
     "output_type": "display_data"
    }
   ],
   "source": [
    "### Aðferð 1 - Allt fyrirfram ákveðið\n",
    "\n",
    "model = Chain(  Dense(2 => 2), Dense(2 => 1)) # W_2[1x2](W_1[2x2]x[2,1]+b_1[2x1])+b_2[1]\n",
    "\n",
    "x1 = Float32[0.5852378, 0.62436277] # random datapoint\n",
    "x2 = Float32[0.0976659, 0.55464536] # random datapoint\n",
    "\n",
    "# Skilgreini parametra\n",
    "W1 = Flux.params(model)[1]  # W_1\n",
    "b1 = Flux.params(model)[2]  # b_1\n",
    "W2 = Flux.params(model)[3]  # W_1\n",
    "b2 = Flux.params(model)[4]  # b_1\n",
    "\n",
    "# Breyti gildum í parametrum\n",
    "W1 .= ones(2,2)  #  Hér má setja eitthvað \"fixed\" fylki, breyti gildum í W1\n",
    "b1 .= [1,1]\n",
    "\n",
    "W2 .= ones(1,2)\n",
    "b2 .= 1\n",
    "\n",
    "# Handvirkt reiknaðar hlutaafleiður\n",
    "gs_x1=Flux.gradient(() -> model(x1)[1],Flux.params(model))   # Reikna allar hlutaafleiður fyrir x1\n",
    "gs_x2=Flux.gradient(() -> model(x2)[1],Flux.params(model))   # Reikna allar hlutaafleiður fyrir x2\n",
    "\n",
    "grads_x1 = []\n",
    "grads_x2 = []\n",
    "\n",
    "# Næ í allarhlutaafleiður (*)\n",
    "for i = 1:length(Flux.params(model))\n",
    "    push!(grads_x1, gs_x1[Flux.params(model)[i]])\n",
    "    push!(grads_x2, gs_x2[Flux.params(model)[i]])\n",
    "end\n",
    "\n",
    "K1_1 = dot(grads_x1, grads_x1)\n",
    "K1_2 = dot(grads_x1, grads_x2)\n",
    "\n",
    "K2_1 = dot(grads_x2, grads_x1)\n",
    "K2_2 = dot(grads_x2, grads_x2)\n",
    "\n",
    "K = [K1_1 K1_2 ; K2_1 K2_2]"
   ]
  },
  {
   "cell_type": "markdown",
   "metadata": {},
   "source": [
    "(*) Ath að þurfum að sækja þær svona því gs_x1.grads() skilar einnig \":(Main.x1)\"\n",
    "<br><br>\n",
    ":(Main.x1) er einhver grundvallar þáttur í gradient og ruglar í útreikningunum sem taka við."
   ]
  },
  {
   "cell_type": "code",
   "execution_count": 5,
   "metadata": {},
   "outputs": [
    {
     "data": {
      "text/plain": [
       "Int64[]"
      ]
     },
     "metadata": {},
     "output_type": "display_data"
    }
   ],
   "source": [
    "# Athugum hvort það séu neikvæð eigingildi\n",
    "eigval = eigen(K).values\n",
    "findall(x-> x<0, eigval)"
   ]
  },
  {
   "cell_type": "markdown",
   "metadata": {},
   "source": [
    "Nú prufum við þetta með NN.jl structinu okkar. <br>\n",
    "Ég hef bara relevant hluta af structinu hér, en hann er á github ásamt öllu hinu."
   ]
  },
  {
   "cell_type": "code",
   "execution_count": 6,
   "metadata": {},
   "outputs": [
    {
     "data": {
      "text/plain": [
       "model_3LS (generic function with 1 method)"
      ]
     },
     "metadata": {},
     "output_type": "display_data"
    }
   ],
   "source": [
    "### Aðferð 2 - með NN.jl\n",
    "\n",
    "struct NN\n",
    "    model::Any\n",
    "    opt         # optimatzation method, so far only GD and ADAM\n",
    "    lr          # learning rate\n",
    "end\n",
    "\n",
    "function load_MNIST()\n",
    "    \"\"\"\n",
    "    Loading the MNIST dataset.\n",
    "    10 classes of digits from 0 to 9,\n",
    "    each with 28x28 pixel dimensions.\n",
    "    X: Grayscale vector, Y: Correct label.\n",
    "    \"\"\"\n",
    "\n",
    "    X_training, Y_training = MNIST(split = :train)[:]\n",
    "    X_testing, Y_testing = MNIST(split = :test)[:]\n",
    "    X_training = Flux.flatten(X_training)\n",
    "    X_testing = Flux.flatten(X_testing)\n",
    "    Y_training = Flux.onehotbatch(Y_training, 0:9)\n",
    "    Y_testing = Flux.onehotbatch(Y_testing, 0:9)\n",
    "    return X_training, Y_training, X_testing, Y_testing\n",
    "end\n",
    "\n",
    "function kernel(nn::NN, n=60000)\n",
    "    \"\"\"\n",
    "    This function computes the \"Kernel\" of a given NN\n",
    "    \"\"\"\n",
    "    x = load_MNIST()[1]     # training data\n",
    "    K = zeros(n, n)         # Initialize empty Kernel\n",
    "    model = nn.model\n",
    "    \n",
    "\n",
    "    # Calculate all gradients\n",
    "    gs_raw = []\n",
    "    for i = 1:n\n",
    "        xi =  x[:,i] # current datapoint\n",
    "        push!(gs_raw, Flux.gradient(() -> model(xi)[1],Flux.params(model)))\n",
    "    end\n",
    "\n",
    "    # Collect numerical values\n",
    "    gs = []\n",
    "    for i = 1:n\n",
    "        gs_i = []\n",
    "        for j = 1:length(Flux.params(model))\n",
    "            push!(gs_i, gs_raw[i][Flux.params(model)[j]])\n",
    "        end\n",
    "        push!(gs, gs_i)\n",
    "    end\n",
    "\n",
    "    # Evaluate each K[i,j]\n",
    "    for i = 1:n\n",
    "        for j = 1:n\n",
    "            K[i,j] = dot(gs[i], gs[j])\n",
    "        end\n",
    "    end\n",
    "\n",
    "    return K\n",
    "end\n",
    "\n",
    "function model_3LS()\n",
    "    \"\"\"\n",
    "    A 3-layer model using 60 nodes in the inner layers.\n",
    "    Using the sigmoid activation function.\n",
    "    \"\"\"\n",
    "\n",
    "    m_3LS = Chain(\n",
    "        Dense(28*28, 60, sigmoid), # Input Layer -> Hidden Layer 1\n",
    "        Dense(60, 60, sigmoid), # Hidden Layer 1 -> Hidden Layer 2\n",
    "        Dense(60, 10, sigmoid), # Hidden Layer 2 -> Output Layer\n",
    "        softmax      \n",
    "    )\n",
    "    return m_3LS\n",
    "end"
   ]
  },
  {
   "cell_type": "markdown",
   "metadata": {},
   "source": [
    "Athugið að við trainum módelið okkar ekki neitt hér"
   ]
  },
  {
   "cell_type": "code",
   "execution_count": 7,
   "metadata": {},
   "outputs": [
    {
     "data": {
      "text/plain": [
       "10×10 Matrix{Float64}:\n",
       " 0.00947103  0.00940689  0.00915153  …  0.00942464  0.00905087  0.00911172\n",
       " 0.00940689  0.0096843   0.00924237     0.00946756  0.00910301  0.00918444\n",
       " 0.00915153  0.00924237  0.00931792     0.00927798  0.00896479  0.00908634\n",
       " 0.00922145  0.00929199  0.00913178     0.00930656  0.00902537  0.00908154\n",
       " 0.00895091  0.00905947  0.0088799      0.00904118  0.00880793  0.00884354\n",
       " 0.00902889  0.00911931  0.00894956  …  0.00914539  0.00880236  0.00891403\n",
       " 0.00914494  0.00918067  0.00903991     0.00919183  0.00904376  0.00898523\n",
       " 0.00942464  0.00946756  0.00927798     0.00967041  0.00908114  0.00920417\n",
       " 0.00905087  0.00910301  0.00896479     0.00908114  0.00898571  0.00891116\n",
       " 0.00911172  0.00918444  0.00908634     0.00920417  0.00891116  0.0091529"
      ]
     },
     "metadata": {},
     "output_type": "display_data"
    }
   ],
   "source": [
    "MODEL  = model_3LS()\n",
    "OPT    = \"ADAM\"\n",
    "LR     = 0.001\n",
    "\n",
    "myNN = NN(MODEL, OPT, LR)\n",
    "\n",
    "n = 10\n",
    "K = kernel(myNN,n) # reiknar fyrir n datapunkta"
   ]
  },
  {
   "cell_type": "code",
   "execution_count": 8,
   "metadata": {},
   "outputs": [
    {
     "data": {
      "text/plain": [
       "Int64[]"
      ]
     },
     "metadata": {},
     "output_type": "display_data"
    }
   ],
   "source": [
    "# Athugum hvort það séu neikvæð eigingildi\n",
    "eigval = eigen(K).values\n",
    "findall(x-> x<0, eigval)"
   ]
  }
 ],
 "metadata": {
  "kernelspec": {
   "display_name": "Julia 1.9.4",
   "language": "julia",
   "name": "julia-1.9"
  },
  "language_info": {
   "file_extension": ".jl",
   "mimetype": "application/julia",
   "name": "julia",
   "version": "1.9.4"
  }
 },
 "nbformat": 4,
 "nbformat_minor": 2
}
