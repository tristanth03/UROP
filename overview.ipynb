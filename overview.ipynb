{
 "cells": [
  {
   "cell_type": "markdown",
   "metadata": {},
   "source": [
    "# Machine learning; building two neural network models using julia.\n",
    "The goal behind the construction of these models is to utilize them for the task of identifying handdrawn numbers from 0 to 9.\n",
    "\n",
    "There are three main sections that cover the code and explanations. There is also one additional section that covers a html-code for a local website, where the models can but up for the test of identifying a handdrawn phone number.\n",
    "\n"
   ]
  },
  {
   "cell_type": "markdown",
   "metadata": {},
   "source": [
    "## Julia and some trivial code explanations\n",
    "### Packages\n",
    "\n",
    "\n",
    "\n"
   ]
  },
  {
   "cell_type": "markdown",
   "metadata": {},
   "source": [
    "Here is some `inline code`.\n",
    "\n",
    "Here are some ```inline codes```"
   ]
  }
 ],
 "metadata": {
  "language_info": {
   "name": "python"
  }
 },
 "nbformat": 4,
 "nbformat_minor": 2
}
