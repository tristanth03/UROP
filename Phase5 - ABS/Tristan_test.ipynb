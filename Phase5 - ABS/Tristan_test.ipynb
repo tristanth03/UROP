{
 "cells": [
  {
   "cell_type": "markdown",
   "metadata": {},
   "source": [
    "<h1>Keyra allt fyrst með N=1, breyta svo í whatever</h1>"
   ]
  },
  {
   "cell_type": "code",
   "execution_count": 10,
   "metadata": {},
   "outputs": [
    {
     "data": {
      "text/plain": [
       "remove_last_bias (generic function with 1 method)"
      ]
     },
     "metadata": {},
     "output_type": "display_data"
    }
   ],
   "source": [
    "using MLDatasets, Flux, LinearAlgebra, ProgressMeter, Tracker\n",
    "include(\"DenseNTK.jl\")\n",
    "\n",
    "### MNIST\n",
    "function load_MNIST()\n",
    "    \"\"\"\n",
    "    Loading the MNIST dataset.\n",
    "    10 classes of digits from 0 to 9,\n",
    "    each with 28x28 pixel dimensions.\n",
    "    X: Grayscale vector, Y: Correct label.\n",
    "    \"\"\"\n",
    "\n",
    "    X_training, Y_training = MNIST(split = :train)[:]\n",
    "    X_testing, Y_testing = MNIST(split = :test)[:]\n",
    "    X_training = Flux.flatten(X_training)\n",
    "    X_testing = Flux.flatten(X_testing)\n",
    "    Y_training = Flux.onehotbatch(Y_training, 0:9)\n",
    "    Y_testing = Flux.onehotbatch(Y_testing, 0:9)\n",
    "    return X_training, Y_training, X_testing, Y_testing\n",
    "end\n",
    "\n",
    "### REMOVE LAST BIAS\n",
    "function remove_last_bias(model, Jacobian)\n",
    "    \"\"\"Removes last bias of model in jacobian, because of 'frozen parameter' \"\"\"\n",
    "    lastbias = length(Flux.params(model)[length(Flux.params(model))])\n",
    "    Jacobian = Jacobian[:, 1:end-lastbias]\n",
    "    return Jacobian\n",
    "end"
   ]
  },
  {
   "cell_type": "code",
   "execution_count": 21,
   "metadata": {},
   "outputs": [],
   "source": [
    "### MODEL\n",
    "model = Chain(\n",
    "  DenseNTK(28 * 28, 16, relu),        # 784 x 16 + 16 = 12560 parameters\n",
    "  DenseNTK(16, 16, relu),             #  16 x 16 + 16 =   272 parameters\n",
    "  DenseNTK(16, 16, relu),             #  16 x 16 + 16 =   272 parameters\n",
    "  DenseNTK(16, 10, relu)              #  16 x 10 + 10 =   170 parameters\n",
    ") \n",
    "\n",
    "### DATA\n",
    "N = 1 # BREYTA ÞESSU Í 3000\n",
    "x = load_MNIST()[1][:,1:N];"
   ]
  },
  {
   "cell_type": "code",
   "execution_count": 22,
   "metadata": {},
   "outputs": [
    {
     "name": "stderr",
     "output_type": "stream",
     "text": [
      "\u001b[32mProgress: 100%|█████████████████████████████████████████| Time: 0:00:12\u001b[39m\u001b[K\u001b[K\n"
     ]
    },
    {
     "name": "stdout",
     "output_type": "stream",
     "text": [
      " 12.669355 seconds (8.77 M allocations: 13.527 GiB, 9.82% gc time, 5.70% compilation time: 13% of which was recompilation)\n"
     ]
    },
    {
     "data": {
      "text/plain": [
       "10000×13264 Matrix{Float64}:\n",
       " 0.0  0.0  0.0  0.0  0.0  0.0  0.0  0.0  …  0.0  0.0       0.0  0.0  0.0\n",
       " 0.0  0.0  0.0  0.0  0.0  0.0  0.0  0.0     0.0  0.0       0.0  0.0  0.0\n",
       " 0.0  0.0  0.0  0.0  0.0  0.0  0.0  0.0     0.0  0.0       0.0  0.0  0.0\n",
       " 0.0  0.0  0.0  0.0  0.0  0.0  0.0  0.0     0.0  0.0       0.0  0.0  0.0\n",
       " 0.0  0.0  0.0  0.0  0.0  0.0  0.0  0.0     0.0  0.0       0.0  0.0  0.0\n",
       " 0.0  0.0  0.0  0.0  0.0  0.0  0.0  0.0  …  0.0  0.0       0.0  0.0  0.0\n",
       " 0.0  0.0  0.0  0.0  0.0  0.0  0.0  0.0     0.0  0.523146  0.0  0.0  0.0\n",
       " 0.0  0.0  0.0  0.0  0.0  0.0  0.0  0.0     0.0  0.0       0.0  0.0  0.0\n",
       " 0.0  0.0  0.0  0.0  0.0  0.0  0.0  0.0     0.0  0.0       0.0  0.0  0.0\n",
       " 0.0  0.0  0.0  0.0  0.0  0.0  0.0  0.0     0.0  0.0       0.0  0.0  0.523146\n",
       " ⋮                        ⋮              ⋱       ⋮                   \n",
       " 0.0  0.0  0.0  0.0  0.0  0.0  0.0  0.0     0.0  0.0       0.0  0.0  0.0\n",
       " 0.0  0.0  0.0  0.0  0.0  0.0  0.0  0.0     0.0  0.0       0.0  0.0  0.0\n",
       " 0.0  0.0  0.0  0.0  0.0  0.0  0.0  0.0     0.0  0.0       0.0  0.0  0.0\n",
       " 0.0  0.0  0.0  0.0  0.0  0.0  0.0  0.0     0.0  0.0       0.0  0.0  0.0\n",
       " 0.0  0.0  0.0  0.0  0.0  0.0  0.0  0.0  …  0.0  0.0       0.0  0.0  0.0\n",
       " 0.0  0.0  0.0  0.0  0.0  0.0  0.0  0.0     0.0  0.540262  0.0  0.0  0.0\n",
       " 0.0  0.0  0.0  0.0  0.0  0.0  0.0  0.0     0.0  0.0       0.0  0.0  0.0\n",
       " 0.0  0.0  0.0  0.0  0.0  0.0  0.0  0.0     0.0  0.0       0.0  0.0  0.0\n",
       " 0.0  0.0  0.0  0.0  0.0  0.0  0.0  0.0     0.0  0.0       0.0  0.0  0.540262"
      ]
     },
     "metadata": {},
     "output_type": "display_data"
    }
   ],
   "source": [
    "### REIKNA JACOBIAN\n",
    "l = length(model(x[:,1]))\n",
    "params, restruct = Flux.destructure(model)\n",
    "Jacobian = zeros(N*l,length(params))\n",
    "\n",
    "@time begin\n",
    "    @showprogress for i = 1:size(x)[2]\n",
    "        h = (p) -> begin\n",
    "            mod = restruct(p)\n",
    "            y = mod(x[:,i])\n",
    "        end\n",
    "        d = Tracker.data(Tracker.jacobian(h, params))\n",
    "        Jacobian[(i-1)*l+1:i*l, :] .= d\n",
    "    end\n",
    "    Jacobian = remove_last_bias(model, Jacobian)\n",
    "end # time ends"
   ]
  },
  {
   "cell_type": "code",
   "execution_count": 27,
   "metadata": {},
   "outputs": [
    {
     "data": {
      "text/plain": [
       "10000×10000 Matrix{Float64}:\n",
       "  0.453399   0.0  0.0  0.0710829  0.0  …  -0.0372873  0.0  0.0   0.116811\n",
       "  0.0        0.0  0.0  0.0        0.0      0.0        0.0  0.0   0.0\n",
       "  0.0        0.0  0.0  0.0        0.0      0.0        0.0  0.0   0.0\n",
       "  0.0710829  0.0  0.0  1.36365    0.0      0.13849    0.0  0.0   0.758531\n",
       "  0.0        0.0  0.0  0.0        0.0      0.0        0.0  0.0   0.0\n",
       "  0.0        0.0  0.0  0.0        0.0  …   0.0        0.0  0.0   0.0\n",
       "  0.0709396  0.0  0.0  0.197512   0.0      0.698132   0.0  0.0  -0.0667574\n",
       "  0.0        0.0  0.0  0.0        0.0      0.0        0.0  0.0   0.0\n",
       "  0.0        0.0  0.0  0.0        0.0      0.0        0.0  0.0   0.0\n",
       "  0.042503   0.0  0.0  0.697571   0.0     -0.218929   0.0  0.0   1.40662\n",
       "  ⋮                                    ⋱                        \n",
       "  0.0        0.0  0.0  0.0        0.0      0.0        0.0  0.0   0.0\n",
       "  0.0        0.0  0.0  0.0        0.0      0.0        0.0  0.0   0.0\n",
       "  0.100418   0.0  0.0  1.38524    0.0      0.118877   0.0  0.0   0.982235\n",
       "  0.0        0.0  0.0  0.0        0.0      0.0        0.0  0.0   0.0\n",
       "  0.0        0.0  0.0  0.0        0.0  …   0.0        0.0  0.0   0.0\n",
       " -0.0372873  0.0  0.0  0.13849    0.0      0.818731   0.0  0.0  -0.342368\n",
       "  0.0        0.0  0.0  0.0        0.0      0.0        0.0  0.0   0.0\n",
       "  0.0        0.0  0.0  0.0        0.0      0.0        0.0  0.0   0.0\n",
       "  0.116811   0.0  0.0  0.758531   0.0     -0.342368   0.0  0.0   1.78423"
      ]
     },
     "metadata": {},
     "output_type": "display_data"
    }
   ],
   "source": [
    "### REIKNA KERNEL\n",
    "K = Jacobian*Jacobian'"
   ]
  },
  {
   "cell_type": "code",
   "execution_count": 28,
   "metadata": {},
   "outputs": [],
   "source": [
    "eigen(K)"
   ]
  }
 ],
 "metadata": {
  "kernelspec": {
   "display_name": "Julia 1.9.4",
   "language": "julia",
   "name": "julia-1.9"
  },
  "language_info": {
   "file_extension": ".jl",
   "mimetype": "application/julia",
   "name": "julia",
   "version": "1.9.4"
  }
 },
 "nbformat": 4,
 "nbformat_minor": 2
}
