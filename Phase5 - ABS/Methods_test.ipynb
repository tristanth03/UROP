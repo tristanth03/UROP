{
 "cells": [
  {
   "cell_type": "code",
   "execution_count": 157,
   "metadata": {},
   "outputs": [],
   "source": [
    "using MLDatasets, Flux, LinearAlgebra, ProgressMeter, Zygote, ReverseDiff\n",
    "include(\"DenseNTK.jl\"); include(\"FastNTKMethods.jl\")\n",
    "\n",
    "function load_MNIST()\n",
    "    \"\"\"\n",
    "    Loading the MNIST dataset.\n",
    "    10 classes of digits from 0 to 9,\n",
    "    each with 28x28 pixel dimensions.\n",
    "    X: Grayscale vector, Y: Correct label.\n",
    "    \"\"\"\n",
    "\n",
    "    X_training, Y_training = MNIST(split = :train)[:]\n",
    "    X_testing, Y_testing = MNIST(split = :test)[:]\n",
    "    X_training = Flux.flatten(X_training)\n",
    "    X_testing = Flux.flatten(X_testing)\n",
    "    Y_training = Flux.onehotbatch(Y_training, 0:9)\n",
    "    Y_testing = Flux.onehotbatch(Y_testing, 0:9)\n",
    "    return X_training, Y_training, X_testing, Y_testing\n",
    "end\n",
    "\n",
    "### MODELS\n",
    "DenseNTKmodel = Chain(\n",
    "  DenseNTK(28 * 28, 16, sigmoid),        # 784 x 16 + 16 = 12560 parameters\n",
    "  DenseNTK(16, 16, sigmoid),             #  16 x 16 + 16 =   272 parameters\n",
    "  DenseNTK(16, 16, sigmoid),             #  16 x 16 + 16 =   272 parameters\n",
    "  DenseNTK(16, 10, sigmoid)              #  16 x 10 + 10 =   170 parameters\n",
    ")  \n",
    "\n",
    "model = Chain(\n",
    "  Dense(28 * 28, 16, sigmoid),        # 784 x 16 + 16 = 12560 parameters\n",
    "  Dense(16, 16, sigmoid),             #  16 x 16 + 16 =   272 parameters\n",
    "  Dense(16, 16, sigmoid),             #  16 x 16 + 16 =   272 parameters\n",
    "  Dense(16, 10, sigmoid)              #  16 x 10 + 10 =   170 parameters\n",
    ")   \n",
    "\n",
    "### DATA \n",
    "N=1000\n",
    "x = load_MNIST()[1][:,1:N];"
   ]
  },
  {
   "cell_type": "code",
   "execution_count": 152,
   "metadata": {},
   "outputs": [
    {
     "name": "stderr",
     "output_type": "stream",
     "text": [
      "\u001b[32mProgress: 100%|█████████████████████████████████████████| Time: 0:00:12\u001b[39m\u001b[K\n"
     ]
    },
    {
     "name": "stdout",
     "output_type": "stream",
     "text": [
      "\n",
      "ReverseDiff Jacobian: 7.679137 seconds (86.08 k allocations: 2.493 GiB, 1.40% gc time, 1.39% compilation time)\n",
      "Kernel computation: 7.956876 seconds (3 allocations: 762.940 MiB, 16.17% gc time)\n"
     ]
    },
    {
     "name": "stderr",
     "output_type": "stream",
     "text": [
      "\u001b[32mProgress: 100%|█████████████████████████████████████████| Time: 0:00:14\u001b[39m\u001b[K\n"
     ]
    },
    {
     "name": "stdout",
     "output_type": "stream",
     "text": [
      "\n",
      "ReverseDiff Jacobian: 12.059156 seconds (87.48 M allocations: 6.502 GiB, 7.73% gc time, 0.34% compilation time)\n",
      "Kernel computation: 6.405424 seconds (3 allocations: 762.940 MiB, 0.02% gc time)\n",
      "\n",
      "Zygote Jacobian: 65.605930 seconds (4.01 M allocations: 160.542 GiB, 18.98% gc time, 1.37% compilation time: 2% of which was recompilation)\n",
      "Kernel computation: 6.467038 seconds (3 allocations: 762.940 MiB, 1.08% gc time)\n"
     ]
    }
   ],
   "source": [
    "K1 = kernel(DenseNTKmodel, x, true, 1);\n",
    "K2 = kernel(DenseNTKmodel, x, true, 2);\n",
    "K3 = kernel(DenseNTKmodel, x, true, 3);"
   ]
  },
  {
   "cell_type": "code",
   "execution_count": 153,
   "metadata": {},
   "outputs": [
    {
     "name": "stdout",
     "output_type": "stream",
     "text": [
      "Eigen values:\n"
     ]
    },
    {
     "data": {
      "text/plain": [
       "10000×3 Matrix{Float64}:\n",
       " -9.3875e-16   -1.21846e-15  -1.53385e-15\n",
       " -4.0555e-16   -5.95731e-16  -6.77098e-16\n",
       " -3.18102e-16  -5.29475e-16  -6.27329e-16\n",
       " -2.40281e-16  -3.56589e-16  -3.58033e-16\n",
       " -1.93665e-16  -2.69777e-16  -2.6207e-16\n",
       " -1.27721e-16  -1.27346e-16  -1.32238e-16\n",
       " -1.20999e-16  -1.16049e-16  -1.08502e-16\n",
       " -1.12735e-16  -9.64305e-17  -8.82988e-17\n",
       " -6.45881e-17  -7.38044e-17  -8.39919e-17\n",
       " -5.92228e-17  -5.85043e-17  -6.25166e-17\n",
       "  ⋮                          \n",
       " 11.6726       11.6654       11.6654\n",
       " 12.4809       12.449        12.449\n",
       " 14.5037       14.5058       14.5058\n",
       " 15.9846       15.9985       15.9985\n",
       " 17.3659       17.4003       17.4003\n",
       " 19.8271       19.8216       19.8216\n",
       " 20.953        20.9799       20.9799\n",
       " 21.7508       21.7453       21.7453\n",
       " 25.7531       25.7823       25.7823"
      ]
     },
     "metadata": {},
     "output_type": "display_data"
    }
   ],
   "source": [
    "E1 = eigen(K1).values\n",
    "E2 = eigen(K2).values\n",
    "E3 = eigen(K3).values\n",
    "\n",
    "println(\"Eigen values:\")\n",
    "hcat(E1, E2, E3)"
   ]
  },
  {
   "cell_type": "code",
   "execution_count": 154,
   "metadata": {},
   "outputs": [],
   "source": [
    "#display(K1); display(K2); display(K3)"
   ]
  },
  {
   "cell_type": "markdown",
   "metadata": {},
   "source": [
    "<h1>5% of MNIST</h1>"
   ]
  },
  {
   "cell_type": "code",
   "execution_count": 158,
   "metadata": {},
   "outputs": [],
   "source": [
    "### DATA \n",
    "N=1\n",
    "x5 = load_MNIST()[1][:,1:N];"
   ]
  },
  {
   "cell_type": "code",
   "execution_count": 159,
   "metadata": {},
   "outputs": [
    {
     "ename": "ErrorException",
     "evalue": "Input data type: Int64 is neither a matrix or column vector",
     "output_type": "error",
     "traceback": [
      "Input data type: Int64 is neither a matrix or column vector\n",
      "\n",
      "Stacktrace:\n",
      " [1] error(s::String)\n",
      "   @ Base .\\error.jl:35\n",
      " [2] check_dim(x::Int64)\n",
      "   @ Main c:\\Github\\UROP\\Phase5 - ABS\\FastNTKMethods.jl:11\n",
      " [3] Jacobian_ReverseDiff(model::Chain{NTuple{4, DenseNTK}}, x::Int64, show_progress::Bool, diff_mode::Int64)\n",
      "   @ Main c:\\Github\\UROP\\Phase5 - ABS\\FastNTKMethods.jl:37\n",
      " [4] kernel(model::Chain{NTuple{4, DenseNTK}}, x::Int64, show_progress::Bool, diff_mode::Int64)\n",
      "   @ Main c:\\Github\\UROP\\Phase5 - ABS\\FastNTKMethods.jl:106\n",
      " [5] top-level scope\n",
      "   @ c:\\Github\\UROP\\Phase5 - ABS\\Methods_test.ipynb:1"
     ]
    }
   ],
   "source": [
    "K1 = kernel(DenseNTKmodel, x5, true, 1);"
   ]
  }
 ],
 "metadata": {
  "kernelspec": {
   "display_name": "Julia 1.9.4",
   "language": "julia",
   "name": "julia-1.9"
  },
  "language_info": {
   "file_extension": ".jl",
   "mimetype": "application/julia",
   "name": "julia",
   "version": "1.9.4"
  }
 },
 "nbformat": 4,
 "nbformat_minor": 2
}
