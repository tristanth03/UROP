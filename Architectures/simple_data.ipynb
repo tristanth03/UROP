{
 "cells": [
  {
   "cell_type": "code",
   "execution_count": 10,
   "metadata": {},
   "outputs": [
    {
     "data": {
      "text/plain": [
       "save_to_jld2 (generic function with 1 method)"
      ]
     },
     "metadata": {},
     "output_type": "display_data"
    }
   ],
   "source": [
    "using Flux, LinearAlgebra, ProgressMeter\n",
    "include(\"Architypes.jl\")\n",
    "include(\"FastNTKMethods.jl\")\n",
    "include(\"Inspector.jl\")"
   ]
  },
  {
   "cell_type": "code",
   "execution_count": 6,
   "metadata": {},
   "outputs": [],
   "source": [
    "Nx=500\n",
    "a=-1.0; b=1.0\n",
    "\n",
    "xVec=collect(range(a,stop=b,length=Nx));\n",
    "yVec=sin.(2*pi*xVec) + cos.(xVec) + 0.2*randn(size(xVec)); \n"
   ]
  },
  {
   "cell_type": "markdown",
   "metadata": {},
   "source": [
    "<h1>All models</h1>"
   ]
  },
  {
   "cell_type": "code",
   "execution_count": 7,
   "metadata": {},
   "outputs": [
    {
     "data": {
      "text/plain": [
       "5-element Vector{String}:\n",
       " \"block\"\n",
       " \"funnel\"\n",
       " \"reverse_funnel\"\n",
       " \"hourglass\"\n",
       " \"diamond\""
      ]
     },
     "metadata": {},
     "output_type": "display_data"
    }
   ],
   "source": [
    "SETUP = [\n",
    "    10          7               5           12;             # depths\n",
    "    100_000     500_000         20_000      1_000_000;      # number of parameters\n",
    "    182         514             131         522;            # funnel\n",
    "    194         557             148         550;            # reverse_funnel\n",
    "    185         470             99          538;            # hourglass\n",
    "    168         531             140         489;            # diamond\n",
    "]\n",
    "\n",
    "act_func = [σ, relu, tanh, leakyrelu]\n",
    "act_id = [\"sigma\", \"relu\", \"tanh\", \"leakyrelu\"]\n",
    "\n",
    "type = [\"block\", \"funnel\", \"reverse_funnel\", \"hourglass\", \"diamond\"]"
   ]
  },
  {
   "cell_type": "code",
   "execution_count": 20,
   "metadata": {},
   "outputs": [],
   "source": [
    "N_per_model = 1\n",
    "dimIN = 1\n",
    "dimOUT = 1\n",
    "\n",
    "# block(dimIN, dimOUT, depth, approx_num_params, activations)\n",
    "# model_architype(architype, dimIN, dimOUT, depth, activation, critical_width)\n",
    "# kernel(model, x, show_progress = false, diff_mode = 1)\n",
    "\n",
    "@showprogress for m = 1:length(type)\n",
    "    for act = 1:length(act_func)\n",
    "        for d = 1:4\n",
    "            for n = 1:N_per_model\n",
    "                if type[m] == \"block\"\n",
    "                    M = block(dimIN, dimOUT, SETUP[1,d], SETUP[2,d], act_func[act])\n",
    "                else\n",
    "                    M = model_architype(type[m], dimIN, dimOUT, SETUP[1,d], act_func[act], SETUP[m+1,d])\n",
    "                end\n",
    "                K = kernel(M, hcat(xVec...), false, 2)\n",
    "            end\n",
    "        end\n",
    "    end\n",
    "end\n"
   ]
  }
 ],
 "metadata": {
  "kernelspec": {
   "display_name": "Julia 1.9.4",
   "language": "julia",
   "name": "julia-1.9"
  },
  "language_info": {
   "file_extension": ".jl",
   "mimetype": "application/julia",
   "name": "julia",
   "version": "1.9.4"
  }
 },
 "nbformat": 4,
 "nbformat_minor": 2
}
