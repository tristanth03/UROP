{
 "cells": [
  {
   "cell_type": "code",
   "execution_count": 1,
   "metadata": {},
   "outputs": [
    {
     "data": {
      "text/plain": [
       "depth_validation (generic function with 1 method)"
      ]
     },
     "metadata": {},
     "output_type": "display_data"
    }
   ],
   "source": [
    "include(\"Architypes.jl\")\n",
    "\n",
    "# estimate_architecture(architype, dimIN, dimOUT, approx_num_params, ref_block, min=1, max=3, time_out = 100)\n",
    "# block(dimIN, dimOUT, depth, approx_num_params, activations)"
   ]
  },
  {
   "cell_type": "code",
   "execution_count": 2,
   "metadata": {},
   "outputs": [
    {
     "name": "stdout",
     "output_type": "stream",
     "text": [
      "Depth: 12\n",
      "Critical Width: 522\n",
      "Accuracy: 99.2136 %\n",
      "Depth: 12\n",
      "Critical Width: 550\n",
      "Accuracy: 99.7011 %\n",
      "Depth: 12\n",
      "Critical Width: 538\n",
      "Accuracy: 99.2831 %\n",
      "Depth: 12\n",
      "Critical Width: 489\n",
      "Accuracy: 99.138 %\n"
     ]
    },
    {
     "data": {
      "text/plain": [
       "(12, 489)"
      ]
     },
     "metadata": {},
     "output_type": "display_data"
    }
   ],
   "source": [
    "IN = 1\n",
    "OUT = 1\n",
    "DEPTH = 12\n",
    "nP = 1_000_000\n",
    "\n",
    "B = block(IN, OUT, DEPTH, nP, relu)\n",
    "\n",
    "F = estimate_architecture(\"funnel\", IN, OUT, nP, B, 1,3 ,1000)\n",
    "rF = estimate_architecture(\"reverse_funnel\", IN, OUT, nP, B, 1,3 ,1000)\n",
    "H = estimate_architecture(\"hourglass\", IN, OUT, nP, B, 1,3 ,1000)\n",
    "D = estimate_architecture(\"diamond\", IN, OUT, nP, B, 1,3 ,1000)\n"
   ]
  },
  {
   "cell_type": "code",
   "execution_count": 4,
   "metadata": {},
   "outputs": [
    {
     "data": {
      "text/plain": [
       "(12, 550)"
      ]
     },
     "metadata": {},
     "output_type": "display_data"
    }
   ],
   "source": [
    "rF"
   ]
  }
 ],
 "metadata": {
  "kernelspec": {
   "display_name": "Julia 1.9.4",
   "language": "julia",
   "name": "julia-1.9"
  },
  "language_info": {
   "file_extension": ".jl",
   "mimetype": "application/julia",
   "name": "julia",
   "version": "1.9.4"
  }
 },
 "nbformat": 4,
 "nbformat_minor": 2
}
