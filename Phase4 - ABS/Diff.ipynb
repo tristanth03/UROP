{
 "cells": [
  {
   "cell_type": "code",
   "execution_count": 175,
   "metadata": {},
   "outputs": [],
   "source": [
    "using MLDatasets, Flux, LinearAlgebra, ProgressMeter, Zygote, ReverseDiff\n",
    "include(\"DenseNTK.jl\"); include(\"FastNTK.jl\")\n",
    "\n",
    "function load_MNIST()\n",
    "    \"\"\"\n",
    "    Loading the MNIST dataset.\n",
    "    10 classes of digits from 0 to 9,\n",
    "    each with 28x28 pixel dimensions.\n",
    "    X: Grayscale vector, Y: Correct label.\n",
    "    \"\"\"\n",
    "\n",
    "    X_training, Y_training = MNIST(split = :train)[:]\n",
    "    X_testing, Y_testing = MNIST(split = :test)[:]\n",
    "    X_training = Flux.flatten(X_training)\n",
    "    X_testing = Flux.flatten(X_testing)\n",
    "    Y_training = Flux.onehotbatch(Y_training, 0:9)\n",
    "    Y_testing = Flux.onehotbatch(Y_testing, 0:9)\n",
    "    return X_training, Y_training, X_testing, Y_testing\n",
    "end\n",
    "\n",
    "### MODELS\n",
    "DenseNTKmodel = Chain(\n",
    "  DenseNTK(28 * 28, 16, sigmoid),        # 784 x 16 + 16 = 12560 parameters\n",
    "  DenseNTK(16, 16, sigmoid),             #  16 x 16 + 16 =   272 parameters\n",
    "  DenseNTK(16, 16, sigmoid),             #  16 x 16 + 16 =   272 parameters\n",
    "  DenseNTK(16, 10, sigmoid)              #  16 x 10 + 10 =   170 parameters\n",
    ")  \n",
    "\n",
    "model = Chain(\n",
    "  Dense(28 * 28, 16, sigmoid),        # 784 x 16 + 16 = 12560 parameters\n",
    "  Dense(16, 16, sigmoid),             #  16 x 16 + 16 =   272 parameters\n",
    "  Dense(16, 16, sigmoid),             #  16 x 16 + 16 =   272 parameters\n",
    "  Dense(16, 10, sigmoid)              #  16 x 10 + 10 =   170 parameters\n",
    ")   \n",
    "\n",
    "### DATA \n",
    "N=10\n",
    "x = load_MNIST()[1][:,1:N];"
   ]
  },
  {
   "cell_type": "markdown",
   "metadata": {},
   "source": [
    "Using only Zygote's jacobian"
   ]
  },
  {
   "cell_type": "code",
   "execution_count": 135,
   "metadata": {},
   "outputs": [
    {
     "data": {
      "text/plain": [
       "100×13274 Matrix{Float32}:\n",
       " 0.0  0.0  0.0  0.0  0.0  0.0  0.0  0.0  0.0  …  0.0       0.0       0.0\n",
       " 0.0  0.0  0.0  0.0  0.0  0.0  0.0  0.0  0.0     0.0       0.0       0.0\n",
       " 0.0  0.0  0.0  0.0  0.0  0.0  0.0  0.0  0.0     0.0       0.0       0.0\n",
       " 0.0  0.0  0.0  0.0  0.0  0.0  0.0  0.0  0.0     0.0       0.0       0.0\n",
       " 0.0  0.0  0.0  0.0  0.0  0.0  0.0  0.0  0.0     0.0       0.0       0.0\n",
       " 0.0  0.0  0.0  0.0  0.0  0.0  0.0  0.0  0.0  …  0.0       0.0       0.0\n",
       " 0.0  0.0  0.0  0.0  0.0  0.0  0.0  0.0  0.0     0.0       0.0       0.0\n",
       " 0.0  0.0  0.0  0.0  0.0  0.0  0.0  0.0  0.0     0.246681  0.0       0.0\n",
       " 0.0  0.0  0.0  0.0  0.0  0.0  0.0  0.0  0.0     0.0       0.244653  0.0\n",
       " 0.0  0.0  0.0  0.0  0.0  0.0  0.0  0.0  0.0     0.0       0.0       0.223027\n",
       " ⋮                        ⋮                   ⋱                      \n",
       " 0.0  0.0  0.0  0.0  0.0  0.0  0.0  0.0  0.0     0.0       0.0       0.0\n",
       " 0.0  0.0  0.0  0.0  0.0  0.0  0.0  0.0  0.0     0.0       0.0       0.0\n",
       " 0.0  0.0  0.0  0.0  0.0  0.0  0.0  0.0  0.0     0.0       0.0       0.0\n",
       " 0.0  0.0  0.0  0.0  0.0  0.0  0.0  0.0  0.0     0.0       0.0       0.0\n",
       " 0.0  0.0  0.0  0.0  0.0  0.0  0.0  0.0  0.0  …  0.0       0.0       0.0\n",
       " 0.0  0.0  0.0  0.0  0.0  0.0  0.0  0.0  0.0     0.0       0.0       0.0\n",
       " 0.0  0.0  0.0  0.0  0.0  0.0  0.0  0.0  0.0     0.246829  0.0       0.0\n",
       " 0.0  0.0  0.0  0.0  0.0  0.0  0.0  0.0  0.0     0.0       0.244808  0.0\n",
       " 0.0  0.0  0.0  0.0  0.0  0.0  0.0  0.0  0.0     0.0       0.0       0.223526"
      ]
     },
     "metadata": {},
     "output_type": "display_data"
    },
    {
     "name": "stdout",
     "output_type": "stream",
     "text": [
      "Jacobian computed with 10 datapoints and 13274 parameters.\n"
     ]
    }
   ],
   "source": [
    "zygote = Zygote.jacobian(() -> model(x), Flux.params(model))\n",
    "zygote = hcat([(grad) for grad in zygote]...);\n",
    "\n",
    "display(zygote)\n",
    "\n",
    "println(\"Jacobian computed with $N datapoints and $(length(Flux.destructure(DenseNTKmodel)[1])) parameters.\")"
   ]
  },
  {
   "cell_type": "markdown",
   "metadata": {},
   "source": [
    "Zygote's jacobian splitted"
   ]
  },
  {
   "cell_type": "code",
   "execution_count": 18,
   "metadata": {},
   "outputs": [
    {
     "name": "stdout",
     "output_type": "stream",
     "text": [
      "Jacobian computed with 1 datapoints and 13274 parameters.\n"
     ]
    }
   ],
   "source": [
    "function split(model, x, show_progress=false)\n",
    "    N = check_dim(x)\n",
    "    m = length(model(x[:,1]))\n",
    "    k = length(Flux.destructure(model)[1])\n",
    "    lastbias = length(Flux.params(model)[length(Flux.params(model))])\n",
    "    \n",
    "    Df = zeros(N*m, k)\n",
    "\n",
    "    if show_progress\n",
    "        prog = Progress(N, 1)\n",
    "    end\n",
    "\n",
    "    for i = 1:N\n",
    "        D = Zygote.jacobian(() -> model(x[:,i]), Flux.params(model))\n",
    "        D = hcat([(grad) for grad in D]...) # is m*k matrix\n",
    "\n",
    "        Df[(i-1)*m+1:i*m, :] .= D  \n",
    "\n",
    "        if show_progress\n",
    "            next!(prog)  # Update progress meter\n",
    "        end\n",
    "    end\n",
    "    return Df\n",
    "end\n",
    "\n",
    "split_zygote = split(model,x)\n",
    "println(\"Jacobian computed with $N datapoints and $(length(Flux.destructure(DenseNTKmodel)[1])) parameters.\")"
   ]
  },
  {
   "cell_type": "markdown",
   "metadata": {},
   "source": [
    "ReverseDiff: Jacobian tape"
   ]
  },
  {
   "cell_type": "code",
   "execution_count": 178,
   "metadata": {},
   "outputs": [
    {
     "data": {
      "text/plain": [
       "100×13274 Matrix{Float32}:\n",
       " 0.0  0.0  0.0  0.0  0.0  0.0  0.0  0.0  0.0  …  0.0       0.0       0.0\n",
       " 0.0  0.0  0.0  0.0  0.0  0.0  0.0  0.0  0.0     0.0       0.0       0.0\n",
       " 0.0  0.0  0.0  0.0  0.0  0.0  0.0  0.0  0.0     0.0       0.0       0.0\n",
       " 0.0  0.0  0.0  0.0  0.0  0.0  0.0  0.0  0.0     0.0       0.0       0.0\n",
       " 0.0  0.0  0.0  0.0  0.0  0.0  0.0  0.0  0.0     0.0       0.0       0.0\n",
       " 0.0  0.0  0.0  0.0  0.0  0.0  0.0  0.0  0.0  …  0.0       0.0       0.0\n",
       " 0.0  0.0  0.0  0.0  0.0  0.0  0.0  0.0  0.0     0.0       0.0       0.0\n",
       " 0.0  0.0  0.0  0.0  0.0  0.0  0.0  0.0  0.0     0.227642  0.0       0.0\n",
       " 0.0  0.0  0.0  0.0  0.0  0.0  0.0  0.0  0.0     0.0       0.212916  0.0\n",
       " 0.0  0.0  0.0  0.0  0.0  0.0  0.0  0.0  0.0     0.0       0.0       0.249921\n",
       " ⋮                        ⋮                   ⋱                      \n",
       " 0.0  0.0  0.0  0.0  0.0  0.0  0.0  0.0  0.0     0.0       0.0       0.0\n",
       " 0.0  0.0  0.0  0.0  0.0  0.0  0.0  0.0  0.0     0.0       0.0       0.0\n",
       " 0.0  0.0  0.0  0.0  0.0  0.0  0.0  0.0  0.0     0.0       0.0       0.0\n",
       " 0.0  0.0  0.0  0.0  0.0  0.0  0.0  0.0  0.0     0.0       0.0       0.0\n",
       " 0.0  0.0  0.0  0.0  0.0  0.0  0.0  0.0  0.0  …  0.0       0.0       0.0\n",
       " 0.0  0.0  0.0  0.0  0.0  0.0  0.0  0.0  0.0     0.0       0.0       0.0\n",
       " 0.0  0.0  0.0  0.0  0.0  0.0  0.0  0.0  0.0     0.227722  0.0       0.0\n",
       " 0.0  0.0  0.0  0.0  0.0  0.0  0.0  0.0  0.0     0.0       0.213368  0.0\n",
       " 0.0  0.0  0.0  0.0  0.0  0.0  0.0  0.0  0.0     0.0       0.0       0.249893"
      ]
     },
     "metadata": {},
     "output_type": "display_data"
    }
   ],
   "source": [
    "params, restruct = Flux.destructure(model)\n",
    "\n",
    "function m(x,p::Vector)\n",
    "    mod = restruct(p)\n",
    "    y = mod(x)\n",
    "end\n",
    "\n",
    "D= Zygote.jacobian(params) do params\n",
    "    m(x,params)\n",
    "end\n",
    "fun = hcat(D...)"
   ]
  },
  {
   "cell_type": "code",
   "execution_count": 80,
   "metadata": {},
   "outputs": [
    {
     "data": {
      "text/plain": [
       "false"
      ]
     },
     "metadata": {},
     "output_type": "display_data"
    },
    {
     "data": {
      "text/plain": [
       "true"
      ]
     },
     "metadata": {},
     "output_type": "display_data"
    },
    {
     "data": {
      "text/plain": [
       "true"
      ]
     },
     "metadata": {},
     "output_type": "display_data"
    }
   ],
   "source": [
    "a = round.(fun, digits=10) == round.(split_zygote, digits=10)\n",
    "b = round.(fun, digits=16) == round.(zygote, digits=16)\n",
    "c = fun == zygote\n",
    "\n",
    "display(a)\n",
    "display(b)\n",
    "display(c)\n"
   ]
  },
  {
   "cell_type": "markdown",
   "metadata": {},
   "source": [
    "Þessar niðurstöður sýna okkur að split aðferðin skilar ónákvæmnari gildum in ult_kernel, sem búast mátti við.\n",
    "<br>\n",
    "Athugum nú hvort diffrunin sé möguleg með ReverseDiff"
   ]
  },
  {
   "cell_type": "code",
   "execution_count": 179,
   "metadata": {},
   "outputs": [
    {
     "data": {
      "text/plain": [
       "10×13274 Matrix{Float32}:\n",
       " 0.0  0.0  0.0  0.0  0.0  0.0  0.0  0.0  0.0  …  0.0       0.0       0.0\n",
       " 0.0  0.0  0.0  0.0  0.0  0.0  0.0  0.0  0.0     0.0       0.0       0.0\n",
       " 0.0  0.0  0.0  0.0  0.0  0.0  0.0  0.0  0.0     0.0       0.0       0.0\n",
       " 0.0  0.0  0.0  0.0  0.0  0.0  0.0  0.0  0.0     0.0       0.0       0.0\n",
       " 0.0  0.0  0.0  0.0  0.0  0.0  0.0  0.0  0.0     0.0       0.0       0.0\n",
       " 0.0  0.0  0.0  0.0  0.0  0.0  0.0  0.0  0.0  …  0.0       0.0       0.0\n",
       " 0.0  0.0  0.0  0.0  0.0  0.0  0.0  0.0  0.0     0.0       0.0       0.0\n",
       " 0.0  0.0  0.0  0.0  0.0  0.0  0.0  0.0  0.0     0.227722  0.0       0.0\n",
       " 0.0  0.0  0.0  0.0  0.0  0.0  0.0  0.0  0.0     0.0       0.213368  0.0\n",
       " 0.0  0.0  0.0  0.0  0.0  0.0  0.0  0.0  0.0     0.0       0.0       0.249893"
      ]
     },
     "metadata": {},
     "output_type": "display_data"
    }
   ],
   "source": [
    "## JACOBIAN ReverseDiff\n",
    "J = ReverseDiff.jacobian(m, (x[:,10], params))\n",
    "\n",
    "J[2] # Þetta er jacobian-inn"
   ]
  },
  {
   "cell_type": "code",
   "execution_count": 89,
   "metadata": {},
   "outputs": [
    {
     "data": {
      "text/plain": [
       "true"
      ]
     },
     "metadata": {},
     "output_type": "display_data"
    }
   ],
   "source": [
    "J[2] ≈ fun"
   ]
  },
  {
   "cell_type": "code",
   "execution_count": 180,
   "metadata": {},
   "outputs": [
    {
     "data": {
      "text/plain": [
       "10×13274 Matrix{Float32}:\n",
       " 0.0  0.0  0.0  0.0  0.0  0.0  0.0  0.0  0.0  …  0.0       0.0       0.0\n",
       " 0.0  0.0  0.0  0.0  0.0  0.0  0.0  0.0  0.0     0.0       0.0       0.0\n",
       " 0.0  0.0  0.0  0.0  0.0  0.0  0.0  0.0  0.0     0.0       0.0       0.0\n",
       " 0.0  0.0  0.0  0.0  0.0  0.0  0.0  0.0  0.0     0.0       0.0       0.0\n",
       " 0.0  0.0  0.0  0.0  0.0  0.0  0.0  0.0  0.0     0.0       0.0       0.0\n",
       " 0.0  0.0  0.0  0.0  0.0  0.0  0.0  0.0  0.0  …  0.0       0.0       0.0\n",
       " 0.0  0.0  0.0  0.0  0.0  0.0  0.0  0.0  0.0     0.0       0.0       0.0\n",
       " 0.0  0.0  0.0  0.0  0.0  0.0  0.0  0.0  0.0     0.227729  0.0       0.0\n",
       " 0.0  0.0  0.0  0.0  0.0  0.0  0.0  0.0  0.0     0.0       0.213015  0.0\n",
       " 0.0  0.0  0.0  0.0  0.0  0.0  0.0  0.0  0.0     0.0       0.0       0.249914"
      ]
     },
     "metadata": {},
     "output_type": "display_data"
    }
   ],
   "source": [
    "tape = ReverseDiff.JacobianTape(m, (x[:,1],params))\n",
    "comp_tape = ReverseDiff.compile(tape)\n",
    "\n",
    "Jacobian_result = ReverseDiff.jacobian!(comp_tape, (x[:,10], params))[2]"
   ]
  },
  {
   "cell_type": "code",
   "execution_count": 182,
   "metadata": {},
   "outputs": [
    {
     "name": "stdout",
     "output_type": "stream",
     "text": [
      "  0.686210 seconds (2.19 M allocations: 114.001 MiB, 4.59% gc time, 99.11% compilation time)\n",
      "  0.007520 seconds (21.40 k allocations: 2.957 MiB)\n",
      "  0.004461 seconds (50 allocations: 1.545 MiB)\n"
     ]
    }
   ],
   "source": [
    "# Zygote\n",
    "@time begin\n",
    "    zygote = Zygote.jacobian(() -> model(x[:,10]), Flux.params(model))\n",
    "    zygote = hcat([(grad) for grad in zygote]...)\n",
    "end\n",
    "\n",
    "# ReverseDiff - No tape\n",
    "@time ReverseDiff.jacobian(m, (x[:,10], params))[2]\n",
    "\n",
    "# ReverseDiff - Compiled tape\n",
    "@time ReverseDiff.jacobian!(comp_tape, (x[:,10], params))[2];"
   ]
  }
 ],
 "metadata": {
  "kernelspec": {
   "display_name": "Julia 1.9.4",
   "language": "julia",
   "name": "julia-1.9"
  },
  "language_info": {
   "file_extension": ".jl",
   "mimetype": "application/julia",
   "name": "julia",
   "version": "1.9.4"
  }
 },
 "nbformat": 4,
 "nbformat_minor": 2
}
