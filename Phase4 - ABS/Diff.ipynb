{
 "cells": [
  {
   "cell_type": "code",
   "execution_count": 103,
   "metadata": {},
   "outputs": [],
   "source": [
    "using MLDatasets, Flux, LinearAlgebra, ProgressMeter, Zygote, ReverseDiff\n",
    "include(\"DenseNTK.jl\"); include(\"FastNTK.jl\")\n",
    "\n",
    "function load_MNIST()\n",
    "    \"\"\"\n",
    "    Loading the MNIST dataset.\n",
    "    10 classes of digits from 0 to 9,\n",
    "    each with 28x28 pixel dimensions.\n",
    "    X: Grayscale vector, Y: Correct label.\n",
    "    \"\"\"\n",
    "\n",
    "    X_training, Y_training = MNIST(split = :train)[:]\n",
    "    X_testing, Y_testing = MNIST(split = :test)[:]\n",
    "    X_training = Flux.flatten(X_training)\n",
    "    X_testing = Flux.flatten(X_testing)\n",
    "    Y_training = Flux.onehotbatch(Y_training, 0:9)\n",
    "    Y_testing = Flux.onehotbatch(Y_testing, 0:9)\n",
    "    return X_training, Y_training, X_testing, Y_testing\n",
    "end\n",
    "\n",
    "### MODELS\n",
    "DenseNTKmodel = Chain(\n",
    "  DenseNTK(28 * 28, 16, sigmoid),        # 784 x 16 + 16 = 12560 parameters\n",
    "  DenseNTK(16, 16, sigmoid),             #  16 x 16 + 16 =   272 parameters\n",
    "  DenseNTK(16, 16, sigmoid),             #  16 x 16 + 16 =   272 parameters\n",
    "  DenseNTK(16, 10, sigmoid)              #  16 x 10 + 10 =   170 parameters\n",
    ")  \n",
    "\n",
    "model = Chain(\n",
    "  Dense(28 * 28, 16, sigmoid),        # 784 x 16 + 16 = 12560 parameters\n",
    "  Dense(16, 16, sigmoid),             #  16 x 16 + 16 =   272 parameters\n",
    "  Dense(16, 16, sigmoid),             #  16 x 16 + 16 =   272 parameters\n",
    "  Dense(16, 10, sigmoid)              #  16 x 10 + 10 =   170 parameters\n",
    ")   \n",
    "\n",
    "### DATA \n",
    "N=3000\n",
    "x = load_MNIST()[1][:,1:N];"
   ]
  },
  {
   "cell_type": "markdown",
   "metadata": {},
   "source": [
    "Using only Zygote's jacobian"
   ]
  },
  {
   "cell_type": "code",
   "execution_count": 135,
   "metadata": {},
   "outputs": [
    {
     "data": {
      "text/plain": [
       "100×13274 Matrix{Float32}:\n",
       " 0.0  0.0  0.0  0.0  0.0  0.0  0.0  0.0  0.0  …  0.0       0.0       0.0\n",
       " 0.0  0.0  0.0  0.0  0.0  0.0  0.0  0.0  0.0     0.0       0.0       0.0\n",
       " 0.0  0.0  0.0  0.0  0.0  0.0  0.0  0.0  0.0     0.0       0.0       0.0\n",
       " 0.0  0.0  0.0  0.0  0.0  0.0  0.0  0.0  0.0     0.0       0.0       0.0\n",
       " 0.0  0.0  0.0  0.0  0.0  0.0  0.0  0.0  0.0     0.0       0.0       0.0\n",
       " 0.0  0.0  0.0  0.0  0.0  0.0  0.0  0.0  0.0  …  0.0       0.0       0.0\n",
       " 0.0  0.0  0.0  0.0  0.0  0.0  0.0  0.0  0.0     0.0       0.0       0.0\n",
       " 0.0  0.0  0.0  0.0  0.0  0.0  0.0  0.0  0.0     0.246681  0.0       0.0\n",
       " 0.0  0.0  0.0  0.0  0.0  0.0  0.0  0.0  0.0     0.0       0.244653  0.0\n",
       " 0.0  0.0  0.0  0.0  0.0  0.0  0.0  0.0  0.0     0.0       0.0       0.223027\n",
       " ⋮                        ⋮                   ⋱                      \n",
       " 0.0  0.0  0.0  0.0  0.0  0.0  0.0  0.0  0.0     0.0       0.0       0.0\n",
       " 0.0  0.0  0.0  0.0  0.0  0.0  0.0  0.0  0.0     0.0       0.0       0.0\n",
       " 0.0  0.0  0.0  0.0  0.0  0.0  0.0  0.0  0.0     0.0       0.0       0.0\n",
       " 0.0  0.0  0.0  0.0  0.0  0.0  0.0  0.0  0.0     0.0       0.0       0.0\n",
       " 0.0  0.0  0.0  0.0  0.0  0.0  0.0  0.0  0.0  …  0.0       0.0       0.0\n",
       " 0.0  0.0  0.0  0.0  0.0  0.0  0.0  0.0  0.0     0.0       0.0       0.0\n",
       " 0.0  0.0  0.0  0.0  0.0  0.0  0.0  0.0  0.0     0.246829  0.0       0.0\n",
       " 0.0  0.0  0.0  0.0  0.0  0.0  0.0  0.0  0.0     0.0       0.244808  0.0\n",
       " 0.0  0.0  0.0  0.0  0.0  0.0  0.0  0.0  0.0     0.0       0.0       0.223526"
      ]
     },
     "metadata": {},
     "output_type": "display_data"
    },
    {
     "name": "stdout",
     "output_type": "stream",
     "text": [
      "Jacobian computed with 10 datapoints and 13274 parameters.\n"
     ]
    }
   ],
   "source": [
    "zygote = Zygote.jacobian(() -> model(x), Flux.params(model))\n",
    "zygote = hcat([(grad) for grad in zygote]...);\n",
    "\n",
    "display(zygote)\n",
    "\n",
    "println(\"Jacobian computed with $N datapoints and $(length(Flux.destructure(DenseNTKmodel)[1])) parameters.\")"
   ]
  },
  {
   "cell_type": "markdown",
   "metadata": {},
   "source": [
    "Zygote's jacobian splitted"
   ]
  },
  {
   "cell_type": "code",
   "execution_count": 18,
   "metadata": {},
   "outputs": [
    {
     "name": "stdout",
     "output_type": "stream",
     "text": [
      "Jacobian computed with 1 datapoints and 13274 parameters.\n"
     ]
    }
   ],
   "source": [
    "function split(model, x, show_progress=false)\n",
    "    N = check_dim(x)\n",
    "    m = length(model(x[:,1]))\n",
    "    k = length(Flux.destructure(model)[1])\n",
    "    lastbias = length(Flux.params(model)[length(Flux.params(model))])\n",
    "    \n",
    "    Df = zeros(N*m, k)\n",
    "\n",
    "    if show_progress\n",
    "        prog = Progress(N, 1)\n",
    "    end\n",
    "\n",
    "    for i = 1:N\n",
    "        D = Zygote.jacobian(() -> model(x[:,i]), Flux.params(model))\n",
    "        D = hcat([(grad) for grad in D]...) # is m*k matrix\n",
    "\n",
    "        Df[(i-1)*m+1:i*m, :] .= D  \n",
    "\n",
    "        if show_progress\n",
    "            next!(prog)  # Update progress meter\n",
    "        end\n",
    "    end\n",
    "    return Df\n",
    "end\n",
    "\n",
    "split_zygote = split(model,x)\n",
    "println(\"Jacobian computed with $N datapoints and $(length(Flux.destructure(DenseNTKmodel)[1])) parameters.\")"
   ]
  },
  {
   "cell_type": "markdown",
   "metadata": {},
   "source": [
    "ReverseDiff: Jacobian tape"
   ]
  },
  {
   "cell_type": "code",
   "execution_count": 178,
   "metadata": {},
   "outputs": [
    {
     "data": {
      "text/plain": [
       "100×13274 Matrix{Float32}:\n",
       " 0.0  0.0  0.0  0.0  0.0  0.0  0.0  0.0  0.0  …  0.0       0.0       0.0\n",
       " 0.0  0.0  0.0  0.0  0.0  0.0  0.0  0.0  0.0     0.0       0.0       0.0\n",
       " 0.0  0.0  0.0  0.0  0.0  0.0  0.0  0.0  0.0     0.0       0.0       0.0\n",
       " 0.0  0.0  0.0  0.0  0.0  0.0  0.0  0.0  0.0     0.0       0.0       0.0\n",
       " 0.0  0.0  0.0  0.0  0.0  0.0  0.0  0.0  0.0     0.0       0.0       0.0\n",
       " 0.0  0.0  0.0  0.0  0.0  0.0  0.0  0.0  0.0  …  0.0       0.0       0.0\n",
       " 0.0  0.0  0.0  0.0  0.0  0.0  0.0  0.0  0.0     0.0       0.0       0.0\n",
       " 0.0  0.0  0.0  0.0  0.0  0.0  0.0  0.0  0.0     0.227642  0.0       0.0\n",
       " 0.0  0.0  0.0  0.0  0.0  0.0  0.0  0.0  0.0     0.0       0.212916  0.0\n",
       " 0.0  0.0  0.0  0.0  0.0  0.0  0.0  0.0  0.0     0.0       0.0       0.249921\n",
       " ⋮                        ⋮                   ⋱                      \n",
       " 0.0  0.0  0.0  0.0  0.0  0.0  0.0  0.0  0.0     0.0       0.0       0.0\n",
       " 0.0  0.0  0.0  0.0  0.0  0.0  0.0  0.0  0.0     0.0       0.0       0.0\n",
       " 0.0  0.0  0.0  0.0  0.0  0.0  0.0  0.0  0.0     0.0       0.0       0.0\n",
       " 0.0  0.0  0.0  0.0  0.0  0.0  0.0  0.0  0.0     0.0       0.0       0.0\n",
       " 0.0  0.0  0.0  0.0  0.0  0.0  0.0  0.0  0.0  …  0.0       0.0       0.0\n",
       " 0.0  0.0  0.0  0.0  0.0  0.0  0.0  0.0  0.0     0.0       0.0       0.0\n",
       " 0.0  0.0  0.0  0.0  0.0  0.0  0.0  0.0  0.0     0.227722  0.0       0.0\n",
       " 0.0  0.0  0.0  0.0  0.0  0.0  0.0  0.0  0.0     0.0       0.213368  0.0\n",
       " 0.0  0.0  0.0  0.0  0.0  0.0  0.0  0.0  0.0     0.0       0.0       0.249893"
      ]
     },
     "metadata": {},
     "output_type": "display_data"
    }
   ],
   "source": [
    "params, restruct = Flux.destructure(model)\n",
    "\n",
    "function m(x,p::Vector)\n",
    "    mod = restruct(p)\n",
    "    y = mod(x)\n",
    "end\n",
    "\n",
    "D= Zygote.jacobian(params) do params\n",
    "    m(x,params)\n",
    "end\n",
    "fun = hcat(D...)"
   ]
  },
  {
   "cell_type": "code",
   "execution_count": 80,
   "metadata": {},
   "outputs": [
    {
     "data": {
      "text/plain": [
       "false"
      ]
     },
     "metadata": {},
     "output_type": "display_data"
    },
    {
     "data": {
      "text/plain": [
       "true"
      ]
     },
     "metadata": {},
     "output_type": "display_data"
    },
    {
     "data": {
      "text/plain": [
       "true"
      ]
     },
     "metadata": {},
     "output_type": "display_data"
    }
   ],
   "source": [
    "a = round.(fun, digits=10) == round.(split_zygote, digits=10)\n",
    "b = round.(fun, digits=16) == round.(zygote, digits=16)\n",
    "c = fun == zygote\n",
    "\n",
    "display(a)\n",
    "display(b)\n",
    "display(c)\n"
   ]
  },
  {
   "cell_type": "markdown",
   "metadata": {},
   "source": [
    "Þessar niðurstöður sýna okkur að split aðferðin skilar ónákvæmnari gildum in ult_kernel, sem búast mátti við.\n",
    "<br>\n",
    "Athugum nú hvort diffrunin sé möguleg með ReverseDiff"
   ]
  },
  {
   "cell_type": "code",
   "execution_count": 179,
   "metadata": {},
   "outputs": [
    {
     "data": {
      "text/plain": [
       "10×13274 Matrix{Float32}:\n",
       " 0.0  0.0  0.0  0.0  0.0  0.0  0.0  0.0  0.0  …  0.0       0.0       0.0\n",
       " 0.0  0.0  0.0  0.0  0.0  0.0  0.0  0.0  0.0     0.0       0.0       0.0\n",
       " 0.0  0.0  0.0  0.0  0.0  0.0  0.0  0.0  0.0     0.0       0.0       0.0\n",
       " 0.0  0.0  0.0  0.0  0.0  0.0  0.0  0.0  0.0     0.0       0.0       0.0\n",
       " 0.0  0.0  0.0  0.0  0.0  0.0  0.0  0.0  0.0     0.0       0.0       0.0\n",
       " 0.0  0.0  0.0  0.0  0.0  0.0  0.0  0.0  0.0  …  0.0       0.0       0.0\n",
       " 0.0  0.0  0.0  0.0  0.0  0.0  0.0  0.0  0.0     0.0       0.0       0.0\n",
       " 0.0  0.0  0.0  0.0  0.0  0.0  0.0  0.0  0.0     0.227722  0.0       0.0\n",
       " 0.0  0.0  0.0  0.0  0.0  0.0  0.0  0.0  0.0     0.0       0.213368  0.0\n",
       " 0.0  0.0  0.0  0.0  0.0  0.0  0.0  0.0  0.0     0.0       0.0       0.249893"
      ]
     },
     "metadata": {},
     "output_type": "display_data"
    }
   ],
   "source": [
    "## JACOBIAN ReverseDiff\n",
    "J = ReverseDiff.jacobian(m, (x[:,10], params))\n",
    "\n",
    "J[2] # Þetta er jacobian-inn"
   ]
  },
  {
   "cell_type": "code",
   "execution_count": 89,
   "metadata": {},
   "outputs": [
    {
     "data": {
      "text/plain": [
       "true"
      ]
     },
     "metadata": {},
     "output_type": "display_data"
    }
   ],
   "source": [
    "J[2] ≈ fun"
   ]
  },
  {
   "cell_type": "code",
   "execution_count": 180,
   "metadata": {},
   "outputs": [
    {
     "data": {
      "text/plain": [
       "10×13274 Matrix{Float32}:\n",
       " 0.0  0.0  0.0  0.0  0.0  0.0  0.0  0.0  0.0  …  0.0       0.0       0.0\n",
       " 0.0  0.0  0.0  0.0  0.0  0.0  0.0  0.0  0.0     0.0       0.0       0.0\n",
       " 0.0  0.0  0.0  0.0  0.0  0.0  0.0  0.0  0.0     0.0       0.0       0.0\n",
       " 0.0  0.0  0.0  0.0  0.0  0.0  0.0  0.0  0.0     0.0       0.0       0.0\n",
       " 0.0  0.0  0.0  0.0  0.0  0.0  0.0  0.0  0.0     0.0       0.0       0.0\n",
       " 0.0  0.0  0.0  0.0  0.0  0.0  0.0  0.0  0.0  …  0.0       0.0       0.0\n",
       " 0.0  0.0  0.0  0.0  0.0  0.0  0.0  0.0  0.0     0.0       0.0       0.0\n",
       " 0.0  0.0  0.0  0.0  0.0  0.0  0.0  0.0  0.0     0.227729  0.0       0.0\n",
       " 0.0  0.0  0.0  0.0  0.0  0.0  0.0  0.0  0.0     0.0       0.213015  0.0\n",
       " 0.0  0.0  0.0  0.0  0.0  0.0  0.0  0.0  0.0     0.0       0.0       0.249914"
      ]
     },
     "metadata": {},
     "output_type": "display_data"
    }
   ],
   "source": [
    "tape = ReverseDiff.JacobianTape(m, (x[:,1],params))\n",
    "comp_tape = ReverseDiff.compile(tape)\n",
    "\n",
    "Jacobian_result = ReverseDiff.jacobian!(comp_tape, (x[:,10], params))[2]"
   ]
  },
  {
   "cell_type": "code",
   "execution_count": 182,
   "metadata": {},
   "outputs": [
    {
     "name": "stdout",
     "output_type": "stream",
     "text": [
      "  0.686210 seconds (2.19 M allocations: 114.001 MiB, 4.59% gc time, 99.11% compilation time)\n",
      "  0.007520 seconds (21.40 k allocations: 2.957 MiB)\n",
      "  0.004461 seconds (50 allocations: 1.545 MiB)\n"
     ]
    }
   ],
   "source": [
    "# Zygote\n",
    "@time begin\n",
    "    zygote = Zygote.jacobian(() -> model(x[:,10]), Flux.params(model))\n",
    "    zygote = hcat([(grad) for grad in zygote]...)\n",
    "end\n",
    "\n",
    "# ReverseDiff - No tape\n",
    "@time ReverseDiff.jacobian(m, (x[:,10], params))[2]\n",
    "\n",
    "# ReverseDiff - Compiled tape\n",
    "@time ReverseDiff.jacobian!(comp_tape, (x[:,10], params))[2];"
   ]
  },
  {
   "cell_type": "code",
   "execution_count": 109,
   "metadata": {},
   "outputs": [
    {
     "name": "stderr",
     "output_type": "stream",
     "text": [
      "\u001b[32mProgress: 100%|█████████████████████████████████████████| Time: 0:00:30\u001b[39m\u001b[K\n"
     ]
    },
    {
     "name": "stdout",
     "output_type": "stream",
     "text": [
      " 30.602500 seconds (24.61 M allocations: 37.503 GiB, 9.70% gc time, 0.10% compilation time)\n"
     ]
    },
    {
     "data": {
      "text/plain": [
       "30000×13264 Matrix{Float64}:\n",
       " 0.0  0.0  0.0  0.0  0.0  0.0  0.0  0.0  …  0.0        0.0        0.0\n",
       " 0.0  0.0  0.0  0.0  0.0  0.0  0.0  0.0     0.0        0.0        0.0\n",
       " 0.0  0.0  0.0  0.0  0.0  0.0  0.0  0.0     0.0        0.0        0.0\n",
       " 0.0  0.0  0.0  0.0  0.0  0.0  0.0  0.0     0.0        0.0        0.0\n",
       " 0.0  0.0  0.0  0.0  0.0  0.0  0.0  0.0     0.0        0.0        0.0\n",
       " 0.0  0.0  0.0  0.0  0.0  0.0  0.0  0.0  …  0.0        0.0        0.0\n",
       " 0.0  0.0  0.0  0.0  0.0  0.0  0.0  0.0     0.0        0.0        0.0\n",
       " 0.0  0.0  0.0  0.0  0.0  0.0  0.0  0.0     0.0519299  0.0        0.0\n",
       " 0.0  0.0  0.0  0.0  0.0  0.0  0.0  0.0     0.0        0.0415952  0.0\n",
       " 0.0  0.0  0.0  0.0  0.0  0.0  0.0  0.0     0.0        0.0        0.0537601\n",
       " ⋮                        ⋮              ⋱                        \n",
       " 0.0  0.0  0.0  0.0  0.0  0.0  0.0  0.0     0.0        0.0        0.0\n",
       " 0.0  0.0  0.0  0.0  0.0  0.0  0.0  0.0     0.0        0.0        0.0\n",
       " 0.0  0.0  0.0  0.0  0.0  0.0  0.0  0.0     0.0        0.0        0.0\n",
       " 0.0  0.0  0.0  0.0  0.0  0.0  0.0  0.0     0.0        0.0        0.0\n",
       " 0.0  0.0  0.0  0.0  0.0  0.0  0.0  0.0  …  0.0        0.0        0.0\n",
       " 0.0  0.0  0.0  0.0  0.0  0.0  0.0  0.0     0.0        0.0        0.0\n",
       " 0.0  0.0  0.0  0.0  0.0  0.0  0.0  0.0     0.051853   0.0        0.0\n",
       " 0.0  0.0  0.0  0.0  0.0  0.0  0.0  0.0     0.0        0.0415467  0.0\n",
       " 0.0  0.0  0.0  0.0  0.0  0.0  0.0  0.0     0.0        0.0        0.0537215"
      ]
     },
     "metadata": {},
     "output_type": "display_data"
    }
   ],
   "source": [
    "### TRACKER\n",
    "using Tracker\n",
    "\n",
    "function remove_last_bias(model, Jacobian)\n",
    "    \"\"\"Removes last bias of model in jacobian, because of 'frozen parameter' \"\"\"\n",
    "    lastbias = length(Flux.params(model)[length(Flux.params(model))])\n",
    "    Jacobian = Jacobian[:, 1:end-lastbias]\n",
    "    return Jacobian\n",
    "end\n",
    "\n",
    "params, restruct = Flux.destructure(DenseNTKmodel)\n",
    "\n",
    "g = (p) -> begin\n",
    "    mod = restruct(p)\n",
    "    y = mod(x[:,1])\n",
    "end\n",
    "\n",
    "l = length(g(params))\n",
    "D = zeros(N*l,length(params))\n",
    "\n",
    "@time begin\n",
    "@showprogress for i = 1:size(x)[2]\n",
    "    h = (p) -> begin\n",
    "        mod = restruct(p)\n",
    "        y = mod(x[:,i])\n",
    "    end\n",
    "    d = Tracker.data(Tracker.jacobian(h, params))\n",
    "    D[(i-1)*l+1:i*l, :] .= d\n",
    "end\n",
    "end # time ends\n",
    "\n",
    "D = remove_last_bias(DenseNTKmodel, D)"
   ]
  },
  {
   "cell_type": "code",
   "execution_count": 115,
   "metadata": {},
   "outputs": [],
   "source": [
    "K = zeros(N*l, N*l)\n",
    "\n",
    "@showprogress for i = 1:size(D)[1]\n",
    "    for j = 1:size(D')[2]\n",
    "        K[i,j] = dot(D[i,:], D'[:,j])\n",
    "    end\n",
    "end"
   ]
  },
  {
   "cell_type": "code",
   "execution_count": 110,
   "metadata": {},
   "outputs": [
    {
     "data": {
      "text/plain": [
       "30000×30000 Matrix{Float64}:\n",
       "  0.0195356    -0.000178003   0.000173649  …  -7.25783e-5   -0.000246979\n",
       " -0.000178003   0.0215972    -0.00033316      -0.000339688  -0.000607827\n",
       "  0.000173649  -0.00033316    0.0190076       -0.000214725  -0.000168916\n",
       "  0.000943974  -0.000761443  -0.00010866      -0.000158166   0.00088693\n",
       "  0.000142383   0.000395563   1.55923e-5      -0.000264434  -0.000334077\n",
       " -0.000198168   0.000334908  -0.000474511  …   0.000275503   2.59237e-5\n",
       " -0.000108574  -0.000131702  -0.000175174      0.000129531   7.40894e-5\n",
       " -0.000670298  -0.000255474   0.00129265      -0.000626777   0.000156477\n",
       " -7.20978e-5   -0.000339085  -0.000216417      0.0128442    -9.66898e-5\n",
       " -0.00024865   -0.000613274  -0.000168246     -9.65809e-5    0.0218568\n",
       "  ⋮                                        ⋱                \n",
       " -0.000176645   0.0215842    -0.000332527     -0.000340413  -0.000602777\n",
       "  0.00017423   -0.000332534   0.0189959       -0.000213173  -0.000169512\n",
       "  0.000945519  -0.000758957  -0.000109281     -0.000159308   0.000880333\n",
       "  0.00014271    0.000394418   1.55021e-5      -0.000265009  -0.000332031\n",
       " -0.000198719   0.000334383  -0.000473298  …   0.000275398   2.58105e-5\n",
       " -0.000108977  -0.000130861  -0.000176002      0.000128443   6.89787e-5\n",
       " -0.00067084   -0.000255749   0.00128994      -0.000624183   0.000156551\n",
       " -7.25783e-5   -0.000339688  -0.000214725      0.0128333    -9.71962e-5\n",
       " -0.000246979  -0.000607827  -0.000168916     -9.71962e-5    0.0218365"
      ]
     },
     "metadata": {},
     "output_type": "display_data"
    }
   ],
   "source": [
    "D*D'"
   ]
  }
 ],
 "metadata": {
  "kernelspec": {
   "display_name": "Julia 1.9.4",
   "language": "julia",
   "name": "julia-1.9"
  },
  "language_info": {
   "file_extension": ".jl",
   "mimetype": "application/julia",
   "name": "julia",
   "version": "1.9.4"
  }
 },
 "nbformat": 4,
 "nbformat_minor": 2
}
