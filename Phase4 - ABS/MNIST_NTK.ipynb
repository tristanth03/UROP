{
 "cells": [
  {
   "cell_type": "markdown",
   "metadata": {},
   "source": [
    "<h1>Reiknum Kernel MNIST gagna</h1>"
   ]
  },
  {
   "cell_type": "code",
   "execution_count": 6,
   "metadata": {},
   "outputs": [
    {
     "data": {
      "text/plain": [
       "load_MNIST (generic function with 1 method)"
      ]
     },
     "metadata": {},
     "output_type": "display_data"
    }
   ],
   "source": [
    "using MLDatasets, Flux, LinearAlgebra, ProgressMeter\n",
    "include(\"DenseNTK.jl\"); include(\"FastNTK.jl\")\n",
    "\n",
    "function load_MNIST()\n",
    "    \"\"\"\n",
    "    Loading the MNIST dataset.\n",
    "    10 classes of digits from 0 to 9,\n",
    "    each with 28x28 pixel dimensions.\n",
    "    X: Grayscale vector, Y: Correct label.\n",
    "    \"\"\"\n",
    "\n",
    "    X_training, Y_training = MNIST(split = :train)[:]\n",
    "    X_testing, Y_testing = MNIST(split = :test)[:]\n",
    "    X_training = Flux.flatten(X_training)\n",
    "    X_testing = Flux.flatten(X_testing)\n",
    "    Y_training = Flux.onehotbatch(Y_training, 0:9)\n",
    "    Y_testing = Flux.onehotbatch(Y_testing, 0:9)\n",
    "    return X_training, Y_training, X_testing, Y_testing\n",
    "end"
   ]
  },
  {
   "cell_type": "code",
   "execution_count": 7,
   "metadata": {},
   "outputs": [
    {
     "data": {
      "text/plain": [
       "Chain(\n",
       "  Dense(784 => 32, relu),               \u001b[90m# 25_120 parameters\u001b[39m\n",
       "  Dense(32 => 10),                      \u001b[90m# 330 parameters\u001b[39m\n",
       "  NNlib.softmax,\n",
       ") \u001b[90m                  # Total: 4 arrays, \u001b[39m25_450 parameters, 99.664 KiB."
      ]
     },
     "metadata": {},
     "output_type": "display_data"
    }
   ],
   "source": [
    "# Model frá https://towardsdatascience.com/flux-jl-on-mnist-variations-of-a-theme-c3cd7a949f8c\n",
    "\n",
    "model4LS = Chain(\n",
    "  Dense(28 * 28, 16, sigmoid),        # 784 x 16 + 16 = 12560 parameters\n",
    "  Dense(16, 16, sigmoid),             #  16 x 16 + 16 =   272 parameters\n",
    "  Dense(16, 16, sigmoid),             #  16 x 16 + 16 =   272 parameters\n",
    "  Dense(16, 10, sigmoid)              #  16 x 10 + 10 =   170 parameters\n",
    ")                                     #             --> 13274 parameters total\n",
    "\n",
    "model3LS = Chain(\n",
    "  Dense(28 * 28, 60, sigmoid),        # 784 x 60 + 60 = 47100 parameters\n",
    "  Dense(60, 60, sigmoid),             #  60 x 60 + 60 =  3660 parameters\n",
    "  Dense(60, 10, sigmoid)              #  60 x 10 + 10 =   610 parameters\n",
    ")                                     #             --> 51370 parameters total\n",
    "\n",
    "model2LR = Chain(\n",
    "  Dense(28 * 28, 32, relu),           # 784 x 32 + 32 = 25120 parameters\n",
    "  Dense(32, 10),                      #  32 x 10 + 10 =   330 parameters\n",
    "  softmax                             #             --> 25450 parameters total\n",
    ")"
   ]
  },
  {
   "cell_type": "code",
   "execution_count": 51,
   "metadata": {},
   "outputs": [],
   "source": [
    "N=5_000\n",
    "x = load_MNIST()[1][:,1:N];\n",
    "\n",
    "eig_fix(K) = abs.(eigen(K).values)+ones(length(eigen(K).values))*1e-26;"
   ]
  },
  {
   "cell_type": "code",
   "execution_count": 50,
   "metadata": {},
   "outputs": [
    {
     "ename": "OutOfMemoryError",
     "evalue": "OutOfMemoryError()",
     "output_type": "error",
     "traceback": [
      "OutOfMemoryError()\n",
      "\n",
      "Stacktrace:\n",
      " [1] Array\n",
      "   @ .\\boot.jl:479 [inlined]\n",
      " [2] Array\n",
      "   @ .\\boot.jl:487 [inlined]\n",
      " [3] zeros\n",
      "   @ .\\array.jl:584 [inlined]\n",
      " [4] zeros\n",
      "   @ .\\array.jl:581 [inlined]\n",
      " [5] zeros\n",
      "   @ .\\array.jl:579 [inlined]\n",
      " [6] kernel(model::Chain{NTuple{4, Dense{typeof(σ), Matrix{Float32}, Vector{Float32}}}}, x::Matrix{Float32}, show_progress::Bool)\n",
      "   @ Main c:\\Github\\UROP\\Phase4 - ABS\\FastNTK.jl:19\n",
      " [7] top-level scope\n",
      "   @ c:\\Github\\UROP\\Phase4 - ABS\\MNIST_NTK.ipynb:1"
     ]
    }
   ],
   "source": [
    "K4LS = kernel(model4LS, x, true)\n",
    "K3LS = kernel(model3LS, x, true)\n",
    "K2LR = kernel(model2LR, x, true)"
   ]
  },
  {
   "cell_type": "code",
   "execution_count": 43,
   "metadata": {},
   "outputs": [
    {
     "data": {
      "text/plain": [
       "2000-element Vector{Float64}:\n",
       " 1.0e-26\n",
       " 1.0e-26\n",
       " 1.0e-26\n",
       " 1.0e-26\n",
       " 1.0e-26\n",
       " 1.0e-26\n",
       " 1.0e-26\n",
       " 1.0e-26\n",
       " 1.0e-26\n",
       " 1.0e-26\n",
       " ⋮\n",
       " 5.063228118317131\n",
       " 5.462318502938788\n",
       " 5.775748123850748\n",
       " 6.51304534690021\n",
       " 6.709957621006975\n",
       " 6.817531451451672\n",
       " 7.084681317687853\n",
       " 7.194453479063044\n",
       " 7.394593614883986"
      ]
     },
     "metadata": {},
     "output_type": "display_data"
    }
   ],
   "source": [
    "eig1 = eig_fix(K3LS)\n",
    "eig2 = eig_fix(K2LR)\n",
    "eig3 = eig_fix(K4LS)"
   ]
  },
  {
   "cell_type": "code",
   "execution_count": 44,
   "metadata": {},
   "outputs": [
    {
     "data": {
      "image/png": "[encoded data removed]"
     },
     "metadata": {},
     "output_type": "display_data"
    }
   ],
   "source": [
    "using CairoMakie\n",
    "\n",
    "fig = Figure()\n",
    "ax1 = Axis(fig[1,1], yscale=log10, title=\"MNIST model\\nNx=$N\")\n",
    "\n",
    "CairoMakie.scatter!(eig3, label=\"4LS\")\n",
    "CairoMakie.lines!(eig3)\n",
    "\n",
    "CairoMakie.scatter!(eig1, label=\"3LS\")\n",
    "CairoMakie.lines!(eig1)\n",
    "\n",
    "CairoMakie.scatter!(eig2, label=\"2LR\")\n",
    "CairoMakie.lines!(eig2)\n",
    "\n",
    "axislegend(ax1,position=:lt)\n",
    "fig"
   ]
  }
 ],
 "metadata": {
  "kernelspec": {
   "display_name": "Julia 1.9.4",
   "language": "julia",
   "name": "julia-1.9"
  },
  "language_info": {
   "file_extension": ".jl",
   "mimetype": "application/julia",
   "name": "julia",
   "version": "1.9.4"
  }
 },
 "nbformat": 4,
 "nbformat_minor": 2
}
