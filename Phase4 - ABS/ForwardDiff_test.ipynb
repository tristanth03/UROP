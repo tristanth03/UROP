{
 "cells": [
  {
   "cell_type": "code",
   "execution_count": 2,
   "metadata": {},
   "outputs": [
    {
     "ename": "UndefVarError",
     "evalue": "UndefVarError: `ForwardDiff` not defined",
     "output_type": "error",
     "traceback": [
      "UndefVarError: `ForwardDiff` not defined\n",
      "\n",
      "Stacktrace:\n",
      " [1] top-level scope\n",
      "   @ C:\\Users\\Axel Bjarkar\\.julia\\packages\\ZygoteRules\\M4xmc\\src\\adjoint.jl:65"
     ]
    }
   ],
   "source": [
    "using Zygote\n",
    "using ZygoteRules\n",
    "using ForwardDiff\n",
    "\n",
    "    # ForwardDiff integration\n",
    "\n",
    "              \n",
    "    ZygoteRules.@adjoint function ForwardDiff.Dual{T}(x, ẋ::Tuple) where T\n",
    "      @assert length(ẋ) == 1\n",
    "      ForwardDiff.Dual{T}(x, ẋ), ḋ -> (ḋ.partials[1], (ḋ.value,))\n",
    "    end\n",
    "\n",
    "              \n",
    "    ZygoteRules.@adjoint ZygoteRules.literal_getproperty(d::ForwardDiff.Dual{T}, ::Val{:partials}) where T =\n",
    "      d.partials, ṗ -> (ForwardDiff.Dual{T}(ṗ[1], 0),)\n",
    "\n",
    "              \n",
    "    ZygoteRules.@adjoint ZygoteRules.literal_getproperty(d::ForwardDiff.Dual{T}, ::Val{:value}) where T =\n",
    "      d.value, ẋ -> (ForwardDiff.Dual{T}(0, ẋ),)\n",
    "\n"
   ]
  }
 ],
 "metadata": {
  "kernelspec": {
   "display_name": "Julia 1.9.4",
   "language": "julia",
   "name": "julia-1.9"
  },
  "language_info": {
   "file_extension": ".jl",
   "mimetype": "application/julia",
   "name": "julia",
   "version": "1.9.4"
  }
 },
 "nbformat": 4,
 "nbformat_minor": 2
}
