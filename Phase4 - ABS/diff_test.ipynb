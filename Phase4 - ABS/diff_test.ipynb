{
 "cells": [
  {
   "cell_type": "code",
   "execution_count": 102,
   "metadata": {},
   "outputs": [
    {
     "data": {
      "text/plain": [
       "typename(ReverseDiff.CompiledTape)(f)"
      ]
     },
     "metadata": {},
     "output_type": "display_data"
    }
   ],
   "source": [
    "using ReverseDiff\n",
    "\n",
    "f(a,b) = sum(a' * b + a * b')\n",
    "\n",
    "const f_tape = ReverseDiff.GradientTape(f, (rand(100, 100), rand(100, 100)))\n",
    "const compiled_f_tape = ReverseDiff.compile(f_tape)"
   ]
  },
  {
   "cell_type": "code",
   "execution_count": 16,
   "metadata": {},
   "outputs": [
    {
     "data": {
      "text/plain": [
       "51370"
      ]
     },
     "metadata": {},
     "output_type": "display_data"
    },
    {
     "ename": "MethodError",
     "evalue": "MethodError: no method matching lastindex(::Optimisers.Restructure{Chain{Tuple{DenseNTK, DenseNTK, DenseNTK}}, NamedTuple{(:layers,), Tuple{Tuple{NamedTuple{(:weight, :bias, :σ), Tuple{Int64, Int64, Tuple{}}}, NamedTuple{(:weight, :bias, :σ), Tuple{Int64, Int64, Tuple{}}}, NamedTuple{(:weight, :bias, :σ), Tuple{Int64, Int64, Tuple{}}}}}}})\n\nClosest candidates are:\n  lastindex(::Any, !Matched::Any)\n   @ Base abstractarray.jl:420\n  lastindex(!Matched::Union{Tables.AbstractColumns, Tables.AbstractRow})\n   @ Tables C:\\Users\\Axel Bjarkar\\.julia\\packages\\Tables\\NSGZI\\src\\Tables.jl:183\n  lastindex(!Matched::Union{DataStructures.SortedDict, DataStructures.SortedMultiDict, DataStructures.SortedSet})\n   @ DataStructures C:\\Users\\Axel Bjarkar\\.julia\\packages\\DataStructures\\b0JVf\\src\\tokens2.jl:19\n  ...\n",
     "output_type": "error",
     "traceback": [
      "MethodError: no method matching lastindex(::Optimisers.Restructure{Chain{Tuple{DenseNTK, DenseNTK, DenseNTK}}, NamedTuple{(:layers,), Tuple{Tuple{NamedTuple{(:weight, :bias, :σ), Tuple{Int64, Int64, Tuple{}}}, NamedTuple{(:weight, :bias, :σ), Tuple{Int64, Int64, Tuple{}}}, NamedTuple{(:weight, :bias, :σ), Tuple{Int64, Int64, Tuple{}}}}}}})\n",
      "\n",
      "Closest candidates are:\n",
      "  lastindex(::Any, !Matched::Any)\n",
      "   @ Base abstractarray.jl:420\n",
      "  lastindex(!Matched::Union{Tables.AbstractColumns, Tables.AbstractRow})\n",
      "   @ Tables C:\\Users\\Axel Bjarkar\\.julia\\packages\\Tables\\NSGZI\\src\\Tables.jl:183\n",
      "  lastindex(!Matched::Union{DataStructures.SortedDict, DataStructures.SortedMultiDict, DataStructures.SortedSet})\n",
      "   @ DataStructures C:\\Users\\Axel Bjarkar\\.julia\\packages\\DataStructures\\b0JVf\\src\\tokens2.jl:19\n",
      "  ...\n",
      "\n",
      "\n",
      "Stacktrace:\n",
      " [1] top-level scope\n",
      "   @ c:\\Github\\UROP\\Phase4 - ABS\\diff_test.ipynb:12"
     ]
    }
   ],
   "source": [
    "using Flux\n",
    "include(\"DenseNTK.jl\")\n",
    "\n",
    "model3LS = Chain(\n",
    "  DenseNTK(28 * 28, 60, sigmoid),        # 784 x 60 + 60 = 47100 parameters\n",
    "  DenseNTK(60, 60, sigmoid),             #  60 x 60 + 60 =  3660 parameters\n",
    "  DenseNTK(60, 10, sigmoid)              #  60 x 10 + 10 =   610 parameters\n",
    ") \n",
    "\n",
    "\n",
    "display(length(Flux.destructure(model3LS)[1]))\n",
    "Flux.destructure(model3LS)[2][end]"
   ]
  },
  {
   "cell_type": "code",
   "execution_count": 112,
   "metadata": {},
   "outputs": [
    {
     "data": {
      "text/plain": [
       "51370-element Vector{Float32}:\n",
       "  0.034088366\n",
       " -0.029406523\n",
       "  0.03216049\n",
       " -0.059802864\n",
       "  0.034856655\n",
       " -0.029408947\n",
       " -0.026765844\n",
       "  0.051091917\n",
       " -0.07362214\n",
       "  0.019742964\n",
       "  ⋮\n",
       "  0.0\n",
       "  0.0\n",
       "  0.0\n",
       "  0.0\n",
       "  0.0\n",
       "  0.0\n",
       "  0.0\n",
       "  0.0\n",
       "  0.0"
      ]
     },
     "metadata": {},
     "output_type": "display_data"
    },
    {
     "ename": "MethodError",
     "evalue": "MethodError: objects of type Matrix{Float32} are not callable\nUse square brackets [] for indexing an Array.",
     "output_type": "error",
     "traceback": [
      "MethodError: objects of type Matrix{Float32} are not callable\n",
      "Use square brackets [] for indexing an Array.\n",
      "\n",
      "Stacktrace:\n",
      " [1] ReverseDiff.JacobianTape(f::Matrix{Float32}, input::Vector{Float32}, cfg::ReverseDiff.JacobianConfig{ReverseDiff.TrackedArray{Float32, Float32, 1, Vector{Float32}, Vector{Float32}}, Nothing})\n",
      "   @ ReverseDiff C:\\Users\\Axel Bjarkar\\.julia\\packages\\ReverseDiff\\UJhiD\\src\\api\\tape.jl:229\n",
      " [2] jacobian(f::Matrix{Float32}, input::Vector{Float32}, cfg::ReverseDiff.JacobianConfig{ReverseDiff.TrackedArray{Float32, Float32, 1, Vector{Float32}, Vector{Float32}}, Nothing})\n",
      "   @ ReverseDiff C:\\Users\\Axel Bjarkar\\.julia\\packages\\ReverseDiff\\UJhiD\\src\\api\\jacobians.jl:23\n",
      " [3] jacobian(f::Matrix{Float32}, input::Vector{Float32})\n",
      "   @ ReverseDiff C:\\Users\\Axel Bjarkar\\.julia\\packages\\ReverseDiff\\UJhiD\\src\\api\\jacobians.jl:23\n",
      " [4] top-level scope\n",
      "   @ c:\\Github\\UROP\\Phase4 - ABS\\diff_test.ipynb:17"
     ]
    }
   ],
   "source": [
    "using Random\n",
    "using Flux\n",
    "using ReverseDiff\n",
    "\n",
    "g = Chain(\n",
    "  Dense(28 * 28, 60, σ),        # 784 x 60 + 60 = 47100 parameters\n",
    "  Dense(60, 60, σ),             #  60 x 60 + 60 =  3660 parameters\n",
    "  Dense(60, 10, σ)              #  60 x 10 + 10 =   610 parameters\n",
    ")\n",
    "\n",
    "x = rand(784, 1)\n",
    "\n",
    "P = Flux.destructure(g)[1]\n",
    "\n",
    "display(P)\n",
    "\n",
    "F = ReverseDiff.jacobian(g(x),P)\n",
    "\n",
    "display(F)\n",
    "\n",
    "\n",
    "# Extract parameters\n",
    "P = Flux.destructure(g)[1]\n",
    "\n",
    "# Function to compute the model's output\n",
    "f(P) = g(x)\n",
    "\n",
    "@show f(P)\n",
    "\n",
    "B = ReverseDiff.jacobian(f, P)\n",
    "display(B)\n",
    "\n",
    "D = Flux.jacobian(() -> g(x), Flux.params(g))\n",
    "D = hcat([(grad) for grad in D]...)"
   ]
  },
  {
   "cell_type": "code",
   "execution_count": 101,
   "metadata": {},
   "outputs": [
    {
     "ename": "MethodError",
     "evalue": "MethodError: no method matching (::Chain{Tuple{Dense{typeof(σ), Matrix{Float32}, Vector{Float32}}, Dense{typeof(σ), Matrix{Float32}, Vector{Float32}}, Dense{typeof(σ), Matrix{Float32}, Vector{Float32}}}})(::Matrix{Float64}, ::Zygote.Params{Zygote.Buffer{Any, Vector{Any}}})\n\nClosest candidates are:\n  (::Chain)(::Any)\n   @ Flux C:\\Users\\Axel Bjarkar\\.julia\\packages\\Flux\\UsEXa\\src\\layers\\basic.jl:51\n",
     "output_type": "error",
     "traceback": [
      "MethodError: no method matching (::Chain{Tuple{Dense{typeof(σ), Matrix{Float32}, Vector{Float32}}, Dense{typeof(σ), Matrix{Float32}, Vector{Float32}}, Dense{typeof(σ), Matrix{Float32}, Vector{Float32}}}})(::Matrix{Float64}, ::Zygote.Params{Zygote.Buffer{Any, Vector{Any}}})\n",
      "\n",
      "Closest candidates are:\n",
      "  (::Chain)(::Any)\n",
      "   @ Flux C:\\Users\\Axel Bjarkar\\.julia\\packages\\Flux\\UsEXa\\src\\layers\\basic.jl:51\n",
      "\n",
      "\n",
      "Stacktrace:\n",
      " [1] macro expansion\n",
      "   @ C:\\Users\\Axel Bjarkar\\.julia\\packages\\Zygote\\jxHJc\\src\\compiler\\interface2.jl:101 [inlined]\n",
      " [2] _pullback(::Zygote.Context{false}, ::Chain{Tuple{Dense{typeof(σ), Matrix{Float32}, Vector{Float32}}, Dense{typeof(σ), Matrix{Float32}, Vector{Float32}}, Dense{typeof(σ), Matrix{Float32}, Vector{Float32}}}}, ::Matrix{Float64}, ::Zygote.Params{Zygote.Buffer{Any, Vector{Any}}})\n",
      "   @ Zygote C:\\Users\\Axel Bjarkar\\.julia\\packages\\Zygote\\jxHJc\\src\\compiler\\interface2.jl:101\n",
      " [3] pullback(::Chain{Tuple{Dense{typeof(σ), Matrix{Float32}, Vector{Float32}}, Dense{typeof(σ), Matrix{Float32}, Vector{Float32}}, Dense{typeof(σ), Matrix{Float32}, Vector{Float32}}}}, ::Zygote.Context{false}, ::Matrix{Float64}, ::Vararg{Any})\n",
      "   @ Zygote C:\\Users\\Axel Bjarkar\\.julia\\packages\\Zygote\\jxHJc\\src\\compiler\\interface.jl:90\n",
      " [4] pullback(::Chain{Tuple{Dense{typeof(σ), Matrix{Float32}, Vector{Float32}}, Dense{typeof(σ), Matrix{Float32}, Vector{Float32}}, Dense{typeof(σ), Matrix{Float32}, Vector{Float32}}}}, ::Matrix{Float64}, ::Zygote.Params{Zygote.Buffer{Any, Vector{Any}}})\n",
      "   @ Zygote C:\\Users\\Axel Bjarkar\\.julia\\packages\\Zygote\\jxHJc\\src\\compiler\\interface.jl:88\n",
      " [5] top-level scope\n",
      "   @ c:\\Github\\UROP\\Phase4 - ABS\\diff_test.ipynb:7"
     ]
    }
   ],
   "source": [
    "g = Chain(\n",
    "  Dense(28 * 28, 60, σ),        # 784 x 60 + 60 = 47100 parameters\n",
    "  Dense(60, 60, σ),             #  60 x 60 + 60 =  3660 parameters\n",
    "  Dense(60, 10, σ)              #  60 x 10 + 10 =   610 parameters\n",
    ")\n",
    "\n",
    "y, back = Flux.pullback(g, rand(784,1), Flux.params(g))\n",
    "\n"
   ]
  }
 ],
 "metadata": {
  "kernelspec": {
   "display_name": "Julia 1.9.4",
   "language": "julia",
   "name": "julia-1.9"
  },
  "language_info": {
   "file_extension": ".jl",
   "mimetype": "application/julia",
   "name": "julia",
   "version": "1.9.4"
  }
 },
 "nbformat": 4,
 "nbformat_minor": 2
}
