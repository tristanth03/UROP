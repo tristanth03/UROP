{
 "cells": [
  {
   "cell_type": "code",
   "execution_count": 30,
   "metadata": {},
   "outputs": [
    {
     "data": {
      "text/plain": [
       "kernel (generic function with 2 methods)"
      ]
     },
     "metadata": {},
     "output_type": "display_data"
    }
   ],
   "source": [
    "include(\"DenseNTK.jl\")\n",
    "include(\"FastNTK.jl\")"
   ]
  },
  {
   "cell_type": "code",
   "execution_count": 20,
   "metadata": {},
   "outputs": [
    {
     "data": {
      "text/plain": [
       "Chain(\n",
       "  DenseNTK(Float32[-1.0036604; 0.69987303; … ; 0.18360193; 0.13747332;;], Float32[-0.4519943, -2.0290363, 1.0663188, -1.1300735, 0.3783869, -1.7910266, 0.3417621, -1.1088177, 1.1466829, -1.079334  …  0.70470494, 0.10029431, 1.9402018, -2.1700685, -1.0481949, 0.39193195, 0.2789784, 0.6632195, -0.84970254, -0.46548957], identity),  \u001b[90m# 20_000 parameters\u001b[39m\n",
       "  DenseNTK(Float32[-0.03784973 2.4360423 … -0.808984 -0.32093525], Float32[-0.7748125], identity),  \u001b[90m# 10_001 parameters\u001b[39m\n",
       ") \u001b[90m                  # Total: 4 arrays, \u001b[39m30_001 parameters, 117.488 KiB."
      ]
     },
     "metadata": {},
     "output_type": "display_data"
    }
   ],
   "source": [
    "Nh = 10000\n",
    "model = Chain(DenseNTK(1,Nh),DenseNTK(Nh,1))"
   ]
  },
  {
   "cell_type": "code",
   "execution_count": 21,
   "metadata": {},
   "outputs": [],
   "source": [
    "Nx=150\n",
    "a=-1.0; b=1.0\n",
    "\n",
    "xVec=collect(range(a,stop=b,length=Nx));\n",
    "yVec=sin.(2*pi*xVec) .+ 0.1*randn(size(xVec)); "
   ]
  },
  {
   "cell_type": "code",
   "execution_count": 31,
   "metadata": {},
   "outputs": [
    {
     "name": "stderr",
     "output_type": "stream",
     "text": [
      "\u001b[32mProgress: 100%|█████████████████████████████████████████| Time: 0:00:16\u001b[39m\u001b[K\n"
     ]
    },
    {
     "ename": "MethodError",
     "evalue": "MethodError: no method matching close(::Progress)\n\nClosest candidates are:\n  close(!Matched::Union{Base.AsyncCondition, Timer})\n   @ Base asyncevent.jl:162\n  close(!Matched::Union{FileWatching.FileMonitor, FileWatching.FolderMonitor, FileWatching.PollingFileWatcher})\n   @ FileWatching C:\\Users\\Axel Bjarkar\\AppData\\Local\\Programs\\Julia-1.9.4\\share\\julia\\stdlib\\v1.9\\FileWatching\\src\\FileWatching.jl:328\n  close(!Matched::MLUtils.RingBuffer, !Matched::Any...)\n   @ MLUtils C:\\Users\\Axel Bjarkar\\.julia\\packages\\MLUtils\\LmmaQ\\src\\parallel.jl:228\n  ...\n",
     "output_type": "error",
     "traceback": [
      "MethodError: no method matching close(::Progress)\n",
      "\n",
      "Closest candidates are:\n",
      "  close(!Matched::Union{Base.AsyncCondition, Timer})\n",
      "   @ Base asyncevent.jl:162\n",
      "  close(!Matched::Union{FileWatching.FileMonitor, FileWatching.FolderMonitor, FileWatching.PollingFileWatcher})\n",
      "   @ FileWatching C:\\Users\\Axel Bjarkar\\AppData\\Local\\Programs\\Julia-1.9.4\\share\\julia\\stdlib\\v1.9\\FileWatching\\src\\FileWatching.jl:328\n",
      "  close(!Matched::MLUtils.RingBuffer, !Matched::Any...)\n",
      "   @ MLUtils C:\\Users\\Axel Bjarkar\\.julia\\packages\\MLUtils\\LmmaQ\\src\\parallel.jl:228\n",
      "  ...\n",
      "\n",
      "\n",
      "Stacktrace:\n",
      " [1] kernel(model::Chain{Tuple{DenseNTK, DenseNTK}}, x::Matrix{Float64}, show_progress::Bool)\n",
      "   @ Main c:\\Github\\UROP\\Phase4 - ABS\\FastNTK.jl:49\n",
      " [2] top-level scope\n",
      "   @ c:\\Github\\UROP\\Phase4 - ABS\\Architypes.ipynb:1"
     ]
    }
   ],
   "source": [
    "K = kernel(model,hcat(xVec...), true)"
   ]
  }
 ],
 "metadata": {
  "kernelspec": {
   "display_name": "Julia 1.9.4",
   "language": "julia",
   "name": "julia-1.9"
  },
  "language_info": {
   "file_extension": ".jl",
   "mimetype": "application/julia",
   "name": "julia",
   "version": "1.9.4"
  }
 },
 "nbformat": 4,
 "nbformat_minor": 2
}
